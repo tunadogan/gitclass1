{
 "cells": [
  {
   "cell_type": "code",
   "execution_count": null,
   "id": "0f11c33c",
   "metadata": {},
   "outputs": [],
   "source": [
    "# * args fonk(*args) listenin hepsini temsil eder.\n"
   ]
  },
  {
   "cell_type": "code",
   "execution_count": null,
   "id": "006052be",
   "metadata": {},
   "outputs": [],
   "source": [
    "def city(capital, continent='Europe'):\n",
    "    print(capital, 'in', continent)\n",
    "\n",
    "city('Athens')  # we don't have to pass any arguments into 'continent'\n",
    "city('Ulaanbaatar', continent='Asia')  # we can change the default value by kwargs\n",
    "city('Cape Town', 'Africa')  # we can change the default value by positional args."
   ]
  },
  {
   "cell_type": "code",
   "execution_count": 1,
   "id": "c5f9b260",
   "metadata": {},
   "outputs": [
    {
     "name": "stdout",
     "output_type": "stream",
     "text": [
      "I want to get orange and banana\n"
     ]
    }
   ],
   "source": [
    "def fruiterer(fruit1, fruit2) :\n",
    "    print('I want to get', fruit1, 'and', fruit2)\n",
    "        \n",
    "fruiterer('orange', 'banana')"
   ]
  },
  {
   "cell_type": "code",
   "execution_count": 2,
   "id": "f34bf274",
   "metadata": {},
   "outputs": [
    {
     "name": "stdout",
     "output_type": "stream",
     "text": [
      "I want to get :\n",
      "- orange\n",
      "- banana\n",
      "- melon\n",
      "- ananas\n"
     ]
    }
   ],
   "source": [
    "def fruiterer(*fruit) :   # başındai yıldızdan dolayı birden fazla argüman gönderebiliriz.\n",
    "    print('I want to get :')\n",
    "    for i in fruit :   # fruit i iteratör olrak kullanıypruz.\n",
    "        print('-', i)\n",
    "        \n",
    "fruiterer('orange', 'banana', 'melon', 'ananas')\n"
   ]
  },
  {
   "cell_type": "code",
   "execution_count": 8,
   "id": "51e004a8",
   "metadata": {},
   "outputs": [
    {
     "ename": "NameError",
     "evalue": "name 'fruit' is not defined",
     "output_type": "error",
     "traceback": [
      "\u001b[1;31m---------------------------------------------------------------------------\u001b[0m",
      "\u001b[1;31mNameError\u001b[0m                                 Traceback (most recent call last)",
      "Input \u001b[1;32mIn [8]\u001b[0m, in \u001b[0;36m<cell line: 1>\u001b[1;34m()\u001b[0m\n\u001b[1;32m----> 1\u001b[0m \u001b[38;5;28mprint\u001b[39m(\u001b[38;5;28mtype\u001b[39m(\u001b[43mfruit\u001b[49m))\n",
      "\u001b[1;31mNameError\u001b[0m: name 'fruit' is not defined"
     ]
    }
   ],
   "source": [
    "print(type(fruit))"
   ]
  },
  {
   "cell_type": "code",
   "execution_count": 7,
   "id": "07f0d23c",
   "metadata": {},
   "outputs": [
    {
     "ename": "NameError",
     "evalue": "name 'fruit' is not defined",
     "output_type": "error",
     "traceback": [
      "\u001b[1;31m---------------------------------------------------------------------------\u001b[0m",
      "\u001b[1;31mNameError\u001b[0m                                 Traceback (most recent call last)",
      "Input \u001b[1;32mIn [7]\u001b[0m, in \u001b[0;36m<cell line: 1>\u001b[1;34m()\u001b[0m\n\u001b[1;32m----> 1\u001b[0m \u001b[38;5;28mprint\u001b[39m(\u001b[38;5;28mtype\u001b[39m(\u001b[38;5;241m*\u001b[39m\u001b[43mfruit\u001b[49m))\n",
      "\u001b[1;31mNameError\u001b[0m: name 'fruit' is not defined"
     ]
    }
   ],
   "source": [
    "print(type(*fruit))"
   ]
  },
  {
   "cell_type": "code",
   "execution_count": null,
   "id": "411e2f88",
   "metadata": {},
   "outputs": [],
   "source": []
  },
  {
   "cell_type": "code",
   "execution_count": null,
   "id": "9a7f7bb6",
   "metadata": {},
   "outputs": [],
   "source": []
  },
  {
   "cell_type": "code",
   "execution_count": null,
   "id": "5cc69fdc",
   "metadata": {},
   "outputs": [],
   "source": []
  },
  {
   "cell_type": "code",
   "execution_count": 27,
   "id": "2b703043",
   "metadata": {},
   "outputs": [],
   "source": [
    "\n",
    "def slicer(*numbers):\n",
    "    evenlist=[]\n",
    "    oddlist=[]\n",
    "    for i in numbers:\n",
    "        if i % 2 == 0 :\n",
    "            evenlist.append(i)\n",
    "        else:\n",
    "            oddlist.append(i)\n",
    "    print(evenlist)\n",
    "    print(oddlist)\n"
   ]
  },
  {
   "cell_type": "code",
   "execution_count": 44,
   "id": "9bb68e5d",
   "metadata": {},
   "outputs": [],
   "source": [
    "def slicer(*numbers):\n",
    "    evenlist=[]\n",
    "    oddlist=[]\n",
    "     \n",
    "    for i in (range(1,10)):\n",
    "        if i % 2 == 0 :\n",
    "            evenlist.append(i)\n",
    "        else:\n",
    "            oddlist.append(i)\n",
    "    print(evenlist)\n",
    "    print(oddlist)\n"
   ]
  },
  {
   "cell_type": "code",
   "execution_count": 52,
   "id": "2e099fc1",
   "metadata": {},
   "outputs": [],
   "source": [
    "def slicer(*num):\n",
    "    print(\"evens :\" , [i for i in num if i % 2 == 0])\n",
    "    print(\"odds :\", [i for i in num if not i % 2 == 0 ])"
   ]
  },
  {
   "cell_type": "code",
   "execution_count": 53,
   "id": "9577a633",
   "metadata": {},
   "outputs": [
    {
     "name": "stdout",
     "output_type": "stream",
     "text": [
      "evens : [2, 4, 6, 8]\n",
      "odds : [1, 3, 5, 7, 9]\n"
     ]
    }
   ],
   "source": [
    "slicer (1,2,3,4,5,6,7,8,9)"
   ]
  },
  {
   "cell_type": "code",
   "execution_count": 50,
   "id": "0eb40253",
   "metadata": {},
   "outputs": [],
   "source": [
    "def slicer(*num):\n",
    "    print(\"odds :\" , [i for i in num if i % 2 ])\n",
    "    print(\"evens :\", [i for i in num if not i % 2 ])"
   ]
  },
  {
   "cell_type": "code",
   "execution_count": 51,
   "id": "f63bee18",
   "metadata": {},
   "outputs": [
    {
     "name": "stdout",
     "output_type": "stream",
     "text": [
      "odds : [1, 3, 5, 7, 9]\n",
      "evens : [2, 4, 6, 8]\n"
     ]
    }
   ],
   "source": [
    "slicer (1,2,3,4,5,6,7,8,9)\n"
   ]
  },
  {
   "cell_type": "code",
   "execution_count": 54,
   "id": "083adaf9",
   "metadata": {},
   "outputs": [
    {
     "name": "stdout",
     "output_type": "stream",
     "text": [
      "Lions are Carnivores\n",
      "Bears are Omnivores\n",
      "Deers are Herbivores\n",
      "Human are Nomnivores\n"
     ]
    }
   ],
   "source": [
    "def animals(**kwargs):\n",
    "    for key, value in kwargs.items():\n",
    "        print(value, \"are\", key)\n",
    " \n",
    "animals(Carnivores=\"Lions\", Omnivores=\"Bears\", Herbivores=\"Deers\", Nomnivores=\"Human\")"
   ]
  },
  {
   "cell_type": "code",
   "execution_count": 62,
   "id": "64a19862",
   "metadata": {},
   "outputs": [],
   "source": [
    "\n",
    "def organizer ( **ads):\n",
    "    name=[]\n",
    "    age=[]\n",
    "    for key,value in ads.items():\n",
    "        name.append(key)\n",
    "        age.append(value)\n",
    "    print(name)\n",
    "    print(age)"
   ]
  },
  {
   "cell_type": "code",
   "execution_count": 63,
   "id": "b7cc1304",
   "metadata": {},
   "outputs": [
    {
     "name": "stdout",
     "output_type": "stream",
     "text": [
      "['beth', 'aslı', 'tunahan', 'ali']\n",
      "[25, 18, 43, 89]\n"
     ]
    }
   ],
   "source": [
    "organizer(beth=25, aslı=18,tunahan=43,ali=89)"
   ]
  },
  {
   "cell_type": "code",
   "execution_count": 65,
   "id": "f620c9cc",
   "metadata": {},
   "outputs": [
    {
     "data": {
      "text/plain": [
       "{'beth': 25, 'aslı': 18, 'tunahan': 43, 'ali': 89}"
      ]
     },
     "execution_count": 65,
     "metadata": {},
     "output_type": "execute_result"
    }
   ],
   "source": [
    "dict(beth=25, aslı=18,tunahan=43,ali=89)"
   ]
  },
  {
   "cell_type": "code",
   "execution_count": 67,
   "id": "3127cd07",
   "metadata": {},
   "outputs": [],
   "source": [
    "\n",
    "def organize( **data):\n",
    "    names = [i for i in data.keys()]\n",
    "    ages= [i for i in data.values()]\n",
    "    print(names)\n",
    "    print(ages)"
   ]
  },
  {
   "cell_type": "code",
   "execution_count": 68,
   "id": "e14d8409",
   "metadata": {},
   "outputs": [
    {
     "name": "stdout",
     "output_type": "stream",
     "text": [
      "['beth', 'aslı', 'tunahan', 'ali']\n",
      "[25, 18, 43, 89]\n"
     ]
    }
   ],
   "source": [
    "organize(beth=25, aslı=18,tunahan=43,ali=89)"
   ]
  },
  {
   "cell_type": "code",
   "execution_count": null,
   "id": "40c1d34f",
   "metadata": {},
   "outputs": [],
   "source": []
  },
  {
   "cell_type": "code",
   "execution_count": null,
   "id": "d0768a7d",
   "metadata": {},
   "outputs": [],
   "source": []
  },
  {
   "cell_type": "code",
   "execution_count": null,
   "id": "3a5178a7",
   "metadata": {},
   "outputs": [],
   "source": []
  },
  {
   "cell_type": "code",
   "execution_count": null,
   "id": "e91806a8",
   "metadata": {},
   "outputs": [],
   "source": []
  },
  {
   "cell_type": "code",
   "execution_count": null,
   "id": "3f9b41c8",
   "metadata": {},
   "outputs": [],
   "source": []
  },
  {
   "cell_type": "code",
   "execution_count": 29,
   "id": "2982e0e2",
   "metadata": {},
   "outputs": [
    {
     "name": "stdout",
     "output_type": "stream",
     "text": [
      "Here are the names of brothers :\n",
      "tom\n",
      "sue\n",
      "tim\n"
     ]
    }
   ],
   "source": [
    "def brothers(bro1, bro2, bro3):\n",
    "    print('Here are the names of brothers :')\n",
    "    print(bro1, bro2, bro3, sep='\\n')\n",
    "\n",
    "family = ['tom', 'sue', 'tim']\n",
    "brothers(*family)"
   ]
  },
  {
   "cell_type": "code",
   "execution_count": 69,
   "id": "758b4f1f",
   "metadata": {},
   "outputs": [
    {
     "name": "stdout",
     "output_type": "stream",
     "text": [
      "[-5, -4, -3, -2, -1, 0, 1, 2, 3, 4]\n",
      "[1, 2, 3, 4]\n"
     ]
    }
   ],
   "source": [
    "l = list(range(-5, 5))\n",
    "print(l)\n",
    "sifirdanbuyuk_l = list(filter(lambda x: x > 0, l))\n",
    "print(sifirdanbuyuk_l)"
   ]
  },
  {
   "cell_type": "code",
   "execution_count": null,
   "id": "9ae768d0",
   "metadata": {},
   "outputs": [],
   "source": []
  },
  {
   "cell_type": "code",
   "execution_count": null,
   "id": "64da9cc8",
   "metadata": {},
   "outputs": [],
   "source": [
    "l = [1, 2, 3, 4, 5]\n",
    "l_karesi = list(map(lambda x: x**2, l))\n",
    " \n",
    "print(l)\n",
    "print(l_karesi)"
   ]
  },
  {
   "cell_type": "code",
   "execution_count": 7,
   "id": "fa3c5414",
   "metadata": {},
   "outputs": [],
   "source": [
    "def wws(kelime):\n",
    "    ses=[]\n",
    "    sessiz=[]\n",
    "   \n",
    "\n",
    "    sesli = \"aeiouAEIOU\".split()\n",
    "    a=len(kelime)\n",
    "    for i in range(1, a+1):\n",
    "        b=kelime[a-i]\n",
    "        if b in sesli:\n",
    "            ses.append(b)\n",
    "            \n",
    "        else:\n",
    "            sessiz.append(b)\n",
    "    print(ses)\n",
    "    print(sessiz)"
   ]
  },
  {
   "cell_type": "code",
   "execution_count": 8,
   "id": "e29d5d89",
   "metadata": {},
   "outputs": [
    {
     "ename": "NameError",
     "evalue": "name 'kelime' is not defined",
     "output_type": "error",
     "traceback": [
      "\u001b[1;31m---------------------------------------------------------------------------\u001b[0m",
      "\u001b[1;31mNameError\u001b[0m                                 Traceback (most recent call last)",
      "Input \u001b[1;32mIn [8]\u001b[0m, in \u001b[0;36m<cell line: 1>\u001b[1;34m()\u001b[0m\n\u001b[1;32m----> 1\u001b[0m \u001b[43mkelime\u001b[49m(\u001b[38;5;124m\"\u001b[39m\u001b[38;5;124mjhdflkjahskdfjlhaldkjshlasd\u001b[39m\u001b[38;5;124m\"\u001b[39m)\n",
      "\u001b[1;31mNameError\u001b[0m: name 'kelime' is not defined"
     ]
    }
   ],
   "source": [
    "kelime(\"jhdflkjahskdfjlhaldkjshlasd\")\n"
   ]
  },
  {
   "cell_type": "code",
   "execution_count": 9,
   "id": "1910dac1",
   "metadata": {},
   "outputs": [
    {
     "ename": "NameError",
     "evalue": "name 'kelime' is not defined",
     "output_type": "error",
     "traceback": [
      "\u001b[1;31m---------------------------------------------------------------------------\u001b[0m",
      "\u001b[1;31mNameError\u001b[0m                                 Traceback (most recent call last)",
      "Input \u001b[1;32mIn [9]\u001b[0m, in \u001b[0;36m<cell line: 1>\u001b[1;34m()\u001b[0m\n\u001b[1;32m----> 1\u001b[0m \u001b[38;5;28mprint\u001b[39m(\u001b[38;5;241m*\u001b[39m\u001b[38;5;28mfilter\u001b[39m(wws,\u001b[43mkelime\u001b[49m))\n",
      "\u001b[1;31mNameError\u001b[0m: name 'kelime' is not defined"
     ]
    }
   ],
   "source": [
    "print(*filter(wws,kelime))"
   ]
  },
  {
   "cell_type": "code",
   "execution_count": 10,
   "id": "5752ebb9",
   "metadata": {},
   "outputs": [],
   "source": [
    "def kare(x):\n",
    "    return x**2"
   ]
  },
  {
   "cell_type": "code",
   "execution_count": 11,
   "id": "8a32b7a9",
   "metadata": {},
   "outputs": [
    {
     "name": "stdout",
     "output_type": "stream",
     "text": [
      "[1, 4, 9, 16]\n"
     ]
    }
   ],
   "source": [
    "listem= [1,2,3,4]\n",
    "yenilist=[]\n",
    "for i in listem:\n",
    "    yenilist.append(kare(i))\n",
    "print(yenilist)"
   ]
  },
  {
   "cell_type": "code",
   "execution_count": 12,
   "id": "b0bdd7b7",
   "metadata": {},
   "outputs": [
    {
     "data": {
      "text/plain": [
       "<map at 0x2cecf3d11f0>"
      ]
     },
     "execution_count": 12,
     "metadata": {},
     "output_type": "execute_result"
    }
   ],
   "source": [
    "map(kare,listem)"
   ]
  },
  {
   "cell_type": "code",
   "execution_count": 14,
   "id": "0887b891",
   "metadata": {},
   "outputs": [
    {
     "data": {
      "text/plain": [
       "[1, 4, 9, 16]"
      ]
     },
     "execution_count": 14,
     "metadata": {},
     "output_type": "execute_result"
    }
   ],
   "source": [
    "list(map(kare,listem))"
   ]
  },
  {
   "cell_type": "code",
   "execution_count": 16,
   "id": "736e83a8",
   "metadata": {},
   "outputs": [],
   "source": [
    "def kok (x):\n",
    "    return x**0.5"
   ]
  },
  {
   "cell_type": "code",
   "execution_count": 17,
   "id": "7a98a4b0",
   "metadata": {},
   "outputs": [],
   "source": [
    "listen=[4,9,16,25]"
   ]
  },
  {
   "cell_type": "code",
   "execution_count": 18,
   "id": "92c82664",
   "metadata": {},
   "outputs": [
    {
     "data": {
      "text/plain": [
       "[2.0, 3.0, 4.0, 5.0]"
      ]
     },
     "execution_count": 18,
     "metadata": {},
     "output_type": "execute_result"
    }
   ],
   "source": [
    "list(map(kok,listen))"
   ]
  },
  {
   "cell_type": "code",
   "execution_count": 20,
   "id": "7be65e2e",
   "metadata": {},
   "outputs": [],
   "source": [
    "def squer(x):\n",
    "    return x**2"
   ]
  },
  {
   "cell_type": "code",
   "execution_count": 21,
   "id": "07ed93f5",
   "metadata": {},
   "outputs": [
    {
     "data": {
      "text/plain": [
       "[16, 81, 256, 625]"
      ]
     },
     "execution_count": 21,
     "metadata": {},
     "output_type": "execute_result"
    }
   ],
   "source": [
    "list(map(squer,listen))"
   ]
  },
  {
   "cell_type": "code",
   "execution_count": 31,
   "id": "af9d35d6",
   "metadata": {},
   "outputs": [
    {
     "ename": "SyntaxError",
     "evalue": "invalid syntax (2539948587.py, line 1)",
     "output_type": "error",
     "traceback": [
      "\u001b[1;36m  Input \u001b[1;32mIn [31]\u001b[1;36m\u001b[0m\n\u001b[1;33m    print(lambda (x : x**2 )(2))\u001b[0m\n\u001b[1;37m                 ^\u001b[0m\n\u001b[1;31mSyntaxError\u001b[0m\u001b[1;31m:\u001b[0m invalid syntax\n"
     ]
    }
   ],
   "source": [
    "print(lambda x : x**2 (2))"
   ]
  },
  {
   "cell_type": "code",
   "execution_count": 24,
   "id": "c1f95178",
   "metadata": {},
   "outputs": [
    {
     "ename": "SyntaxError",
     "evalue": "invalid syntax (3928424185.py, line 1)",
     "output_type": "error",
     "traceback": [
      "\u001b[1;36m  Input \u001b[1;32mIn [24]\u001b[1;36m\u001b[0m\n\u001b[1;33m    lambda(listen):\u001b[0m\n\u001b[1;37m          ^\u001b[0m\n\u001b[1;31mSyntaxError\u001b[0m\u001b[1;31m:\u001b[0m invalid syntax\n"
     ]
    }
   ],
   "source": [
    "lambda(listen):"
   ]
  },
  {
   "cell_type": "code",
   "execution_count": 26,
   "id": "b234a470",
   "metadata": {},
   "outputs": [
    {
     "name": "stdout",
     "output_type": "stream",
     "text": [
      "<function <lambda> at 0x000002CECFCD4550>\n"
     ]
    }
   ],
   "source": [
    "print(lambda x,y : (x+y)/2)\n",
    "    "
   ]
  },
  {
   "cell_type": "code",
   "execution_count": null,
   "id": "5d4774d9",
   "metadata": {},
   "outputs": [],
   "source": []
  },
  {
   "cell_type": "code",
   "execution_count": 32,
   "id": "f81fbae1",
   "metadata": {},
   "outputs": [
    {
     "data": {
      "text/plain": [
       "<function __main__.<lambda>(x)>"
      ]
     },
     "execution_count": 32,
     "metadata": {},
     "output_type": "execute_result"
    }
   ],
   "source": [
    "lambda x: \"odd\" if x%2 !=0 else \"even\"  "
   ]
  },
  {
   "cell_type": "code",
   "execution_count": 38,
   "id": "ea787d81",
   "metadata": {},
   "outputs": [
    {
     "data": {
      "text/plain": [
       "'odd'"
      ]
     },
     "execution_count": 38,
     "metadata": {},
     "output_type": "execute_result"
    }
   ],
   "source": [
    "(lambda x: \"odd\" if x%2 !=0 else \"even\"  )(3)"
   ]
  },
  {
   "cell_type": "code",
   "execution_count": 34,
   "id": "049dc454",
   "metadata": {},
   "outputs": [
    {
     "data": {
      "text/plain": [
       "5.0"
      ]
     },
     "execution_count": 34,
     "metadata": {},
     "output_type": "execute_result"
    }
   ],
   "source": [
    "(lambda x,y : (x+y)/2)(4,6)"
   ]
  },
  {
   "cell_type": "code",
   "execution_count": 60,
   "id": "0ea6672a",
   "metadata": {},
   "outputs": [
    {
     "ename": "IndentationError",
     "evalue": "expected an indented block (15902368.py, line 4)",
     "output_type": "error",
     "traceback": [
      "\u001b[1;36m  Input \u001b[1;32mIn [60]\u001b[1;36m\u001b[0m\n\u001b[1;33m    (lambda x: odd.append(i) if x%2 !=0 else even.append(i))( i)\u001b[0m\n\u001b[1;37m    ^\u001b[0m\n\u001b[1;31mIndentationError\u001b[0m\u001b[1;31m:\u001b[0m expected an indented block\n"
     ]
    }
   ],
   "source": [
    "odd=[]\n",
    "even=[]\n",
    "for i in range(10):\n",
    "(lambda x: odd.append(i) if x%2 !=0 else even.append(i))( i) \n",
    "print(odd)\n",
    "print(even)\n"
   ]
  },
  {
   "cell_type": "code",
   "execution_count": 43,
   "id": "7764f906",
   "metadata": {},
   "outputs": [
    {
     "data": {
      "text/plain": [
       "'even'"
      ]
     },
     "execution_count": 43,
     "metadata": {},
     "output_type": "execute_result"
    }
   ],
   "source": [
    "fo\n"
   ]
  },
  {
   "cell_type": "code",
   "execution_count": 47,
   "id": "04907421",
   "metadata": {},
   "outputs": [
    {
     "name": "stdout",
     "output_type": "stream",
     "text": [
      "bir kelime giriniz:tunahan\n"
     ]
    },
    {
     "data": {
      "text/plain": [
       "'nahanut'"
      ]
     },
     "execution_count": 47,
     "metadata": {},
     "output_type": "execute_result"
    }
   ],
   "source": [
    "(lambda x : x[::-1])(input(\"bir kelime giriniz:\"))"
   ]
  },
  {
   "cell_type": "code",
   "execution_count": 69,
   "id": "8dc6b308",
   "metadata": {},
   "outputs": [
    {
     "name": "stdout",
     "output_type": "stream",
     "text": [
      "sayı gir10\n",
      "0 - even\n",
      "1 - odd\n",
      "2 - even\n",
      "3 - odd\n",
      "4 - even\n",
      "5 - odd\n",
      "6 - even\n",
      "7 - odd\n",
      "8 - even\n",
      "9 - odd\n"
     ]
    }
   ],
   "source": [
    "for i in range(int(input(\"sayı gir\"))):\n",
    "    print(i ,\"-\" ,(lambda i: \"odd\" if i%2 !=0 else \"even\"  )(i))"
   ]
  },
  {
   "cell_type": "code",
   "execution_count": null,
   "id": "0ead66c0",
   "metadata": {},
   "outputs": [],
   "source": []
  }
 ],
 "metadata": {
  "kernelspec": {
   "display_name": "Python 3 (ipykernel)",
   "language": "python",
   "name": "python3"
  },
  "language_info": {
   "codemirror_mode": {
    "name": "ipython",
    "version": 3
   },
   "file_extension": ".py",
   "mimetype": "text/x-python",
   "name": "python",
   "nbconvert_exporter": "python",
   "pygments_lexer": "ipython3",
   "version": "3.9.12"
  }
 },
 "nbformat": 4,
 "nbformat_minor": 5
}
