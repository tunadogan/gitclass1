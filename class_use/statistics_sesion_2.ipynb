{
 "cells": [
  {
   "cell_type": "code",
   "execution_count": 1,
   "id": "890f5926",
   "metadata": {},
   "outputs": [
    {
     "ename": "ModuleNotFoundError",
     "evalue": "No module named 'NumPy'",
     "output_type": "error",
     "traceback": [
      "\u001b[1;31m---------------------------------------------------------------------------\u001b[0m",
      "\u001b[1;31mModuleNotFoundError\u001b[0m                       Traceback (most recent call last)",
      "Input \u001b[1;32mIn [1]\u001b[0m, in \u001b[0;36m<cell line: 1>\u001b[1;34m()\u001b[0m\n\u001b[1;32m----> 1\u001b[0m \u001b[38;5;28;01mimport\u001b[39;00m \u001b[38;5;21;01mNumPy\u001b[39;00m\n\u001b[0;32m      2\u001b[0m \u001b[38;5;28;01mimport\u001b[39;00m \u001b[38;5;21;01mPandas\u001b[39;00m\n\u001b[0;32m      3\u001b[0m \u001b[38;5;28;01mimport\u001b[39;00m \u001b[38;5;21;01mSciPy\u001b[39;00m\n",
      "\u001b[1;31mModuleNotFoundError\u001b[0m: No module named 'NumPy'"
     ]
    }
   ],
   "source": [
    "import numpy\n",
    "import numpy\n",
    "import SciPy\n",
    "import Seaborn\n",
    "import Matplotlib\n"
   ]
  },
  {
   "cell_type": "code",
   "execution_count": 24,
   "id": "c1673f74",
   "metadata": {},
   "outputs": [],
   "source": [
    "import numpy as np"
   ]
  },
  {
   "cell_type": "code",
   "execution_count": 3,
   "id": "0196085f",
   "metadata": {},
   "outputs": [],
   "source": [
    "import pandas\n"
   ]
  },
  {
   "cell_type": "code",
   "execution_count": 14,
   "id": "b00b6440",
   "metadata": {},
   "outputs": [],
   "source": [
    "from scipy import stats"
   ]
  },
  {
   "cell_type": "code",
   "execution_count": 13,
   "id": "329798c0",
   "metadata": {},
   "outputs": [],
   "source": [
    "import seaborn"
   ]
  },
  {
   "cell_type": "code",
   "execution_count": 7,
   "id": "323b0de1",
   "metadata": {},
   "outputs": [],
   "source": [
    "import matplotlib"
   ]
  },
  {
   "cell_type": "code",
   "execution_count": 8,
   "id": "7e684319",
   "metadata": {},
   "outputs": [
    {
     "name": "stdout",
     "output_type": "stream",
     "text": [
      "1.21.5\n"
     ]
    }
   ],
   "source": [
    "print(numpy.__version__)"
   ]
  },
  {
   "cell_type": "code",
   "execution_count": 9,
   "id": "11ddb55d",
   "metadata": {},
   "outputs": [
    {
     "name": "stdout",
     "output_type": "stream",
     "text": [
      "1.4.2\n"
     ]
    }
   ],
   "source": [
    "print(pandas.__version__)"
   ]
  },
  {
   "cell_type": "code",
   "execution_count": 10,
   "id": "c0999ec9",
   "metadata": {},
   "outputs": [
    {
     "name": "stdout",
     "output_type": "stream",
     "text": [
      "1.7.3\n"
     ]
    }
   ],
   "source": [
    "print(scipy.__version__)"
   ]
  },
  {
   "cell_type": "code",
   "execution_count": 11,
   "id": "fddbe14c",
   "metadata": {},
   "outputs": [
    {
     "name": "stdout",
     "output_type": "stream",
     "text": [
      "0.11.2\n"
     ]
    }
   ],
   "source": [
    "print(seaborn.__version__)"
   ]
  },
  {
   "cell_type": "code",
   "execution_count": 12,
   "id": "41b849fa",
   "metadata": {},
   "outputs": [
    {
     "name": "stdout",
     "output_type": "stream",
     "text": [
      "3.5.1\n"
     ]
    }
   ],
   "source": [
    "print(matplotlib.__version__)"
   ]
  },
  {
   "cell_type": "code",
   "execution_count": 20,
   "id": "8edc0654",
   "metadata": {},
   "outputs": [],
   "source": [
    "a= [5,7,10,15,19,21,21,22,22,23,23,23,23,23,24,24,24,24,25]"
   ]
  },
  {
   "cell_type": "code",
   "execution_count": 17,
   "id": "0a2d2c27",
   "metadata": {},
   "outputs": [
    {
     "data": {
      "text/plain": [
       "19"
      ]
     },
     "execution_count": 17,
     "metadata": {},
     "output_type": "execute_result"
    }
   ],
   "source": [
    "len (a)"
   ]
  },
  {
   "cell_type": "code",
   "execution_count": 22,
   "id": "ebe25196",
   "metadata": {},
   "outputs": [
    {
     "name": "stdout",
     "output_type": "stream",
     "text": [
      "mod değeri : 23\n",
      "ortalama değeri :  19.894736842105264\n",
      "ortanca değeri :  23\n",
      "varyans değeri :  36.87719298245614\n",
      "standart sapma değeri :  5.910692691101667\n"
     ]
    }
   ],
   "source": [
    "import statistics\n",
    "print(\"mod değeri :\" , statistics.mode(a))\n",
    "print(\"ortalama değeri : \" ,statistics.mean(a))\n",
    "print(\"ortanca değeri : \" ,statistics.median(a))\n",
    "print(\"varyans değeri : \" ,statistics.variance(a))\n",
    "print(\"standart sapma değeri : \" ,statistics.pstdev(a))"
   ]
  },
  {
   "cell_type": "code",
   "execution_count": 25,
   "id": "5f74342a",
   "metadata": {},
   "outputs": [
    {
     "data": {
      "text/plain": [
       "19.894736842105264"
      ]
     },
     "execution_count": 25,
     "metadata": {},
     "output_type": "execute_result"
    }
   ],
   "source": [
    "np.mean(a)"
   ]
  },
  {
   "cell_type": "code",
   "execution_count": 26,
   "id": "1f41c6b4",
   "metadata": {},
   "outputs": [
    {
     "data": {
      "text/plain": [
       "ModeResult(mode=array([23]), count=array([5]))"
      ]
     },
     "execution_count": 26,
     "metadata": {},
     "output_type": "execute_result"
    }
   ],
   "source": [
    "stats.mode(a)"
   ]
  },
  {
   "cell_type": "code",
   "execution_count": 27,
   "id": "2080826f",
   "metadata": {},
   "outputs": [
    {
     "data": {
      "text/plain": [
       "array([23])"
      ]
     },
     "execution_count": 27,
     "metadata": {},
     "output_type": "execute_result"
    }
   ],
   "source": [
    "stats.mode(a)[0]"
   ]
  },
  {
   "cell_type": "code",
   "execution_count": 28,
   "id": "96e73907",
   "metadata": {},
   "outputs": [
    {
     "data": {
      "text/plain": [
       "23"
      ]
     },
     "execution_count": 28,
     "metadata": {},
     "output_type": "execute_result"
    }
   ],
   "source": [
    "stats.mode(a)[0][0]"
   ]
  },
  {
   "cell_type": "code",
   "execution_count": 29,
   "id": "cf99a2c7",
   "metadata": {},
   "outputs": [
    {
     "data": {
      "text/plain": [
       "5"
      ]
     },
     "execution_count": 29,
     "metadata": {},
     "output_type": "execute_result"
    }
   ],
   "source": [
    "np.min(a)"
   ]
  },
  {
   "cell_type": "code",
   "execution_count": 30,
   "id": "c2300db3",
   "metadata": {},
   "outputs": [
    {
     "data": {
      "text/plain": [
       "25"
      ]
     },
     "execution_count": 30,
     "metadata": {},
     "output_type": "execute_result"
    }
   ],
   "source": [
    "np.max(a)"
   ]
  },
  {
   "cell_type": "code",
   "execution_count": 38,
   "id": "55f220bd",
   "metadata": {},
   "outputs": [
    {
     "data": {
      "text/plain": [
       "20.0"
      ]
     },
     "execution_count": 38,
     "metadata": {},
     "output_type": "execute_result"
    }
   ],
   "source": [
    "q1=np.percentile(a,25) \n",
    "q1 #q1"
   ]
  },
  {
   "cell_type": "code",
   "execution_count": 40,
   "id": "e32ad57f",
   "metadata": {},
   "outputs": [
    {
     "data": {
      "text/plain": [
       "23.5"
      ]
     },
     "execution_count": 40,
     "metadata": {},
     "output_type": "execute_result"
    }
   ],
   "source": [
    "q3=np.percentile(a,75) #q3\n",
    "q3\n"
   ]
  },
  {
   "cell_type": "code",
   "execution_count": 41,
   "id": "27b9ebd4",
   "metadata": {},
   "outputs": [
    {
     "data": {
      "text/plain": [
       "3.5"
      ]
     },
     "execution_count": 41,
     "metadata": {},
     "output_type": "execute_result"
    }
   ],
   "source": [
    "iqr=q3-q1\n",
    "iqr"
   ]
  },
  {
   "cell_type": "code",
   "execution_count": 42,
   "id": "7150a75d",
   "metadata": {},
   "outputs": [
    {
     "data": {
      "text/plain": [
       "3.5"
      ]
     },
     "execution_count": 42,
     "metadata": {},
     "output_type": "execute_result"
    }
   ],
   "source": [
    "stats.iqr(a)"
   ]
  },
  {
   "cell_type": "code",
   "execution_count": 36,
   "id": "7f0e45a9",
   "metadata": {},
   "outputs": [
    {
     "data": {
      "text/plain": [
       "23.0"
      ]
     },
     "execution_count": 36,
     "metadata": {},
     "output_type": "execute_result"
    }
   ],
   "source": [
    "np.percentile(a,50)"
   ]
  },
  {
   "cell_type": "code",
   "execution_count": 44,
   "id": "f9b605ce",
   "metadata": {},
   "outputs": [
    {
     "data": {
      "text/plain": [
       "array([20. , 23. , 23.5, 25. ])"
      ]
     },
     "execution_count": 44,
     "metadata": {},
     "output_type": "execute_result"
    }
   ],
   "source": [
    "np.percentile(a,[25,50,75,100])"
   ]
  },
  {
   "cell_type": "code",
   "execution_count": 45,
   "id": "40bc3808",
   "metadata": {},
   "outputs": [
    {
     "name": "stdout",
     "output_type": "stream",
     "text": [
      "Q1 [20.]\n",
      "Q2 [23.]\n",
      "Q3 [23.5]\n",
      "IQR 3.5\n",
      "MİN [14.75]\n",
      "MAX [28.75]\n"
     ]
    }
   ],
   "source": [
    "my_list = [5,7,10,15,19,21,21,22,22,23,23,23,23,23,24,24,24,24,25]\n",
    "\n",
    "print(\"Q1\", np.percentile(my_list,[25]))\n",
    "print(\"Q2\", np.percentile(my_list,[50]))\n",
    "print(\"Q3\", np.percentile(my_list,[75]))\n",
    "print(\"IQR\", stats.iqr(my_list))\n",
    "print(\"MİN\", np.percentile(my_list,[25]) - 1.5*stats.iqr(my_list))\n",
    "print(\"MAX\", np.percentile(my_list,[75]) + 1.5*stats.iqr(my_list))"
   ]
  },
  {
   "cell_type": "code",
   "execution_count": 46,
   "id": "4a172894",
   "metadata": {},
   "outputs": [
    {
     "data": {
      "text/plain": [
       "34.93628808864266"
      ]
     },
     "execution_count": 46,
     "metadata": {},
     "output_type": "execute_result"
    }
   ],
   "source": [
    "np.var(a) #varyans"
   ]
  },
  {
   "cell_type": "code",
   "execution_count": 47,
   "id": "bbd9e9e2",
   "metadata": {},
   "outputs": [
    {
     "data": {
      "text/plain": [
       "5.910692691101667"
      ]
     },
     "execution_count": 47,
     "metadata": {},
     "output_type": "execute_result"
    }
   ],
   "source": [
    "np.std(a) #standart sapma"
   ]
  },
  {
   "cell_type": "code",
   "execution_count": 48,
   "id": "ff6116fc",
   "metadata": {},
   "outputs": [
    {
     "data": {
      "text/plain": [
       "5.910692691101667"
      ]
     },
     "execution_count": 48,
     "metadata": {},
     "output_type": "execute_result"
    }
   ],
   "source": [
    "np.sqrt(np.var(a))"
   ]
  },
  {
   "cell_type": "code",
   "execution_count": 49,
   "id": "2bbeee1c",
   "metadata": {},
   "outputs": [
    {
     "data": {
      "text/plain": [
       "-1.5176315809887007"
      ]
     },
     "execution_count": 49,
     "metadata": {},
     "output_type": "execute_result"
    }
   ],
   "source": [
    "stats.skew(a)  #sola çarpık"
   ]
  },
  {
   "cell_type": "code",
   "execution_count": 50,
   "id": "be79e150",
   "metadata": {},
   "outputs": [
    {
     "data": {
      "text/plain": [
       "array([ 5.,  7.,  9., 11., 13., 15., 17., 19., 21., 23., 25.])"
      ]
     },
     "execution_count": 50,
     "metadata": {},
     "output_type": "execute_result"
    }
   ],
   "source": [
    "numpy.histogram_bin_edges(a, bins=10, range=None, weights=None)"
   ]
  },
  {
   "cell_type": "code",
   "execution_count": 52,
   "id": "6e6967e3",
   "metadata": {},
   "outputs": [
    {
     "ename": "ValueError",
     "evalue": "object of too small depth for desired array",
     "output_type": "error",
     "traceback": [
      "\u001b[1;31m---------------------------------------------------------------------------\u001b[0m",
      "\u001b[1;31mValueError\u001b[0m                                Traceback (most recent call last)",
      "Input \u001b[1;32mIn [52]\u001b[0m, in \u001b[0;36m<cell line: 1>\u001b[1;34m()\u001b[0m\n\u001b[1;32m----> 1\u001b[0m \u001b[43mnumpy\u001b[49m\u001b[38;5;241;43m.\u001b[39;49m\u001b[43mdigitize\u001b[49m\u001b[43m(\u001b[49m\u001b[43ma\u001b[49m\u001b[43m,\u001b[49m\u001b[43m \u001b[49m\u001b[43mq1\u001b[49m\u001b[43m,\u001b[49m\u001b[43m \u001b[49m\u001b[43mright\u001b[49m\u001b[38;5;241;43m=\u001b[39;49m\u001b[38;5;28;43;01mFalse\u001b[39;49;00m\u001b[43m)\u001b[49m\n",
      "File \u001b[1;32m<__array_function__ internals>:5\u001b[0m, in \u001b[0;36mdigitize\u001b[1;34m(*args, **kwargs)\u001b[0m\n",
      "File \u001b[1;32mC:\\ProgramData\\Anaconda3\\lib\\site-packages\\numpy\\lib\\function_base.py:4922\u001b[0m, in \u001b[0;36mdigitize\u001b[1;34m(x, bins, right)\u001b[0m\n\u001b[0;32m   4919\u001b[0m \u001b[38;5;28;01mif\u001b[39;00m np\u001b[38;5;241m.\u001b[39missubdtype(x\u001b[38;5;241m.\u001b[39mdtype, _nx\u001b[38;5;241m.\u001b[39mcomplexfloating):\n\u001b[0;32m   4920\u001b[0m     \u001b[38;5;28;01mraise\u001b[39;00m \u001b[38;5;167;01mTypeError\u001b[39;00m(\u001b[38;5;124m\"\u001b[39m\u001b[38;5;124mx may not be complex\u001b[39m\u001b[38;5;124m\"\u001b[39m)\n\u001b[1;32m-> 4922\u001b[0m mono \u001b[38;5;241m=\u001b[39m \u001b[43m_monotonicity\u001b[49m\u001b[43m(\u001b[49m\u001b[43mbins\u001b[49m\u001b[43m)\u001b[49m\n\u001b[0;32m   4923\u001b[0m \u001b[38;5;28;01mif\u001b[39;00m mono \u001b[38;5;241m==\u001b[39m \u001b[38;5;241m0\u001b[39m:\n\u001b[0;32m   4924\u001b[0m     \u001b[38;5;28;01mraise\u001b[39;00m \u001b[38;5;167;01mValueError\u001b[39;00m(\u001b[38;5;124m\"\u001b[39m\u001b[38;5;124mbins must be monotonically increasing or decreasing\u001b[39m\u001b[38;5;124m\"\u001b[39m)\n",
      "\u001b[1;31mValueError\u001b[0m: object of too small depth for desired array"
     ]
    }
   ],
   "source": [
    "numpy.digitize(a, q1, right=False)"
   ]
  },
  {
   "cell_type": "code",
   "execution_count": 57,
   "id": "872f0958",
   "metadata": {},
   "outputs": [],
   "source": [
    "import seaborn"
   ]
  },
  {
   "cell_type": "code",
   "execution_count": 58,
   "id": "57000f21",
   "metadata": {},
   "outputs": [
    {
     "data": {
      "text/plain": [
       "[5, 7, 10, 15, 19, 21, 21, 22, 22, 23, 23, 23, 23, 23, 24, 24, 24, 24, 25]"
      ]
     },
     "execution_count": 58,
     "metadata": {},
     "output_type": "execute_result"
    }
   ],
   "source": [
    "seaborn.lineplot(ax=a)"
   ]
  },
  {
   "cell_type": "code",
   "execution_count": null,
   "id": "d4af1dd6",
   "metadata": {},
   "outputs": [],
   "source": []
  }
 ],
 "metadata": {
  "kernelspec": {
   "display_name": "Python 3 (ipykernel)",
   "language": "python",
   "name": "python3"
  },
  "language_info": {
   "codemirror_mode": {
    "name": "ipython",
    "version": 3
   },
   "file_extension": ".py",
   "mimetype": "text/x-python",
   "name": "python",
   "nbconvert_exporter": "python",
   "pygments_lexer": "ipython3",
   "version": "3.9.12"
  }
 },
 "nbformat": 4,
 "nbformat_minor": 5
}
