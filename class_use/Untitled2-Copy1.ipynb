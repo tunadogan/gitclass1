{
 "cells": [
  {
   "cell_type": "code",
   "execution_count": null,
   "id": "efacd71d",
   "metadata": {},
   "outputs": [],
   "source": [
    "def factor(x):\n",
    "\n",
    "    result = 1\n",
    "    for i in range(x):\n",
    "        result *= (i+1)\n",
    "    return print(result)"
   ]
  }
 ],
 "metadata": {
  "kernelspec": {
   "display_name": "Python 3 (ipykernel)",
   "language": "python",
   "name": "python3"
  },
  "language_info": {
   "codemirror_mode": {
    "name": "ipython",
    "version": 3
   },
   "file_extension": ".py",
   "mimetype": "text/x-python",
   "name": "python",
   "nbconvert_exporter": "python",
   "pygments_lexer": "ipython3",
   "version": "3.9.12"
  }
 },
 "nbformat": 4,
 "nbformat_minor": 5
}
