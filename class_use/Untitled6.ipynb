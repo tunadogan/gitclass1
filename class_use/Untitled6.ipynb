{
 "cells": [
  {
   "cell_type": "code",
   "execution_count": 8,
   "id": "a852bd9b",
   "metadata": {},
   "outputs": [],
   "source": [
    "a = [7, 20, 1, -5, -1, 30 ,3, 2]"
   ]
  },
  {
   "cell_type": "code",
   "execution_count": 11,
   "id": "f81c73f9",
   "metadata": {},
   "outputs": [],
   "source": [
    "a.sort()"
   ]
  },
  {
   "cell_type": "code",
   "execution_count": 12,
   "id": "4ace1609",
   "metadata": {},
   "outputs": [
    {
     "data": {
      "text/plain": [
       "[-5, -1, 1, 2, 3, 7, 20, 30]"
      ]
     },
     "execution_count": 12,
     "metadata": {},
     "output_type": "execute_result"
    }
   ],
   "source": [
    "a"
   ]
  },
  {
   "cell_type": "markdown",
   "id": "da8e6636",
   "metadata": {},
   "source": [
    "Task 4 : Sort() metodunu kullanmadan; karışık sayıların olduğu bir listedeki elemanları, yine aynı liste içerisinde büyükten küçüğe sıralayan bir kod yazalım."
   ]
  },
  {
   "cell_type": "code",
   "execution_count": 20,
   "id": "12ee8e2a",
   "metadata": {},
   "outputs": [],
   "source": [
    "def sortsuz_sirala(sira):\n",
    "    for i in range(len(sira)-1):\n",
    "        step = sira[i]\n",
    "        step_step = i\n",
    "        for j in range(i+1, len(sira)):\n",
    "            if sira[j] < step:\n",
    "                step = sira[j]\n",
    "                step_step = j\n",
    "        son = sira[i]\n",
    "        sira[i] = sira[step_step]\n",
    "        sira[step_step] = son\n",
    "    print(sira)"
   ]
  },
  {
   "cell_type": "code",
   "execution_count": 22,
   "id": "8f3b1d3b",
   "metadata": {},
   "outputs": [
    {
     "name": "stdout",
     "output_type": "stream",
     "text": [
      "[-5, -1, 1, 2, 3, 4, 10, 15, 99]\n"
     ]
    }
   ],
   "source": [
    "b=[-1,1,-5,2,4,3,10,15,99]\n",
    "sortsuz_sirala(b)"
   ]
  },
  {
   "cell_type": "code",
   "execution_count": 21,
   "id": "0e69d989",
   "metadata": {},
   "outputs": [
    {
     "name": "stdout",
     "output_type": "stream",
     "text": [
      "[-5, -1, 1, 2, 3, 7, 20, 30]\n"
     ]
    }
   ],
   "source": [
    "sortsuz_sirala(a)"
   ]
  },
  {
   "cell_type": "code",
   "execution_count": null,
   "id": "446f6b24",
   "metadata": {},
   "outputs": [],
   "source": [
    "b"
   ]
  },
  {
   "cell_type": "code",
   "execution_count": 23,
   "id": "3ed632aa",
   "metadata": {},
   "outputs": [
    {
     "name": "stdout",
     "output_type": "stream",
     "text": [
      "Bir değer giriniz : 10\n",
      "\n",
      "Fibonacci Serisi : 0 1 1 2 3 5 8 13 21 34 "
     ]
    }
   ],
   "source": [
    "a = 0\n",
    "b = 1\n",
    "c = 0\n",
    "print(\"Bir değer giriniz : \", end=\"\")\n",
    "n = int(input())\n",
    "print(\"\\nFibonacci Serisi :\", a, b, end=\" \")\n",
    "c = a+b\n",
    "n = n-2\n",
    "while n>0:\n",
    "    print(c, end=\" \")\n",
    "    a = b\n",
    "    b = c\n",
    "    c = a+b\n",
    "    n = n-1"
   ]
  },
  {
   "cell_type": "markdown",
   "id": "02c4baa6",
   "metadata": {},
   "source": [
    "# Task 5 : Girilen sayıya kadar olan Fibonacci sayılarını bulan bir kod yazınız"
   ]
  },
  {
   "cell_type": "code",
   "execution_count": 26,
   "id": "4f887500",
   "metadata": {},
   "outputs": [
    {
     "name": "stdout",
     "output_type": "stream",
     "text": [
      "nereye kadar fibonacci dizezi istiyorsanız onu yazın :55\n",
      "[1, 1, 2, 3, 5, 8, 13, 21, 34, 55]\n"
     ]
    }
   ],
   "source": [
    "a = 1\n",
    "b = 1\n",
    "c = 1\n",
    "d= int(input(\"nereye kadar fibonacci dizezi istiyorsanız onu yazın :\"))\n",
    "son=[a,b,]\n",
    "while c < d: \n",
    "    c = a+b\n",
    "    a = b\n",
    "    b = c\n",
    "    son.append(b) \n",
    "print(son)"
   ]
  },
  {
   "cell_type": "markdown",
   "id": "de024481",
   "metadata": {},
   "source": [
    "# Task 6 : Kullanıcı tarafından girilen bir sayının basamaklarının sayı adlarını görüntüleyen bir program yazın\n",
    "\n",
    "Örneğin sayı 231 ise çıktısı İki Üç Bir olmalıdır."
   ]
  },
  {
   "cell_type": "code",
   "execution_count": 32,
   "id": "3be42af5",
   "metadata": {},
   "outputs": [
    {
     "name": "stdout",
     "output_type": "stream",
     "text": [
      "bir sayı giriniz : 2022\n",
      "(2, 'iki') (0, 'sıfır') (2, 'iki') (2, 'iki') "
     ]
    }
   ],
   "source": [
    "gir = input(\"bir sayı giriniz : \") \n",
    "cıktı = [\"sıfır\", \"bir\", \"iki\", \"üç\", \"dört\", \"beş\", \"altı\", \"yedi\", \"sekiz\", \"dokuz\" ]\n",
    "son = list(enumerate(cıktı))  # dict te oalabilir.\n",
    "for i in gir:\n",
    "    print(son[int(i)], end = \" \")"
   ]
  },
  {
   "cell_type": "code",
   "execution_count": 27,
   "id": "7b3c17d3",
   "metadata": {},
   "outputs": [
    {
     "name": "stdout",
     "output_type": "stream",
     "text": [
      "Enter a number to print its digits in letters : 121\n",
      "one two one "
     ]
    }
   ],
   "source": [
    "cıktı = [\"sıfır\", \"bir\", \"iki\", \"üç\", \"dört\", \"beş\", \"altı\", \"yedi\", \"sekiz\", \"dokuz\" ]\n",
    "dict_numbers = dict(enumerate(numbers_text))\n",
    "\n",
    "user_number = input(\"Enter a number to print its digits in letters : \") \n",
    "\n",
    "for i in user_number:\n",
    "    print(dict_numbers[int(i)], end = \" \")"
   ]
  },
  {
   "cell_type": "code",
   "execution_count": null,
   "id": "56bbba59",
   "metadata": {},
   "outputs": [],
   "source": []
  },
  {
   "cell_type": "code",
   "execution_count": 33,
   "id": "1c9a0306",
   "metadata": {},
   "outputs": [
    {
     "name": "stdout",
     "output_type": "stream",
     "text": [
      "Enter a text using only letters :açelyö\n",
      "You entered a wrong text. Try again using only letters!\n",
      "Enter a text using only letters :ıtır\n",
      "You entered a wrong text. Try again using only letters!\n"
     ]
    },
    {
     "ename": "KeyboardInterrupt",
     "evalue": "Interrupted by user",
     "output_type": "error",
     "traceback": [
      "\u001b[1;31m---------------------------------------------------------------------------\u001b[0m",
      "\u001b[1;31mKeyboardInterrupt\u001b[0m                         Traceback (most recent call last)",
      "Input \u001b[1;32mIn [33]\u001b[0m, in \u001b[0;36m<cell line: 5>\u001b[1;34m()\u001b[0m\n\u001b[0;32m      2\u001b[0m alphabet \u001b[38;5;241m=\u001b[39m \u001b[38;5;28mlist\u001b[39m(string\u001b[38;5;241m.\u001b[39mascii_letters)\n\u001b[0;32m      4\u001b[0m \u001b[38;5;28;01mwhile\u001b[39;00m \u001b[38;5;28;01mTrue\u001b[39;00m:\n\u001b[1;32m----> 5\u001b[0m     user_text \u001b[38;5;241m=\u001b[39m \u001b[38;5;28;43minput\u001b[39;49m\u001b[43m(\u001b[49m\u001b[38;5;124;43m\"\u001b[39;49m\u001b[38;5;124;43mEnter a text using only letters :\u001b[39;49m\u001b[38;5;124;43m\"\u001b[39;49m\u001b[43m)\u001b[49m\n\u001b[0;32m      7\u001b[0m     \u001b[38;5;28;01mfor\u001b[39;00m i \u001b[38;5;129;01min\u001b[39;00m user_text:\n\u001b[0;32m      8\u001b[0m         \u001b[38;5;28;01mif\u001b[39;00m i \u001b[38;5;129;01mnot\u001b[39;00m \u001b[38;5;129;01min\u001b[39;00m alphabet \u001b[38;5;129;01mand\u001b[39;00m i\u001b[38;5;241m!=\u001b[39m \u001b[38;5;124m\"\u001b[39m\u001b[38;5;124m \u001b[39m\u001b[38;5;124m\"\u001b[39m:\n",
      "File \u001b[1;32mC:\\ProgramData\\Anaconda3\\lib\\site-packages\\ipykernel\\kernelbase.py:1075\u001b[0m, in \u001b[0;36mKernel.raw_input\u001b[1;34m(self, prompt)\u001b[0m\n\u001b[0;32m   1071\u001b[0m \u001b[38;5;28;01mif\u001b[39;00m \u001b[38;5;129;01mnot\u001b[39;00m \u001b[38;5;28mself\u001b[39m\u001b[38;5;241m.\u001b[39m_allow_stdin:\n\u001b[0;32m   1072\u001b[0m     \u001b[38;5;28;01mraise\u001b[39;00m StdinNotImplementedError(\n\u001b[0;32m   1073\u001b[0m         \u001b[38;5;124m\"\u001b[39m\u001b[38;5;124mraw_input was called, but this frontend does not support input requests.\u001b[39m\u001b[38;5;124m\"\u001b[39m\n\u001b[0;32m   1074\u001b[0m     )\n\u001b[1;32m-> 1075\u001b[0m \u001b[38;5;28;01mreturn\u001b[39;00m \u001b[38;5;28;43mself\u001b[39;49m\u001b[38;5;241;43m.\u001b[39;49m\u001b[43m_input_request\u001b[49m\u001b[43m(\u001b[49m\n\u001b[0;32m   1076\u001b[0m \u001b[43m    \u001b[49m\u001b[38;5;28;43mstr\u001b[39;49m\u001b[43m(\u001b[49m\u001b[43mprompt\u001b[49m\u001b[43m)\u001b[49m\u001b[43m,\u001b[49m\n\u001b[0;32m   1077\u001b[0m \u001b[43m    \u001b[49m\u001b[38;5;28;43mself\u001b[39;49m\u001b[38;5;241;43m.\u001b[39;49m\u001b[43m_parent_ident\u001b[49m\u001b[43m[\u001b[49m\u001b[38;5;124;43m\"\u001b[39;49m\u001b[38;5;124;43mshell\u001b[39;49m\u001b[38;5;124;43m\"\u001b[39;49m\u001b[43m]\u001b[49m\u001b[43m,\u001b[49m\n\u001b[0;32m   1078\u001b[0m \u001b[43m    \u001b[49m\u001b[38;5;28;43mself\u001b[39;49m\u001b[38;5;241;43m.\u001b[39;49m\u001b[43mget_parent\u001b[49m\u001b[43m(\u001b[49m\u001b[38;5;124;43m\"\u001b[39;49m\u001b[38;5;124;43mshell\u001b[39;49m\u001b[38;5;124;43m\"\u001b[39;49m\u001b[43m)\u001b[49m\u001b[43m,\u001b[49m\n\u001b[0;32m   1079\u001b[0m \u001b[43m    \u001b[49m\u001b[43mpassword\u001b[49m\u001b[38;5;241;43m=\u001b[39;49m\u001b[38;5;28;43;01mFalse\u001b[39;49;00m\u001b[43m,\u001b[49m\n\u001b[0;32m   1080\u001b[0m \u001b[43m\u001b[49m\u001b[43m)\u001b[49m\n",
      "File \u001b[1;32mC:\\ProgramData\\Anaconda3\\lib\\site-packages\\ipykernel\\kernelbase.py:1120\u001b[0m, in \u001b[0;36mKernel._input_request\u001b[1;34m(self, prompt, ident, parent, password)\u001b[0m\n\u001b[0;32m   1117\u001b[0m             \u001b[38;5;28;01mbreak\u001b[39;00m\n\u001b[0;32m   1118\u001b[0m \u001b[38;5;28;01mexcept\u001b[39;00m \u001b[38;5;167;01mKeyboardInterrupt\u001b[39;00m:\n\u001b[0;32m   1119\u001b[0m     \u001b[38;5;66;03m# re-raise KeyboardInterrupt, to truncate traceback\u001b[39;00m\n\u001b[1;32m-> 1120\u001b[0m     \u001b[38;5;28;01mraise\u001b[39;00m \u001b[38;5;167;01mKeyboardInterrupt\u001b[39;00m(\u001b[38;5;124m\"\u001b[39m\u001b[38;5;124mInterrupted by user\u001b[39m\u001b[38;5;124m\"\u001b[39m) \u001b[38;5;28;01mfrom\u001b[39;00m \u001b[38;5;28mNone\u001b[39m\n\u001b[0;32m   1121\u001b[0m \u001b[38;5;28;01mexcept\u001b[39;00m \u001b[38;5;167;01mException\u001b[39;00m:\n\u001b[0;32m   1122\u001b[0m     \u001b[38;5;28mself\u001b[39m\u001b[38;5;241m.\u001b[39mlog\u001b[38;5;241m.\u001b[39mwarning(\u001b[38;5;124m\"\u001b[39m\u001b[38;5;124mInvalid Message:\u001b[39m\u001b[38;5;124m\"\u001b[39m, exc_info\u001b[38;5;241m=\u001b[39m\u001b[38;5;28;01mTrue\u001b[39;00m)\n",
      "\u001b[1;31mKeyboardInterrupt\u001b[0m: Interrupted by user"
     ]
    }
   ],
   "source": [
    "import string  # to call the alphabet in lower cases we can use string module and string.ascii_lowercase\n",
    "alphabet = list(string.ascii_letters)\n",
    "\n",
    "while True:\n",
    "    user_text = input(\"Enter a text using only letters :\")\n",
    "    \n",
    "    for i in user_text:\n",
    "        if i not in alphabet and i!= \" \":\n",
    "            print(\"You entered a wrong text. Try again using only letters!\")\n",
    "            break\n",
    "            \n",
    "    else:\n",
    "        for i in user_text:\n",
    "            if i in alphabet:\n",
    "                i= alphabet[alphabet.index(i) + 2]\n",
    "                \n",
    "            else:\n",
    "                i = i\n",
    "            print(i, end= \"\")\n",
    "        break "
   ]
  },
  {
   "cell_type": "code",
   "execution_count": 43,
   "id": "76c4f49f",
   "metadata": {},
   "outputs": [
    {
     "name": "stdout",
     "output_type": "stream",
     "text": [
      ":Sezar şifresi programı - lütfen seçiniz:\n",
      "1. Şifreleme \n",
      "2. Şifre çözme\n",
      "1\n",
      "lütfen şifrelenecek metni giriniz:\n",
      "tunahan\n",
      "lütfen şifreleyecek anahtarı giriniz:\n",
      "2\n",
      "üvöcicö\n"
     ]
    }
   ],
   "source": [
    "alfabe=[\"a\", \"b\", \"c\", \"ç\", \"d\", \"e\", \"f\", \"g\", \"ğ\", \"h\", \"ı\",\n",
    "        \"i\",\"j\", \"k\", \"l\", \"m\", \"n\", \"o\", \"ö\", \"p\", \"r\",\"s\", \"ş\", \"t\", \"u\", \"ü\", \"v\", \"y\", \"z\"]\n",
    "\n",
    "def sifrele(metin,anahtar):\n",
    "    sonuc = \"\"\n",
    "    for i in metin:\n",
    "        if i in alfabe:\n",
    "            sayi = alfabe.index(i)\n",
    "            sayi=(sayi+anahtar)%29\n",
    "            sonuc=sonuc+alfabe[sayi]\n",
    "        elif i==\" \":\n",
    "            sonuc=sonuc+i\n",
    "        else:\n",
    "            sonuc += i\n",
    "    return sonuc\n",
    "    \n",
    "      \n",
    "\n",
    "def sifrecoz(metin):\n",
    "    for i in range(1,29):\n",
    "        a=sifrele(metin,i)\n",
    "        print(a)\n",
    "\n",
    "\n",
    "def main():\n",
    "\n",
    "    bayrak=True\n",
    "    while bayrak:\n",
    "        a = (input(\":Sezar şifresi programı - lütfen seçiniz:\\n\"\n",
    "                                                    \"1. Şifreleme \\n2. Şifre çözme\\n\"))\n",
    "        try:\n",
    "            if (int(a) == 1):\n",
    "                bayrak=False\n",
    "                \n",
    "                metin = (input(\"lütfen şifrelenecek metni giriniz:\\n\"))\n",
    "                metin=metin.lower()\n",
    "                anahtar = int(input(\"lütfen şifreleyecek anahtarı giriniz:\\n\"))\n",
    "                sonuc=sifrele(metin,anahtar)\n",
    "                print(sonuc)\n",
    "                   \n",
    "                        \n",
    "            elif (int(a) == 2):\n",
    "                bayrak=False\n",
    "                metin = (input(\"lütfen şifresi çözülecek metni giriniz:\\n\"))\n",
    "                sonuc=sifrecoz(metin) \n",
    "        except :\n",
    "            bayrak=True\n",
    "            print(\"yanlış giriş\") \n",
    "            \n",
    "if __name__ == '__main__' : \n",
    "\tmain()"
   ]
  },
  {
   "cell_type": "code",
   "execution_count": 77,
   "id": "784fa113",
   "metadata": {},
   "outputs": [],
   "source": [
    "alfabe=[\"a\", \"b\", \"c\", \"ç\", \"d\", \"e\", \"f\", \"g\", \"ğ\", \"h\", \"ı\",\n",
    "        \"i\",\"j\", \"k\", \"l\", \"m\", \"n\", \"o\", \"ö\", \"p\", \"r\",\"s\", \"ş\", \"t\", \"u\", \"ü\", \"v\", \"y\", \"z\"]\n",
    "\n",
    "\n",
    "def sifrele(metin):\n",
    "    sonuc = \"\"\n",
    "    for i in metin:\n",
    "        if i in alfabe:\n",
    "            sayi = alfabe.index(i)\n",
    "            sayi=(sayi + 2) % 29\n",
    "            sonuc=sonuc+alfabe[sayi]\n",
    "        elif i==\" \":\n",
    "            sonuc=sonuc+i\n",
    "        else:\n",
    "            sonuc += i\n",
    "    return sonuc\n",
    "\n",
    "       "
   ]
  },
  {
   "cell_type": "code",
   "execution_count": 81,
   "id": "3f2fd959",
   "metadata": {},
   "outputs": [
    {
     "name": "stdout",
     "output_type": "stream",
     "text": [
      "lütfen şifrelenecek metni giriniz:\n",
      "34\n",
      "You entered a wrong text. Try again using only letters!\n",
      "lütfen şifrelenecek metni giriniz:\n",
      "45\n"
     ]
    }
   ],
   "source": [
    "metin = (input(\"lütfen şifrelenecek metni giriniz:\\n\"))\n",
    "metin=metin.lower()\n",
    "for i in metin:\n",
    "        if i not in alfabe and i!= \" \":\n",
    "            print(\"You entered a wrong text. Try again using only letters!\")\n",
    "            metin = (input(\"lütfen şifrelenecek metni giriniz:\\n\"))\n",
    "            metin=metin.lower()\n",
    "            break\n",
    "        else:\n",
    "            sonuc=sifrele(metin)\n",
    "            print(sonuc) \n",
    "    "
   ]
  },
  {
   "cell_type": "code",
   "execution_count": 73,
   "id": "ab30f5ce",
   "metadata": {},
   "outputs": [],
   "source": [
    "for i in metin:\n",
    "        if i not in alfabe and i!= \" \":\n",
    "            print(\"You entered a wrong text. Try again using only letters!\")\n",
    "            break"
   ]
  },
  {
   "cell_type": "markdown",
   "id": "08f854b0",
   "metadata": {},
   "source": [
    "Task 7 : İşverenimiz bizden, kullanıcı tarafından girilen bir metni şifreleyen bir program istedi. İstenen şartlar şunlar:\n",
    "Girilen Türkçe metinlerde her harf alfabetik sıraya göre kendisinden iki sonraki harfe dönüştürülecek. (Örneğin 'a' harfi 'c', 'z' harfi 'b' olacak)\n",
    "Girilen metinde harf dışında bir karakter varsa 'Lütfen Sadece Harflerden Oluşan Bir Metin Giriniz!' uyarısından sonra tekrar input istenecek."
   ]
  },
  {
   "cell_type": "code",
   "execution_count": 97,
   "id": "05ab0d89",
   "metadata": {},
   "outputs": [],
   "source": [
    "alfabe=[\"a\", \"b\", \"c\", \"ç\", \"d\", \"e\", \"f\", \"g\", \"ğ\", \"h\", \"ı\",\"i\",\"j\", \"k\", \"l\", \"m\", \"n\", \"o\", \"ö\", \"p\", \"r\",\"s\", \"ş\", \"t\", \"u\", \"ü\", \"v\", \"y\", \"z\"]\n",
    "def sifrele(metin):\n",
    "    sonuc = \"\"\n",
    "    for i in metin:\n",
    "        if i in alfabe:\n",
    "            sayi = alfabe.index(i)\n",
    "            sayi=(sayi + 2) % 29\n",
    "            sonuc=sonuc+alfabe[sayi]\n",
    "        elif i==\" \":\n",
    "            sonuc=sonuc+i\n",
    "        else:\n",
    "            sonuc += i\n",
    "    return sonuc\n",
    "   "
   ]
  },
  {
   "cell_type": "code",
   "execution_count": 98,
   "id": "44e866f8",
   "metadata": {},
   "outputs": [
    {
     "name": "stdout",
     "output_type": "stream",
     "text": [
      "lütfen şifrelenecek metni giriniz:\n",
      "abc\n",
      "cçd\n"
     ]
    }
   ],
   "source": [
    "metin = (input(\"lütfen şifrelenecek metni giriniz:\\n\"))\n",
    "metin=metin.lower()\n",
    "for i in metin:\n",
    "        if i not in alfabe and i != \" \":\n",
    "            print(\"Lütfen Sadece Harflerden Oluşan Bir Metin Giriniz!!\")\n",
    "            metin = (input(\"lütfen şifrelenecek metni giriniz:\\n\"))\n",
    "            metin=metin.lower()\n",
    "            break\n",
    "        else:\n",
    "            sonuc=sifrele(metin)\n",
    "print(sonuc) "
   ]
  },
  {
   "cell_type": "code",
   "execution_count": 1,
   "id": "62350936",
   "metadata": {},
   "outputs": [
    {
     "name": "stdout",
     "output_type": "stream",
     "text": [
      "Enter a text using only letters :ççç\n",
      "You entered a wrong text. Try again using only letters!\n"
     ]
    },
    {
     "ename": "KeyboardInterrupt",
     "evalue": "Interrupted by user",
     "output_type": "error",
     "traceback": [
      "\u001b[1;31m---------------------------------------------------------------------------\u001b[0m",
      "\u001b[1;31mKeyboardInterrupt\u001b[0m                         Traceback (most recent call last)",
      "Input \u001b[1;32mIn [1]\u001b[0m, in \u001b[0;36m<cell line: 5>\u001b[1;34m()\u001b[0m\n\u001b[0;32m      2\u001b[0m alphabet \u001b[38;5;241m=\u001b[39m \u001b[38;5;28mlist\u001b[39m(string\u001b[38;5;241m.\u001b[39mascii_letters)\n\u001b[0;32m      4\u001b[0m \u001b[38;5;28;01mwhile\u001b[39;00m \u001b[38;5;28;01mTrue\u001b[39;00m:\n\u001b[1;32m----> 5\u001b[0m     user_text \u001b[38;5;241m=\u001b[39m \u001b[38;5;28;43minput\u001b[39;49m\u001b[43m(\u001b[49m\u001b[38;5;124;43m\"\u001b[39;49m\u001b[38;5;124;43mEnter a text using only letters :\u001b[39;49m\u001b[38;5;124;43m\"\u001b[39;49m\u001b[43m)\u001b[49m\n\u001b[0;32m      7\u001b[0m     \u001b[38;5;28;01mfor\u001b[39;00m i \u001b[38;5;129;01min\u001b[39;00m user_text:\n\u001b[0;32m      8\u001b[0m         \u001b[38;5;28;01mif\u001b[39;00m i \u001b[38;5;129;01mnot\u001b[39;00m \u001b[38;5;129;01min\u001b[39;00m alphabet \u001b[38;5;129;01mand\u001b[39;00m i\u001b[38;5;241m!=\u001b[39m \u001b[38;5;124m\"\u001b[39m\u001b[38;5;124m \u001b[39m\u001b[38;5;124m\"\u001b[39m:\n",
      "File \u001b[1;32mC:\\ProgramData\\Anaconda3\\lib\\site-packages\\ipykernel\\kernelbase.py:1075\u001b[0m, in \u001b[0;36mKernel.raw_input\u001b[1;34m(self, prompt)\u001b[0m\n\u001b[0;32m   1071\u001b[0m \u001b[38;5;28;01mif\u001b[39;00m \u001b[38;5;129;01mnot\u001b[39;00m \u001b[38;5;28mself\u001b[39m\u001b[38;5;241m.\u001b[39m_allow_stdin:\n\u001b[0;32m   1072\u001b[0m     \u001b[38;5;28;01mraise\u001b[39;00m StdinNotImplementedError(\n\u001b[0;32m   1073\u001b[0m         \u001b[38;5;124m\"\u001b[39m\u001b[38;5;124mraw_input was called, but this frontend does not support input requests.\u001b[39m\u001b[38;5;124m\"\u001b[39m\n\u001b[0;32m   1074\u001b[0m     )\n\u001b[1;32m-> 1075\u001b[0m \u001b[38;5;28;01mreturn\u001b[39;00m \u001b[38;5;28;43mself\u001b[39;49m\u001b[38;5;241;43m.\u001b[39;49m\u001b[43m_input_request\u001b[49m\u001b[43m(\u001b[49m\n\u001b[0;32m   1076\u001b[0m \u001b[43m    \u001b[49m\u001b[38;5;28;43mstr\u001b[39;49m\u001b[43m(\u001b[49m\u001b[43mprompt\u001b[49m\u001b[43m)\u001b[49m\u001b[43m,\u001b[49m\n\u001b[0;32m   1077\u001b[0m \u001b[43m    \u001b[49m\u001b[38;5;28;43mself\u001b[39;49m\u001b[38;5;241;43m.\u001b[39;49m\u001b[43m_parent_ident\u001b[49m\u001b[43m[\u001b[49m\u001b[38;5;124;43m\"\u001b[39;49m\u001b[38;5;124;43mshell\u001b[39;49m\u001b[38;5;124;43m\"\u001b[39;49m\u001b[43m]\u001b[49m\u001b[43m,\u001b[49m\n\u001b[0;32m   1078\u001b[0m \u001b[43m    \u001b[49m\u001b[38;5;28;43mself\u001b[39;49m\u001b[38;5;241;43m.\u001b[39;49m\u001b[43mget_parent\u001b[49m\u001b[43m(\u001b[49m\u001b[38;5;124;43m\"\u001b[39;49m\u001b[38;5;124;43mshell\u001b[39;49m\u001b[38;5;124;43m\"\u001b[39;49m\u001b[43m)\u001b[49m\u001b[43m,\u001b[49m\n\u001b[0;32m   1079\u001b[0m \u001b[43m    \u001b[49m\u001b[43mpassword\u001b[49m\u001b[38;5;241;43m=\u001b[39;49m\u001b[38;5;28;43;01mFalse\u001b[39;49;00m\u001b[43m,\u001b[49m\n\u001b[0;32m   1080\u001b[0m \u001b[43m\u001b[49m\u001b[43m)\u001b[49m\n",
      "File \u001b[1;32mC:\\ProgramData\\Anaconda3\\lib\\site-packages\\ipykernel\\kernelbase.py:1120\u001b[0m, in \u001b[0;36mKernel._input_request\u001b[1;34m(self, prompt, ident, parent, password)\u001b[0m\n\u001b[0;32m   1117\u001b[0m             \u001b[38;5;28;01mbreak\u001b[39;00m\n\u001b[0;32m   1118\u001b[0m \u001b[38;5;28;01mexcept\u001b[39;00m \u001b[38;5;167;01mKeyboardInterrupt\u001b[39;00m:\n\u001b[0;32m   1119\u001b[0m     \u001b[38;5;66;03m# re-raise KeyboardInterrupt, to truncate traceback\u001b[39;00m\n\u001b[1;32m-> 1120\u001b[0m     \u001b[38;5;28;01mraise\u001b[39;00m \u001b[38;5;167;01mKeyboardInterrupt\u001b[39;00m(\u001b[38;5;124m\"\u001b[39m\u001b[38;5;124mInterrupted by user\u001b[39m\u001b[38;5;124m\"\u001b[39m) \u001b[38;5;28;01mfrom\u001b[39;00m \u001b[38;5;28mNone\u001b[39m\n\u001b[0;32m   1121\u001b[0m \u001b[38;5;28;01mexcept\u001b[39;00m \u001b[38;5;167;01mException\u001b[39;00m:\n\u001b[0;32m   1122\u001b[0m     \u001b[38;5;28mself\u001b[39m\u001b[38;5;241m.\u001b[39mlog\u001b[38;5;241m.\u001b[39mwarning(\u001b[38;5;124m\"\u001b[39m\u001b[38;5;124mInvalid Message:\u001b[39m\u001b[38;5;124m\"\u001b[39m, exc_info\u001b[38;5;241m=\u001b[39m\u001b[38;5;28;01mTrue\u001b[39;00m)\n",
      "\u001b[1;31mKeyboardInterrupt\u001b[0m: Interrupted by user"
     ]
    }
   ],
   "source": [
    "import string  # to call the alphabet in lower cases we can use string module and string.ascii_lowercase\n",
    "alphabet = list(string.ascii_letters)\n",
    "\n",
    "while True:\n",
    "    user_text = input(\"Enter a text using only letters :\")\n",
    "    \n",
    "    for i in user_text:\n",
    "        if i not in alphabet and i!= \" \":\n",
    "            print(\"You entered a wrong text. Try again using only letters!\")\n",
    "            break\n",
    "            \n",
    "    else:\n",
    "        for i in user_text:\n",
    "            if i in alphabet:\n",
    "                i= alphabet[alphabet.index(i) + 2]\n",
    "                \n",
    "            else:\n",
    "                i = i\n",
    "            print(i, end= \"\")\n",
    "        break "
   ]
  },
  {
   "cell_type": "code",
   "execution_count": 35,
   "id": "e059374d",
   "metadata": {},
   "outputs": [
    {
     "name": "stdout",
     "output_type": "stream",
     "text": [
      "913,993,906609\n",
      "993,913,906609\n"
     ]
    }
   ],
   "source": [
    "nlist = []\n",
    "for n in range(900000,1000000):\n",
    "        if str(n) == str(n)[::-1]:\n",
    "            nlist.append(n)\n",
    "\n",
    "for k in range(100,1000):\n",
    "    for m in range(100,1000):\n",
    "        if k*m in nlist:\n",
    "            print(f'{k},{m},{k*m}')\n",
    "        pass"
   ]
  },
  {
   "cell_type": "code",
   "execution_count": null,
   "id": "b95d798e",
   "metadata": {},
   "outputs": [],
   "source": []
  },
  {
   "cell_type": "code",
   "execution_count": null,
   "id": "e0f65a21",
   "metadata": {},
   "outputs": [],
   "source": []
  },
  {
   "cell_type": "code",
   "execution_count": null,
   "id": "5dbf1040",
   "metadata": {},
   "outputs": [],
   "source": []
  }
 ],
 "metadata": {
  "kernelspec": {
   "display_name": "Python 3 (ipykernel)",
   "language": "python",
   "name": "python3"
  },
  "language_info": {
   "codemirror_mode": {
    "name": "ipython",
    "version": 3
   },
   "file_extension": ".py",
   "mimetype": "text/x-python",
   "name": "python",
   "nbconvert_exporter": "python",
   "pygments_lexer": "ipython3",
   "version": "3.9.12"
  }
 },
 "nbformat": 4,
 "nbformat_minor": 5
}
