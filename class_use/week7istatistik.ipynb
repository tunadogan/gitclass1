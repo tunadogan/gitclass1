{
 "cells": [
  {
   "cell_type": "code",
   "execution_count": 2,
   "id": "543db4c0",
   "metadata": {},
   "outputs": [],
   "source": [
    "x = [12, 10, 11, 12, 11, 14, 15, 18, 21, 11]"
   ]
  },
  {
   "cell_type": "code",
   "execution_count": null,
   "id": "f3f43fab",
   "metadata": {},
   "outputs": [],
   "source": []
  },
  {
   "cell_type": "code",
   "execution_count": 3,
   "id": "2d31d903",
   "metadata": {},
   "outputs": [
    {
     "name": "stdout",
     "output_type": "stream",
     "text": [
      "mod değeri : 11\n",
      "ortalama değeri :  13.5\n",
      "ortanca değeri :  12.0\n",
      "varyans değeri :  12.722222222222221\n",
      "standart sapma değeri :  3.383784863137726\n"
     ]
    }
   ],
   "source": [
    "import statistics\n",
    "print(\"mod değeri :\" , statistics.mode(x))\n",
    "print(\"ortalama değeri : \" ,statistics.mean(x))\n",
    "print(\"ortanca değeri : \" ,statistics.median(x))\n",
    "print(\"varyans değeri : \" ,statistics.variance(x))\n",
    "print(\"standart sapma değeri : \" ,statistics.pstdev(x))"
   ]
  },
  {
   "cell_type": "code",
   "execution_count": null,
   "id": "ae55ed72",
   "metadata": {},
   "outputs": [],
   "source": [
    "def ortalama(vektor):\n",
    "    veriAdedi = len(vektor)\n",
    "    if veriAdedi <= 1:\n",
    "        return vektor\n",
    "    else:\n",
    "        return sum(vektor) / veriAdedi"
   ]
  },
  {
   "cell_type": "code",
   "execution_count": null,
   "id": "b54e0528",
   "metadata": {},
   "outputs": [],
   "source": [
    "def medyan(vektor):\n",
    "    vektor = sorted(vektor)\n",
    "    veriAdedi = len(vektor)\n",
    "    if veriAdedi % 2 == 1:\n",
    "        return vektor[veriAdedi // 2]\n",
    "    else:\n",
    "        i = veriAdedi // 2\n",
    "        return (vektor[i - 1] + vektor[i]) / 2"
   ]
  },
  {
   "cell_type": "code",
   "execution_count": null,
   "id": "57d2809e",
   "metadata": {},
   "outputs": [],
   "source": [
    "def standartSapma(vektor):\n",
    "    sd = 0.0 # standart sapma\n",
    "    veriAdedi = len(vektor)\n",
    "    if veriAdedi <= 1:\n",
    "        return 0.0\n",
    "    else:\n",
    "        for _ in vektor:\n",
    "            sd += (float(_) - ortalama(vektor)) ** 2\n",
    "        sd = (sd / float(veriAdedi)) ** 0.5\n",
    "        return sd"
   ]
  },
  {
   "cell_type": "code",
   "execution_count": null,
   "id": "bc9cef08",
   "metadata": {},
   "outputs": [],
   "source": [
    "standartSapma(x)"
   ]
  },
  {
   "cell_type": "code",
   "execution_count": null,
   "id": "d9917ede",
   "metadata": {},
   "outputs": [],
   "source": [
    "def varyans(vektor):\n",
    "     return standartSapma(vektor) ** 2"
   ]
  },
  {
   "cell_type": "code",
   "execution_count": null,
   "id": "4907cf89",
   "metadata": {},
   "outputs": [],
   "source": [
    "varyans(x)"
   ]
  },
  {
   "cell_type": "code",
   "execution_count": null,
   "id": "07172df2",
   "metadata": {},
   "outputs": [],
   "source": [
    "Understanding statistics is essential to understand research in the social and behavioral sciences. In this week you will learn the basics of statistics.\n",
    "1. How many goals have the top strikers of the Dutch Eredivisie football competition scored? We look at 10 strikers and obtained the following information: 12, 10, 11, 12, 11, 14, 15, 18, 21, 11. The (1) ... of the dataset equals 12, the mean equals (2) ... and the (3) ... equals 11. The standard deviation equals (4) ... Fill in the right words/numbers on the dots.\n",
    "\n",
    "A. (1) Median, (2) 11, (3) Mode, (4) 3.57\n",
    "B. (1) Median, (2) 13.5, (3) Mode, (4) 3.57 <<<<<\n",
    "C. (1) Mode, (2) 13.5, (3) Median, (4) 12.72\n",
    "D. (1) Mode, (2) 11, (3) Median, (4) 12.72\n",
    "\n",
    "\n",
    "2. What is the difference between variables and constants?\n",
    "\n",
    "A. Constants are discrete variables, variables are continuous variables. \n",
    "    #Sabitler ayrık değişkenlerdir, değişkenler sürekli değişkenlerdir.\n",
    "B. Variables vary across cases, constants do not vary. \n",
    "    #Değişkenler vakalar arasında değişir, sabitler değişmez.\n",
    "C. Constants vary across cases, variables do not vary. \n",
    "    #Sabitler durumlar arasında değişir, değişkenler değişmez.\n",
    "D. Variables are discrete variables, constants are continuous variables. \n",
    "    #Değişkenler ayrık değişkenlerdir, sabitler sürekli değişkenlerdir.\n",
    "\n",
    "\n",
    "3. Identify each of the following as a variable or a constant. Explain the reasons for your choices.\n",
    "    #Aşağıdakilerin her birini bir değişken veya sabit olarak tanımlayın. Seçimlerinizin nedenlerini açıklayın.\n",
    "\n",
    "1. The number of days in a week.       #Bir haftadaki gün sayısı\n",
    "2. People’s attitudes toward abortion. #İnsanların kürtaja karşı tutumları.\n",
    "3. The country of birth of presidents of the United States. #Amerika Birleşik Devletleri başkanlarının doğduğu ülke.\n",
    "4. The value of a number divided by itself. #Bir sayının kendisine bölümü değeri.\n",
    "5. The total number of runs scored in baseball games. #Beyzbol maçlarında atılan toplam koşu sayısı.\n",
    "6. The number of days in each of the twelve months in a year. #Bir yıldaki on iki ayın her birindeki gün sayısı.\n",
    "\n",
    "\n",
    "4. Define each of the following, in your own words. #Aşağıdakilerin her birini kendi sözcüklerinizle tanımlayın.\n",
    "\n",
    "A. Population #gözlemcilerin ilgisini çeken belli karakteristikleri olan, iyi tanımlanmış bir benzer ögeler bütünüdür.\n",
    "B. Sample #Bir kitleden, belirli yöntemler kullanılarak seçilen aynı özellikleri taşıyan bir kısım bireyin oluşturduğu      topluluğa ÖRNEKLEM denir.\n",
    "C. Null hypothesis  #“Eşit, fark yoktur, önemli değildir, en az(fazla) … kadardır” biçiminde kurulan hipoteze “yokluk (null), boş ya da sıfır hipotezi” denir \n",
    "D. Alternate hypothesis # null hipotezine karşı test edilen hipoteze ise “alternatif (alternative), seçenek ya da karşıt hipotez “ denir\n",
    "\n",
    "\n",
    "5. What is the main difference between an experimental design and a correlational design?\n",
    "        #Deneysel tasarım ile korelasyonel tasarım arasındaki temel fark nedir?\n",
    "\n",
    "6. What is the main difference between an experimental design and a correlational design?\n",
    "\n",
    "\n",
    "7. . Distinguish between a dependent variable and an independent variable.\n",
    "    #Bağımlı değişken ile bağımsız değişken arasında ayrım yapın.\n",
    "    #Bağımlı değişkenler, bağımsız değişkenlere tepki olarak değiştiği gözlenen değişkenlerdir. Bağımsız değişkenler ise bağımlı değişkenlerde bir değişime neden olmak için bilinçli veya kasti bir şekilde manipüle edilen değişkenlerdir.\n",
    "\n",
    "8. Distinguish between a between-subjects variable and a within-subjects variable.\n",
    "    #Denekler arası değişken ile özneler içi değişken arasında ayrım yapın."
   ]
  },
  {
   "cell_type": "code",
   "execution_count": 2,
   "id": "1f0f5b64",
   "metadata": {},
   "outputs": [],
   "source": [
    "veri = [102,33,26,27,30,25,33,33,24]"
   ]
  },
  {
   "cell_type": "code",
   "execution_count": 3,
   "id": "2e29e714",
   "metadata": {},
   "outputs": [
    {
     "data": {
      "text/plain": [
       "[24, 25, 26, 27, 30, 33, 33, 33, 102]"
      ]
     },
     "execution_count": 3,
     "metadata": {},
     "output_type": "execute_result"
    }
   ],
   "source": [
    "sorted(veri)"
   ]
  },
  {
   "cell_type": "code",
   "execution_count": 4,
   "id": "d07e64b9",
   "metadata": {},
   "outputs": [
    {
     "name": "stdout",
     "output_type": "stream",
     "text": [
      "mod değeri : 33\n",
      "ortalama değeri :  37\n",
      "ortanca değeri :  30\n",
      "varyans değeri :  607\n",
      "standart sapma değeri :  23.22833518691246\n"
     ]
    }
   ],
   "source": [
    "import statistics\n",
    "print(\"mod değeri :\" , statistics.mode(veri))\n",
    "print(\"ortalama değeri : \" ,statistics.mean(veri))\n",
    "print(\"ortanca değeri : \" ,statistics.median(veri))\n",
    "print(\"varyans değeri : \" ,statistics.variance(veri))\n",
    "print(\"standart sapma değeri : \" ,statistics.pstdev(veri))"
   ]
  },
  {
   "cell_type": "code",
   "execution_count": 6,
   "id": "285cea8c",
   "metadata": {},
   "outputs": [
    {
     "name": "stdout",
     "output_type": "stream",
     "text": [
      "37.0\n"
     ]
    }
   ],
   "source": [
    "mean_degeri = sum(veri)/len(veri)\n",
    "print(mean_degeri)"
   ]
  },
  {
   "cell_type": "code",
   "execution_count": 10,
   "id": "0e336905",
   "metadata": {},
   "outputs": [
    {
     "data": {
      "text/plain": [
       "[24, 25, 26, 27, 30, 33, 33, 33, 102]"
      ]
     },
     "execution_count": 10,
     "metadata": {},
     "output_type": "execute_result"
    }
   ],
   "source": [
    "verisort=sorted(veri)\n",
    "verisort"
   ]
  },
  {
   "cell_type": "code",
   "execution_count": 15,
   "id": "b3b8692c",
   "metadata": {},
   "outputs": [
    {
     "name": "stdout",
     "output_type": "stream",
     "text": [
      "4\n",
      "30\n"
     ]
    }
   ],
   "source": [
    "n=len(verisort)\n",
    "k=int((n-1)/2)\n",
    "print(k)\n",
    "medyan_degeri=verisort[k]\n",
    "print(medyan_degeri)"
   ]
  },
  {
   "cell_type": "code",
   "execution_count": 16,
   "id": "ae915ef3",
   "metadata": {},
   "outputs": [
    {
     "name": "stdout",
     "output_type": "stream",
     "text": [
      "mean: 37.0\n",
      "median: 30.0\n",
      "mode: ModeResult(mode=array([33]), count=array([3]))\n"
     ]
    }
   ],
   "source": [
    "import numpy as np\n",
    "from scipy import stats\n",
    "\n",
    "salary = [102, 33, 26, 27, 30, 25, 33, 33, 24]\n",
    "\n",
    "mean_salary = np.mean(salary)\n",
    "print(\"mean:\", mean_salary)\n",
    "\n",
    "median_salary = np.median(salary)\n",
    "print(\"median:\", median_salary)\n",
    "\n",
    "mode_salary = stats.mode(salary)\n",
    "print(\"mode:\", mode_salary)\n"
   ]
  },
  {
   "cell_type": "code",
   "execution_count": 17,
   "id": "6fe41c0c",
   "metadata": {},
   "outputs": [
    {
     "name": "stdout",
     "output_type": "stream",
     "text": [
      "mod değeri : 10\n",
      "ortalama değeri :  9.2\n",
      "ortanca değeri :  10\n",
      "varyans değeri :  22.7\n",
      "standart sapma değeri :  4.261455150532504\n"
     ]
    }
   ],
   "source": [
    "soru= [3, 7, 10, 10, 16]\n",
    "print(\"mod değeri :\" , statistics.mode(soru))\n",
    "print(\"ortalama değeri : \" ,statistics.mean(soru))\n",
    "print(\"ortanca değeri : \" ,statistics.median(soru))\n",
    "print(\"varyans değeri : \" ,statistics.variance(soru))\n",
    "print(\"standart sapma değeri : \" ,statistics.pstdev(soru))"
   ]
  },
  {
   "cell_type": "code",
   "execution_count": 18,
   "id": "4d352d52",
   "metadata": {},
   "outputs": [
    {
     "data": {
      "text/plain": [
       "[53, 55, 57, 70, 95, 99, 100, 101, 150]"
      ]
     },
     "execution_count": 18,
     "metadata": {},
     "output_type": "execute_result"
    }
   ],
   "source": [
    "sorum=[100, 55, 95, 150, 101, 99, 53, 57, 70]\n",
    "sorted(sorum)"
   ]
  },
  {
   "cell_type": "code",
   "execution_count": 24,
   "id": "185706e0",
   "metadata": {},
   "outputs": [
    {
     "name": "stdout",
     "output_type": "stream",
     "text": [
      "Max:  19\n",
      "Min:  3\n",
      "Range:  16\n",
      "Variance:  19.11111111111111\n",
      "Std:  4.371625682868\n",
      "Q1: 8.0\n",
      "Q2: 9.0\n",
      "Q3: 12.0\n",
      "IQR: 4.0\n"
     ]
    }
   ],
   "source": [
    "import numpy as np\n",
    "from scipy import stats\n",
    "\n",
    "salary = [3,6,8,9,9,10,12,14,19]\n",
    "print(\"Max: \", np.max(salary))\n",
    "\n",
    "print(\"Min: \", np.min(salary))\n",
    "\n",
    "print(\"Range: \", (np.max(salary)-np.min(salary)))\n",
    "\n",
    "print(\"Variance: \", (np.var(salary)))\n",
    "\n",
    "print(\"Std: \", (np.std(salary)))\n",
    "\n",
    "print(\"Q1:\", (np.percentile(salary, 25)))\n",
    "\n",
    "print(\"Q2:\", (np.percentile(salary, 50)))  #q2 is also called median\n",
    "\n",
    "print(\"Q3:\", (np.percentile(salary, 75)))\n",
    "\n",
    "print(\"IQR:\", (stats.iqr(salary)))"
   ]
  },
  {
   "cell_type": "code",
   "execution_count": null,
   "id": "e26cd43b",
   "metadata": {},
   "outputs": [],
   "source": []
  },
  {
   "cell_type": "code",
   "execution_count": null,
   "id": "9a5a9c92",
   "metadata": {},
   "outputs": [],
   "source": []
  },
  {
   "cell_type": "code",
   "execution_count": null,
   "id": "32eff859",
   "metadata": {},
   "outputs": [],
   "source": []
  },
  {
   "cell_type": "code",
   "execution_count": null,
   "id": "c26ce5be",
   "metadata": {},
   "outputs": [],
   "source": []
  },
  {
   "cell_type": "code",
   "execution_count": null,
   "id": "aa2dd85d",
   "metadata": {},
   "outputs": [],
   "source": []
  },
  {
   "cell_type": "code",
   "execution_count": null,
   "id": "4d820917",
   "metadata": {},
   "outputs": [],
   "source": []
  },
  {
   "cell_type": "code",
   "execution_count": null,
   "id": "883836b9",
   "metadata": {},
   "outputs": [],
   "source": []
  }
 ],
 "metadata": {
  "kernelspec": {
   "display_name": "Python 3 (ipykernel)",
   "language": "python",
   "name": "python3"
  },
  "language_info": {
   "codemirror_mode": {
    "name": "ipython",
    "version": 3
   },
   "file_extension": ".py",
   "mimetype": "text/x-python",
   "name": "python",
   "nbconvert_exporter": "python",
   "pygments_lexer": "ipython3",
   "version": "3.9.12"
  }
 },
 "nbformat": 4,
 "nbformat_minor": 5
}
