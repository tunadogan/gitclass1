{
 "cells": [
  {
   "cell_type": "markdown",
   "id": "79beef54",
   "metadata": {},
   "source": [
    "Interval (aralıklı) veriler:\n",
    "Nesnelerin sıralanmasında kullanılır.\n",
    "Eşit aralıkların eşit mesafelerini temsil ettiği bir ölçek türüdür.\n",
    "Ordinal ölçümün bütün özelliklerini taşır.\n",
    "Nesneler arasındaki farkın mukayesesine imkan tanır.\n",
    "Başlangıç noktası sorunu vardır. Araştırmacı kendi yaptığı çalışmaya göre bir başlangıç noktası belirler.\n",
    "Sıfır noktası sabit olmadığı için başlangıç noktası görecelidir.\n",
    "(Örnek: Küçük ve büyük tansiyonların değer aralıkları, Kan pH’ı 7.1 ile 7.5 arasında olması, vücut sıcaklığını ölçmek için kullanılan termometreler, likert ölçeği (tutum ve davranışları ölçmek için 1 ile 5 arasında değer vermek gibi, ya da kötü—harika tarzı anlamsal dizilimler..)\n",
    ":orange_alert: Ratio (Oransal) Veriler:\n",
    "Interval, ordinal ve nominal ölçüm türünün özelliklerini taşır.\n",
    "Aynı zamanda mutlak sıfır noktasına da sahiptir.\n",
    "En üst ölçüm tekniğidir, her türlü istatiksel ve matematik işleme imkan tanımaktadır.\n",
    "Cevaplayıcı sıfırdan herhangi bir sayıya kadar cevap verebilir.\n",
    "Oransallık söz konusudur.\n",
    "(Örnek: Yıllık kazancınız ne kadar, kaç çocuğunuz var, sağlık alanında ağırlık ölçümü, boy ölçümü, fizik bilimindeki ölçümler ağırlık, alan, hacim gibi, ölen hastalanan yaralanan hakkındaki veriler vb.)"
   ]
  },
  {
   "cell_type": "code",
   "execution_count": null,
   "id": "cf924dba",
   "metadata": {},
   "outputs": [],
   "source": []
  }
 ],
 "metadata": {
  "kernelspec": {
   "display_name": "Python 3 (ipykernel)",
   "language": "python",
   "name": "python3"
  },
  "language_info": {
   "codemirror_mode": {
    "name": "ipython",
    "version": 3
   },
   "file_extension": ".py",
   "mimetype": "text/x-python",
   "name": "python",
   "nbconvert_exporter": "python",
   "pygments_lexer": "ipython3",
   "version": "3.9.12"
  }
 },
 "nbformat": 4,
 "nbformat_minor": 5
}
