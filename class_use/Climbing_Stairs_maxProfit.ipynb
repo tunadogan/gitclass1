{
 "cells": [
  {
   "cell_type": "code",
   "execution_count": null,
   "id": "fad8b879",
   "metadata": {},
   "outputs": [],
   "source": []
  },
  {
   "cell_type": "code",
   "execution_count": 28,
   "id": "623a46a7",
   "metadata": {},
   "outputs": [],
   "source": [
    " def climbStairs(n):\n",
    "    adım={}\n",
    "    \n",
    "    def step(n):\n",
    "        if n==1 or n==2:\n",
    "            return n\n",
    "        elif n in adım:\n",
    "            return adım[n]\n",
    "        else:\n",
    "            adım[n]=step(n-1) + step(n-1)\n",
    "            return adım[n]\n",
    "    print(adım)            \n",
    "    return step(n)"
   ]
  },
  {
   "cell_type": "code",
   "execution_count": 29,
   "id": "ebd9eb18",
   "metadata": {},
   "outputs": [
    {
     "name": "stdout",
     "output_type": "stream",
     "text": [
      "{}\n"
     ]
    },
    {
     "data": {
      "text/plain": [
       "4"
      ]
     },
     "execution_count": 29,
     "metadata": {},
     "output_type": "execute_result"
    }
   ],
   "source": [
    "climbStairs(3)"
   ]
  },
  {
   "cell_type": "code",
   "execution_count": 30,
   "id": "c839a747",
   "metadata": {},
   "outputs": [],
   "source": [
    "def climbStairs(self, n: int) -> int:\n",
    "        if n<=2: return n\n",
    "        dp = [0]*(n+1)\n",
    "        dp[1] = 1\n",
    "        dp[2] = 2\n",
    "        for i in range(3,n+1):\n",
    "            dp[i] = dp[i-1]+dp[i-2]\n",
    "        return dp[n]"
   ]
  },
  {
   "cell_type": "code",
   "execution_count": 36,
   "id": "11efb6da",
   "metadata": {},
   "outputs": [
    {
     "data": {
      "text/plain": [
       "5"
      ]
     },
     "execution_count": 36,
     "metadata": {},
     "output_type": "execute_result"
    }
   ],
   "source": [
    "climbStairs(1,4)"
   ]
  },
  {
   "cell_type": "code",
   "execution_count": 59,
   "id": "99284634",
   "metadata": {},
   "outputs": [],
   "source": [
    "def maxProfit(prices) -> int:\n",
    "        max_profit = 0\n",
    "        min_buy = float('inf')\n",
    "        for price in prices:\n",
    "            min_buy=min(min_buy, price)\n",
    "            max_profit=max(max_profit, price-min_buy)\n",
    "        return max_profit"
   ]
  },
  {
   "cell_type": "code",
   "execution_count": 63,
   "id": "76d761d9",
   "metadata": {},
   "outputs": [
    {
     "data": {
      "text/plain": [
       "5"
      ]
     },
     "execution_count": 63,
     "metadata": {},
     "output_type": "execute_result"
    }
   ],
   "source": [
    "prices = [7,1,5,3,6,4]\n",
    "maxProfit(prices)\n"
   ]
  },
  {
   "cell_type": "code",
   "execution_count": 67,
   "id": "da1f0309",
   "metadata": {},
   "outputs": [
    {
     "data": {
      "text/plain": [
       "1"
      ]
     },
     "execution_count": 67,
     "metadata": {},
     "output_type": "execute_result"
    }
   ],
   "source": [
    "prices = [10,4,2,3]\n",
    "maxProfit(prices)"
   ]
  },
  {
   "cell_type": "code",
   "execution_count": null,
   "id": "1b0e1d70",
   "metadata": {},
   "outputs": [],
   "source": []
  }
 ],
 "metadata": {
  "kernelspec": {
   "display_name": "Python 3 (ipykernel)",
   "language": "python",
   "name": "python3"
  },
  "language_info": {
   "codemirror_mode": {
    "name": "ipython",
    "version": 3
   },
   "file_extension": ".py",
   "mimetype": "text/x-python",
   "name": "python",
   "nbconvert_exporter": "python",
   "pygments_lexer": "ipython3",
   "version": "3.9.12"
  }
 },
 "nbformat": 4,
 "nbformat_minor": 5
}
