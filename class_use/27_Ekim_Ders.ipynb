{
 "cells": [
  {
   "cell_type": "code",
   "execution_count": null,
   "id": "3e8feed9",
   "metadata": {},
   "outputs": [],
   "source": [
    "# ders ders öğrencisinde öğrencinin emeği ile öğrenilir.\n",
    "# pre class lar çok önemli."
   ]
  },
  {
   "cell_type": "markdown",
   "id": "c0067d6d",
   "metadata": {},
   "source": [
    "# Comparsion Operatörs"
   ]
  },
  {
   "cell_type": "code",
   "execution_count": 1,
   "id": "88f67885",
   "metadata": {},
   "outputs": [
    {
     "data": {
      "text/plain": [
       "True"
      ]
     },
     "execution_count": 1,
     "metadata": {},
     "output_type": "execute_result"
    }
   ],
   "source": [
    "1==1"
   ]
  },
  {
   "cell_type": "code",
   "execution_count": 3,
   "id": "f76c8ca0",
   "metadata": {},
   "outputs": [
    {
     "data": {
      "text/plain": [
       "True"
      ]
     },
     "execution_count": 3,
     "metadata": {},
     "output_type": "execute_result"
    }
   ],
   "source": [
    "3>=3        # = eşittir , == eşit midir , demektir."
   ]
  },
  {
   "cell_type": "code",
   "execution_count": null,
   "id": "e6d39774",
   "metadata": {},
   "outputs": [],
   "source": [
    "# karşılatırma operatörlerinin sonucu true yada false çıkar."
   ]
  },
  {
   "cell_type": "code",
   "execution_count": 5,
   "id": "7e56880a",
   "metadata": {},
   "outputs": [
    {
     "name": "stdout",
     "output_type": "stream",
     "text": [
      "ali eşit değildir\n"
     ]
    }
   ],
   "source": [
    "if \"ali\"!=\"deli\":     # ali eşit değil mi aliye\n",
    "    print(\"ali eşit değildir\")"
   ]
  },
  {
   "cell_type": "code",
   "execution_count": 6,
   "id": "cc16872d",
   "metadata": {},
   "outputs": [
    {
     "name": "stdout",
     "output_type": "stream",
     "text": [
      "if bloğu çalışmadı\n"
     ]
    }
   ],
   "source": [
    "if 1 and \"bir\" and []:      # false olduğu için çalışmaz\n",
    "    print(\"if bloğu çalıştı\")\n",
    "print(\"if bloğu çalışmadı\")"
   ]
  },
  {
   "cell_type": "code",
   "execution_count": 9,
   "id": "5e890796",
   "metadata": {},
   "outputs": [
    {
     "name": "stdout",
     "output_type": "stream",
     "text": [
      "if bloğu çalıştı\n",
      "if bloğu çalışmadı\n"
     ]
    }
   ],
   "source": [
    "if 1 and \"bir\" and (1,) and \"bir\":      #  true olduğu için çalıştı\n",
    "    print(\"if bloğu çalıştı\")\n",
    "print(\"if bloğu çalışmadı\")"
   ]
  },
  {
   "cell_type": "code",
   "execution_count": null,
   "id": "68b078de",
   "metadata": {},
   "outputs": [],
   "source": [
    "bool((1,))"
   ]
  },
  {
   "cell_type": "code",
   "execution_count": 12,
   "id": "907299bf",
   "metadata": {},
   "outputs": [],
   "source": [
    "#input() # klavyeden girilen şeyler str üretir.\n"
   ]
  },
  {
   "cell_type": "code",
   "execution_count": 15,
   "id": "087f890b",
   "metadata": {
    "scrolled": true
   },
   "outputs": [
    {
     "name": "stdout",
     "output_type": "stream",
     "text": [
      "{'N', 'S', 'E', 'W', ' ', 'V', 'L', 'U', 'O', 'T', 'P'}\n",
      "{'N', 'S', 'E', ' ', 'W', 'V', 'L', 'U', 'O', 'T', 'P'}\n",
      "We are the same!\n"
     ]
    }
   ],
   "source": [
    "A= set(\"TWELVE PLUS ONE\")\n",
    "B= set(\"ELEVEN PLUS TWO\")\n",
    "print(A)\n",
    "print(B)\n",
    "if A==B :\n",
    "    print(\"We are the same!\")"
   ]
  },
  {
   "cell_type": "code",
   "execution_count": 17,
   "id": "2d9b7ac9",
   "metadata": {},
   "outputs": [
    {
     "name": "stdout",
     "output_type": "stream",
     "text": [
      " yes yada no yaz :yes\n",
      "you enter true\n"
     ]
    }
   ],
   "source": [
    "a= input(\" yes yada no yaz :\")\n",
    "if a == (\"yes\") :\n",
    "    print(\"you enter true\")\n",
    "else:\n",
    "    print(\"you enter false\")"
   ]
  },
  {
   "cell_type": "markdown",
   "id": "a11e5d99",
   "metadata": {},
   "source": [
    "# bu alttaki önemli if kullanmadan karşılartırma"
   ]
  },
  {
   "cell_type": "code",
   "execution_count": 20,
   "id": "3efbf79f",
   "metadata": {},
   "outputs": [
    {
     "name": "stdout",
     "output_type": "stream",
     "text": [
      " yes yada no yaz :yes\n"
     ]
    },
    {
     "data": {
      "text/plain": [
       "True"
      ]
     },
     "execution_count": 20,
     "metadata": {},
     "output_type": "execute_result"
    }
   ],
   "source": [
    "# hocanın yaptığı \n",
    "convert= input(\" yes yada no yaz :\").title().strip() == \"Yes\"                   # eğer boşluk falan olursa false olmasın diye strip \n",
    "# niçin title yaptık yes ile karşılaştırma yapacağımız için inputtan gelen değeri bir norma soktuk.                                                                       # kullanıldı.\n",
    "convert"
   ]
  },
  {
   "cell_type": "code",
   "execution_count": 22,
   "id": "7f3b5fcc",
   "metadata": {},
   "outputs": [
    {
     "name": "stdout",
     "output_type": "stream",
     "text": [
      " yes yada no yaz :yes\n"
     ]
    },
    {
     "data": {
      "text/plain": [
       "True"
      ]
     },
     "execution_count": 22,
     "metadata": {},
     "output_type": "execute_result"
    }
   ],
   "source": [
    "convert= input(\" yes yada no yaz :\").lower().strip() == \"yes\" \n",
    "convert"
   ]
  },
  {
   "cell_type": "code",
   "execution_count": 25,
   "id": "2c72bd3a",
   "metadata": {},
   "outputs": [
    {
     "name": "stdout",
     "output_type": "stream",
     "text": [
      "you entered True\n"
     ]
    }
   ],
   "source": [
    "print(f\"you entered {convert}\")"
   ]
  },
  {
   "cell_type": "code",
   "execution_count": 27,
   "id": "a454e5e7",
   "metadata": {},
   "outputs": [
    {
     "name": "stdout",
     "output_type": "stream",
     "text": [
      " yes yada no yaz :yes\n",
      "you entered True\n"
     ]
    }
   ],
   "source": [
    "print(f\"you entered {input(' yes yada no yaz :').lower().strip() == 'yes'}\")"
   ]
  },
  {
   "cell_type": "code",
   "execution_count": 28,
   "id": "2c80479c",
   "metadata": {},
   "outputs": [
    {
     "name": "stdout",
     "output_type": "stream",
     "text": [
      " yes yada no yaz :yes\n",
      "you entered True\n"
     ]
    }
   ],
   "source": [
    "print(f'you entered {input(\" yes yada no yaz :\").lower().strip() == \"yes\" }')"
   ]
  },
  {
   "cell_type": "markdown",
   "id": "f09ad814",
   "metadata": {},
   "source": [
    "# if else "
   ]
  },
  {
   "cell_type": "code",
   "execution_count": 31,
   "id": "25cfe5c2",
   "metadata": {},
   "outputs": [
    {
     "name": "stdout",
     "output_type": "stream",
     "text": [
      "merhaba\n"
     ]
    }
   ],
   "source": [
    "x= 5\n",
    "if x>=6:\n",
    "    print(\"hello\")\n",
    "else:\n",
    "    print (\"merhaba\")"
   ]
  },
  {
   "cell_type": "code",
   "execution_count": 33,
   "id": "1f930592",
   "metadata": {},
   "outputs": [
    {
     "data": {
      "text/plain": [
       "[1, 2, 3, 4, 5, 6, 7, 8, 9]"
      ]
     },
     "execution_count": 33,
     "metadata": {},
     "output_type": "execute_result"
    }
   ],
   "source": [
    "a = list(range(1,10))\n",
    "a"
   ]
  },
  {
   "cell_type": "code",
   "execution_count": 35,
   "id": "2b64fc3a",
   "metadata": {},
   "outputs": [
    {
     "name": "stdout",
     "output_type": "stream",
     "text": [
      "yok\n"
     ]
    }
   ],
   "source": [
    "if 10 in a :\n",
    "    print(\"var\")\n",
    "else:\n",
    "    print(\"yok\")"
   ]
  },
  {
   "cell_type": "code",
   "execution_count": 42,
   "id": "42dc5f2a",
   "metadata": {},
   "outputs": [
    {
     "name": "stdout",
     "output_type": "stream",
     "text": [
      "bir sayı gir hacı :-11\n",
      "-11  is negatif\n"
     ]
    }
   ],
   "source": [
    "a= int(input(\"bir sayı gir :\"))\n",
    "if a>0:\n",
    "    print(f\" {a} is pozitif\")\n",
    "else:\n",
    "    print(f\"{a}  is negatif\")"
   ]
  },
  {
   "cell_type": "code",
   "execution_count": 41,
   "id": "2cfcba29",
   "metadata": {},
   "outputs": [
    {
     "name": "stdout",
     "output_type": "stream",
     "text": [
      "enter a number :-11\n",
      "-11 is odd\n"
     ]
    }
   ],
   "source": [
    "num=int(input(\"enter a number :\"))   # hocanın yaptığı\n",
    "if num % 2== 0:\n",
    "    print(\"{} is even\".format(num))\n",
    "else:\n",
    "    print(\"{} is odd\".format(num))"
   ]
  },
  {
   "cell_type": "code",
   "execution_count": 47,
   "id": "5b6f77ce",
   "metadata": {},
   "outputs": [
    {
     "name": "stdout",
     "output_type": "stream",
     "text": [
      "enter a number :7\n",
      "enter a number :9\n",
      "7.0The large number2 is number  \n"
     ]
    }
   ],
   "source": [
    "num=float(input(\"enter a number :\")) \n",
    "num2=float(input(\"enter a number :\")) # hocanın yaptığı\n",
    "if num > num2:\n",
    "    print(\"{} The large number is number 2\".format(num))\n",
    "else:\n",
    "    print(\"{}The large number2 is number  \".format(num2))"
   ]
  },
  {
   "cell_type": "code",
   "execution_count": 50,
   "id": "b545a725",
   "metadata": {},
   "outputs": [
    {
     "name": "stdout",
     "output_type": "stream",
     "text": [
      "enter first number :15\n",
      "enter second number :19\n",
      "the larger number is : 19\n"
     ]
    }
   ],
   "source": [
    "# hocanın yaptığı\n",
    "num1=float(input(\"enter first number :\")) \n",
    "num2=float(input(\"enter second number :\")) \n",
    "if num1 > num2 :\n",
    "    larger = num1\n",
    "    \n",
    "else :\n",
    "    larger = num2\n",
    "print(\"the larger number is :\",larger)"
   ]
  },
  {
   "cell_type": "code",
   "execution_count": 53,
   "id": "905d9f8f",
   "metadata": {},
   "outputs": [
    {
     "name": "stdout",
     "output_type": "stream",
     "text": [
      "no\n"
     ]
    }
   ],
   "source": [
    "bool_value= False\n",
    "if bool_value :     # burda direk değişeknin true false durumuna bakıyor..\n",
    "    print(\"yes\")\n",
    "else:\n",
    "    print(\"no\")"
   ]
  },
  {
   "cell_type": "markdown",
   "id": "49575a1c",
   "metadata": {},
   "source": [
    "# if elif else"
   ]
  },
  {
   "cell_type": "code",
   "execution_count": 63,
   "id": "8c4b0715",
   "metadata": {},
   "outputs": [
    {
     "name": "stdout",
     "output_type": "stream",
     "text": [
      "enter first number :3\n",
      "enter second number :2\n",
      "enter second number :1\n",
      "büyük sayı  3.0\n"
     ]
    }
   ],
   "source": [
    "num1=float(input(\"enter first number :\")) \n",
    "num2=float(input(\"enter second number :\")) \n",
    "num3=float(input(\"enter second number :\"))\n",
    "\n",
    "if num1 > num2 and num1> num3: \n",
    "    larger = num1\n",
    "elif num2 > num1 and num2 > num3:\n",
    "    larger = num2\n",
    "else :\n",
    "    larger = num3\n",
    "print(\"büyük sayı \",larger)"
   ]
  },
  {
   "cell_type": "code",
   "execution_count": null,
   "id": "5357459c",
   "metadata": {},
   "outputs": [],
   "source": [
    "audience_group= 'kid','teen','adult'\n",
    "audience=\"teen\"\n",
    "if audience in audience_group:\n",
    "    if audience == \"kid\":\n",
    "        print(\"it is free to go to cinema )\n",
    "    elif audience==\"teen\"\n",
    "        print(\"discount price\")\n",
    "    else: \n",
    "else:\n",
    "    print()"
   ]
  },
  {
   "cell_type": "code",
   "execution_count": null,
   "id": "5ed8e470",
   "metadata": {},
   "outputs": [],
   "source": [
    "task"
   ]
  },
  {
   "cell_type": "code",
   "execution_count": null,
   "id": "1753ef56",
   "metadata": {},
   "outputs": [],
   "source": [
    "vize1 = input(\"Vize:\")\n",
    "Final = input(\"Final:\")\n",
    "sonuc = int(vize1)*(4/10) + int(Final)*(6/10)\n",
    "if(sonuc >=95):\n",
    "    print(\"Harf Notu: A+\")\n",
    "elif(sonuc>=90 or sonuc==94):\n",
    "    print(\"Harf Notu: A\")\n",
    "elif(85 >= sonuc >=80):\n",
    "    print(\"Harf Notu: B+\")\n",
    "elif(80>= sonuc >= 84):\n",
    "    print(\"Harf Notu: B\")\n",
    "else:\n",
    "    print(\"Harf Notu: B-\")\n",
    "print (\"Ortalama\") \n",
    "print (sonuc)"
   ]
  },
  {
   "cell_type": "code",
   "execution_count": 68,
   "id": "24fa45c6",
   "metadata": {},
   "outputs": [
    {
     "name": "stdout",
     "output_type": "stream",
     "text": [
      "score gir :95\n",
      "your degree:A+\n"
     ]
    }
   ],
   "source": [
    "score = int(input(\"score gir :\"))\n",
    "if score>=90:\n",
    "    if score>=95:\n",
    "        score_letter = \"A+\"\n",
    "    else:\n",
    "        score_letter = \"A\"\n",
    "elif score >=80:\n",
    "    if score>=85:\n",
    "        score_letter = \"B+\"\n",
    "    else:\n",
    "        score_letter = \"B\"\n",
    "else:\n",
    "    score_letter = \"below B\"\n",
    "print(\"your degree:%s\" % score_letter)\n",
    "    "
   ]
  },
  {
   "cell_type": "code",
   "execution_count": 75,
   "id": "cb0248c7",
   "metadata": {},
   "outputs": [
    {
     "ename": "NameError",
     "evalue": "name 'k' is not defined",
     "output_type": "error",
     "traceback": [
      "\u001b[1;31m---------------------------------------------------------------------------\u001b[0m",
      "\u001b[1;31mNameError\u001b[0m                                 Traceback (most recent call last)",
      "Input \u001b[1;32mIn [75]\u001b[0m, in \u001b[0;36m<cell line: 1>\u001b[1;34m()\u001b[0m\n\u001b[1;32m----> 1\u001b[0m \u001b[38;5;28mhash\u001b[39m(\u001b[43mk\u001b[49m)\n",
      "\u001b[1;31mNameError\u001b[0m: name 'k' is not defined"
     ]
    }
   ],
   "source": [
    "hash(k)"
   ]
  },
  {
   "cell_type": "code",
   "execution_count": null,
   "id": "834e7e55",
   "metadata": {},
   "outputs": [],
   "source": []
  }
 ],
 "metadata": {
  "kernelspec": {
   "display_name": "Python 3 (ipykernel)",
   "language": "python",
   "name": "python3"
  },
  "language_info": {
   "codemirror_mode": {
    "name": "ipython",
    "version": 3
   },
   "file_extension": ".py",
   "mimetype": "text/x-python",
   "name": "python",
   "nbconvert_exporter": "python",
   "pygments_lexer": "ipython3",
   "version": "3.9.12"
  }
 },
 "nbformat": 4,
 "nbformat_minor": 5
}
