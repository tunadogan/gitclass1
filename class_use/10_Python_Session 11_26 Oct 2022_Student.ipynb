{
 "cells": [
  {
   "cell_type": "markdown",
   "id": "29d60b78",
   "metadata": {},
   "source": [
    "<img src=\"https://docs.google.com/uc?id=14xeXxFrVRjvOoUYWn_GuyE-v84wVzrqr\" class=\"img-fluid\" alt=\"CLRWY\" width=\"400\" height=\"200\">"
   ]
  },
  {
   "cell_type": "markdown",
   "id": "d87aeae5",
   "metadata": {},
   "source": [
    "<h1><p style=\"text-align: center; color:darkblue\">Python Session-11 <br> 26 Oct 2022</p>"
   ]
  },
  {
   "cell_type": "markdown",
   "id": "2a056995",
   "metadata": {},
   "source": [
    "## <p style=\"background-color:#FDFEFE; font-family:newtimeroman; color:#4d77cf; font-size:150%; text-align:center; border-radius:10px 10px;\"><br><br>Definition&Creating a Set<br><br>Main Operations with Sets<br><br>Conditional Statemenst - IF Statements</p>"
   ]
  },
  {
   "cell_type": "markdown",
   "id": "ab0f9c4f",
   "metadata": {},
   "source": [
    "<a id=\"toc\"></a>\n",
    "\n",
    "## <p style=\"background-color:#9d4f8c; font-family:newtimeroman; color:#FFF9ED; font-size:175%; text-align:center; border-radius:10px 10px;\">Definition&Creating a Set</p>"
   ]
  },
  {
   "cell_type": "code",
   "execution_count": 1,
   "id": "a49ac13c",
   "metadata": {},
   "outputs": [
    {
     "data": {
      "text/plain": [
       "{'blue', 'pink', 'purple', 'red', 'white'}"
      ]
     },
     "execution_count": 1,
     "metadata": {},
     "output_type": "execute_result"
    }
   ],
   "source": [
    "colors = \"red\", \"blue\", \"pink\", \"red\", \"white\", \"blue\", \"purple\"\n",
    "\n",
    "set_1 = set(colors)\n",
    "\n",
    "set_1"
   ]
  },
  {
   "cell_type": "code",
   "execution_count": 4,
   "id": "f5328770",
   "metadata": {},
   "outputs": [
    {
     "name": "stdout",
     "output_type": "stream",
     "text": [
      "{}\n",
      "<class 'dict'>\n"
     ]
    }
   ],
   "source": [
    "süslüparantez = {}\n",
    "\n",
    "print(süslüparantez)\n",
    "\n",
    "print(type(süslüparantez))"
   ]
  },
  {
   "cell_type": "code",
   "execution_count": 5,
   "id": "024840fb",
   "metadata": {},
   "outputs": [
    {
     "name": "stdout",
     "output_type": "stream",
     "text": [
      "<class 'set'>\n"
     ]
    }
   ],
   "source": [
    "print(type(set()))"
   ]
  },
  {
   "cell_type": "code",
   "execution_count": 7,
   "id": "b3e90c60",
   "metadata": {},
   "outputs": [
    {
     "data": {
      "text/plain": [
       "{0, 1, 2}"
      ]
     },
     "execution_count": 7,
     "metadata": {},
     "output_type": "execute_result"
    }
   ],
   "source": [
    "ilk_kümem = {1, 1, 2, 0, 1}\n",
    "ilk_kümem"
   ]
  },
  {
   "cell_type": "code",
   "execution_count": 8,
   "id": "0d970d80",
   "metadata": {},
   "outputs": [
    {
     "data": {
      "text/plain": [
       "5"
      ]
     },
     "execution_count": 8,
     "metadata": {},
     "output_type": "execute_result"
    }
   ],
   "source": [
    "len([1, 1, 2, 0, 1])"
   ]
  },
  {
   "cell_type": "code",
   "execution_count": 9,
   "id": "5ae0710d",
   "metadata": {},
   "outputs": [
    {
     "data": {
      "text/plain": [
       "3"
      ]
     },
     "execution_count": 9,
     "metadata": {},
     "output_type": "execute_result"
    }
   ],
   "source": [
    "len({1, 1, 2, 0, 1})"
   ]
  },
  {
   "cell_type": "code",
   "execution_count": 10,
   "id": "6f55ab9d",
   "metadata": {},
   "outputs": [
    {
     "data": {
      "text/plain": [
       "{0, 1, 2}"
      ]
     },
     "execution_count": 10,
     "metadata": {},
     "output_type": "execute_result"
    }
   ],
   "source": [
    "{1, 1, 2, 0, 1, 1, 1, 1, 1}"
   ]
  },
  {
   "cell_type": "code",
   "execution_count": 2,
   "id": "ea2546e1",
   "metadata": {},
   "outputs": [
    {
     "name": "stdout",
     "output_type": "stream",
     "text": [
      "['a', 'b', 'c', 'd', 'e', 'f', 'g', 'h', 'i', 'j', 'k', 'l', 'm', 'n', 'o', 'p', 'q', 'r', 's', 't', 'u', 'v', 'x', 'w', 'y', 'z']\n"
     ]
    }
   ],
   "source": [
    "letters = \"a b c d e f g h i j k l m n o p q r s t u v x w y z\".split()\n",
    "\n",
    "print(letters)"
   ]
  },
  {
   "cell_type": "code",
   "execution_count": 12,
   "id": "4439a7da",
   "metadata": {},
   "outputs": [
    {
     "name": "stdout",
     "output_type": "stream",
     "text": [
      "{'o', 'q', 'd', 'l', 'g', 'm', 'u', 'x', 'v', 'h', 'r', 'e', 'b', 'n', 'y', 'a', 'z', 'i', 'k', 't', 'p', 'c', 's', 'w', 'f', 'j'}\n"
     ]
    }
   ],
   "source": [
    "print(set(letters))"
   ]
  },
  {
   "cell_type": "code",
   "execution_count": 3,
   "id": "7658a899",
   "metadata": {},
   "outputs": [
    {
     "name": "stdout",
     "output_type": "stream",
     "text": [
      "{'t', 'f', 'y', 's', 'z', 'n', 'l', 'e', 'q', 'r', 'x', 'j', 'd', 'm', 'u', 'g', 'h', 'p', 'w', 'k', 'i', 'b', 'o', 'c', 'v', 'a'}\n"
     ]
    }
   ],
   "source": [
    "print(set(letters))"
   ]
  },
  {
   "cell_type": "code",
   "execution_count": 4,
   "id": "6cbf80e1",
   "metadata": {},
   "outputs": [
    {
     "data": {
      "text/plain": [
       "2"
      ]
     },
     "execution_count": 4,
     "metadata": {},
     "output_type": "execute_result"
    }
   ],
   "source": [
    "şöyle_birşey = {1, \"1\", 1.0}\n",
    "\n",
    "len(şöyle_birşey)"
   ]
  },
  {
   "cell_type": "code",
   "execution_count": 5,
   "id": "f9b841c6",
   "metadata": {},
   "outputs": [
    {
     "data": {
      "text/plain": [
       "True"
      ]
     },
     "execution_count": 5,
     "metadata": {},
     "output_type": "execute_result"
    }
   ],
   "source": [
    "1 == 1.0"
   ]
  },
  {
   "cell_type": "code",
   "execution_count": 8,
   "id": "dc196751",
   "metadata": {},
   "outputs": [],
   "source": [
    "given_list = [1, 2, 3, 4, 5]"
   ]
  },
  {
   "cell_type": "code",
   "execution_count": 9,
   "id": "3187d90d",
   "metadata": {},
   "outputs": [
    {
     "ename": "TypeError",
     "evalue": "unhashable type: 'list'",
     "output_type": "error",
     "traceback": [
      "\u001b[1;31m---------------------------------------------------------------------------\u001b[0m",
      "\u001b[1;31mTypeError\u001b[0m                                 Traceback (most recent call last)",
      "Input \u001b[1;32mIn [9]\u001b[0m, in \u001b[0;36m<cell line: 1>\u001b[1;34m()\u001b[0m\n\u001b[1;32m----> 1\u001b[0m kümemiz \u001b[38;5;241m=\u001b[39m {given_list}\n",
      "\u001b[1;31mTypeError\u001b[0m: unhashable type: 'list'"
     ]
    }
   ],
   "source": [
    "kümemiz = {given_list}"
   ]
  },
  {
   "cell_type": "code",
   "execution_count": 12,
   "id": "c0a52ec6",
   "metadata": {},
   "outputs": [
    {
     "data": {
      "text/plain": [
       "{1, 2, 3, 4, 5}"
      ]
     },
     "execution_count": 12,
     "metadata": {},
     "output_type": "execute_result"
    }
   ],
   "source": [
    "set((1,2,3,4,5))"
   ]
  },
  {
   "cell_type": "code",
   "execution_count": 13,
   "id": "8443819e",
   "metadata": {},
   "outputs": [
    {
     "ename": "TypeError",
     "evalue": "unhashable type: 'list'",
     "output_type": "error",
     "traceback": [
      "\u001b[1;31m---------------------------------------------------------------------------\u001b[0m",
      "\u001b[1;31mTypeError\u001b[0m                                 Traceback (most recent call last)",
      "Input \u001b[1;32mIn [13]\u001b[0m, in \u001b[0;36m<cell line: 3>\u001b[1;34m()\u001b[0m\n\u001b[0;32m      1\u001b[0m listem \u001b[38;5;241m=\u001b[39m [[\u001b[38;5;241m1\u001b[39m, \u001b[38;5;241m2\u001b[39m, \u001b[38;5;241m3\u001b[39m], \u001b[38;5;124m\"\u001b[39m\u001b[38;5;124ma\u001b[39m\u001b[38;5;124m\"\u001b[39m, \u001b[38;5;241m6\u001b[39m, \u001b[38;5;241m3.14\u001b[39m]\n\u001b[1;32m----> 3\u001b[0m setim \u001b[38;5;241m=\u001b[39m \u001b[38;5;28;43mset\u001b[39;49m\u001b[43m(\u001b[49m\u001b[43mlistem\u001b[49m\u001b[43m)\u001b[49m\n\u001b[0;32m      4\u001b[0m setim\n",
      "\u001b[1;31mTypeError\u001b[0m: unhashable type: 'list'"
     ]
    }
   ],
   "source": [
    "listem = [[1, 2, 3], \"a\", 6, 3.14]\n",
    "\n",
    "setim = set(listem)\n",
    "setim"
   ]
  },
  {
   "cell_type": "code",
   "execution_count": 14,
   "id": "39cd5b91",
   "metadata": {},
   "outputs": [
    {
     "ename": "TypeError",
     "evalue": "unhashable type: 'list'",
     "output_type": "error",
     "traceback": [
      "\u001b[1;31m---------------------------------------------------------------------------\u001b[0m",
      "\u001b[1;31mTypeError\u001b[0m                                 Traceback (most recent call last)",
      "Input \u001b[1;32mIn [14]\u001b[0m, in \u001b[0;36m<cell line: 1>\u001b[1;34m()\u001b[0m\n\u001b[1;32m----> 1\u001b[0m {  [\u001b[38;5;241m1\u001b[39m, \u001b[38;5;124m\"\u001b[39m\u001b[38;5;124mbir\u001b[39m\u001b[38;5;124m\"\u001b[39m], \u001b[38;5;124m\"\u001b[39m\u001b[38;5;124mali\u001b[39m\u001b[38;5;124m\"\u001b[39m, \u001b[38;5;124m\"\u001b[39m\u001b[38;5;124mdeli\u001b[39m\u001b[38;5;124m\"\u001b[39m }\n",
      "\u001b[1;31mTypeError\u001b[0m: unhashable type: 'list'"
     ]
    }
   ],
   "source": [
    "{  [1, \"bir\"], \"ali\", \"deli\" }"
   ]
  },
  {
   "cell_type": "code",
   "execution_count": 15,
   "id": "aac292fb",
   "metadata": {},
   "outputs": [
    {
     "ename": "TypeError",
     "evalue": "unhashable type: 'dict'",
     "output_type": "error",
     "traceback": [
      "\u001b[1;31m---------------------------------------------------------------------------\u001b[0m",
      "\u001b[1;31mTypeError\u001b[0m                                 Traceback (most recent call last)",
      "Input \u001b[1;32mIn [15]\u001b[0m, in \u001b[0;36m<cell line: 1>\u001b[1;34m()\u001b[0m\n\u001b[1;32m----> 1\u001b[0m { {\u001b[38;5;241m1\u001b[39m: \u001b[38;5;124m\"\u001b[39m\u001b[38;5;124mbir\u001b[39m\u001b[38;5;124m\"\u001b[39m}, \u001b[38;5;241m2\u001b[39m, \u001b[38;5;241m3\u001b[39m }\n",
      "\u001b[1;31mTypeError\u001b[0m: unhashable type: 'dict'"
     ]
    }
   ],
   "source": [
    "{ {1: \"bir\"}, 2, 3 }"
   ]
  },
  {
   "cell_type": "code",
   "execution_count": 16,
   "id": "84f860cb",
   "metadata": {},
   "outputs": [
    {
     "ename": "TypeError",
     "evalue": "unhashable type: 'set'",
     "output_type": "error",
     "traceback": [
      "\u001b[1;31m---------------------------------------------------------------------------\u001b[0m",
      "\u001b[1;31mTypeError\u001b[0m                                 Traceback (most recent call last)",
      "Input \u001b[1;32mIn [16]\u001b[0m, in \u001b[0;36m<cell line: 1>\u001b[1;34m()\u001b[0m\n\u001b[1;32m----> 1\u001b[0m { \u001b[38;5;241m1\u001b[39m, \u001b[38;5;241m2\u001b[39m, {\u001b[38;5;124m\"\u001b[39m\u001b[38;5;124mali\u001b[39m\u001b[38;5;124m\"\u001b[39m, \u001b[38;5;124m\"\u001b[39m\u001b[38;5;124mveli\u001b[39m\u001b[38;5;124m\"\u001b[39m, \u001b[38;5;241m3\u001b[39m, \u001b[38;5;241m4\u001b[39m} }\n",
      "\u001b[1;31mTypeError\u001b[0m: unhashable type: 'set'"
     ]
    }
   ],
   "source": [
    "{ 1, 2, {\"ali\", \"veli\", 3, 4} }"
   ]
  },
  {
   "cell_type": "code",
   "execution_count": 18,
   "id": "deb62934",
   "metadata": {},
   "outputs": [
    {
     "data": {
      "text/plain": [
       "{(3, 4), 1, 2}"
      ]
     },
     "execution_count": 18,
     "metadata": {},
     "output_type": "execute_result"
    }
   ],
   "source": [
    "tuple_set = { 1, 2, (3, 4) }\n",
    "\n",
    "tuple_set"
   ]
  },
  {
   "cell_type": "markdown",
   "id": "eb7afbbe",
   "metadata": {},
   "source": [
    "<a id=\"toc\"></a>\n",
    "\n",
    "## <p style=\"background-color:#9d4f8c; font-family:newtimeroman; color:#FFF9ED; font-size:175%; text-align:center; border-radius:10px 10px;\">Main Operations with Sets</p>"
   ]
  },
  {
   "cell_type": "code",
   "execution_count": 19,
   "id": "32471f2f",
   "metadata": {},
   "outputs": [],
   "source": [
    "a = {'carnation', 'orchid', 'rose', 'violet'}\n",
    "\n",
    "b = {'rose', 'orchid', 'rose', 'violet', 'carnation'}"
   ]
  },
  {
   "cell_type": "code",
   "execution_count": 20,
   "id": "6d867aee",
   "metadata": {},
   "outputs": [
    {
     "data": {
      "text/plain": [
       "{'carnation', 'orchid', 'rose', 'violet'}"
      ]
     },
     "execution_count": 20,
     "metadata": {},
     "output_type": "execute_result"
    }
   ],
   "source": [
    "a"
   ]
  },
  {
   "cell_type": "code",
   "execution_count": 21,
   "id": "e9c97698",
   "metadata": {},
   "outputs": [
    {
     "data": {
      "text/plain": [
       "{'carnation', 'orchid', 'rose', 'violet'}"
      ]
     },
     "execution_count": 21,
     "metadata": {},
     "output_type": "execute_result"
    }
   ],
   "source": [
    "b"
   ]
  },
  {
   "cell_type": "code",
   "execution_count": 22,
   "id": "a8b35bab",
   "metadata": {},
   "outputs": [
    {
     "data": {
      "text/plain": [
       "{'carnation', 'lily', 'orchid', 'rose', 'violet'}"
      ]
     },
     "execution_count": 22,
     "metadata": {},
     "output_type": "execute_result"
    }
   ],
   "source": [
    "a.add(\"lily\")\n",
    "\n",
    "a"
   ]
  },
  {
   "cell_type": "code",
   "execution_count": 23,
   "id": "61a233d7",
   "metadata": {},
   "outputs": [
    {
     "data": {
      "text/plain": [
       "{'carnation', 'lily', 'orchid', 'violet'}"
      ]
     },
     "execution_count": 23,
     "metadata": {},
     "output_type": "execute_result"
    }
   ],
   "source": [
    "a.remove(\"rose\")\n",
    "\n",
    "a"
   ]
  },
  {
   "cell_type": "code",
   "execution_count": 24,
   "id": "5077b69d",
   "metadata": {},
   "outputs": [],
   "source": [
    "date1 = set('10/26/2022')\n",
    "date2 = {'10/26/2022'}"
   ]
  },
  {
   "cell_type": "code",
   "execution_count": 25,
   "id": "6849b883",
   "metadata": {},
   "outputs": [
    {
     "data": {
      "text/plain": [
       "{'/', '0', '1', '2', '6'}"
      ]
     },
     "execution_count": 25,
     "metadata": {},
     "output_type": "execute_result"
    }
   ],
   "source": [
    "date1"
   ]
  },
  {
   "cell_type": "code",
   "execution_count": 26,
   "id": "4e6c9029",
   "metadata": {},
   "outputs": [
    {
     "data": {
      "text/plain": [
       "{'10/26/2022'}"
      ]
     },
     "execution_count": 26,
     "metadata": {},
     "output_type": "execute_result"
    }
   ],
   "source": [
    "date2"
   ]
  },
  {
   "cell_type": "code",
   "execution_count": 27,
   "id": "ca081ad4",
   "metadata": {},
   "outputs": [
    {
     "name": "stdout",
     "output_type": "stream",
     "text": [
      "{'0', '1', '/', '2', '5'}\n",
      "{'05/21/2022'}\n"
     ]
    }
   ],
   "source": [
    "date1 = set('05/21/2022')\n",
    "date2 = {'05/21/2022'}\n",
    "print(date1)\n",
    "print(date2)"
   ]
  },
  {
   "cell_type": "code",
   "execution_count": 28,
   "id": "e1a7492d",
   "metadata": {},
   "outputs": [
    {
     "name": "stdout",
     "output_type": "stream",
     "text": [
      "{2}\n"
     ]
    }
   ],
   "source": [
    "k1 = set([1, 2, 3])\n",
    "\n",
    "k2 = set([1, 3, 5])\n",
    "\n",
    "k1.difference_update(k2)\n",
    "\n",
    "print(k1)"
   ]
  },
  {
   "cell_type": "code",
   "execution_count": 29,
   "id": "b661a560",
   "metadata": {},
   "outputs": [
    {
     "name": "stdout",
     "output_type": "stream",
     "text": [
      "{'inek', 'köpek', 'at', 'deve', 'kuş'}\n"
     ]
    }
   ],
   "source": [
    "hayvanlar = set([\"kedi\", \"köpek\", \"at\", \"kuş\", \"inek\", \"deve\"])\n",
    "\n",
    "hayvanlar.discard(\"kedi\")\n",
    "\n",
    "print(hayvanlar)"
   ]
  },
  {
   "cell_type": "code",
   "execution_count": 30,
   "id": "e2785cc9",
   "metadata": {},
   "outputs": [
    {
     "data": {
      "text/plain": [
       "{'at', 'deve', 'inek', 'kuş'}"
      ]
     },
     "execution_count": 30,
     "metadata": {},
     "output_type": "execute_result"
    }
   ],
   "source": [
    "hayvanlar.remove(\"köpek\")\n",
    "\n",
    "hayvanlar"
   ]
  },
  {
   "cell_type": "markdown",
   "id": "2f9092fa",
   "metadata": {},
   "source": [
    "<a id=\"toc\"></a>\n",
    "\n",
    "## <p style=\"background-color:#9d4f8c; font-family:newtimeroman; color:#FFF9ED; font-size:175%; text-align:center; border-radius:10px 10px;\">Conditional Statemenst - IF Statements</p>"
   ]
  },
  {
   "cell_type": "markdown",
   "id": "6a73b16e",
   "metadata": {},
   "source": [
    "<img src=\"Hamburger.png\" class=\"img-fluid\" alt=\"CLRWY\" width=\"400\" height=\"200\">"
   ]
  },
  {
   "cell_type": "code",
   "execution_count": 31,
   "id": "7182cb3b",
   "metadata": {},
   "outputs": [],
   "source": [
    "sayılar = [1, 2, 3, 4, 5]"
   ]
  },
  {
   "cell_type": "code",
   "execution_count": 32,
   "id": "fbf94644",
   "metadata": {},
   "outputs": [
    {
     "name": "stdout",
     "output_type": "stream",
     "text": [
      "1\n"
     ]
    }
   ],
   "source": [
    "print(sayılar[0])"
   ]
  },
  {
   "cell_type": "code",
   "execution_count": 33,
   "id": "883a6fca",
   "metadata": {},
   "outputs": [
    {
     "name": "stdout",
     "output_type": "stream",
     "text": [
      "2\n"
     ]
    }
   ],
   "source": [
    "print(sayılar[1])"
   ]
  },
  {
   "cell_type": "code",
   "execution_count": 34,
   "id": "b5854435",
   "metadata": {},
   "outputs": [
    {
     "name": "stdout",
     "output_type": "stream",
     "text": [
      "3\n"
     ]
    }
   ],
   "source": [
    "print(sayılar[2])"
   ]
  },
  {
   "cell_type": "code",
   "execution_count": 35,
   "id": "1a877a1b",
   "metadata": {},
   "outputs": [
    {
     "name": "stdout",
     "output_type": "stream",
     "text": [
      "4\n"
     ]
    }
   ],
   "source": [
    "print(sayılar[3])"
   ]
  },
  {
   "cell_type": "code",
   "execution_count": 36,
   "id": "9228e84f",
   "metadata": {},
   "outputs": [
    {
     "name": "stdout",
     "output_type": "stream",
     "text": [
      "5\n"
     ]
    }
   ],
   "source": [
    "print(sayılar[4])"
   ]
  },
  {
   "cell_type": "code",
   "execution_count": 37,
   "id": "746170da",
   "metadata": {},
   "outputs": [],
   "source": [
    "a = 3\n",
    "b = 0"
   ]
  },
  {
   "cell_type": "code",
   "execution_count": 38,
   "id": "28a82507",
   "metadata": {},
   "outputs": [
    {
     "data": {
      "text/plain": [
       "False"
      ]
     },
     "execution_count": 38,
     "metadata": {},
     "output_type": "execute_result"
    }
   ],
   "source": [
    "b > a"
   ]
  },
  {
   "cell_type": "code",
   "execution_count": 39,
   "id": "be20a8e9",
   "metadata": {},
   "outputs": [
    {
     "name": "stdout",
     "output_type": "stream",
     "text": [
      "ali\n"
     ]
    }
   ],
   "source": [
    "if b > a :\n",
    "    print(\"hello\")\n",
    "    \n",
    "print(\"ali\")"
   ]
  },
  {
   "cell_type": "markdown",
   "id": "16544bde",
   "metadata": {},
   "source": [
    "```python\n",
    "\n",
    "if condition :\n",
    "    body1\n",
    "    body2\n",
    "    body3\n",
    "outbody\n",
    "```"
   ]
  },
  {
   "cell_type": "code",
   "execution_count": 40,
   "id": "64d95f45",
   "metadata": {},
   "outputs": [
    {
     "name": "stdout",
     "output_type": "stream",
     "text": [
      "hello world\n",
      "print me in all cases\n"
     ]
    }
   ],
   "source": [
    "if \"0\" :\n",
    "    print(\"hello world\")\n",
    "    \n",
    "print(\"print me in all cases\")"
   ]
  },
  {
   "cell_type": "code",
   "execution_count": 41,
   "id": "0e165785",
   "metadata": {},
   "outputs": [
    {
     "data": {
      "text/plain": [
       "True"
      ]
     },
     "execution_count": 41,
     "metadata": {},
     "output_type": "execute_result"
    }
   ],
   "source": [
    "bool(\"0\")"
   ]
  },
  {
   "cell_type": "code",
   "execution_count": 42,
   "id": "626edc0f",
   "metadata": {},
   "outputs": [
    {
     "data": {
      "text/plain": [
       "False"
      ]
     },
     "execution_count": 42,
     "metadata": {},
     "output_type": "execute_result"
    }
   ],
   "source": [
    "bool(0)"
   ]
  },
  {
   "cell_type": "code",
   "execution_count": 43,
   "id": "7d6cb1ba",
   "metadata": {},
   "outputs": [],
   "source": [
    "if \"0\" and \"\" :\n",
    "    print(\"hello world\")"
   ]
  },
  {
   "cell_type": "code",
   "execution_count": 44,
   "id": "b6b2f39f",
   "metadata": {},
   "outputs": [],
   "source": [
    "if 0 or \"False\" and None :\n",
    "    print(\"hello universe\")"
   ]
  },
  {
   "cell_type": "code",
   "execution_count": 47,
   "id": "f6e76f22",
   "metadata": {},
   "outputs": [
    {
     "data": {
      "text/plain": [
       "False"
      ]
     },
     "execution_count": 47,
     "metadata": {},
     "output_type": "execute_result"
    }
   ],
   "source": [
    "bool(0 or \"False\" and None)"
   ]
  },
  {
   "cell_type": "code",
   "execution_count": 48,
   "id": "01fd4612",
   "metadata": {},
   "outputs": [
    {
     "name": "stdout",
     "output_type": "stream",
     "text": [
      "clarusway\n"
     ]
    }
   ],
   "source": [
    "if 1 :\n",
    "    print(\"clarusway\")\n",
    "    "
   ]
  },
  {
   "cell_type": "code",
   "execution_count": 49,
   "id": "18dd4031",
   "metadata": {},
   "outputs": [
    {
     "data": {
      "text/plain": [
       "True"
      ]
     },
     "execution_count": 49,
     "metadata": {},
     "output_type": "execute_result"
    }
   ],
   "source": [
    "bool(1)"
   ]
  },
  {
   "cell_type": "code",
   "execution_count": 51,
   "id": "e71693fa",
   "metadata": {},
   "outputs": [
    {
     "name": "stdout",
     "output_type": "stream",
     "text": [
      "hello\n"
     ]
    }
   ],
   "source": [
    "if -1 :\n",
    "    print(\"hello\")\n"
   ]
  },
  {
   "cell_type": "code",
   "execution_count": 52,
   "id": "f15b6d5a",
   "metadata": {},
   "outputs": [
    {
     "name": "stdout",
     "output_type": "stream",
     "text": [
      "hello\n"
     ]
    }
   ],
   "source": [
    "if [\"\"] :\n",
    "    print(\"hello\")"
   ]
  },
  {
   "cell_type": "code",
   "execution_count": 53,
   "id": "a7624ab8",
   "metadata": {},
   "outputs": [],
   "source": [
    "if [] :\n",
    "    print(\"hello\")"
   ]
  },
  {
   "cell_type": "code",
   "execution_count": 63,
   "id": "e124a167",
   "metadata": {},
   "outputs": [],
   "source": [
    "# malzemeler:\n",
    "\n",
    "minced = True\n",
    "bread = True\n",
    "\n",
    "# green:\n",
    "\n",
    "lettuce = True\n",
    "onion = False\n",
    "\n",
    "grocer = True"
   ]
  },
  {
   "cell_type": "code",
   "execution_count": 64,
   "id": "c5714fda",
   "metadata": {},
   "outputs": [],
   "source": [
    "hamburger = minced and grocer and bread and (lettuce or onion)"
   ]
  },
  {
   "cell_type": "code",
   "execution_count": 65,
   "id": "90c2bf11",
   "metadata": {},
   "outputs": [
    {
     "name": "stdout",
     "output_type": "stream",
     "text": [
      "Bon Appetit!\n"
     ]
    }
   ],
   "source": [
    "if hamburger :\n",
    "    print(\"Bon Appetit!\")"
   ]
  },
  {
   "cell_type": "code",
   "execution_count": null,
   "id": "9677244c",
   "metadata": {},
   "outputs": [],
   "source": []
  }
 ],
 "metadata": {
  "kernelspec": {
   "display_name": "Python 3 (ipykernel)",
   "language": "python",
   "name": "python3"
  },
  "language_info": {
   "codemirror_mode": {
    "name": "ipython",
    "version": 3
   },
   "file_extension": ".py",
   "mimetype": "text/x-python",
   "name": "python",
   "nbconvert_exporter": "python",
   "pygments_lexer": "ipython3",
   "version": "3.9.12"
  }
 },
 "nbformat": 4,
 "nbformat_minor": 5
}
