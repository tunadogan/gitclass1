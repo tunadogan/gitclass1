{
 "cells": [
  {
   "cell_type": "code",
   "execution_count": 14,
   "id": "cea6cc56",
   "metadata": {},
   "outputs": [
    {
     "name": "stdout",
     "output_type": "stream",
     "text": [
      "var dersi python akşam yarın\n"
     ]
    }
   ],
   "source": [
    "string = \"yarın.akşam.python.dersi.var\"\n",
    "new_string = string.rsplit(\".\")\n",
    "new2 = \" \".join(new_string[::-1])\n",
    "print(new2)"
   ]
  },
  {
   "cell_type": "code",
   "execution_count": 38,
   "id": "349e1a93",
   "metadata": {},
   "outputs": [
    {
     "name": "stdout",
     "output_type": "stream",
     "text": [
      "var dersi python akşam yarın\n"
     ]
    }
   ],
   "source": [
    "string = \"yarın.akşam.python.dersi.var\"\n",
    "string_list = string.split(\".\")[::-1]\n",
    "print(string_list[0],string_list[1],string_list[2],string_list[3],string_list[4])"
   ]
  },
  {
   "cell_type": "code",
   "execution_count": 39,
   "id": "a26e22ae",
   "metadata": {},
   "outputs": [
    {
     "name": "stdout",
     "output_type": "stream",
     "text": [
      "Enter an integer to right rotate the given list :5\n",
      "[2, 3, 4, 5, 6, 1]\n"
     ]
    }
   ],
   "source": [
    "liste = [1, 2, 3, 4, 5, 6]\n",
    "n = int(input(\"Enter an integer to right rotate the given list :\"))\n",
    "list1 = liste[:-n]\n",
    "list2 = liste[-n:]\n",
    "print(list2 + list1)"
   ]
  },
  {
   "cell_type": "code",
   "execution_count": 48,
   "id": "b6f90a24",
   "metadata": {},
   "outputs": [
    {
     "ename": "SyntaxError",
     "evalue": "invalid syntax (2492452564.py, line 5)",
     "output_type": "error",
     "traceback": [
      "\u001b[1;36m  Input \u001b[1;32mIn [48]\u001b[1;36m\u001b[0m\n\u001b[1;33m    dic  =  {[ 1 , 2 , 3, 4 ]:  a1,a2,a3,a4}\u001b[0m\n\u001b[1;37m                                     ^\u001b[0m\n\u001b[1;31mSyntaxError\u001b[0m\u001b[1;31m:\u001b[0m invalid syntax\n"
     ]
    }
   ],
   "source": [
    "a1=input(\"en sevdiğiniz 1.yiyeceği giriniz :\")\n",
    "a2=input(\"en sevdiğiniz 2.yiyeceği giriniz :\")\n",
    "a3=input(\"en sevdiğiniz 3.yiyeceği giriniz :\")\n",
    "a4=input(\"en sevdiğiniz 4.yiyeceği giriniz :\")\n",
    "dic  =  {[ 1 , 2 , 3, 4 ]:  a1,a2,a3,a4}"
   ]
  },
  {
   "cell_type": "code",
   "execution_count": 2,
   "id": "1935b72b",
   "metadata": {},
   "outputs": [
    {
     "name": "stdout",
     "output_type": "stream",
     "text": [
      "en sevdiğiniz 1.yiyeceği giriniz :elma\n",
      "en sevdiğiniz 2.yiyeceği giriniz :armut\n",
      "en sevdiğiniz 3.yiyeceği giriniz :ali\n",
      "en sevdiğiniz 4.yiyeceği giriniz :veli\n",
      "{'1': 'elma', '2': 'armut', '3': 'ali', '4': 'veli'}\n",
      "Bu yazdıkların arasından çıkarmak istediğin var mı?\n",
      "çıkarmak istediğiniz yiyeceğin numarasını giriniz:2\n",
      "{'1': 'elma', '3': 'ali', '4': 'veli'}\n"
     ]
    }
   ],
   "source": [
    "thisdict = {\n",
    "  \"1\": input(\"en sevdiğiniz 1.yiyeceği giriniz :\"),\n",
    "  \"2\": input(\"en sevdiğiniz 2.yiyeceği giriniz :\"),\n",
    "  \"3\" : input(\"en sevdiğiniz 3.yiyeceği giriniz :\"),\n",
    "  \"4\" : input(\"en sevdiğiniz 4.yiyeceği giriniz :\"),\n",
    "  \n",
    "}\n",
    "print(thisdict)\n",
    "\n",
    "print(\"Bu yazdıkların arasından çıkarmak istediğin var mı?\")\n",
    "del thisdict [input(\"çıkarmak istediğiniz yiyeceğin numarasını giriniz:\")]\n",
    "print(thisdict)"
   ]
  },
  {
   "cell_type": "code",
   "execution_count": null,
   "id": "9803dbc4",
   "metadata": {},
   "outputs": [],
   "source": []
  },
  {
   "cell_type": "code",
   "execution_count": null,
   "id": "82177579",
   "metadata": {},
   "outputs": [],
   "source": []
  }
 ],
 "metadata": {
  "kernelspec": {
   "display_name": "Python 3 (ipykernel)",
   "language": "python",
   "name": "python3"
  },
  "language_info": {
   "codemirror_mode": {
    "name": "ipython",
    "version": 3
   },
   "file_extension": ".py",
   "mimetype": "text/x-python",
   "name": "python",
   "nbconvert_exporter": "python",
   "pygments_lexer": "ipython3",
   "version": "3.9.12"
  }
 },
 "nbformat": 4,
 "nbformat_minor": 5
}
