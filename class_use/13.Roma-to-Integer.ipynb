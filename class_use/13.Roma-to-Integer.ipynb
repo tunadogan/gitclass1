{
 "cells": [
  {
   "cell_type": "markdown",
   "id": "45e59788",
   "metadata": {},
   "source": [
    "Roman numerals are represented by seven different symbols: I, V, X, L, C, D and M.\n",
    "\n",
    "Symbol       Value\n",
    "I             1\n",
    "V             5\n",
    "X             10\n",
    "L             50\n",
    "C             100\n",
    "D             500\n",
    "M             1000\n",
    "For example, 2 is written as II in Roman numeral, just two ones added together. 12 is written as XII, which is simply X + II. The number 27 is written as XXVII, which is XX + V + II.\n",
    "\n",
    "Roman numerals are usually written largest to smallest from left to right. However, the numeral for four is not IIII. Instead, the number four is written as IV. Because the one is before the five we subtract it making four. The same principle applies to the number nine, which is written as IX. There are six instances where subtraction is used:\n",
    "\n",
    "I can be placed before V (5) and X (10) to make 4 and 9. \n",
    "X can be placed before L (50) and C (100) to make 40 and 90. \n",
    "C can be placed before D (500) and M (1000) to make 400 and 900.\n",
    "Given a roman numeral, convert it to an integer.\n",
    "\n",
    " \n",
    "\n",
    "Example 1:\n",
    "\n",
    "Input: s = \"III\"\n",
    "Output: 3\n",
    "Explanation: III = 3.\n",
    "Example 2:\n",
    "\n",
    "Input: s = \"LVIII\"\n",
    "Output: 58\n",
    "Explanation: L = 50, V= 5, III = 3.\n",
    "Example 3:\n",
    "\n",
    "Input: s = \"MCMXCIV\"\n",
    "Output: 1994\n",
    "Explanation: M = 1000, CM = 900, XC = 90 and IV = 4."
   ]
  },
  {
   "cell_type": "code",
   "execution_count": null,
   "id": "63ec0425",
   "metadata": {},
   "outputs": [],
   "source": [
    "#def romanToInt(s: str) -> int:\n",
    "    # Dictionary of roman numerals\n",
    "    roman_map = {'I': 1, 'V': 5, 'X': 10, 'L': 50, 'C': 100, 'D': 500, 'M': 1000}\n",
    "    # Length of the given string\n",
    "    n = len(s)\n",
    "    # This variable will store result\n",
    "    num = roman_map[s[n - 1]]\n",
    "    # Loop for each character from right to left\n",
    "    for i in range(n - 2, -1, -1):\n",
    "        # Check if the character at right of current character is bigger or smaller\n",
    "        if roman_map[s[i]] >= roman_map[s[i + 1]]:\n",
    "            num += roman_map[s[i]]\n",
    "        else:\n",
    "            num -= roman_map[s[i]]\n",
    "    return num"
   ]
  },
  {
   "cell_type": "code",
   "execution_count": 1,
   "id": "e7a694a8",
   "metadata": {},
   "outputs": [],
   "source": [
    "#def romantToInt(s: str) -> int:\n",
    "    \n",
    "    roman_map = {'I': 1, 'V': 5, 'X': 10, 'L': 50, 'C': 100, 'D': 500, 'M': 1000}\n",
    "   \n",
    "    n = len(s)\n",
    "  \n",
    "    num = roman_map[s[n - 1]]\n",
    "    \n",
    "    for i in range(n - 2, -1, -1):\n",
    "        \n",
    "        if roman_map[s[i]] >= roman_map[s[i + 1]]:\n",
    "            num += roman_map[s[i]]\n",
    "        else:\n",
    "            num -= roman_map[s[i]]\n",
    "    return num"
   ]
  },
  {
   "cell_type": "code",
   "execution_count": 3,
   "id": "6f20062b",
   "metadata": {},
   "outputs": [
    {
     "data": {
      "text/plain": [
       "7"
      ]
     },
     "execution_count": 3,
     "metadata": {},
     "output_type": "execute_result"
    }
   ],
   "source": [
    "romantToInt"
   ]
  },
  {
   "cell_type": "code",
   "execution_count": 4,
   "id": "3022565e",
   "metadata": {},
   "outputs": [
    {
     "data": {
      "text/plain": [
       "2022"
      ]
     },
     "execution_count": 4,
     "metadata": {},
     "output_type": "execute_result"
    }
   ],
   "source": [
    "romantToInt(\"MMXXII\")"
   ]
  },
  {
   "cell_type": "code",
   "execution_count": 5,
   "id": "6a03f799",
   "metadata": {},
   "outputs": [],
   "source": [
    "roman = {'I':1,'V':5,'X':10,'L':50,'C':100,'D':500,'M':1000}\n",
    "class Solution:\n",
    "    def romanToInt(self, S: str) -> int:\n",
    "        summ= 0\n",
    "        for i in range(len(S)-1,-1,-1):\n",
    "            num = roman[S[i]]\n",
    "            if 3*num < summ: \n",
    "                summ = summ-num\n",
    "            else: \n",
    "                summ = summ+num\n",
    "        return summ"
   ]
  },
  {
   "cell_type": "code",
   "execution_count": 6,
   "id": "e9ca548f",
   "metadata": {},
   "outputs": [
    {
     "data": {
      "text/plain": [
       "2022"
      ]
     },
     "execution_count": 6,
     "metadata": {},
     "output_type": "execute_result"
    }
   ],
   "source": [
    "romantToInt(\"MMXXII\")"
   ]
  },
  {
   "cell_type": "code",
   "execution_count": null,
   "id": "145e3f18",
   "metadata": {},
   "outputs": [],
   "source": []
  }
 ],
 "metadata": {
  "kernelspec": {
   "display_name": "Python 3 (ipykernel)",
   "language": "python",
   "name": "python3"
  },
  "language_info": {
   "codemirror_mode": {
    "name": "ipython",
    "version": 3
   },
   "file_extension": ".py",
   "mimetype": "text/x-python",
   "name": "python",
   "nbconvert_exporter": "python",
   "pygments_lexer": "ipython3",
   "version": "3.9.12"
  }
 },
 "nbformat": 4,
 "nbformat_minor": 5
}
