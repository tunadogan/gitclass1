{
 "cells": [
  {
   "cell_type": "markdown",
   "id": "5e04af94",
   "metadata": {},
   "source": [
    "# Task 1: Girilen 3 harfli bir kelimenin harflerinin içinde ünlü harf olup olmadığını ve eğer ünlü harf var ise bunun kaçıncı harf olduğunu yazdırınız.\n",
    "\n"
   ]
  },
  {
   "cell_type": "code",
   "execution_count": 9,
   "id": "8d5cd7b6",
   "metadata": {},
   "outputs": [
    {
     "name": "stdout",
     "output_type": "stream",
     "text": [
      "3\n"
     ]
    }
   ],
   "source": [
    "#Python: Bir Cümle İçerisinde Geçen Belli Bir Karakter Veya Kelimenin Cümledeki Yerini / Kaçıncı Karakter Olduğunu Tespit Etmek. Eğer İfadeyi Bulamazsa Hata Vermesini Engellemek\n",
    "cümle=\"tunahan\"\n",
    "yer=cümle.find(\"a\")#FIND fonksiyonu index fonksiyonunda olduğu gibi aranan ifadenin yerini bulur. Eğer bulamazsa index fonksiyonunun aksine hata vermek yerine -1 sonucunu verir.\n",
    "print(yer)\n",
    "\n",
    "#Eğer aranan ifade yoksa \"find\" fonksiyonu -1 sonucunu verir. Varsa bu durumda yerini verir. Aynı şey rfind için de geçerlidir."
   ]
  },
  {
   "cell_type": "code",
   "execution_count": 17,
   "id": "64548337",
   "metadata": {},
   "outputs": [
    {
     "name": "stdout",
     "output_type": "stream",
     "text": [
      "Bir yazı giriniz = tunahan\n",
      "tunahan\n",
      "{'a': 0, 'e': 0, 'ı': 0, 'i': 0, 'o': 0, 'ö': 0, 'u': 0, 'ü': 0}\n"
     ]
    },
    {
     "ename": "TypeError",
     "evalue": "must be str, not dict",
     "output_type": "error",
     "traceback": [
      "\u001b[1;31m---------------------------------------------------------------------------\u001b[0m",
      "\u001b[1;31mTypeError\u001b[0m                                 Traceback (most recent call last)",
      "Input \u001b[1;32mIn [17]\u001b[0m, in \u001b[0;36m<cell line: 14>\u001b[1;34m()\u001b[0m\n\u001b[0;32m     15\u001b[0m     \u001b[38;5;28;01mif\u001b[39;00m harf \u001b[38;5;129;01min\u001b[39;00m sayi:\n\u001b[0;32m     16\u001b[0m         sayi[harf] \u001b[38;5;241m=\u001b[39m sayi[harf] \u001b[38;5;241m+\u001b[39m \u001b[38;5;241m1\u001b[39m\n\u001b[1;32m---> 17\u001b[0m         yer\u001b[38;5;241m=\u001b[39m\u001b[43myazi\u001b[49m\u001b[38;5;241;43m.\u001b[39;49m\u001b[43mfind\u001b[49m\u001b[43m \u001b[49m\u001b[43m(\u001b[49m\u001b[43msayi\u001b[49m\u001b[43m)\u001b[49m \n\u001b[0;32m     18\u001b[0m \u001b[38;5;28mprint\u001b[39m(yer)\n\u001b[0;32m     19\u001b[0m \u001b[38;5;66;03m# Son olarak ekran çıktımızı yani toplam sesli harf sayısını teker teker ekrana yazdırıyoruz.\u001b[39;00m\n",
      "\u001b[1;31mTypeError\u001b[0m: must be str, not dict"
     ]
    }
   ],
   "source": [
    "# Sesli harflerin string değerlerini giriyoruz ki kontrolü bu şekilde yapacak.\n",
    "sesliharfler = 'aeıioöuü'\n",
    " \n",
    "# Burada dışarıdan bir yazı giriyoruz.\n",
    "yazi = input(\"Bir yazı giriniz = \")\n",
    " \n",
    "# Burada yazıyı karşılaştırıyoruz.\n",
    "yazi = yazi.casefold()\n",
    "print(yazi)\n",
    "# Burada her sesli harf için 0 değeri atıyoruz.Ardından sesli harf olduğu kadar +1 yapacağız.\n",
    "sayi = {}.fromkeys(sesliharfler,0)\n",
    "print(sayi)\n",
    "# Sesli harfleri saydırıyoruz.\n",
    "for harf in yazi:\n",
    "    if harf in sayi:\n",
    "        sayi[harf] = sayi[harf] + 1\n",
    "        yer=yazi.find (sayi) \n",
    "print(yer)\n",
    "# Son olarak ekran çıktımızı yani toplam sesli harf sayısını teker teker ekrana yazdırıyoruz.\n",
    "print(sayi)"
   ]
  },
  {
   "cell_type": "code",
   "execution_count": 29,
   "id": "00df4ebe",
   "metadata": {},
   "outputs": [
    {
     "name": "stdout",
     "output_type": "stream",
     "text": [
      "Bir yazı giriniz = tunahan\n",
      "2\n",
      "2\n",
      "2\n",
      "2\n",
      "2\n",
      "2\n",
      "2\n",
      "2\n",
      "{'a': 2, 'e': 0, 'ı': 0, 'i': 0, 'o': 0, 'ö': 0, 'u': 1, 'ü': 0}\n"
     ]
    }
   ],
   "source": [
    "# Sesli harflerin string değerlerini giriyoruz ki kontrolü bu şekilde yapacak.\n",
    "sesliharfler = 'aeıioöuü'\n",
    " \n",
    "# Burada dışarıdan bir yazı giriyoruz.\n",
    "yazi = input(\"Bir yazı giriniz = \")\n",
    " \n",
    "# Burada yazıyı karşılaştırıyoruz.\n",
    "yazi = yazi.casefold()\n",
    " \n",
    "# Burada her sesli harf için 0 değeri atıyoruz.Ardından sesli harf olduğu kadar +1 yapacağız.\n",
    "sayi = {}.fromkeys(sesliharfler,0)\n",
    " \n",
    "# Sesli harfleri saydırıyoruz.\n",
    "for harf in yazi:\n",
    "    if harf in sayi:\n",
    "        sayi[harf] = sayi[harf] + 1\n",
    "for i in sayi:\n",
    "    print(yazi.index(harf)) \n",
    "# Son olarak ekran çıktımızı yani toplam sesli harf sayısını teker teker ekrana yazdırıyoruz.\n",
    "print(sayi)"
   ]
  },
  {
   "cell_type": "code",
   "execution_count": null,
   "id": "aa55b1ac",
   "metadata": {},
   "outputs": [],
   "source": [
    "for i in sayi\n",
    "    print(yazi.count(sayi[i]))"
   ]
  },
  {
   "cell_type": "code",
   "execution_count": null,
   "id": "4ffffe86",
   "metadata": {},
   "outputs": [],
   "source": [
    "print(\"'a' harfi sayısı: \",cümle.count(\"a\"))"
   ]
  }
 ],
 "metadata": {
  "kernelspec": {
   "display_name": "Python 3 (ipykernel)",
   "language": "python",
   "name": "python3"
  },
  "language_info": {
   "codemirror_mode": {
    "name": "ipython",
    "version": 3
   },
   "file_extension": ".py",
   "mimetype": "text/x-python",
   "name": "python",
   "nbconvert_exporter": "python",
   "pygments_lexer": "ipython3",
   "version": "3.9.12"
  }
 },
 "nbformat": 4,
 "nbformat_minor": 5
}
