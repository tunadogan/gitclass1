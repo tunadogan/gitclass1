{
  "nbformat": 4,
  "nbformat_minor": 0,
  "metadata": {
    "colab": {
      "provenance": [],
      "collapsed_sections": [],
      "authorship_tag": "ABX9TyPuBytEnySqkAcXn4t5ANV6",
      "include_colab_link": true
    },
    "kernelspec": {
      "name": "python3",
      "display_name": "Python 3"
    },
    "language_info": {
      "name": "python"
    }
  },
  "cells": [
    {
      "cell_type": "markdown",
      "metadata": {
        "id": "view-in-github",
        "colab_type": "text"
      },
      "source": [
        "<a href=\"https://colab.research.google.com/github/tunahanozdogan/gitclass1/blob/main/ucuncugun.ipynb\" target=\"_parent\"><img src=\"https://colab.research.google.com/assets/colab-badge.svg\" alt=\"Open In Colab\"/></a>"
      ]
    },
    {
      "cell_type": "code",
      "execution_count": null,
      "metadata": {
        "colab": {
          "base_uri": "https://localhost:8080/"
        },
        "id": "luALJF6GqbZb",
        "outputId": "de3042b8-c1b1-41c1-a889-135ddf12273a"
      },
      "outputs": [
        {
          "output_type": "stream",
          "name": "stdout",
          "text": [
            "I have learned strings\n"
          ]
        }
      ],
      "source": [
        "text1 = \"I have learned strings\" # surrounded with double quotes\n",
        "print(text1)"
      ]
    },
    {
      "cell_type": "code",
      "source": [
        "e_mail = 'joseph@clarusway.com' # surrounded with single quotes\n",
        "print(e_mail)\n"
      ],
      "metadata": {
        "colab": {
          "base_uri": "https://localhost:8080/"
        },
        "id": "xAIlY7SdtOYT",
        "outputId": "322371b4-64a3-4e22-ae64-b936f1a95e25"
      },
      "execution_count": null,
      "outputs": [
        {
          "output_type": "stream",
          "name": "stdout",
          "text": [
            "joseph@clarusway.com\n"
          ]
        }
      ]
    },
    {
      "cell_type": "code",
      "source": [
        "isim = input('İsminizi Girin : ')\n",
        "print(\"Merhaba \"+isim)\n"
      ],
      "metadata": {
        "colab": {
          "base_uri": "https://localhost:8080/"
        },
        "id": "BFb2AkEzutY7",
        "outputId": "29ed1aa2-7220-4a12-d8e7-05ddfc1ce70f"
      },
      "execution_count": null,
      "outputs": [
        {
          "output_type": "stream",
          "name": "stdout",
          "text": [
            "İsminizi Girin : sfdfs\n",
            "Merhaba sfdfs\n"
          ]
        }
      ]
    },
    {
      "cell_type": "code",
      "source": [
        "example1 = 'sometimes what you say is less important than how you say it'\n",
        "print(type(example1))\n",
        "example2 = '71'\n",
        "print(type(example2))\n",
        "example3 = 71\n",
        "print(type(example3))\n",
        "example4 = 71.0\n",
        "print(type(example4))\n",
        "example5 = 3.14j\n",
        "print(type(example5))\n",
        "example6 = True\n",
        "print(type(example6))\n"
      ],
      "metadata": {
        "colab": {
          "base_uri": "https://localhost:8080/"
        },
        "id": "LAdL3jtSwz2Z",
        "outputId": "252d61ba-0dfa-4662-dfa3-4e42e3cabefd"
      },
      "execution_count": null,
      "outputs": [
        {
          "output_type": "stream",
          "name": "stdout",
          "text": [
            "<class 'str'>\n",
            "<class 'str'>\n",
            "<class 'int'>\n",
            "<class 'float'>\n",
            "<class 'complex'>\n",
            "<class 'bool'>\n"
          ]
        }
      ]
    },
    {
      "cell_type": "code",
      "source": [
        "f = 3.14  # the type is float\n",
        "print(type(f)) \n",
        "s = str(f)  # converting float to string\n",
        "print(type(s)) \n"
      ],
      "metadata": {
        "colab": {
          "base_uri": "https://localhost:8080/"
        },
        "id": "Kltw91o-xVju",
        "outputId": "28ace8a7-ef2c-47b1-c153-7c5dc1100641"
      },
      "execution_count": null,
      "outputs": [
        {
          "output_type": "stream",
          "name": "stdout",
          "text": [
            "<class 'float'>\n",
            "<class 'str'>\n"
          ]
        }
      ]
    },
    {
      "cell_type": "code",
      "source": [
        "x = 39\n",
        "v = \"11\"\n",
        "y = \"2.5\"\n",
        "z = \"I am at_\"\n",
        "print(type(x))\n",
        "print(type(v))\n",
        "print(type(y))\n",
        "print(type(x))\n",
        "print(x-int(v))\n",
        "print(x-float(y))\n",
        "print(z+str(x))\n",
        "print('v', type(v))\n",
        "print('y', type(y))"
      ],
      "metadata": {
        "colab": {
          "base_uri": "https://localhost:8080/"
        },
        "id": "8v-u5GlnxyvW",
        "outputId": "0ea16233-ccdb-427f-ead0-d1e96428dab4"
      },
      "execution_count": null,
      "outputs": [
        {
          "output_type": "stream",
          "name": "stdout",
          "text": [
            "<class 'int'>\n",
            "<class 'str'>\n",
            "<class 'str'>\n",
            "<class 'int'>\n",
            "28\n",
            "36.5\n",
            "I am at_39\n",
            "v <class 'str'>\n",
            "y <class 'str'>\n"
          ]
        }
      ]
    },
    {
      "cell_type": "code",
      "source": [
        "a=10\n",
        "print(type (str(a)))"
      ],
      "metadata": {
        "colab": {
          "base_uri": "https://localhost:8080/"
        },
        "id": "Fq9s5Zkh0P66",
        "outputId": "cdcbdf50-1e7a-45be-cf66-e5543a5614d8"
      },
      "execution_count": null,
      "outputs": [
        {
          "output_type": "stream",
          "name": "stdout",
          "text": [
            "<class 'str'>\n"
          ]
        }
      ]
    },
    {
      "cell_type": "code",
      "source": [
        "a = 36.5\n",
        "b = '30'\n",
        "c = '3.5'\n",
        "d = ' F is enough for room temperature.'\n",
        "\n",
        "print(str(a+int(b)+float(c))+d)"
      ],
      "metadata": {
        "colab": {
          "base_uri": "https://localhost:8080/"
        },
        "id": "D0ymS50q0xF_",
        "outputId": "457d9adb-be97-42b1-aa49-1e75e079cba4"
      },
      "execution_count": null,
      "outputs": [
        {
          "output_type": "stream",
          "name": "stdout",
          "text": [
            "70.0 F is enough for room temperature.\n"
          ]
        }
      ]
    },
    {
      "cell_type": "code",
      "source": [
        "color = 'red'  # str type variable\n",
        "season = 'summer'\n",
        "price = 250  # int type variable\n",
        "pi = 3.14  # float type variable\n",
        "color = 'blue'  # You can always assign a new value to a created variable\n",
        "price = 100  # value of 'price' is changed\n",
        "season = 'winter'  \n",
        "\n",
        "print(color, price, season,pi)\n"
      ],
      "metadata": {
        "colab": {
          "base_uri": "https://localhost:8080/"
        },
        "id": "eAM-4-Pu1VAz",
        "outputId": "ee79ad7f-16f0-4420-d3d6-4d73c2755f72"
      },
      "execution_count": null,
      "outputs": [
        {
          "output_type": "stream",
          "name": "stdout",
          "text": [
            "blue 100 winter 3.14\n"
          ]
        }
      ]
    },
    {
      "cell_type": "code",
      "source": [
        "n='''2020'''\n",
        "print(n)\n"
      ],
      "metadata": {
        "colab": {
          "base_uri": "https://localhost:8080/"
        },
        "id": "Qx8s9eBvHPAw",
        "outputId": "2c0ee947-d658-4433-d501-b182dc29eeaa"
      },
      "execution_count": null,
      "outputs": [
        {
          "output_type": "stream",
          "name": "stdout",
          "text": [
            "2020\n"
          ]
        }
      ]
    },
    {
      "cell_type": "code",
      "source": [
        "print((\"'hello'\"),(3.14) , ('74') ,sep='\\b')"
      ],
      "metadata": {
        "id": "boIUho40MYZ5"
      },
      "execution_count": null,
      "outputs": []
    },
    {
      "cell_type": "code",
      "source": [
        "print('C:\\\\november\\number_expenditure.txt')\n"
      ],
      "metadata": {
        "colab": {
          "base_uri": "https://localhost:8080/"
        },
        "id": "BxoIURnZN-My",
        "outputId": "3e2cdad8-2402-4c77-d191-e3b5c4ebcece"
      },
      "execution_count": null,
      "outputs": [
        {
          "output_type": "stream",
          "name": "stdout",
          "text": [
            "C:\\november\n",
            "umber_expenditure.txt\n"
          ]
        }
      ]
    },
    {
      "cell_type": "code",
      "source": [
        "text1='it'\n",
        "text2='easy'\n",
        "print(text1, '\\'s very ',text2)"
      ],
      "metadata": {
        "colab": {
          "base_uri": "https://localhost:8080/"
        },
        "id": "NCpDDTmgOrB_",
        "outputId": "8a02e297-d1da-40e0-e521-36d477b2fae8"
      },
      "execution_count": null,
      "outputs": [
        {
          "output_type": "stream",
          "name": "stdout",
          "text": [
            "it 's very  easy\n"
          ]
        }
      ]
    },
    {
      "cell_type": "code",
      "source": [
        "print(2 and 1)"
      ],
      "metadata": {
        "colab": {
          "base_uri": "https://localhost:8080/"
        },
        "id": "7XK6pQdhRy6R",
        "outputId": "f1f0a9fe-e8da-4aae-a62b-2cab2e0ae341"
      },
      "execution_count": null,
      "outputs": [
        {
          "output_type": "stream",
          "name": "stdout",
          "text": [
            "1\n"
          ]
        }
      ]
    },
    {
      "cell_type": "code",
      "source": [
        "fruit = 'Orange'\n",
        "\n",
        "print('Word                   : ' , fruit[:4])\n",
        "print('First letter           : ' , fruit[2:5:1])\n",
        "print('Second letter          : ' , fruit[1])\n",
        "print(\"3rd to 5th letters     : \" , fruit[2:5])\n",
        "print(\"Letter all after 3rd   : \" , fruit[2:])"
      ],
      "metadata": {
        "colab": {
          "base_uri": "https://localhost:8080/"
        },
        "id": "YYljnhJWYby9",
        "outputId": "32a8b766-ab77-43a9-a487-39765e8fabbc"
      },
      "execution_count": null,
      "outputs": [
        {
          "output_type": "stream",
          "name": "stdout",
          "text": [
            "Word                   :  Oran\n",
            "First letter           :  ang\n",
            "Second letter          :  r\n",
            "3rd to 5th letters     :  ang\n",
            "Letter all after 3rd   :  ange\n"
          ]
        }
      ]
    },
    {
      "cell_type": "code",
      "source": [
        "city = '123456789'\n",
        "print(city[0])  # starts from index 1 to the end\n",
        "print(city[:6])  # starts from zero to 5th index\n",
        "print(city[0::3])  # starts from zero to end by 2 step\n",
        "print(city[1::2])  # starts from index 1 to the end by 2 step\n",
        "print(city[-3:])  # starts from index -3 to the end\n",
        "print(city[::-1])  # negative step starts from the end to zero"
      ],
      "metadata": {
        "colab": {
          "base_uri": "https://localhost:8080/"
        },
        "id": "Ub3IhMuDY9Ge",
        "outputId": "a1dc30fb-ab2e-47f3-804f-dc04750b681d"
      },
      "execution_count": null,
      "outputs": [
        {
          "output_type": "stream",
          "name": "stdout",
          "text": [
            "1\n",
            "123456\n",
            "147\n",
            "2468\n",
            "789\n",
            "987654321\n"
          ]
        }
      ]
    },
    {
      "cell_type": "code",
      "source": [
        "print(\"{0} {1}\".format('first', 'second'))"
      ],
      "metadata": {
        "colab": {
          "base_uri": "https://localhost:8080/"
        },
        "id": "U1RQWoW6dL5C",
        "outputId": "e1b30fef-bf06-45f5-b4ac-f1b62f876c04"
      },
      "execution_count": null,
      "outputs": [
        {
          "output_type": "stream",
          "name": "stdout",
          "text": [
            "first second\n"
          ]
        }
      ]
    },
    {
      "cell_type": "code",
      "source": [
        "phrase = \"myemailaddress@clarusway.com\"\n",
        "\n",
        "print(len(phrase))\n",
        "print(phrase.startswith(\"@\", 14))\n",
        "print(phrase.endswith(\".\", 15, 24))"
      ],
      "metadata": {
        "colab": {
          "base_uri": "https://localhost:8080/"
        },
        "id": "i7UvHRH0fFvP",
        "outputId": "2bc9a7b2-76b0-4404-f6d5-0051ec11ae83"
      },
      "execution_count": null,
      "outputs": [
        {
          "output_type": "stream",
          "name": "stdout",
          "text": [
            "28\n",
            "True\n",
            "False\n"
          ]
        }
      ]
    },
    {
      "cell_type": "code",
      "source": [
        "x=\"\"\n",
        "print(x)"
      ],
      "metadata": {
        "colab": {
          "base_uri": "https://localhost:8080/"
        },
        "id": "jMk3LTuMgqOY",
        "outputId": "33da16d5-b058-4c4e-bab0-c52fe4f171dd"
      },
      "execution_count": null,
      "outputs": [
        {
          "output_type": "stream",
          "name": "stdout",
          "text": [
            "\n"
          ]
        }
      ]
    },
    {
      "cell_type": "code",
      "source": [
        "if_or_else=\"hksdjhf\"\n",
        "print(if_or_else)"
      ],
      "metadata": {
        "colab": {
          "base_uri": "https://localhost:8080/"
        },
        "id": "kvHlZb8KiXLs",
        "outputId": "80a62054-35f2-4d35-9c91-34fd2cc59ea7"
      },
      "execution_count": null,
      "outputs": [
        {
          "output_type": "stream",
          "name": "stdout",
          "text": [
            "hksdjhf\n"
          ]
        }
      ]
    },
    {
      "cell_type": "code",
      "source": [
        "a=b=c=ali\n",
        "print(a)"
      ],
      "metadata": {
        "id": "AFxD0sa8jVH7"
      },
      "execution_count": null,
      "outputs": []
    },
    {
      "cell_type": "code",
      "source": [
        "x=15\n",
        "y=33\n",
        "z=x\n",
        "x=y\n",
        "print(x)\n",
        "print(y)\n",
        "print(z)"
      ],
      "metadata": {
        "colab": {
          "base_uri": "https://localhost:8080/"
        },
        "id": "krAlIKeMm6W9",
        "outputId": "fb03fd87-f42e-46ac-a70d-1ca8d5ef2234"
      },
      "execution_count": null,
      "outputs": [
        {
          "output_type": "stream",
          "name": "stdout",
          "text": [
            "33\n",
            "33\n",
            "15\n"
          ]
        }
      ]
    },
    {
      "cell_type": "code",
      "source": [
        "a,b,c=5,3.2,\"h\"\n",
        "print(a)\n",
        "print(b)\n",
        "print(c)"
      ],
      "metadata": {
        "colab": {
          "base_uri": "https://localhost:8080/"
        },
        "id": "vGxM08HvuElC",
        "outputId": "96ed2090-a5ad-4bd2-f257-3fb1b9c11bf1"
      },
      "execution_count": null,
      "outputs": [
        {
          "output_type": "stream",
          "name": "stdout",
          "text": [
            "5\n",
            "3.2\n",
            "h\n"
          ]
        }
      ]
    },
    {
      "cell_type": "code",
      "source": [
        "float(3)"
      ],
      "metadata": {
        "colab": {
          "base_uri": "https://localhost:8080/"
        },
        "id": "lf_R0ycezZYy",
        "outputId": "22350232-f6fc-43df-8232-538b718ea038"
      },
      "execution_count": null,
      "outputs": [
        {
          "output_type": "execute_result",
          "data": {
            "text/plain": [
              "3.0"
            ]
          },
          "metadata": {},
          "execution_count": 97
        }
      ]
    },
    {
      "cell_type": "code",
      "source": [
        "int(\"10\")"
      ],
      "metadata": {
        "colab": {
          "base_uri": "https://localhost:8080/"
        },
        "id": "_nS8lnAL8xqJ",
        "outputId": "d1dea5be-f0d2-4ad1-9a05-7dcb98f4378c"
      },
      "execution_count": null,
      "outputs": [
        {
          "output_type": "execute_result",
          "data": {
            "text/plain": [
              "10"
            ]
          },
          "metadata": {},
          "execution_count": 98
        }
      ]
    },
    {
      "cell_type": "code",
      "source": [
        "p1=\"a\"\n",
        "p2=10"
      ],
      "metadata": {
        "id": "ptDqRbQv83PB"
      },
      "execution_count": null,
      "outputs": []
    },
    {
      "cell_type": "code",
      "source": [
        "print(\"first line\")\n",
        "# print(\"second line\")\n",
        "print(\"third line\")  # print(\"forth line\")"
      ],
      "metadata": {
        "colab": {
          "base_uri": "https://localhost:8080/"
        },
        "id": "z71QcqncCgs0",
        "outputId": "9cf3ddbe-b676-4859-f2c3-fe9fe577738c"
      },
      "execution_count": null,
      "outputs": [
        {
          "output_type": "stream",
          "name": "stdout",
          "text": [
            "first line\n",
            "third line\n"
          ]
        }
      ]
    },
    {
      "cell_type": "code",
      "source": [
        "banana_price=2\n",
        "total_amount_bought=5\n",
        "print(banana_price*total_amount_bought)"
      ],
      "metadata": {
        "colab": {
          "base_uri": "https://localhost:8080/"
        },
        "id": "DxgwTpasETYA",
        "outputId": "36506195-d112-462e-9f8e-dc44ddb02bc0"
      },
      "execution_count": null,
      "outputs": [
        {
          "output_type": "stream",
          "name": "stdout",
          "text": [
            "10\n"
          ]
        }
      ]
    },
    {
      "cell_type": "code",
      "source": [
        "path = 'clarusway'\n",
        "print(path[3:5])\n",
        "print(path[4:])"
      ],
      "metadata": {
        "colab": {
          "base_uri": "https://localhost:8080/"
        },
        "id": "V5P0pRz6GJbV",
        "outputId": "330c9c26-cefb-470d-d01e-8371dc6b808b"
      },
      "execution_count": null,
      "outputs": [
        {
          "output_type": "stream",
          "name": "stdout",
          "text": [
            "ru\n",
            "usway\n"
          ]
        }
      ]
    },
    {
      "cell_type": "code",
      "source": [
        "sentence = 'With hard work and dedication, anything is possible.'\n",
        "print(sentence.replace(\"i\", \"1\"))\n",
        "print(sentence.lower())\n",
        "print(sentence.swapcase())\n",
        "print(sentence.title())\n",
        "print(sentence.upper())"
      ],
      "metadata": {
        "colab": {
          "base_uri": "https://localhost:8080/"
        },
        "id": "D3wI93AiG0Ba",
        "outputId": "21444342-f2db-485e-a1c6-31d94501e14c"
      },
      "execution_count": null,
      "outputs": [
        {
          "output_type": "stream",
          "name": "stdout",
          "text": [
            "W1th hard work and ded1cat1on, anyth1ng 1s poss1ble.\n",
            "with hard work and dedication, anything is possible.\n",
            "wITH HARD WORK AND DEDICATION, ANYTHING IS POSSIBLE.\n",
            "With Hard Work And Dedication, Anything Is Possible.\n",
            "WITH HARD WORK AND DEDICATION, ANYTHING IS POSSIBLE.\n"
          ]
        }
      ]
    },
    {
      "cell_type": "code",
      "source": [
        "print('www', 'clarusway', \"com\", sep='.', end=' ')\n",
        "print('will', end=' ')\n",
        "print('open', end=' ')\n",
        "print('your', end=' ')\n",
        "print('path', end='.')"
      ],
      "metadata": {
        "colab": {
          "base_uri": "https://localhost:8080/"
        },
        "id": "sC8MGcboHn5v",
        "outputId": "52d8ebd0-15e6-4d48-e1e5-c6d0d31ec462"
      },
      "execution_count": null,
      "outputs": [
        {
          "output_type": "stream",
          "name": "stdout",
          "text": [
            "www.clarusway.com will open your path."
          ]
        }
      ]
    },
    {
      "cell_type": "code",
      "source": [
        "print(\"clarusway\" + str(2020))"
      ],
      "metadata": {
        "colab": {
          "base_uri": "https://localhost:8080/"
        },
        "id": "ifs-e57rH2Jf",
        "outputId": "5c837b54-63ec-4576-cc4c-d0c69a778ee0"
      },
      "execution_count": null,
      "outputs": [
        {
          "output_type": "stream",
          "name": "stdout",
          "text": [
            "clarusway2020\n"
          ]
        }
      ]
    },
    {
      "cell_type": "code",
      "source": [
        "number_int=123\n",
        "number_str=\"456\"\n",
        "print(\"Data type of number_int:    \", type(number_int))\n",
        "print(\"Data type of number_str before type Casting:\", type(number_str))\n",
        "number_str=int(number_str)\n",
        "print(\"Data type of number_str after type Casting:\", type(number_str))\n",
        "number_sum=number_int+number_str\n",
        "print(\"Sum of number-int and number_str:\",number_sum)\n",
        "print(\"Data type of the sum:\",type(number_sum))"
      ],
      "metadata": {
        "colab": {
          "base_uri": "https://localhost:8080/"
        },
        "id": "Mv6R5478JHEs",
        "outputId": "0c12c2ac-69f2-4fe7-80ec-7ac9a6f360df"
      },
      "execution_count": null,
      "outputs": [
        {
          "output_type": "stream",
          "name": "stdout",
          "text": [
            "Data type of number_int:     <class 'int'>\n",
            "Data type of number_str before type Casting: <class 'str'>\n",
            "Data type of number_str after type Casting: <class 'int'>\n",
            "Sum of number-int and number_str: 579\n",
            "Data type of the sum: <class 'int'>\n"
          ]
        }
      ]
    },
    {
      "cell_type": "code",
      "source": [
        "number_int=123\n",
        "number_str=\"1,23\n",
        "print(\"Data type of number_int:\", type(number_int))\n",
        "print(\"Data type of number_str:\", type(number_str))\n",
        "print(number_int + number_str)\n"
      ],
      "metadata": {
        "id": "Mac89xvoLGLP"
      },
      "execution_count": null,
      "outputs": []
    },
    {
      "cell_type": "code",
      "source": [
        "number_int=123\n",
        "number_flt=1.23\n",
        "number_new=number_int + number_flt\n",
        "print(\"Datatype of number_int:\", type(number_int))\n",
        "print(\"Datatype of number_flt:\", type(number_flt))\n",
        "print(\"Value of number_new:\",number_new)\n",
        "print(\"Datatype of number_new:\",type(number_new))"
      ],
      "metadata": {
        "colab": {
          "base_uri": "https://localhost:8080/"
        },
        "id": "681jdSlmOflA",
        "outputId": "03a6ca17-a949-4751-8831-2c826eeb43c7"
      },
      "execution_count": null,
      "outputs": [
        {
          "output_type": "stream",
          "name": "stdout",
          "text": [
            "Datatype of number_int: <class 'int'>\n",
            "Datatype of number_flt: <class 'float'>\n",
            "Value of number_new: 124.23\n",
            "Datatype of number_new: <class 'float'>\n"
          ]
        }
      ]
    }
  ]
}