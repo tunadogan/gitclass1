{
 "cells": [
  {
   "cell_type": "code",
   "execution_count": 138,
   "id": "76a10a5c",
   "metadata": {},
   "outputs": [
    {
     "name": "stdout",
     "output_type": "stream",
     "text": [
      "please enter a word : asdasdasd\n",
      "{'s', 'd', 'a'}\n",
      "{'c', ',', 'v', 'f', 'r', 's', 'd', 'b', 'q', 'w', 't', 'a', 'g', 'e', 'z', 'x'}\n",
      "{'l', ',', 'o', 'i', 'y', 'j', 'n', 'm', 'u', 'h', 'p', 'k'}\n",
      "{'l', 'c', 'o', 'v', 'j', 'n', 's', 'u', 'h', 'g', 'e', 'x', ',', 'i', 'f', 'y', 'r', 'm', 'd', 'b', 'q', 'w', 't', 'a', 'p', 'k', 'z'}\n",
      "you entered False\n"
     ]
    }
   ],
   "source": [
    "#Left: q, w, e, r, t, a, s, d, f, g, z, x, c, v, b\n",
    "#Right: y, u, i, o, p, h, j, k, l, n, m\n",
    "\n",
    "word = set(input(\"please enter a word : \").replace(\" \",\"\"))\n",
    "#word_list=list(word)\n",
    "#print(word_list)\n",
    "#word_set=set(word_list)\n",
    "print(word)\n",
    "left= set(\"q,w,e,r,t,a,s,d,f,g,z,x,c,v,b\")\n",
    "right=set(\"y,u,i,o,p,h,j,k,l,n,m\")\n",
    "keyboard=left.union(right)\n",
    "print(left)\n",
    "print(right)\n",
    "print(keyboard)\n",
    "print(f'you entered { (word <  keyboard) and (word <  left) and (word <  right) }')\n"
   ]
  },
  {
   "cell_type": "code",
   "execution_count": 129,
   "id": "137d042c",
   "metadata": {},
   "outputs": [
    {
     "name": "stdout",
     "output_type": "stream",
     "text": [
      "True\n"
     ]
    }
   ],
   "source": [
    "fruits = {\"banana\", \"grape\", \"cherry\"}\n",
    "fru={\"banana\",\"grape\"}\n",
    "a= {\"asd\"}\n",
    "print(\"grape\" in fruits) # True"
   ]
  },
  {
   "cell_type": "code",
   "execution_count": 73,
   "id": "56414ca6",
   "metadata": {},
   "outputs": [
    {
     "name": "stdout",
     "output_type": "stream",
     "text": [
      "<class 'list'>\n"
     ]
    }
   ],
   "source": [
    "print(type(fru))"
   ]
  },
  {
   "cell_type": "code",
   "execution_count": null,
   "id": "266f6f61",
   "metadata": {},
   "outputs": [],
   "source": []
  }
 ],
 "metadata": {
  "kernelspec": {
   "display_name": "Python 3 (ipykernel)",
   "language": "python",
   "name": "python3"
  },
  "language_info": {
   "codemirror_mode": {
    "name": "ipython",
    "version": 3
   },
   "file_extension": ".py",
   "mimetype": "text/x-python",
   "name": "python",
   "nbconvert_exporter": "python",
   "pygments_lexer": "ipython3",
   "version": "3.9.12"
  }
 },
 "nbformat": 4,
 "nbformat_minor": 5
}
