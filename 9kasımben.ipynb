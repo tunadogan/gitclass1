{
 "cells": [
  {
   "cell_type": "code",
   "execution_count": 74,
   "id": "c35b9b23",
   "metadata": {},
   "outputs": [],
   "source": [
    "def harf_bul():\n",
    "    metin = input(\"harfleri sayılcak metni giriniz : \").replace(' ', '')\n",
    "    text=(\"ABCDEFGHIİJKLMNOÖPRSTUÜVWYZabcdefghıijklmnoöprstuüvwyz\") \n",
    "    number=(\"0123456789\")\n",
    "    uzunluk=0\n",
    "    num_uzunluk =0\n",
    "    ohter_uzunluk =0\n",
    "    for x in metin:\n",
    "        if x in text:\n",
    "            uzunluk=uzunluk+1\n",
    "        elif x in number:\n",
    "                num_uzunluk = num_uzunluk + 1\n",
    "        else:\n",
    "                ohter_uzunluk +=1\n",
    "    print(f'metin uzunluğu:{uzunluk} rakam uzunluğu {num_uzunluk} özel char uzunluğu {ohter_uzunluk}')\n",
    "        \n",
    "     \n",
    "        "
   ]
  },
  {
   "cell_type": "code",
   "execution_count": 75,
   "id": "9641352a",
   "metadata": {},
   "outputs": [
    {
     "name": "stdout",
     "output_type": "stream",
     "text": [
      "harfleri sayılcak metni giriniz : jksdfhlkjashdfkljhasd81423583218945708314()&?=(&/?=)(&/\n",
      "metin uzunluğu:21 rakam uzunluğu 20 özel char uzunluğu 14\n"
     ]
    }
   ],
   "source": [
    "harf_bul()"
   ]
  },
  {
   "cell_type": "code",
   "execution_count": 21,
   "id": "7f9d2e68",
   "metadata": {},
   "outputs": [
    {
     "data": {
      "text/plain": [
       "54"
      ]
     },
     "execution_count": 21,
     "metadata": {},
     "output_type": "execute_result"
    }
   ],
   "source": [
    "text=(\"ABCDEFGHIİJKLMNOÖPRSTUÜVWYZabcdefghıijklmnoöprstuüvwyz\") \n",
    "len(text)"
   ]
  },
  {
   "cell_type": "code",
   "execution_count": 1,
   "id": "cddfed6c",
   "metadata": {},
   "outputs": [],
   "source": [
    "def factor(x):\n",
    "\n",
    "    result = 1\n",
    "    for i in range(x):\n",
    "        result *= (i+1)\n",
    "    return print(result)"
   ]
  },
  {
   "cell_type": "code",
   "execution_count": 77,
   "id": "5cdb2452",
   "metadata": {},
   "outputs": [
    {
     "name": "stdout",
     "output_type": "stream",
     "text": [
      "120\n"
     ]
    }
   ],
   "source": [
    "factor(5)"
   ]
  },
  {
   "cell_type": "code",
   "execution_count": 78,
   "id": "d7843f6d",
   "metadata": {},
   "outputs": [
    {
     "name": "stdout",
     "output_type": "stream",
     "text": [
      "!\"#$%&'()*+,-./:;<=>?@[\\]^_`{|}~\n",
      "0123456789\n"
     ]
    }
   ],
   "source": [
    "import string as stg  # we've used alias for 'string' module\n",
    "\n",
    "print(stg.punctuation)  # prints all available punctuation marks\n",
    "print(stg.digits)  # prints all the digits"
   ]
  },
  {
   "cell_type": "code",
   "execution_count": 79,
   "id": "5f942c1a",
   "metadata": {},
   "outputs": [
    {
     "name": "stdout",
     "output_type": "stream",
     "text": [
      "2022-11-09\n",
      "2022-11-09 19:31:24.461237\n"
     ]
    }
   ],
   "source": [
    "import datetime\n",
    "\n",
    "print(datetime.date.today())  # prints today's date (yyyy-mm-dd)\n",
    "print(datetime.datetime.now())  # prints the current time in microseconds"
   ]
  },
  {
   "cell_type": "code",
   "execution_count": 80,
   "id": "fd26acd6",
   "metadata": {},
   "outputs": [
    {
     "name": "stdout",
     "output_type": "stream",
     "text": [
      "Cape Town\n"
     ]
    }
   ],
   "source": [
    "from random import choice\n",
    "\n",
    "city = ['Stockholm', 'Istanbul', 'Seul', 'Cape Town']\n",
    "print(choice(city))  "
   ]
  },
  {
   "cell_type": "code",
   "execution_count": 82,
   "id": "b61f7c90",
   "metadata": {},
   "outputs": [
    {
     "name": "stdout",
     "output_type": "stream",
     "text": [
      "0.7367849851838318\n"
     ]
    }
   ],
   "source": [
    "import random\n",
    "print(random.random())"
   ]
  },
  {
   "cell_type": "code",
   "execution_count": 2,
   "id": "8d45c513",
   "metadata": {},
   "outputs": [],
   "source": [
    "def square(x):\n",
    "    return x**2"
   ]
  },
  {
   "cell_type": "code",
   "execution_count": 3,
   "id": "3c7dcf01",
   "metadata": {},
   "outputs": [
    {
     "data": {
      "text/plain": [
       "16"
      ]
     },
     "execution_count": 3,
     "metadata": {},
     "output_type": "execute_result"
    }
   ],
   "source": [
    "square(4)"
   ]
  },
  {
   "cell_type": "code",
   "execution_count": 85,
   "id": "01567620",
   "metadata": {},
   "outputs": [
    {
     "data": {
      "text/plain": [
       "<function __main__.<lambda>(x)>"
      ]
     },
     "execution_count": 85,
     "metadata": {},
     "output_type": "execute_result"
    }
   ],
   "source": [
    "lambda x: x**2\n"
   ]
  },
  {
   "cell_type": "code",
   "execution_count": null,
   "id": "e21f481a",
   "metadata": {},
   "outputs": [],
   "source": [
    "lambda x: 'odd' if x % 2 != 0 else 'even'"
   ]
  },
  {
   "cell_type": "code",
   "execution_count": 86,
   "id": "3d102797",
   "metadata": {},
   "outputs": [
    {
     "name": "stdout",
     "output_type": "stream",
     "text": [
      "4\n"
     ]
    }
   ],
   "source": [
    "print((lambda x: x**2)(2))"
   ]
  },
  {
   "cell_type": "code",
   "execution_count": 87,
   "id": "fa6bd3e5",
   "metadata": {},
   "outputs": [
    {
     "name": "stdout",
     "output_type": "stream",
     "text": [
      "4.0\n"
     ]
    }
   ],
   "source": [
    "print((lambda x, y: (x+y)/2)(3, 5))"
   ]
  },
  {
   "cell_type": "code",
   "execution_count": null,
   "id": "3c93d1b1",
   "metadata": {},
   "outputs": [],
   "source": [
    "average = (lambda x, y: (x+y)/2)(3, 5) \n",
    "print(average)"
   ]
  },
  {
   "cell_type": "code",
   "execution_count": null,
   "id": "50ff8a88",
   "metadata": {},
   "outputs": [],
   "source": [
    "print(echo_word('hello', 3))"
   ]
  },
  {
   "cell_type": "code",
   "execution_count": 88,
   "id": "f5e7f5a2",
   "metadata": {},
   "outputs": [
    {
     "name": "stdout",
     "output_type": "stream",
     "text": [
      "hellohellohello\n"
     ]
    }
   ],
   "source": [
    "echo_word = lambda x,y : x * y\n",
    "print(echo_word('hello', 3))"
   ]
  },
  {
   "cell_type": "code",
   "execution_count": 89,
   "id": "97308020",
   "metadata": {},
   "outputs": [
    {
     "name": "stdout",
     "output_type": "stream",
     "text": [
      "<class 'map'>\n",
      "[1, 4, 9, 16, 25]\n",
      "[1, 4, 9, 16, 25]\n"
     ]
    }
   ],
   "source": [
    "iterable = [1, 2, 3, 4, 5]\n",
    "map(lambda x:x**2, iterable)\n",
    "result = map(lambda x:x**2, iterable)\n",
    "print(type(result))  # it's a map type\n",
    "\n",
    "print(list(result))  # we've converted it to list type to print\n",
    "\n",
    "print(list(map(lambda x:x**2, iterable)))  # you can print directly"
   ]
  },
  {
   "cell_type": "code",
   "execution_count": 114,
   "id": "a92c770d",
   "metadata": {},
   "outputs": [],
   "source": [
    "def square(n):  \n",
    "    return n**2  \n",
    "  \n",
    "iterable = [1, 2, 3, 4, 5]\n",
    "result = map(square, [1, 2, 3, 4, 5]) \n",
    "\n",
    "\n",
    "\n"
   ]
  },
  {
   "cell_type": "code",
   "execution_count": 113,
   "id": "a31b6f39",
   "metadata": {},
   "outputs": [
    {
     "name": "stdout",
     "output_type": "stream",
     "text": [
      "[1, 4, 9, 16, 25]\n"
     ]
    }
   ],
   "source": [
    "print(list(result))"
   ]
  },
  {
   "cell_type": "code",
   "execution_count": 115,
   "id": "1926fdfa",
   "metadata": {},
   "outputs": [
    {
     "name": "stdout",
     "output_type": "stream",
     "text": [
      "1 4 9 16 25\n"
     ]
    }
   ],
   "source": [
    "print(*result)"
   ]
  },
  {
   "cell_type": "code",
   "execution_count": 107,
   "id": "75bcf57c",
   "metadata": {},
   "outputs": [
    {
     "name": "stdout",
     "output_type": "stream",
     "text": [
      "1 4 9 16 25\n"
     ]
    }
   ],
   "source": [
    "print(*(map(square, [1, 2, 3, 4, 5]) ))"
   ]
  },
  {
   "cell_type": "code",
   "execution_count": 91,
   "id": "cfff86f7",
   "metadata": {},
   "outputs": [
    {
     "name": "stdout",
     "output_type": "stream",
     "text": [
      "['one', 'six', 'ten', 'two']\n"
     ]
    }
   ],
   "source": [
    "letter1 = ['o', 's', 't', 't']\n",
    "letter2 = ['n', 'i', 'e', 'w']\n",
    "letter3 = ['e', 'x', 'n', 'o']\n",
    "numbers = map(lambda x, y, z: x+y+z, letter1, letter2, letter3)\n",
    "\n",
    "print(list(numbers))"
   ]
  },
  {
   "cell_type": "code",
   "execution_count": 121,
   "id": "d1d65d1b",
   "metadata": {},
   "outputs": [
    {
     "name": "stdout",
     "output_type": "stream",
     "text": [
      "['sen', 've ', 'ben', 'biz', 'ola', 'lım']\n"
     ]
    }
   ],
   "source": [
    "letter1 = ['s', 'v', 'b', 'b', 'o','l']\n",
    "letter2 = ['e', 'e', 'e', 'i', 'l','ı']\n",
    "letter3 = ['n', ' ', 'n', 'z', 'a','m']\n",
    "numbers = map(lambda x, y, z : x+y+z , letter1, letter2, letter3)\n",
    "\n",
    "print(list(numbers))"
   ]
  },
  {
   "cell_type": "code",
   "execution_count": 94,
   "id": "f8873327",
   "metadata": {},
   "outputs": [],
   "source": [
    "number_list = [1, 2, 3, 4, 5]\n",
    "\n",
    "result = list(map(lambda x :x*3, number_list))"
   ]
  },
  {
   "cell_type": "code",
   "execution_count": 95,
   "id": "5e5551f9",
   "metadata": {},
   "outputs": [
    {
     "name": "stdout",
     "output_type": "stream",
     "text": [
      "[3, 6, 9, 12, 15]\n"
     ]
    }
   ],
   "source": [
    "print(result)"
   ]
  },
  {
   "cell_type": "code",
   "execution_count": 96,
   "id": "d7134899",
   "metadata": {},
   "outputs": [
    {
     "name": "stdout",
     "output_type": "stream",
     "text": [
      "<class 'filter'>\n",
      "Even numbers are : [0, 2, 4, 6, 8]\n"
     ]
    }
   ],
   "source": [
    "first_ten = [0, 1, 2, 3, 4, 5, 6, 7, 8, 9] \n",
    "  \n",
    "even = filter(lambda x:x%2==0, first_ten) \n",
    "print(type(even))  # it's 'filter' type, \n",
    "                   # in order to print the result,\n",
    "                   # we'd better convert it into the list type\n",
    "\n",
    "print('Even numbers are :', list(even))"
   ]
  },
  {
   "cell_type": "code",
   "execution_count": 97,
   "id": "c28a82ef",
   "metadata": {},
   "outputs": [
    {
     "name": "stdout",
     "output_type": "stream",
     "text": [
      "Vowels are : ['a', 'e', 'i']\n"
     ]
    }
   ],
   "source": [
    "vowel_list = ['a', 'e', 'i', 'o', 'u']\n",
    "first_ten = ['a', 'b', 'c', 'd', 'e', 'f', 'g', 'h', 'i', 'j']\n",
    "  \n",
    "vowels = filter(lambda x: True if x in vowel_list else False, first_ten) \n",
    "\n",
    "print('Vowels are :', list(vowels))"
   ]
  },
  {
   "cell_type": "code",
   "execution_count": 174,
   "id": "2110f8fe",
   "metadata": {},
   "outputs": [
    {
     "ename": "SyntaxError",
     "evalue": "invalid syntax (3480675288.py, line 4)",
     "output_type": "error",
     "traceback": [
      "\u001b[1;36m  Input \u001b[1;32mIn [174]\u001b[1;36m\u001b[0m\n\u001b[1;33m    vowels = filter(lambda x: x in ,first_ten)\u001b[0m\n\u001b[1;37m                                   ^\u001b[0m\n\u001b[1;31mSyntaxError\u001b[0m\u001b[1;31m:\u001b[0m invalid syntax\n"
     ]
    }
   ],
   "source": [
    "vowel_list = ['a', 'e', 'i', 'o', 'u']\n",
    "first_ten = ['a', 'b', 'c', 'd', 'e', 'f', 'g', 'h', 'i', 'j']\n",
    "  \n",
    "vowels = filter(lambda x: x in ,first_ten) \n",
    "\n",
    "print('Vowels are :', list(vowels))"
   ]
  },
  {
   "cell_type": "code",
   "execution_count": 116,
   "id": "29741e1a",
   "metadata": {},
   "outputs": [
    {
     "data": {
      "text/plain": [
       "'ali'"
      ]
     },
     "execution_count": 116,
     "metadata": {},
     "output_type": "execute_result"
    }
   ],
   "source": [
    "topla = lambda x, y, z: x+y+z\n",
    "\n",
    "topla (\"a\" , \"l\",\"i\")"
   ]
  },
  {
   "cell_type": "code",
   "execution_count": 122,
   "id": "34b9fbc9",
   "metadata": {},
   "outputs": [],
   "source": [
    "w1=[\"you\",\"munch\",\"hard\"]\n",
    "w2=[\"i\",\"you\",\"he\"]\n",
    "w3=[\"love\",\"ate\",\"works\"]"
   ]
  },
  {
   "cell_type": "code",
   "execution_count": 125,
   "id": "5e55a4b9",
   "metadata": {},
   "outputs": [
    {
     "name": "stdout",
     "output_type": "stream",
     "text": [
      "['i love you', 'you ate munch', 'he works hard']\n"
     ]
    }
   ],
   "source": [
    "words = map(lambda x, y, z : x+\" \"+y+\" \"+z , w2, w3, w1)\n",
    "\n",
    "print(list(words))"
   ]
  },
  {
   "cell_type": "code",
   "execution_count": 129,
   "id": "facf3b0e",
   "metadata": {},
   "outputs": [
    {
     "name": "stdout",
     "output_type": "stream",
     "text": [
      "['i you love', 'you munch ate', 'he hard works']\n"
     ]
    }
   ],
   "source": [
    "words = map(lambda x, y, z : y +\" \"+ x +\" \"+ z , w1, w2, w3)\n",
    "print(list(words))"
   ]
  },
  {
   "cell_type": "code",
   "execution_count": 134,
   "id": "b4c7d60a",
   "metadata": {},
   "outputs": [
    {
     "name": "stdout",
     "output_type": "stream",
     "text": [
      "swim\n",
      "me\n",
      "kiwi\n"
     ]
    }
   ],
   "source": [
    "words = [\"apple\",\"swim\",\"clock\",\"me\",\"kiwi\",\"banana\"]\n",
    "for i in filter(lambda x : len(x) < 5, words) :\n",
    "    print(i)"
   ]
  },
  {
   "cell_type": "code",
   "execution_count": 166,
   "id": "62883d6f",
   "metadata": {},
   "outputs": [
    {
     "name": "stdout",
     "output_type": "stream",
     "text": [
      "[('a', 'x'), ('b', 'y'), ('c', 'z')]\n",
      "('a', 'x')\n",
      "('b', 'y')\n",
      "('c', 'z')\n"
     ]
    }
   ],
   "source": [
    "letter1 = \"a b c\".split()\n",
    "letter2 = \"x y z\".split()\n",
    "\n",
    "res =map(lambda x, y : (x,y), letter1, letter2)\n",
    "\n"
   ]
  },
  {
   "cell_type": "code",
   "execution_count": 144,
   "id": "6fae0296",
   "metadata": {},
   "outputs": [
    {
     "data": {
      "text/plain": [
       "['a', 'b', 'c']"
      ]
     },
     "execution_count": 144,
     "metadata": {},
     "output_type": "execute_result"
    }
   ],
   "source": [
    "letter1"
   ]
  },
  {
   "cell_type": "code",
   "execution_count": 145,
   "id": "23f4f181",
   "metadata": {},
   "outputs": [
    {
     "data": {
      "text/plain": [
       "['x,y,z']"
      ]
     },
     "execution_count": 145,
     "metadata": {},
     "output_type": "execute_result"
    }
   ],
   "source": [
    "letter2\n"
   ]
  },
  {
   "cell_type": "code",
   "execution_count": 156,
   "id": "fca66dfd",
   "metadata": {},
   "outputs": [
    {
     "data": {
      "text/plain": [
       "<map at 0x19f75ee0280>"
      ]
     },
     "execution_count": 156,
     "metadata": {},
     "output_type": "execute_result"
    }
   ],
   "source": [
    "map(zip,letter1,letter2)"
   ]
  },
  {
   "cell_type": "code",
   "execution_count": 169,
   "id": "da7baec5",
   "metadata": {},
   "outputs": [],
   "source": [
    "birleş=map(zip,letter1,letter2)"
   ]
  },
  {
   "cell_type": "code",
   "execution_count": 170,
   "id": "a03f7c22",
   "metadata": {},
   "outputs": [
    {
     "data": {
      "text/plain": [
       "[<zip at 0x19f76a00140>, <zip at 0x19f76a00f00>, <zip at 0x19f76a00c80>]"
      ]
     },
     "execution_count": 170,
     "metadata": {},
     "output_type": "execute_result"
    }
   ],
   "source": [
    "list(birleş)"
   ]
  },
  {
   "cell_type": "code",
   "execution_count": 162,
   "id": "44a7a662",
   "metadata": {},
   "outputs": [
    {
     "name": "stdout",
     "output_type": "stream",
     "text": [
      "('a', 'x')\n",
      "('b', 'y')\n",
      "('c', 'z')\n"
     ]
    }
   ],
   "source": [
    "birleş=map(zip,letter1,letter2)\n",
    "for i in birleş:\n",
    "    for j in i:\n",
    "        print(j)"
   ]
  },
  {
   "cell_type": "code",
   "execution_count": 171,
   "id": "355dcbbb",
   "metadata": {},
   "outputs": [
    {
     "data": {
      "text/plain": [
       "[('c', 'z')]"
      ]
     },
     "execution_count": 171,
     "metadata": {},
     "output_type": "execute_result"
    }
   ],
   "source": [
    "list(zip(letter1[2],letter2[2]))"
   ]
  },
  {
   "cell_type": "code",
   "execution_count": 172,
   "id": "696ed7f3",
   "metadata": {},
   "outputs": [
    {
     "data": {
      "text/plain": [
       "[('b', 'y')]"
      ]
     },
     "execution_count": 172,
     "metadata": {},
     "output_type": "execute_result"
    }
   ],
   "source": [
    "list(zip(letter1[1],letter2[1]))"
   ]
  },
  {
   "cell_type": "code",
   "execution_count": null,
   "id": "1319f6e0",
   "metadata": {},
   "outputs": [],
   "source": [
    "first_ten = ['a', 'b', 'c', 'd', 'e', 'f', 'g', 'h', 'i', 'j']"
   ]
  },
  {
   "cell_type": "code",
   "execution_count": 173,
   "id": "f82a9274",
   "metadata": {},
   "outputs": [
    {
     "name": "stdout",
     "output_type": "stream",
     "text": [
      "alex alex \n",
      "lara lara lara \n",
      "linda linda linda linda \n"
     ]
    }
   ],
   "source": [
    "def repeater(n):\n",
    "    return lambda x: x * n\n",
    "    \n",
    "repeat_2_times = repeater(2)  \n",
    "repeat_3_times = repeater(3)  \n",
    "repeat_4_times = repeater(4)  \n",
    "\n",
    "print(repeat_2_times('tuna'))\n",
    "print(repeat_3_times('han '))\n",
    "print(repeat_4_times('kerem '))"
   ]
  },
  {
   "cell_type": "code",
   "execution_count": 179,
   "id": "e96b0f53",
   "metadata": {},
   "outputs": [
    {
     "ename": "SyntaxError",
     "evalue": "invalid syntax (3984338516.py, line 2)",
     "output_type": "error",
     "traceback": [
      "\u001b[1;36m  Input \u001b[1;32mIn [179]\u001b[1;36m\u001b[0m\n\u001b[1;33m    return  x: x ** n\u001b[0m\n\u001b[1;37m             ^\u001b[0m\n\u001b[1;31mSyntaxError\u001b[0m\u001b[1;31m:\u001b[0m invalid syntax\n"
     ]
    }
   ],
   "source": [
    "def moduler_function(n):\n",
    "    return lambda x: x ** n\n",
    "    \n",
    "power_of_2 = moduler_function(2)  \n",
    "power_of_3 = moduler_function(2)  \n",
    "power_of_4 = moduler_function(2)  #\n",
    "\n",
    "print(power_of_2(2))\n",
    "print(power_of_3(3))\n",
    "print(power_of_4(4))"
   ]
  },
  {
   "cell_type": "code",
   "execution_count": 4,
   "id": "e3b64535",
   "metadata": {},
   "outputs": [
    {
     "ename": "NameError",
     "evalue": "name 'cmd' is not defined",
     "output_type": "error",
     "traceback": [
      "\u001b[1;31m---------------------------------------------------------------------------\u001b[0m",
      "\u001b[1;31mNameError\u001b[0m                                 Traceback (most recent call last)",
      "Input \u001b[1;32mIn [4]\u001b[0m, in \u001b[0;36m<cell line: 1>\u001b[1;34m()\u001b[0m\n\u001b[1;32m----> 1\u001b[0m \u001b[43mcmd\u001b[49m()\n",
      "\u001b[1;31mNameError\u001b[0m: name 'cmd' is not defined"
     ]
    }
   ],
   "source": []
  }
 ],
 "metadata": {
  "kernelspec": {
   "display_name": "Python 3 (ipykernel)",
   "language": "python",
   "name": "python3"
  },
  "language_info": {
   "codemirror_mode": {
    "name": "ipython",
    "version": 3
   },
   "file_extension": ".py",
   "mimetype": "text/x-python",
   "name": "python",
   "nbconvert_exporter": "python",
   "pygments_lexer": "ipython3",
   "version": "3.9.12"
  }
 },
 "nbformat": 4,
 "nbformat_minor": 5
}
