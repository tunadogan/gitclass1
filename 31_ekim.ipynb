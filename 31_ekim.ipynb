{
 "cells": [
  {
   "cell_type": "code",
   "execution_count": 2,
   "id": "8ad4a9ae",
   "metadata": {},
   "outputs": [
    {
     "name": "stdout",
     "output_type": "stream",
     "text": [
      "0\n",
      "1\n",
      "2\n",
      "now, number is bigger or equal to 6\n"
     ]
    }
   ],
   "source": [
    "number = 0\n",
    "\n",
    "while number < 3:\n",
    "    print(number)\n",
    "    number += 1\n",
    "print('now, number is bigger or equal to 6')\n"
   ]
  },
  {
   "cell_type": "code",
   "execution_count": 3,
   "id": "cccc10ee",
   "metadata": {},
   "outputs": [
    {
     "name": "stdout",
     "output_type": "stream",
     "text": [
      "square of 0 is : 0\n",
      "square of 1 is : 1\n",
      "square of 2 is : 4\n",
      "square of 3 is : 9\n",
      "square of 4 is : 16\n"
     ]
    }
   ],
   "source": [
    "my_list=[\"a\", \"b\", \"c\", \"d\", \"e\"]\n",
    "\n",
    "a = 0\n",
    "\n",
    "while a < len(my_list):\n",
    "    print('square of {} is : {}'.format(a, a**2))\n",
    "    a+=1"
   ]
  },
  {
   "cell_type": "code",
   "execution_count": 4,
   "id": "49af7cd7",
   "metadata": {},
   "outputs": [
    {
     "name": "stdout",
     "output_type": "stream",
     "text": [
      "Let's play the guessing game!\n",
      "What number am I thinking of?  2\n",
      "Little higher\n",
      "What number am I thinking of?  45\n",
      "Little lower\n",
      "What number am I thinking of?  44\n",
      "Are you a MINDREADER!!!\n"
     ]
    }
   ],
   "source": [
    "answer = 44\n",
    "\n",
    "question = 'What number am I thinking of?  '\n",
    "print (\"Let's play the guessing game!\")\n",
    "\n",
    "while True:\n",
    "    guess = int(input(question))\n",
    "\n",
    "    if guess < answer:\n",
    "        print('Little higher')\n",
    "    elif guess > answer:\n",
    "        print('Little lower')\n",
    "    else:  # guess == answer\n",
    "        print('Are you a MINDREADER!!!')\n",
    "        break"
   ]
  },
  {
   "cell_type": "code",
   "execution_count": 25,
   "id": "0045f5b0",
   "metadata": {},
   "outputs": [
    {
     "name": "stdout",
     "output_type": "stream",
     "text": [
      "Rose\n",
      "Orchid\n",
      "Tulip\n"
     ]
    }
   ],
   "source": [
    "flowers = ['Rose', 'Orchid', 'Tulip']\n",
    "count1 = len(flowers)\n",
    "count2 =0\n",
    "\n",
    "while count1>0 :\n",
    "    print(flowers[count2])\n",
    "    count1-= 1\n",
    "    count2+= 1"
   ]
  },
  {
   "cell_type": "code",
   "execution_count": null,
   "id": "d1d543f3",
   "metadata": {},
   "outputs": [],
   "source": [
    "flowers = ['Rose', 'Orchid', 'Tulip']\n",
    "count1 = len(....)\n",
    "count2 = ...\n",
    "\n",
    "while count...>0 :\n",
    "    print(flowers[....])\n",
    "    count... -= ...\n",
    "    count... += ..."
   ]
  },
  {
   "cell_type": "code",
   "execution_count": 28,
   "id": "73328af4",
   "metadata": {},
   "outputs": [
    {
     "name": "stdout",
     "output_type": "stream",
     "text": [
      "1\n",
      "4\n",
      "9\n",
      "16\n"
     ]
    }
   ],
   "source": [
    "iterable = [1, 2, 3, 4]\n",
    "for squre in iterable:\n",
    "   print(squre**2)"
   ]
  },
  {
   "cell_type": "code",
   "execution_count": 36,
   "id": "2d8d0d91",
   "metadata": {},
   "outputs": [
    {
     "name": "stdout",
     "output_type": "stream",
     "text": [
      "c\n",
      "l\n",
      "a\n",
      "r\n",
      "u\n",
      "s\n",
      "w\n",
      "a\n",
      "y\n"
     ]
    }
   ],
   "source": [
    "course = 'clarusway'\n",
    "\n",
    "for i in course :\n",
    "    print(i)"
   ]
  },
  {
   "cell_type": "code",
   "execution_count": null,
   "id": "a35ae565",
   "metadata": {},
   "outputs": [],
   "source": []
  },
  {
   "cell_type": "code",
   "execution_count": 30,
   "id": "beec325c",
   "metadata": {},
   "outputs": [
    {
     "name": "stdout",
     "output_type": "stream",
     "text": [
      "How many times should I say 'I love you'2\n",
      "I love you\n",
      "I love you\n"
     ]
    }
   ],
   "source": [
    "times = int(input(\"How many times should I say 'I love you'\"))\n",
    "\n",
    "for i in range(times):\n",
    "    print('I love you')\n"
   ]
  },
  {
   "cell_type": "code",
   "execution_count": 31,
   "id": "9fc6e5c7",
   "metadata": {},
   "outputs": [
    {
     "name": "stdout",
     "output_type": "stream",
     "text": [
      "enter a number between 1-108\n",
      "8x0 =  0\n",
      "8x1 =  8\n",
      "8x2 =  16\n",
      "8x3 =  24\n",
      "8x4 =  32\n",
      "8x5 =  40\n",
      "8x6 =  48\n",
      "8x7 =  56\n",
      "8x8 =  64\n",
      "8x9 =  72\n",
      "8x10 =  80\n"
     ]
    }
   ],
   "source": [
    "n = int(input('enter a number between 1-10'))\n",
    "\n",
    "for i in range(11):\n",
    "    print('{}x{} = '.format(n, i), n*i)\n",
    "    "
   ]
  },
  {
   "cell_type": "code",
   "execution_count": 32,
   "id": "8e91c141",
   "metadata": {},
   "outputs": [
    {
     "name": "stdout",
     "output_type": "stream",
     "text": [
      "one : 1\n",
      "two : 2\n",
      "three : 3\n",
      "four : 4\n",
      "five : 5\n"
     ]
    }
   ],
   "source": [
    "text = ['one','two','three','four','five']\n",
    "numbers = [1, 2, 3, 4, 5]\n",
    "for x, y in zip(text, numbers):\n",
    "    print(x, ':', y)"
   ]
  },
  {
   "cell_type": "code",
   "execution_count": 49,
   "id": "ce7dd776",
   "metadata": {},
   "outputs": [
    {
     "name": "stdout",
     "output_type": "stream",
     "text": [
      "one : 1 : red\n",
      "two : 2 : blue\n",
      "three : 3 : orange\n"
     ]
    }
   ],
   "source": [
    "text = ['one','two','three','four','five']\n",
    "numbers = [1, 2, 3, 4, 5]\n",
    "colors = ['red','blue','orange']\n",
    "for x, y,z in zip(text, numbers,colors):\n",
    "    print(x, ':', y,':',z)\n",
    "\n",
    "# biri bitince birleştime bitiyor."
   ]
  },
  {
   "cell_type": "code",
   "execution_count": 33,
   "id": "0b215941",
   "metadata": {},
   "outputs": [
    {
     "name": "stdout",
     "output_type": "stream",
     "text": [
      "I am happy\n",
      "I am confident\n",
      "You are happy\n",
      "You are confident\n"
     ]
    }
   ],
   "source": [
    "who = ['I am ', 'You are ']\n",
    "mood = ['happy', 'confident']\n",
    "for i in who:\n",
    "    for ii in mood:\n",
    "        print(i + ii)\n"
   ]
  },
  {
   "cell_type": "code",
   "execution_count": null,
   "id": "0c4b61d2",
   "metadata": {},
   "outputs": [],
   "source": []
  }
 ],
 "metadata": {
  "kernelspec": {
   "display_name": "Python 3 (ipykernel)",
   "language": "python",
   "name": "python3"
  },
  "language_info": {
   "codemirror_mode": {
    "name": "ipython",
    "version": 3
   },
   "file_extension": ".py",
   "mimetype": "text/x-python",
   "name": "python",
   "nbconvert_exporter": "python",
   "pygments_lexer": "ipython3",
   "version": "3.9.12"
  }
 },
 "nbformat": 4,
 "nbformat_minor": 5
}
