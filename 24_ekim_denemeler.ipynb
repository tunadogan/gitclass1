{
 "cells": [
  {
   "cell_type": "code",
   "execution_count": 14,
   "id": "2b8b59ac",
   "metadata": {},
   "outputs": [
    {
     "name": "stdout",
     "output_type": "stream",
     "text": [
      "var dersi python akşam yarın\n"
     ]
    }
   ],
   "source": [
    "string = \"yarın.akşam.python.dersi.var\"\n",
    "new_string = string.rsplit(\".\")\n",
    "new2 = \" \".join(new_string[::-1])\n",
    "print(new2)"
   ]
  },
  {
   "cell_type": "code",
   "execution_count": 38,
   "id": "fc4fc310",
   "metadata": {},
   "outputs": [
    {
     "name": "stdout",
     "output_type": "stream",
     "text": [
      "var dersi python akşam yarın\n"
     ]
    }
   ],
   "source": [
    "string = \"yarın.akşam.python.dersi.var\"\n",
    "string_list = string.split(\".\")[::-1]\n",
    "print(string_list[0],string_list[1],string_list[2],string_list[3],string_list[4])"
   ]
  },
  {
   "cell_type": "code",
   "execution_count": 39,
   "id": "e5e8dd76",
   "metadata": {},
   "outputs": [
    {
     "name": "stdout",
     "output_type": "stream",
     "text": [
      "Enter an integer to right rotate the given list :5\n",
      "[2, 3, 4, 5, 6, 1]\n"
     ]
    }
   ],
   "source": [
    "liste = [1, 2, 3, 4, 5, 6]\n",
    "n = int(input(\"Enter an integer to right rotate the given list :\"))\n",
    "list1 = liste[:-n]\n",
    "list2 = liste[-n:]\n",
    "print(list2 + list1)"
   ]
  },
  {
   "cell_type": "code",
   "execution_count": 48,
   "id": "07ccc236",
   "metadata": {},
   "outputs": [
    {
     "ename": "SyntaxError",
     "evalue": "invalid syntax (2492452564.py, line 5)",
     "output_type": "error",
     "traceback": [
      "\u001b[1;36m  Input \u001b[1;32mIn [48]\u001b[1;36m\u001b[0m\n\u001b[1;33m    dic  =  {[ 1 , 2 , 3, 4 ]:  a1,a2,a3,a4}\u001b[0m\n\u001b[1;37m                                     ^\u001b[0m\n\u001b[1;31mSyntaxError\u001b[0m\u001b[1;31m:\u001b[0m invalid syntax\n"
     ]
    }
   ],
   "source": [
    "a1=input(\"en sevdiğiniz 1.yiyeceği giriniz :\")\n",
    "a2=input(\"en sevdiğiniz 2.yiyeceği giriniz :\")\n",
    "a3=input(\"en sevdiğiniz 3.yiyeceği giriniz :\")\n",
    "a4=input(\"en sevdiğiniz 4.yiyeceği giriniz :\")\n",
    "dic  =  {[ 1 , 2 , 3, 4 ]:  a1,a2,a3,a4}"
   ]
  },
  {
   "cell_type": "code",
   "execution_count": 54,
   "id": "6b9efa4b",
   "metadata": {},
   "outputs": [
    {
     "name": "stdout",
     "output_type": "stream",
     "text": [
      "en sevdiğiniz 1.yiyeceği giriniz :elma\n",
      "en sevdiğiniz 2.yiyeceği giriniz :armut\n",
      "en sevdiğiniz 3.yiyeceği giriniz :ayva\n",
      "en sevdiğiniz 4.yiyeceği giriniz :nar\n",
      "{'food1': 'elma', 'food2': 'armut', 'food3': 'ayva', 'food4': 'nar'}\n",
      "Bu yazdıkların arasından çıkarmak istediğin var mı?\n",
      "çıkarmak istediğiniz yiyeceği giriniz:food1\n",
      "{'food2': 'armut', 'food3': 'ayva', 'food4': 'nar'}\n"
     ]
    }
   ],
   "source": [
    "thisdict = {\n",
    "  \"food1\": input(\"en sevdiğiniz 1.yiyeceği giriniz :\"),\n",
    "  \"food2\": input(\"en sevdiğiniz 2.yiyeceği giriniz :\"),\n",
    "  \"food3\" : input(\"en sevdiğiniz 3.yiyeceği giriniz :\"),\n",
    "  \"food4\" : input(\"en sevdiğiniz 4.yiyeceği giriniz :\"),\n",
    "  \n",
    "}\n",
    "print(thisdict)\n",
    "\n",
    "print(\"Bu yazdıkların arasından çıkarmak istediğin var mı?\")\n",
    "del thisdict [input(\"çıkarmak istediğiniz yiyeceğin numarasını giriniz:\")]\n",
    "print(thisdict)"
   ]
  },
  {
   "cell_type": "code",
   "execution_count": 115,
   "id": "16a49ae1",
   "metadata": {
    "slideshow": {
     "slide_type": "-"
    }
   },
   "outputs": [
    {
     "name": "stdout",
     "output_type": "stream",
     "text": [
      "dict_items([('animal', 'dog'), ('planet', 'neptun'), ('number', 40), ('pi', 3.14), ('is_good', True)]) \n",
      "\n",
      "dict_keys(['animal', 'planet', 'number', 'pi', 'is_good']) \n",
      "\n",
      "dict_values(['dog', 'neptun', 40, 3.14, True])\n"
     ]
    }
   ],
   "source": [
    "dict_by_dict = {'animal': 'dog',\n",
    "                'planet': 'neptun',\n",
    "                'number': 40,\n",
    "                'pi': 3.14,\n",
    "                'is_good': True }\n",
    "\n",
    "print(dict_by_dict.items(), '\\n')\n",
    "print(dict_by_dict.keys(), '\\n')\n",
    "print(dict_by_dict.values())"
   ]
  },
  {
   "cell_type": "code",
   "execution_count": 100,
   "id": "b63592fb",
   "metadata": {},
   "outputs": [
    {
     "name": "stdout",
     "output_type": "stream",
     "text": [
      "{'Dede': 'mahmut', 'anne': 'pınar', 'baba': 'tunahan', 'kız': 'zeynep', 'erkek': 'kerem'}\n",
      "<class 'dict'>\n",
      "mahmut\n"
     ]
    }
   ],
   "source": []
  },
  {
   "cell_type": "code",
   "execution_count": 58,
   "id": "9177f229",
   "metadata": {},
   "outputs": [
    {
     "name": "stdout",
     "output_type": "stream",
     "text": [
      "{'animal': 'dog', 'planet': 'neptun', 'number': 40, 'pi': 3.14, 'is_good': True, 'is_bad': False, 'tunahan': 'ozdogan'}\n"
     ]
    }
   ],
   "source": [
    "dict_by_dict = {'animal': 'dog',\n",
    "                'planet': 'neptun',\n",
    "                'number': 40,\n",
    "                'pi': 3.14,\n",
    "                'is_good': True}\n",
    "\n",
    "dict_by_dict.update({'is_bad': False,'tunahan':'ozdogan'})\n",
    "\n",
    "print(dict_by_dict)"
   ]
  },
  {
   "cell_type": "code",
   "execution_count": 67,
   "id": "1ce6de4b",
   "metadata": {},
   "outputs": [
    {
     "name": "stdout",
     "output_type": "stream",
     "text": [
      "{'animal': 'dog', 'planet': 'neptun', 'number': 40, 'pi': 3.14, 'is_good': True}\n",
      "{'planet': 'neptun', 'pi': 3.14, 'is_good': True}\n",
      "{'planet': 'neptun', 'pi': 3.14, 'is_good': True, 'is_bad': False, 'tunahan': 'ozdogan', 'Turkey': 'Ankara', 16: 'Bursa plaka'}\n",
      "True\n"
     ]
    }
   ],
   "source": [
    "dict_by_dict = {'animal': 'dog',\n",
    "                'planet': 'neptun',\n",
    "                'number': 40,\n",
    "                'pi': 3.14,\n",
    "                'is_good': True}\n",
    "print(dict_by_dict)\n",
    "del dict_by_dict['animal']\n",
    "del dict_by_dict['number']\n",
    "print(dict_by_dict)\n",
    "dict_by_dict.update({'is_bad': False,'tunahan':'ozdogan', 'Turkey' :'Ankara', 16 : 'Bursa plaka'})\n",
    "print(dict_by_dict)\n",
    "print('pi' in dict_by_dict) "
   ]
  },
  {
   "cell_type": "code",
   "execution_count": 68,
   "id": "5077c6b2",
   "metadata": {},
   "outputs": [
    {
     "data": {
      "text/plain": [
       "('Toronto', 'Ontario')"
      ]
     },
     "execution_count": 68,
     "metadata": {},
     "output_type": "execute_result"
    }
   ],
   "source": [
    "capitals = {\"Springfield\": \"Illinois\", \n",
    "            \"Augusta\": \"Maine\", \n",
    "            \"Boston\": \"Massachusetts\", \n",
    "            \"Lansing\": \"Michigan\", \n",
    "            \"Albany\": \"New York\", \n",
    "            \"Olympia\": \"Washington\", \n",
    "            \"Toronto\": \"Ontario\"}\n",
    "(city, state) = capitals.popitem()\n",
    "(city, state)"
   ]
  },
  {
   "cell_type": "code",
   "execution_count": null,
   "id": "a6bb7093",
   "metadata": {},
   "outputs": [],
   "source": []
  },
  {
   "cell_type": "code",
   "execution_count": 69,
   "id": "477bdc70",
   "metadata": {},
   "outputs": [
    {
     "name": "stdout",
     "output_type": "stream",
     "text": [
      "{'uretici': 'Renault', 'model': 'Clio', 'yil': 2009}\n"
     ]
    }
   ],
   "source": [
    "sozluk = {\n",
    "  \"uretici\": \"Renault\",\n",
    "  \"model\": \"Clio\",\n",
    "  \"yil\": 2009\n",
    "}\n",
    "print(sozluk)"
   ]
  },
  {
   "cell_type": "code",
   "execution_count": 71,
   "id": "4ed69b27",
   "metadata": {},
   "outputs": [
    {
     "name": "stdout",
     "output_type": "stream",
     "text": [
      "Clio\n"
     ]
    }
   ],
   "source": [
    "x = sozluk[\"model\"]\n",
    "print(x)"
   ]
  },
  {
   "cell_type": "code",
   "execution_count": 74,
   "id": "a29123cd",
   "metadata": {},
   "outputs": [
    {
     "name": "stdout",
     "output_type": "stream",
     "text": [
      "{'uretici': 'Renault', 'model': 'Clio', 'yil': 2020}\n"
     ]
    }
   ],
   "source": [
    "otomobil = {\n",
    "  \"uretici\": \"Renault\",\n",
    "  \"model\": \"Clio\",\n",
    "  \"yil\": 2009\n",
    "}\n",
    "otomobil[\"yil\"] = 2020\n",
    "print(otomobil);"
   ]
  },
  {
   "cell_type": "code",
   "execution_count": 80,
   "id": "4e05792f",
   "metadata": {},
   "outputs": [
    {
     "name": "stdout",
     "output_type": "stream",
     "text": [
      "{'Pazartesi': 1, 'Salı': 2, 'Çarşamba': 3, 'Perşembe': 4, 'cuma': 5}\n",
      "{'Pazartesi': 1, 'Çarşamba': 3, 'Perşembe': 4, 'cuma': 5}\n"
     ]
    }
   ],
   "source": [
    "gunler = {\n",
    "\t\"Pazartesi\": 1,\n",
    "\t\"Salı\": 2,\n",
    "\t\"Çarşamba\": 3\n",
    "}\n",
    "gunler[\"Perşembe\"] = 4\n",
    "gunler[\"cuma\"] = 5\n",
    "print(gunler)\n",
    "del gunler [\"Salı\"]\n",
    "print(gunler)"
   ]
  },
  {
   "cell_type": "code",
   "execution_count": 84,
   "id": "2360d234",
   "metadata": {},
   "outputs": [
    {
     "name": "stdout",
     "output_type": "stream",
     "text": [
      "My two favorite flowers are tulip and rose, two favorite colors are blue and green.\n"
     ]
    }
   ],
   "source": [
    "flowers = [[\"jasmine\", [\"lavender\", \"rose\"], \"tulip\"]]\n",
    "colors = [\"red\", (\"blue\", [\"yellow\", \"green\"]), \"pink\"]\n",
    "metin=\"My two favorite flowers are {} and {}, two favorite colors \\\n",
    "are {} and {}.\".format (flowers [0][2],flowers[0][1][1], colors [1][0],colors[1][1][1])\n",
    "print(metin)"
   ]
  },
  {
   "cell_type": "code",
   "execution_count": 86,
   "id": "d8581dbb",
   "metadata": {},
   "outputs": [
    {
     "name": "stdout",
     "output_type": "stream",
     "text": [
      "{'darkblue', 'purple', 'yellow', 'orange', 'red'}\n",
      "{'darkblue', 'purple', 'yellow', 'orange', 'red'}\n"
     ]
    }
   ],
   "source": [
    "colorset = {'purple', 'orange', 'red', 'darkblue', 'yellow', 'red'}\n",
    "\n",
    "print(colorset)\n",
    "print(colorset)"
   ]
  },
  {
   "cell_type": "code",
   "execution_count": 87,
   "id": "5d13bf19",
   "metadata": {},
   "outputs": [
    {
     "name": "stdout",
     "output_type": "stream",
     "text": [
      "{'orchid', 'rose', 'violet', 'carnation'}\n",
      "['orchid', 'rose', 'violet', 'carnation']\n"
     ]
    }
   ],
   "source": [
    "flower_list = ['rose', 'violet', 'carnation', 'rose', 'orchid', 'rose', 'orchid']\n",
    "flowerset = set(flower_list)\n",
    "flowerlist = list(flowerset)\n",
    "\n",
    "print(flowerset) \n",
    "print(flowerlist)"
   ]
  },
  {
   "cell_type": "code",
   "execution_count": 89,
   "id": "08754f93",
   "metadata": {},
   "outputs": [
    {
     "name": "stdout",
     "output_type": "stream",
     "text": [
      "{'c', 'b', 'd', 'a', 'r'}\n"
     ]
    }
   ],
   "source": [
    "a = set('abracadabra')\n",
    "\n",
    "print(a)      "
   ]
  },
  {
   "cell_type": "code",
   "execution_count": 90,
   "id": "20ff40dc",
   "metadata": {},
   "outputs": [
    {
     "name": "stdout",
     "output_type": "stream",
     "text": [
      "{'z', 'l', 'm', 'c', 'a'}\n"
     ]
    }
   ],
   "source": [
    "b = set('alacazam')\n",
    "print(b)"
   ]
  },
  {
   "cell_type": "code",
   "execution_count": 88,
   "id": "e65732a5",
   "metadata": {},
   "outputs": [
    {
     "name": "stdout",
     "output_type": "stream",
     "text": [
      "{'r', 'd', 'b'}\n",
      "{'r', 'd', 'b'}\n"
     ]
    }
   ],
   "source": [
    "a = set('abracadabra')\n",
    "b = set('alacazam')\n",
    "\n",
    "print(a - b)  # same as '.difference()' method\n",
    "print(a.difference(b)) # a difference from b"
   ]
  },
  {
   "cell_type": "code",
   "execution_count": 91,
   "id": "7809235b",
   "metadata": {},
   "outputs": [
    {
     "name": "stdout",
     "output_type": "stream",
     "text": [
      "{'z', 'l', 'c', 'b', 'm', 'd', 'a', 'r'}\n",
      "{'z', 'l', 'c', 'b', 'm', 'd', 'a', 'r'}\n"
     ]
    }
   ],
   "source": [
    "a = set('abracadabra')\n",
    "b = set('alacazam')\n",
    "\n",
    "print(a | b)  # same as '.union()' method\n",
    "print(a.union(b)) # unification of a with b\n",
    "\n"
   ]
  },
  {
   "cell_type": "code",
   "execution_count": 95,
   "id": "88aab8f3",
   "metadata": {},
   "outputs": [
    {
     "name": "stdout",
     "output_type": "stream",
     "text": [
      "{'c', 'b', 'd', 'a', 'r'}\n",
      "{'z', 'l', 'm', 'c', 'b', 'd', 'a', 'r'}\n"
     ]
    }
   ],
   "source": [
    "a = set('abracadabra')\n",
    "b = set('alacazam')\n",
    "print(a)\n",
    "print(b.union(a))\n"
   ]
  },
  {
   "cell_type": "code",
   "execution_count": 102,
   "id": "31374fce",
   "metadata": {},
   "outputs": [
    {
     "name": "stdout",
     "output_type": "stream",
     "text": [
      "{'ali': 'elma', 'deli': 1, 'veli': 1}\n"
     ]
    }
   ],
   "source": [
    "a_s={\"ali\":'elma',\"deli\" :1 ,\"veli\":1}\n",
    "print(a_s)"
   ]
  },
  {
   "cell_type": "code",
   "execution_count": 120,
   "id": "1427acf0",
   "metadata": {},
   "outputs": [
    {
     "name": "stdout",
     "output_type": "stream",
     "text": [
      "{'ali': 'elmaahmetelma', 'deli': 1, 'veli': 1}\n"
     ]
    }
   ],
   "source": [
    "a_s['ali'] +='elma'\n",
    "print(a_s)"
   ]
  },
  {
   "cell_type": "code",
   "execution_count": 105,
   "id": "157a2dd8",
   "metadata": {},
   "outputs": [
    {
     "name": "stdout",
     "output_type": "stream",
     "text": [
      "{'animal': 'dog', 'planet': 'neptun', 'number': 40, 'pi': 3.14, 'is_good': True}\n"
     ]
    }
   ],
   "source": [
    "dict_by_dict = dict(animal = \"dog\", planet = \"neptun\", number = 40, pi = 3.14, is_good = True)\n",
    "print(dict_by_dict)"
   ]
  },
  {
   "cell_type": "code",
   "execution_count": 108,
   "id": "59f061a4",
   "metadata": {},
   "outputs": [
    {
     "name": "stdout",
     "output_type": "stream",
     "text": [
      "dog\n"
     ]
    }
   ],
   "source": [
    "print(dict_by_dict[\"animal\"])"
   ]
  },
  {
   "cell_type": "code",
   "execution_count": 112,
   "id": "55b50d55",
   "metadata": {},
   "outputs": [
    {
     "name": "stdout",
     "output_type": "stream",
     "text": [
      "{'animal': 'dog', 'planet': 'neptun', 'number': 40, 'pi': 3.14, 'is_good': True, 'zoo': ['at', 'yılan']}\n"
     ]
    }
   ],
   "source": [
    "dict_by_dict.update(zoo = ['at','yılan'])\n",
    "print(dict_by_dict)"
   ]
  },
  {
   "cell_type": "code",
   "execution_count": 114,
   "id": "cdd465ac",
   "metadata": {},
   "outputs": [
    {
     "name": "stdout",
     "output_type": "stream",
     "text": [
      "<class 'list'>\n"
     ]
    }
   ],
   "source": [
    "print (type(dict_by_dict[\"zoo\"]))"
   ]
  },
  {
   "cell_type": "code",
   "execution_count": 116,
   "id": "6cd1413a",
   "metadata": {},
   "outputs": [
    {
     "name": "stdout",
     "output_type": "stream",
     "text": [
      "5\n"
     ]
    }
   ],
   "source": [
    "print(len(dict_by_dict))"
   ]
  },
  {
   "cell_type": "code",
   "execution_count": 121,
   "id": "f5b14fc3",
   "metadata": {},
   "outputs": [
    {
     "data": {
      "text/plain": [
       "dict_items([('animal', 'dog'), ('planet', 'neptun'), ('number', 40), ('pi', 3.14), ('is_good', True)])"
      ]
     },
     "execution_count": 121,
     "metadata": {},
     "output_type": "execute_result"
    }
   ],
   "source": [
    "dict_by_dict.items()"
   ]
  },
  {
   "cell_type": "code",
   "execution_count": 122,
   "id": "8c8867e2",
   "metadata": {},
   "outputs": [
    {
     "data": {
      "text/plain": [
       "dict_items"
      ]
     },
     "execution_count": 122,
     "metadata": {},
     "output_type": "execute_result"
    }
   ],
   "source": [
    "type(dict_by_dict.items())"
   ]
  },
  {
   "cell_type": "code",
   "execution_count": 123,
   "id": "c9f52ad1",
   "metadata": {},
   "outputs": [
    {
     "data": {
      "text/plain": [
       "dict_items([('Springfield', 'Illinois'), ('Augusta', 'Maine'), ('Boston', 'Massachusetts'), ('Lansing', 'Michigan'), ('Albany', 'New York'), ('Olympia', 'Washington')])"
      ]
     },
     "execution_count": 123,
     "metadata": {},
     "output_type": "execute_result"
    }
   ],
   "source": [
    "capitals.items()"
   ]
  },
  {
   "cell_type": "code",
   "execution_count": 124,
   "id": "6de8b613",
   "metadata": {},
   "outputs": [
    {
     "data": {
      "text/plain": [
       "dict_items"
      ]
     },
     "execution_count": 124,
     "metadata": {},
     "output_type": "execute_result"
    }
   ],
   "source": [
    "type(capitals.items())"
   ]
  },
  {
   "cell_type": "code",
   "execution_count": 125,
   "id": "405dd7bd",
   "metadata": {},
   "outputs": [
    {
     "data": {
      "text/plain": [
       "[('animal', 'dog'),\n",
       " ('planet', 'neptun'),\n",
       " ('number', 40),\n",
       " ('pi', 3.14),\n",
       " ('is_good', True)]"
      ]
     },
     "execution_count": 125,
     "metadata": {},
     "output_type": "execute_result"
    }
   ],
   "source": [
    "list(dict_by_dict.items())"
   ]
  },
  {
   "cell_type": "code",
   "execution_count": 136,
   "id": "de654260",
   "metadata": {},
   "outputs": [
    {
     "data": {
      "text/plain": [
       "('animal', 'planet', 'number', 'pi', 'is_good')"
      ]
     },
     "execution_count": 136,
     "metadata": {},
     "output_type": "execute_result"
    }
   ],
   "source": [
    "tuple((dict_by_dict))"
   ]
  },
  {
   "cell_type": "code",
   "execution_count": 132,
   "id": "591a4675",
   "metadata": {},
   "outputs": [
    {
     "data": {
      "text/plain": [
       "tuple"
      ]
     },
     "execution_count": 132,
     "metadata": {},
     "output_type": "execute_result"
    }
   ],
   "source": [
    "type(tuple(dict_by_dict))"
   ]
  },
  {
   "cell_type": "code",
   "execution_count": 127,
   "id": "73a957fb",
   "metadata": {},
   "outputs": [
    {
     "data": {
      "text/plain": [
       "('animal', 'planet', 'number', 'pi', 'is_good')"
      ]
     },
     "execution_count": 127,
     "metadata": {},
     "output_type": "execute_result"
    }
   ],
   "source": [
    "tuple(dict_by_dict.keys())"
   ]
  },
  {
   "cell_type": "code",
   "execution_count": 131,
   "id": "b370ad5c",
   "metadata": {},
   "outputs": [
    {
     "data": {
      "text/plain": [
       "tuple"
      ]
     },
     "execution_count": 131,
     "metadata": {},
     "output_type": "execute_result"
    }
   ],
   "source": [
    "type(tuple(dict_by_dict.keys()))"
   ]
  },
  {
   "cell_type": "code",
   "execution_count": 128,
   "id": "68b003d8",
   "metadata": {},
   "outputs": [
    {
     "data": {
      "text/plain": [
       "('dog', 'neptun', 40, 3.14, True)"
      ]
     },
     "execution_count": 128,
     "metadata": {},
     "output_type": "execute_result"
    }
   ],
   "source": [
    "tuple(dict_by_dict.values())"
   ]
  },
  {
   "cell_type": "code",
   "execution_count": 138,
   "id": "357b0982",
   "metadata": {},
   "outputs": [],
   "source": [
    "x,y,z,d,c=dict_by_dict.items()"
   ]
  },
  {
   "cell_type": "code",
   "execution_count": 140,
   "id": "5e88ac20",
   "metadata": {},
   "outputs": [
    {
     "name": "stdout",
     "output_type": "stream",
     "text": [
      "('animal', 'dog')\n",
      "('is_good', True)\n"
     ]
    }
   ],
   "source": [
    "print(x)\n",
    "print(c)"
   ]
  },
  {
   "cell_type": "code",
   "execution_count": 143,
   "id": "70406809",
   "metadata": {},
   "outputs": [
    {
     "data": {
      "text/plain": [
       "('animal', 'dog')"
      ]
     },
     "execution_count": 143,
     "metadata": {},
     "output_type": "execute_result"
    }
   ],
   "source": [
    "items=list(dict_by_dict.items())\n",
    "items[0]"
   ]
  },
  {
   "cell_type": "code",
   "execution_count": 144,
   "id": "b22f28b9",
   "metadata": {},
   "outputs": [],
   "source": [
    "x,y =items[0]  #list haline getirip içindeki tuple larda  key ve valueleri değiştirebilir, atayabiliriz."
   ]
  },
  {
   "cell_type": "code",
   "execution_count": 145,
   "id": "018a05c7",
   "metadata": {},
   "outputs": [
    {
     "name": "stdout",
     "output_type": "stream",
     "text": [
      "dog\n"
     ]
    }
   ],
   "source": [
    "print(y)"
   ]
  },
  {
   "cell_type": "code",
   "execution_count": null,
   "id": "bc107e70",
   "metadata": {},
   "outputs": [],
   "source": [
    "x;y= \"animal\", \"dog\"  # tuple bir atama oldu. parantez olmasa bile."
   ]
  },
  {
   "cell_type": "code",
   "execution_count": 147,
   "id": "3acd8340",
   "metadata": {},
   "outputs": [
    {
     "data": {
      "text/plain": [
       "('animal', 'planet', 'number', 'pi', 'is_good')"
      ]
     },
     "execution_count": 147,
     "metadata": {},
     "output_type": "execute_result"
    }
   ],
   "source": [
    "tuple(dict_by_dict.keys())"
   ]
  },
  {
   "cell_type": "code",
   "execution_count": 148,
   "id": "acd3a169",
   "metadata": {},
   "outputs": [
    {
     "data": {
      "text/plain": [
       "{3.14, 40, True, 'dog', 'neptun'}"
      ]
     },
     "execution_count": 148,
     "metadata": {},
     "output_type": "execute_result"
    }
   ],
   "source": [
    "set(dict_by_dict.values())"
   ]
  },
  {
   "cell_type": "code",
   "execution_count": 149,
   "id": "9b2bb3f1",
   "metadata": {},
   "outputs": [
    {
     "data": {
      "text/plain": [
       "set"
      ]
     },
     "execution_count": 149,
     "metadata": {},
     "output_type": "execute_result"
    }
   ],
   "source": [
    "type(set(dict_by_dict.values()))"
   ]
  },
  {
   "cell_type": "code",
   "execution_count": 151,
   "id": "a9b63867",
   "metadata": {},
   "outputs": [
    {
     "name": "stdout",
     "output_type": "stream",
     "text": [
      "{'name1': 'edwin', 'name2': 'bella', 'name3': 'aisha', 'name4': 'tom'}\n"
     ]
    }
   ],
   "source": [
    "family= {'name1': 'edwin',\n",
    "        'name2': 'bella',\n",
    "         'name3': 'aisha',\n",
    "         'name4': 'tom'      \n",
    "        }\n",
    "print(family)"
   ]
  },
  {
   "cell_type": "code",
   "execution_count": 152,
   "id": "732ef52b",
   "metadata": {},
   "outputs": [
    {
     "data": {
      "text/plain": [
       "[('name1', 'edwin'), ('name2', 'bella'), ('name3', 'aisha'), ('name4', 'tom')]"
      ]
     },
     "execution_count": 152,
     "metadata": {},
     "output_type": "execute_result"
    }
   ],
   "source": [
    "list(family.items())"
   ]
  },
  {
   "cell_type": "code",
   "execution_count": 158,
   "id": "38e78f1a",
   "metadata": {},
   "outputs": [],
   "source": [
    "family['name5']='ali'"
   ]
  },
  {
   "cell_type": "code",
   "execution_count": 159,
   "id": "4de0c2f9",
   "metadata": {},
   "outputs": [
    {
     "name": "stdout",
     "output_type": "stream",
     "text": [
      "{'name1': 'edwin', 'name2': 'bella', 'name3': 'aisha', 'name4': 'tom', 'name6': 'han', 'name5': 'ali'}\n"
     ]
    }
   ],
   "source": [
    "print(family)"
   ]
  },
  {
   "cell_type": "code",
   "execution_count": 157,
   "id": "c7610d80",
   "metadata": {},
   "outputs": [
    {
     "data": {
      "text/plain": [
       "{'name1': 'edwin',\n",
       " 'name2': 'bella',\n",
       " 'name3': 'aisha',\n",
       " 'name4': 'tom',\n",
       " 'name6': 'han'}"
      ]
     },
     "execution_count": 157,
     "metadata": {},
     "output_type": "execute_result"
    }
   ],
   "source": [
    "family.update({\"name6\":\"han\"})\n",
    "family"
   ]
  },
  {
   "cell_type": "code",
   "execution_count": 160,
   "id": "7343c805",
   "metadata": {},
   "outputs": [
    {
     "data": {
      "text/plain": [
       "{'name1': 'edwin',\n",
       " 'name2': 'ahmet',\n",
       " 'name3': 'aisha',\n",
       " 'name4': 'tom',\n",
       " 'name6': 'han',\n",
       " 'name5': 'ali'}"
      ]
     },
     "execution_count": 160,
     "metadata": {},
     "output_type": "execute_result"
    }
   ],
   "source": [
    "family.update({\"name2\":\"ahmet\"})   # yeniden atama yapar.\n",
    "family"
   ]
  },
  {
   "cell_type": "code",
   "execution_count": 162,
   "id": "2cc1912c",
   "metadata": {},
   "outputs": [
    {
     "ename": "KeyError",
     "evalue": "'name1'",
     "output_type": "error",
     "traceback": [
      "\u001b[1;31m---------------------------------------------------------------------------\u001b[0m",
      "\u001b[1;31mKeyError\u001b[0m                                  Traceback (most recent call last)",
      "Input \u001b[1;32mIn [162]\u001b[0m, in \u001b[0;36m<cell line: 1>\u001b[1;34m()\u001b[0m\n\u001b[1;32m----> 1\u001b[0m \u001b[38;5;28;01mdel\u001b[39;00m family[\u001b[38;5;124m\"\u001b[39m\u001b[38;5;124mname1\u001b[39m\u001b[38;5;124m\"\u001b[39m]\n\u001b[0;32m      2\u001b[0m family\n",
      "\u001b[1;31mKeyError\u001b[0m: 'name1'"
     ]
    }
   ],
   "source": [
    "del family[\"name1\"]\n"
   ]
  },
  {
   "cell_type": "code",
   "execution_count": 163,
   "id": "b1a34c0e",
   "metadata": {},
   "outputs": [
    {
     "data": {
      "text/plain": [
       "{'name2': 'ahmet',\n",
       " 'name3': 'aisha',\n",
       " 'name4': 'tom',\n",
       " 'name6': 'han',\n",
       " 'name5': 'ali'}"
      ]
     },
     "execution_count": 163,
     "metadata": {},
     "output_type": "execute_result"
    }
   ],
   "source": [
    "family"
   ]
  },
  {
   "cell_type": "code",
   "execution_count": 166,
   "id": "5d3add02",
   "metadata": {},
   "outputs": [
    {
     "name": "stdout",
     "output_type": "stream",
     "text": [
      "Sistem belirtilen dosyayı bulamıyor.\n"
     ]
    }
   ],
   "source": [
    "copy family[\"name3\"]"
   ]
  },
  {
   "cell_type": "code",
   "execution_count": 167,
   "id": "c3b0c137",
   "metadata": {},
   "outputs": [
    {
     "data": {
      "text/plain": [
       "{'name2': 'ahmet',\n",
       " 'name3': 'aisha',\n",
       " 'name4': 'tom',\n",
       " 'name6': 'han',\n",
       " 'name5': 'ali'}"
      ]
     },
     "execution_count": 167,
     "metadata": {},
     "output_type": "execute_result"
    }
   ],
   "source": [
    "family"
   ]
  },
  {
   "cell_type": "code",
   "execution_count": 172,
   "id": "254e630d",
   "metadata": {},
   "outputs": [
    {
     "data": {
      "text/plain": [
       "True"
      ]
     },
     "execution_count": 172,
     "metadata": {},
     "output_type": "execute_result"
    }
   ],
   "source": [
    "\"ahmet\" in family.values()"
   ]
  },
  {
   "cell_type": "code",
   "execution_count": 173,
   "id": "d1c61573",
   "metadata": {},
   "outputs": [
    {
     "data": {
      "text/plain": [
       "True"
      ]
     },
     "execution_count": 173,
     "metadata": {},
     "output_type": "execute_result"
    }
   ],
   "source": [
    "\"name5\" in family"
   ]
  },
  {
   "cell_type": "code",
   "execution_count": 175,
   "id": "b291fa55",
   "metadata": {},
   "outputs": [
    {
     "data": {
      "text/plain": [
       "['c', 'l', 'a', 'r', 'u', 's', 'w', 'a', 'y']"
      ]
     },
     "execution_count": 175,
     "metadata": {},
     "output_type": "execute_result"
    }
   ],
   "source": [
    "bootcamp=\"c l a r u s w a y\"\n",
    "bootcamp.split()\n"
   ]
  },
  {
   "cell_type": "code",
   "execution_count": 176,
   "id": "2627e664",
   "metadata": {},
   "outputs": [
    {
     "name": "stdout",
     "output_type": "stream",
     "text": [
      "c l a r u s w a y\n"
     ]
    }
   ],
   "source": [
    "print(bootcamp)"
   ]
  },
  {
   "cell_type": "code",
   "execution_count": 177,
   "id": "0d7d07e5",
   "metadata": {},
   "outputs": [],
   "source": [
    "bootcamp=bootcamp.split()"
   ]
  },
  {
   "cell_type": "code",
   "execution_count": 178,
   "id": "55e0911f",
   "metadata": {},
   "outputs": [
    {
     "name": "stdout",
     "output_type": "stream",
     "text": [
      "['c', 'l', 'a', 'r', 'u', 's', 'w', 'a', 'y']\n"
     ]
    }
   ],
   "source": [
    "print(bootcamp)"
   ]
  },
  {
   "cell_type": "code",
   "execution_count": 181,
   "id": "857338a7",
   "metadata": {},
   "outputs": [
    {
     "data": {
      "text/plain": [
       "list"
      ]
     },
     "execution_count": 181,
     "metadata": {},
     "output_type": "execute_result"
    }
   ],
   "source": [
    "type(bootcamp)"
   ]
  },
  {
   "cell_type": "code",
   "execution_count": 179,
   "id": "f0bf4b4f",
   "metadata": {},
   "outputs": [
    {
     "data": {
      "text/plain": [
       "['ali', 'deli', 'veli']"
      ]
     },
     "execution_count": 179,
     "metadata": {},
     "output_type": "execute_result"
    }
   ],
   "source": [
    "ıvırzıvır=\"ali-deli-veli\".split(\"-\")\n",
    "ıvırzıvır"
   ]
  },
  {
   "cell_type": "code",
   "execution_count": 180,
   "id": "f4c2f740",
   "metadata": {},
   "outputs": [
    {
     "data": {
      "text/plain": [
       "True"
      ]
     },
     "execution_count": 180,
     "metadata": {},
     "output_type": "execute_result"
    }
   ],
   "source": [
    "\"a\" in bootcamp"
   ]
  },
  {
   "cell_type": "code",
   "execution_count": 186,
   "id": "279e7e20",
   "metadata": {},
   "outputs": [
    {
     "data": {
      "text/plain": [
       "True"
      ]
     },
     "execution_count": 186,
     "metadata": {},
     "output_type": "execute_result"
    }
   ],
   "source": [
    "\"dog\" in dict_by_dict.values()"
   ]
  },
  {
   "cell_type": "code",
   "execution_count": 190,
   "id": "69b2a3f3",
   "metadata": {},
   "outputs": [
    {
     "name": "stdout",
     "output_type": "stream",
     "text": [
      "2\n"
     ]
    }
   ],
   "source": [
    "school_records={\n",
    "    \"personal_info\":\n",
    "        {\"kid\":{\"tom\": {\"class\": \"intermediate\", \"age\": 10},\n",
    "                \"sue\": {\"class\": \"elementary\", \"age\": 8}\n",
    "               },\n",
    "         \"teen\":{\"joseph\":{\"class\": \"college\", \"age\": 19},\n",
    "                 \"marry\":{\"class\": \"high school\", \"age\": 16}\n",
    "               },               \n",
    "        },\n",
    "        \n",
    "    \"grades_info\":\n",
    "        {\"kid\":{\"tom\": {\"math\": 88, \"speech\": 69},\n",
    "                \"sue\": {\"math\": 90, \"speech\": 81}\n",
    "               },\n",
    "         \"teen\":{\"joseph\":{\"coding\": 80, \"math\": 89},\n",
    "                 \"marry\":{\"coding\": 70, \"math\": 96}\n",
    "               },               \n",
    "        },        \n",
    "}\n",
    "print(len(school_records))"
   ]
  },
  {
   "cell_type": "code",
   "execution_count": null,
   "id": "0604ad1f",
   "metadata": {},
   "outputs": [],
   "source": [
    "kortex={\n",
    "    \"arkadaş\": {\n",
    "        \"arki\": {\"first\": \"musa\", \"last\": \"Akbay\"}, \n",
    "        \"arki1\": {\"first\": \"esra\", \"last\": \"yıldız\"}\n",
    "    },\n",
    "    \"aile\": {\n",
    "        \"aile\": {\"first\": \"pınar\", \"last\": \"han\"},\n",
    "        \"aile1\": {\"first\": \"miray\", \"last\": \"han\"},\n",
    "        \"aile2\": {\"first\": \"mirza\", \"last\": \"han\"}\n",
    "    }   \n",
    "}"
   ]
  },
  {
   "cell_type": "code",
   "execution_count": 205,
   "id": "db56af01",
   "metadata": {},
   "outputs": [
    {
     "data": {
      "text/plain": [
       "{'kid': {'tom': {'class': 'intermediate', 'age': 10},\n",
       "  'sue': {'class': 'elementary', 'age': 8}},\n",
       " 'teen': {'joseph': {'class': 'college', 'age': 19},\n",
       "  'marry': {'class': 'high school', 'age': 16}}}"
      ]
     },
     "execution_count": 205,
     "metadata": {},
     "output_type": "execute_result"
    }
   ],
   "source": [
    "school_records[\"personal_info\"]"
   ]
  },
  {
   "cell_type": "code",
   "execution_count": 209,
   "id": "97d9c617",
   "metadata": {},
   "outputs": [
    {
     "data": {
      "text/plain": [
       "dict"
      ]
     },
     "execution_count": 209,
     "metadata": {},
     "output_type": "execute_result"
    }
   ],
   "source": [
    "type(school_records[\"personal_info\"])"
   ]
  },
  {
   "cell_type": "code",
   "execution_count": 208,
   "id": "cbf4adbb",
   "metadata": {},
   "outputs": [
    {
     "data": {
      "text/plain": [
       "dict_items([('personal_info', {'kid': {'tom': {'class': 'intermediate', 'age': 10}, 'sue': {'class': 'elementary', 'age': 8}}, 'teen': {'joseph': {'class': 'college', 'age': 19}, 'marry': {'class': 'high school', 'age': 16}}}), ('grades_info', {'kid': {'tom': {'math': 88, 'speech': 69}, 'sue': {'math': 90, 'speech': 81}}, 'teen': {'joseph': {'coding': 80, 'math': 89}, 'marry': {'coding': 70, 'math': 96}}})])"
      ]
     },
     "execution_count": 208,
     "metadata": {},
     "output_type": "execute_result"
    }
   ],
   "source": [
    "school_records.items()"
   ]
  },
  {
   "cell_type": "code",
   "execution_count": 212,
   "id": "cb36cece",
   "metadata": {},
   "outputs": [],
   "source": [
    "school_records.setdefault()"
   ]
  },
  {
   "cell_type": "code",
   "execution_count": 226,
   "id": "cb6c46cc",
   "metadata": {},
   "outputs": [
    {
     "data": {
      "text/plain": [
       "88"
      ]
     },
     "execution_count": 226,
     "metadata": {},
     "output_type": "execute_result"
    }
   ],
   "source": [
    "school_records[\"grades_info\"][\"kid\"][\"tom\"][\"math\"]"
   ]
  },
  {
   "cell_type": "code",
   "execution_count": 227,
   "id": "6c50c788",
   "metadata": {},
   "outputs": [
    {
     "data": {
      "text/plain": [
       "int"
      ]
     },
     "execution_count": 227,
     "metadata": {},
     "output_type": "execute_result"
    }
   ],
   "source": [
    "type(school_records[\"grades_info\"][\"kid\"][\"tom\"][\"math\"])"
   ]
  },
  {
   "cell_type": "code",
   "execution_count": 228,
   "id": "c5c24265",
   "metadata": {},
   "outputs": [
    {
     "data": {
      "text/plain": [
       "['personal_info', 'grades_info', 'kid']"
      ]
     },
     "execution_count": 228,
     "metadata": {},
     "output_type": "execute_result"
    }
   ],
   "source": [
    "list(school_records)"
   ]
  },
  {
   "cell_type": "code",
   "execution_count": null,
   "id": "876a0de4",
   "metadata": {},
   "outputs": [],
   "source": [
    "a = (word + seperator) * (repetetion)+ '\\b'"
   ]
  },
  {
   "cell_type": "code",
   "execution_count": 229,
   "id": "7ea955a2",
   "metadata": {},
   "outputs": [
    {
     "name": "stdout",
     "output_type": "stream",
     "text": [
      "word: ahmet\n",
      "Seperator=\n",
      "repetetion4\n",
      "ahmet=ahmet=ahmet=ahmet\n"
     ]
    }
   ],
   "source": [
    "word = input(\"word: \")\n",
    "seperator = input(\"Seperator\")\n",
    "repetetion = int(input(\"repetetion\"))\n",
    "a = (word + seperator) * (repetetion)+ '\\b'\n",
    "print(a)"
   ]
  },
  {
   "cell_type": "code",
   "execution_count": null,
   "id": "514340f9",
   "metadata": {},
   "outputs": [],
   "source": []
  }
 ],
 "metadata": {
  "kernelspec": {
   "display_name": "Python 3 (ipykernel)",
   "language": "python",
   "name": "python3"
  },
  "language_info": {
   "codemirror_mode": {
    "name": "ipython",
    "version": 3
   },
   "file_extension": ".py",
   "mimetype": "text/x-python",
   "name": "python",
   "nbconvert_exporter": "python",
   "pygments_lexer": "ipython3",
   "version": "3.9.12"
  }
 },
 "nbformat": 4,
 "nbformat_minor": 5
}
