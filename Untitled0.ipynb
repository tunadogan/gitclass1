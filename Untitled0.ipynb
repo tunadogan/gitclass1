{
  "nbformat": 4,
  "nbformat_minor": 0,
  "metadata": {
    "colab": {
      "provenance": [],
      "collapsed_sections": [],
      "authorship_tag": "ABX9TyO4y9wng1f+KlY+WLsXgzVJ",
      "include_colab_link": true
    },
    "kernelspec": {
      "name": "python3",
      "display_name": "Python 3"
    },
    "language_info": {
      "name": "python"
    },
    "accelerator": "TPU"
  },
  "cells": [
    {
      "cell_type": "markdown",
      "metadata": {
        "id": "view-in-github",
        "colab_type": "text"
      },
      "source": [
        "<a href=\"https://colab.research.google.com/github/tunahanozdogan/gitclass1/blob/main/Untitled0.ipynb\" target=\"_parent\"><img src=\"https://colab.research.google.com/assets/colab-badge.svg\" alt=\"Open In Colab\"/></a>"
      ]
    },
    {
      "cell_type": "code",
      "source": [
        "from re import A\n",
        "isim=input('isim giriniz:')\n"
      ],
      "metadata": {
        "id": "FOjGUed5nUKb"
      },
      "execution_count": null,
      "outputs": []
    },
    {
      "cell_type": "code",
      "source": [
        "yazili1 = int(input('1. Yazılı : '))\n",
        "yazili2 = int(input('2. Yazılı : '))\n",
        "yazili3 = int(input('3. Yazılı : '))\n",
        "ortalama=(yazili1+yazili2+yazili3)/3\n",
        "print(\"Yazılı Ortalaması :{0} \".format(ortalama))\n",
        "if(ortalama>=50):\n",
        "      print(\"Dersten Geçtiniz.\")\n",
        "else:\n",
        "      print(\"Dersten Kaldınız.\")\n",
        " "
      ],
      "metadata": {
        "colab": {
          "base_uri": "https://localhost:8080/"
        },
        "id": "m4ziXdpFqrjH",
        "outputId": "180da04a-7aa3-4385-c0f3-796e74f1c210"
      },
      "execution_count": null,
      "outputs": [
        {
          "output_type": "stream",
          "name": "stdout",
          "text": [
            "1. Yazılı : 34\n",
            "2. Yazılı : 45\n",
            "3. Yazılı : 56\n",
            "Yazılı Ortalaması :45.0 \n",
            "Dersten Kaldınız.\n"
          ]
        }
      ]
    },
    {
      "cell_type": "code",
      "source": [
        "print('a')\n",
        "print('''''''''''')\n",
        "print('''''''''''''''''''''''''''''''''''''''''''''''''a''''''''''''''''''''''''''''''''''''''''''''''''')"
      ],
      "metadata": {
        "colab": {
          "base_uri": "https://localhost:8080/"
        },
        "id": "DWnD_wKzrDqD",
        "outputId": "01ed0673-e07c-48f6-8961-8684105f448f"
      },
      "execution_count": null,
      "outputs": [
        {
          "output_type": "stream",
          "name": "stdout",
          "text": [
            "a\n",
            "\n",
            "a\n"
          ]
        }
      ]
    },
    {
      "cell_type": "code",
      "source": [
        "print('tunahan')  #birinci isim\n",
        "yas = input('Yaşınızı Giriniz : ')   #ksdjfkşgsdfg\n",
        "'''jfkdjşkajsşdfkjaşskdjşakljdfşaslkjdfşakljd'''"
      ],
      "metadata": {
        "id": "kkYK65SZ2H6E"
      },
      "execution_count": null,
      "outputs": []
    },
    {
      "cell_type": "code",
      "source": [
        "my_age = 33\n",
        "your_age =30\n",
        "my_age = your_age\n",
        "print(my_age)"
      ],
      "metadata": {
        "colab": {
          "base_uri": "https://localhost:8080/"
        },
        "id": "qmn9SkWn4-rP",
        "outputId": "00908dcc-4200-4f33-c5d1-091a04514c09"
      },
      "execution_count": null,
      "outputs": [
        {
          "output_type": "stream",
          "name": "stdout",
          "text": [
            "30\n"
          ]
        }
      ]
    }
  ]
}