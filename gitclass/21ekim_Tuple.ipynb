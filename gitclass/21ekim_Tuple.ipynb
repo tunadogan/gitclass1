{
 "cells": [
  {
   "cell_type": "markdown",
   "id": "4c4a1cee",
   "metadata": {},
   "source": [
    "######                            Tuple and Dict"
   ]
  },
  {
   "cell_type": "code",
   "execution_count": 3,
   "id": "2036107a",
   "metadata": {},
   "outputs": [],
   "source": [
    "import sys\n"
   ]
  },
  {
   "cell_type": "code",
   "execution_count": 4,
   "id": "3f7e4002",
   "metadata": {},
   "outputs": [
    {
     "name": "stdout",
     "output_type": "stream",
     "text": [
      "120\n",
      "64\n"
     ]
    }
   ],
   "source": [
    "x=[1,2,3]\n",
    "y=(1,2,3)\n",
    "print(sys.getsizeof(x))\n",
    "print(sys.getsizeof(y))"
   ]
  },
  {
   "cell_type": "code",
   "execution_count": 5,
   "id": "bf2993af",
   "metadata": {},
   "outputs": [
    {
     "name": "stdout",
     "output_type": "stream",
     "text": [
      "Denver\n",
      "Atlanta\n",
      "Sacramento\n"
     ]
    }
   ],
   "source": [
    "state_capitals = {'Arkansas': 'Little Rock',\n",
    "                  'Colorado': 'Denver',\n",
    "                  'California': 'Sacramento',\n",
    "                  'Georgia': 'Atlanta' \n",
    "                 }\n",
    "\n",
    "print(state_capitals['Colorado']) # accessing method\n",
    "print(state_capitals['Georgia'])\n",
    "print(state_capitals['California'])"
   ]
  },
  {
   "cell_type": "code",
   "execution_count": 6,
   "id": "e28e351c",
   "metadata": {},
   "outputs": [
    {
     "name": "stdout",
     "output_type": "stream",
     "text": [
      "{'Arkansas': 'Little Rock', 'Colorado': 'Denver', 'California': 'Sacramento', 'Georgia': 'Atlanta', 'Virginia': 'Richmond'}\n"
     ]
    }
   ],
   "source": [
    "state_capitals = {'Arkansas': 'Little Rock',\n",
    "                  'Colorado': 'Denver',\n",
    "                  'California': 'Sacramento',\n",
    "                  'Georgia': 'Atlanta' \n",
    "                 }\n",
    "\n",
    "state_capitals['Virginia'] = 'Richmond' # adding a new item\n",
    "\n",
    "print(state_capitals)"
   ]
  },
  {
   "cell_type": "code",
   "execution_count": 10,
   "id": "1e74b9d9",
   "metadata": {},
   "outputs": [
    {
     "name": "stdout",
     "output_type": "stream",
     "text": [
      "{'Adana': 'Kebap', 'Sivas': 'Köfte', 'Urfa': 'Ciğer', 'Ankara': 'tava', 'Hatay': 'Künefe'}\n",
      "Kebap\n",
      "Köfte\n",
      "Ciğer\n",
      "tava\n",
      "Künefe\n"
     ]
    }
   ],
   "source": [
    "sehir_yemek = {'Adana': 'Kebap' , 'Sivas' : 'Köfte' , 'Urfa' : 'Ciğer',\n",
    "                'Ankara' : 'tava' ,'Hatay' : 'Künefe' \n",
    "              }\n",
    "print(sehir_yemek) \n",
    "print(sehir_yemek['Adana'])\n",
    "print(sehir_yemek['Sivas'])\n",
    "print(sehir_yemek['Urfa'])\n",
    "print(sehir_yemek['Ankara'])\n",
    "print(sehir_yemek['Hatay'])"
   ]
  },
  {
   "cell_type": "code",
   "execution_count": 15,
   "id": "bd88c6d4",
   "metadata": {},
   "outputs": [
    {
     "name": "stdout",
     "output_type": "stream",
     "text": [
      "5\n",
      "<class 'dict'>\n"
     ]
    }
   ],
   "source": [
    "sehir_yemek = {'Adana': 'Kebap' , 'Sivas' : 'Köfte' , 'Urfa' : 'Ciğer',\n",
    "                'Ankara' : 'tava' ,'Hatay' : 'Künefe' \n",
    "              }\n",
    "print(len(sehir_yemek))\n",
    "print(type(sehir_yemek))"
   ]
  },
  {
   "cell_type": "code",
   "execution_count": 17,
   "id": "7af5e9a9",
   "metadata": {},
   "outputs": [
    {
     "name": "stdout",
     "output_type": "stream",
     "text": [
      "{'animal': ('dog', 'cat'), 'planet': ['Neptun', 'Saturn', 'Jupiter'], 'number': 40, 'pi': 3.14, 'is_good': True}\n",
      "{22: 'integer', 1.2: 'float', True: 'boolean', 'key': 'string'}\n"
     ]
    }
   ],
   "source": [
    "mix_values = {'animal': ('dog', 'cat'),  # tuple type\n",
    "              'planet': ['Neptun', 'Saturn', 'Jupiter'],  # list type\n",
    "              'number': 40,  # int type\n",
    "              'pi': 3.14,  # float type\n",
    "              'is_good': True}  # bool type\n",
    "\n",
    "mix_keys = {22 : \"integer\",\n",
    "            1.2 : \"float\",\n",
    "            True : \"boolean\",\n",
    "            \"key\" : \"string\"}\n",
    "print(mix_values)\n",
    "print(mix_keys)"
   ]
  },
  {
   "cell_type": "code",
   "execution_count": 16,
   "id": "6160575c",
   "metadata": {},
   "outputs": [
    {
     "name": "stdout",
     "output_type": "stream",
     "text": [
      "{'animal': 'dog', 'planet': 'neptun', 'number': 40, 'pi': 3.14, 'is_good': True}\n"
     ]
    }
   ],
   "source": [
    "dict_by_dict = dict(animal='dog', planet='neptun', number=40, pi=3.14, is_good=True)\n",
    "\n",
    "print(dict_by_dict)"
   ]
  },
  {
   "cell_type": "code",
   "execution_count": 18,
   "id": "a0221cee",
   "metadata": {},
   "outputs": [
    {
     "name": "stdout",
     "output_type": "stream",
     "text": [
      "dict_items([('animal', 'dog'), ('planet', 'neptun'), ('number', 40), ('pi', 3.14), ('is_good', True)]) \n",
      "\n",
      "dict_keys(['animal', 'planet', 'number', 'pi', 'is_good']) \n",
      "\n",
      "dict_values(['dog', 'neptun', 40, 3.14, True])\n"
     ]
    }
   ],
   "source": [
    "dict_by_dict = {'animal': 'dog',\n",
    "                'planet': 'neptun',\n",
    "                'number': 40,\n",
    "                'pi': 3.14,\n",
    "                'is_good': True}\n",
    "\n",
    "print(dict_by_dict.items(), '\\n')\n",
    "print(dict_by_dict.keys(), '\\n')\n",
    "print(dict_by_dict.values())\n"
   ]
  },
  {
   "cell_type": "code",
   "execution_count": 19,
   "id": "aa1ba52d",
   "metadata": {},
   "outputs": [
    {
     "name": "stdout",
     "output_type": "stream",
     "text": [
      "{'animal': 'dog', 'planet': 'neptun', 'number': 40, 'pi': 3.14, 'is_good': True, 'is_bad': False}\n"
     ]
    }
   ],
   "source": [
    "dict_by_dict = {'animal': 'dog',\n",
    "                'planet': 'neptun',\n",
    "                'number': 40,\n",
    "                'pi': 3.14,\n",
    "                'is_good': True}\n",
    "\n",
    "dict_by_dict.update({'is_bad': False})\n",
    "\n",
    "print(dict_by_dict)"
   ]
  },
  {
   "cell_type": "code",
   "execution_count": 21,
   "id": "ad8f4fe0",
   "metadata": {},
   "outputs": [
    {
     "name": "stdout",
     "output_type": "stream",
     "text": [
      "{'animal': 'dog', 'planet': 'neptun', 'number': 40, 'pi': 3.14, 'is_good': True, 'is_bad': False}\n",
      "{'planet': 'neptun', 'number': 40, 'pi': 3.14, 'is_good': True, 'is_bad': False}\n"
     ]
    }
   ],
   "source": [
    "dict_by_dict = {'animal': 'dog',\n",
    "               'planet': 'neptun',\n",
    "               'number': 40,\n",
    "               'pi': 3.14,\n",
    "               'is_good': True,\n",
    "               'is_bad': False}\n",
    "\n",
    "print(dict_by_dict) \n",
    "del dict_by_dict['animal']\n",
    "\n",
    "print(dict_by_dict) "
   ]
  },
  {
   "cell_type": "code",
   "execution_count": 22,
   "id": "bd3b9896",
   "metadata": {},
   "outputs": [
    {
     "name": "stdout",
     "output_type": "stream",
     "text": [
      "{'planet': 'neptun', 'number': 40, 'pi': 3.14, 'is_good': True, 'is_bad': False}\n",
      "True\n",
      "True\n",
      "False\n"
     ]
    }
   ],
   "source": [
    "dict_by_dict = {'planet': 'neptun',\n",
    "               'number': 40,\n",
    "               'pi': 3.14,\n",
    "               'is_good': True,\n",
    "               'is_bad': False}\n",
    "print(dict_by_dict) \n",
    "print('pi' in dict_by_dict) \n",
    "print('animal' not in dict_by_dict)  # remember, we have deleted 'animal'\n",
    "print('number' not in dict_by_dict)"
   ]
  },
  {
   "cell_type": "code",
   "execution_count": 25,
   "id": "85f9ef46",
   "metadata": {},
   "outputs": [
    {
     "name": "stdout",
     "output_type": "stream",
     "text": [
      "{'planet': 'neptun', 'number': 40, 'pi': 3.14, 'is_good': True, 'is_bad': False}\n",
      "False\n"
     ]
    }
   ],
   "source": [
    "ict_by_dict = {'planet': 'neptun',\n",
    "               'number': 40,\n",
    "               'pi': 3.14,\n",
    "               'is_good': True,\n",
    "               'is_bad': False}\n",
    "print(dict_by_dict) \n",
    "print('is_bad' not in dict_by_dict) "
   ]
  },
  {
   "cell_type": "code",
   "execution_count": 89,
   "id": "052eb35b",
   "metadata": {},
   "outputs": [
    {
     "name": "stdout",
     "output_type": "stream",
     "text": [
      "3.14\n"
     ]
    }
   ],
   "source": [
    "print (ict_by_dict['pi'])"
   ]
  },
  {
   "cell_type": "code",
   "execution_count": 93,
   "id": "ef2a7584",
   "metadata": {},
   "outputs": [
    {
     "name": "stdout",
     "output_type": "stream",
     "text": [
      "(32, ['Peter'])\n"
     ]
    }
   ],
   "source": [
    "student_ages = {\"Harry\": 29,\n",
    "                \"Clark\": 32,\n",
    "                \"Peter\": 22,\n",
    "                \"Bruce\": 36\n",
    "                }\n",
    "print((student_ages['Clark'],[\"Peter\"]))"
   ]
  },
  {
   "cell_type": "markdown",
   "id": "4995c8aa",
   "metadata": {},
   "source": [
    "# iç içe Dict"
   ]
  },
  {
   "cell_type": "code",
   "execution_count": 28,
   "id": "1d11eae6",
   "metadata": {},
   "outputs": [
    {
     "name": "stdout",
     "output_type": "stream",
     "text": [
      "16\n"
     ]
    }
   ],
   "source": [
    "school_records={\n",
    "    \"personal_info\":\n",
    "        {\"kid\":{\"tom\": {\"class\": \"intermediate\", \"age\": 10},\n",
    "                \"sue\": {\"class\": \"elementary\", \"age\": 8}\n",
    "               },\n",
    "         \"teen\":{\"joseph\":{\"class\": \"college\", \"age\": 19},\n",
    "                 \"marry\":{\"class\": \"high school\", \"age\": 16}\n",
    "               },               \n",
    "        },\n",
    "        \n",
    "    \"grades_info\":\n",
    "        {\"kid\":{\"tom\": {\"math\": 88, \"speech\": 69},\n",
    "                \"sue\": {\"math\": 90, \"speech\": 81}\n",
    "               },\n",
    "         \"teen\":{\"joseph\":{\"coding\": 80, \"math\": 89},\n",
    "                 \"marry\":{\"coding\": 70, \"math\": 96}\n",
    "               },               \n",
    "        },        \n",
    "}\n",
    "print(school_records['personal_info']['teen']['marry']['age'])"
   ]
  },
  {
   "cell_type": "code",
   "execution_count": 29,
   "id": "a1811357",
   "metadata": {},
   "outputs": [
    {
     "name": "stdout",
     "output_type": "stream",
     "text": [
      "{'joseph': {'class': 'college', 'age': 19}, 'marry': {'class': 'high school', 'age': 16}}\n"
     ]
    }
   ],
   "source": [
    "print(school_records['personal_info']['teen'])"
   ]
  },
  {
   "cell_type": "code",
   "execution_count": 34,
   "id": "68e926a6",
   "metadata": {},
   "outputs": [
    {
     "name": "stdout",
     "output_type": "stream",
     "text": [
      "{'math': 88, 'speech': 69}\n"
     ]
    }
   ],
   "source": [
    "print(school_records[\"grades_info\"][\"kid\"][\"tom\"])"
   ]
  },
  {
   "cell_type": "code",
   "execution_count": 35,
   "id": "2458e3ea",
   "metadata": {},
   "outputs": [
    {
     "name": "stdout",
     "output_type": "stream",
     "text": [
      "22\n"
     ]
    }
   ],
   "source": [
    "customers = { \n",
    "'bank': \n",
    "{1: {'name': 'James', 'age': '27', 'sex': 'Male'}, \n",
    " 2: {'name': 'Nicole', 'age': '25', 'sex': 'Female'},  \n",
    " 3: {'name': 'Andy', 'age': '38', 'sex': 'Male'}, \n",
    " 4: {'name': 'Alex', 'age': '19', 'sex': 'Male'}, \n",
    " 5: {'name': 'Linda', 'age': '33', 'sex': 'Female'}, \n",
    "},\n",
    "'insurance':\n",
    "{1: {'name': 'Jashua', 'age': '33', 'sex': 'Male'}, \n",
    " 2: {'name': 'Marry', 'age': '66', 'sex': 'Female'},  \n",
    " 3: {'name': 'Adam', 'age': '56', 'sex': 'Male'}, \n",
    " 4: {'name': 'Samuel', 'age': '54', 'sex': 'Male'}, \n",
    " 5: {'name': 'Lisa', 'age': '22', 'sex': 'Female'},\n",
    "},\n",
    "}\n",
    "print(customers ['insurance'][5]['age'])"
   ]
  },
  {
   "cell_type": "code",
   "execution_count": 36,
   "id": "c9d13451",
   "metadata": {},
   "outputs": [
    {
     "name": "stdout",
     "output_type": "stream",
     "text": [
      "(1, 2, 3, 4, 5, 6, 7, 4)\n",
      "<class 'list'> [1, 2, 3, 4, 5, 6, 7, 4]\n"
     ]
    }
   ],
   "source": [
    "my_tuple=(1,2,3,4,5,6,7,4)\n",
    "my_list= list(my_tuple)\n",
    "print(my_tuple)\n",
    "print(type(my_list), my_list)"
   ]
  },
  {
   "cell_type": "code",
   "execution_count": 59,
   "id": "da599f2b",
   "metadata": {},
   "outputs": [
    {
     "name": "stdout",
     "output_type": "stream",
     "text": [
      "[1, 2, 3, 4, 5, 6, 7, 8, 9]\n",
      "[1, 33, 3, 4, 5, 6, 7, 8, 9]\n"
     ]
    }
   ],
   "source": [
    "asdf = list(my_tuple)\n",
    "print(asdf)\n",
    "asdf[1]=33\n",
    "print(asdf)"
   ]
  },
  {
   "cell_type": "code",
   "execution_count": 38,
   "id": "f786c8f4",
   "metadata": {},
   "outputs": [
    {
     "data": {
      "text/plain": [
       "(1, 2, 3)"
      ]
     },
     "execution_count": 38,
     "metadata": {},
     "output_type": "execute_result"
    }
   ],
   "source": [
    "1,2,3    # herhangi bir şey yazmadan bu şekilde çalışırsa tuple olarak algılar Phyton !"
   ]
  },
  {
   "cell_type": "code",
   "execution_count": 62,
   "id": "ea3c2ddf",
   "metadata": {},
   "outputs": [
    {
     "name": "stdout",
     "output_type": "stream",
     "text": [
      "('A', 'l', 'p', 's')\n"
     ]
    },
    {
     "ename": "TypeError",
     "evalue": "'tuple' object does not support item assignment",
     "output_type": "error",
     "traceback": [
      "\u001b[1;31m---------------------------------------------------------------------------\u001b[0m",
      "\u001b[1;31mTypeError\u001b[0m                                 Traceback (most recent call last)",
      "Input \u001b[1;32mIn [62]\u001b[0m, in \u001b[0;36m<cell line: 3>\u001b[1;34m()\u001b[0m\n\u001b[0;32m      1\u001b[0m a\u001b[38;5;241m=\u001b[39m \u001b[38;5;28mtuple\u001b[39m(\u001b[38;5;124m'\u001b[39m\u001b[38;5;124mAlps\u001b[39m\u001b[38;5;124m'\u001b[39m)\n\u001b[0;32m      2\u001b[0m \u001b[38;5;28mprint\u001b[39m(a)\n\u001b[1;32m----> 3\u001b[0m a[\u001b[38;5;241m1\u001b[39m]\u001b[38;5;241m=\u001b[39m \u001b[38;5;124m\"\u001b[39m\u001b[38;5;124mc\u001b[39m\u001b[38;5;124m\"\u001b[39m\n",
      "\u001b[1;31mTypeError\u001b[0m: 'tuple' object does not support item assignment"
     ]
    }
   ],
   "source": [
    "a= tuple('Alps')\n",
    "print(a)\n",
    "a[1]= \"c\""
   ]
  },
  {
   "cell_type": "code",
   "execution_count": 41,
   "id": "ab845cd8",
   "metadata": {},
   "outputs": [
    {
     "name": "stdout",
     "output_type": "stream",
     "text": [
      "('h', 'a', 'p', 'p', 'y')\n",
      "<class 'tuple'>\n",
      "(1, 3, 5)\n"
     ]
    }
   ],
   "source": [
    "t1='h','a','p','p','y'\n",
    "t2=1,3,5\n",
    "print(t1)\n",
    "print(type (t1))\n",
    "print(t2)"
   ]
  },
  {
   "cell_type": "code",
   "execution_count": 53,
   "id": "015b4e2d",
   "metadata": {},
   "outputs": [
    {
     "name": "stdout",
     "output_type": "stream",
     "text": [
      "1 2 3 4 5 6 7 8 9\n"
     ]
    }
   ],
   "source": [
    "\n",
    "m = tuple(range(1,10))\n",
    "print(* m)"
   ]
  },
  {
   "cell_type": "code",
   "execution_count": 52,
   "id": "154d22c9",
   "metadata": {},
   "outputs": [
    {
     "name": "stdout",
     "output_type": "stream",
     "text": [
      "(1, 2, 3, 4, 5, 6, 7, 8, 9, 10)\n",
      "<class 'tuple'>\n"
     ]
    }
   ],
   "source": [
    "m= tuple(range(1,11))       #iterable bir dizi üretiyor.\n",
    "print(m,type(m),sep=\"\\n\")"
   ]
  },
  {
   "cell_type": "code",
   "execution_count": 71,
   "id": "4a3d1758",
   "metadata": {},
   "outputs": [
    {
     "data": {
      "text/plain": [
       "'fair'"
      ]
     },
     "execution_count": 71,
     "metadata": {},
     "output_type": "execute_result"
    }
   ],
   "source": [
    "a=(\"1\",11,[2,\"two\",(\"six\",6)],(6,\"fair\"))\n",
    "a[-1][1]"
   ]
  },
  {
   "cell_type": "code",
   "execution_count": 75,
   "id": "10d36b62",
   "metadata": {},
   "outputs": [
    {
     "data": {
      "text/plain": [
       "{'ali': 4, 'deli': 5}"
      ]
     },
     "execution_count": 75,
     "metadata": {},
     "output_type": "execute_result"
    }
   ],
   "source": [
    "soz= {\"ali\":2 ,\"ali\": 4, \"deli\": 5}\n",
    "soz"
   ]
  },
  {
   "cell_type": "markdown",
   "id": "648410af",
   "metadata": {},
   "source": [
    "If you specify a key a second time during the initial creation of a dictionary, then the second occurrence will OVERRIDE the first."
   ]
  },
  {
   "cell_type": "code",
   "execution_count": 76,
   "id": "c8aff70d",
   "metadata": {},
   "outputs": [
    {
     "data": {
      "text/plain": [
       "{'ali': 4}"
      ]
     },
     "execution_count": 76,
     "metadata": {},
     "output_type": "execute_result"
    }
   ],
   "source": [
    "soz= {\"ali\":2 ,\"ali\": 4}\n",
    "soz"
   ]
  },
  {
   "cell_type": "code",
   "execution_count": 77,
   "id": "ef9f9c0b",
   "metadata": {},
   "outputs": [
    {
     "ename": "SyntaxError",
     "evalue": "keyword argument repeated: isim (663026440.py, line 1)",
     "output_type": "error",
     "traceback": [
      "\u001b[1;36m  Input \u001b[1;32mIn [77]\u001b[1;36m\u001b[0m\n\u001b[1;33m    dict(isim =\"ali\", isim =\"veli\")\u001b[0m\n\u001b[1;37m                      ^\u001b[0m\n\u001b[1;31mSyntaxError\u001b[0m\u001b[1;31m:\u001b[0m keyword argument repeated: isim\n"
     ]
    }
   ],
   "source": [
    "dict(isim =\"ali\", isim =\"veli\")# aynı isimli key olmaz\n"
   ]
  },
  {
   "cell_type": "code",
   "execution_count": 79,
   "id": "9c6a6664",
   "metadata": {},
   "outputs": [
    {
     "data": {
      "text/plain": [
       "{'sayılar': [1, 2, 3], 'harfler': {1: 'bir'}}"
      ]
     },
     "execution_count": 79,
     "metadata": {},
     "output_type": "execute_result"
    }
   ],
   "source": [
    "dict(sayılar =[1,2,3], harfler ={1:\"bir\"} )"
   ]
  },
  {
   "cell_type": "markdown",
   "id": "33f73f13",
   "metadata": {},
   "source": [
    "https://files.slack.com/files-pri/T04561FJ8FJ-F047L3WDQAH/image.png"
   ]
  },
  {
   "cell_type": "code",
   "execution_count": null,
   "id": "9cdd03aa",
   "metadata": {},
   "outputs": [],
   "source": [
    "https://files.slack.com/files-pri/T04561FJ8FJ-F048CP393LY/image.png"
   ]
  },
  {
   "cell_type": "raw",
   "id": "ebb30e7a",
   "metadata": {},
   "source": [
    " https://ds1322eu.slack.com/files/U044V4CBMPB/F047L3WDQAH/image.png"
   ]
  },
  {
   "cell_type": "code",
   "execution_count": null,
   "id": "4b38ee6c",
   "metadata": {},
   "outputs": [],
   "source": [
    "https://files.slack.com/files-pri/T04561FJ8FJ-F047L3WDQAH/image.png"
   ]
  },
  {
   "cell_type": "code",
   "execution_count": null,
   "id": "59a3ba5b",
   "metadata": {},
   "outputs": [],
   "source": [
    "https://ds1322eu.slack.com/files/U044"
   ]
  }
 ],
 "metadata": {
  "kernelspec": {
   "display_name": "Python 3 (ipykernel)",
   "language": "python",
   "name": "python3"
  },
  "language_info": {
   "codemirror_mode": {
    "name": "ipython",
    "version": 3
   },
   "file_extension": ".py",
   "mimetype": "text/x-python",
   "name": "python",
   "nbconvert_exporter": "python",
   "pygments_lexer": "ipython3",
   "version": "3.9.12"
  }
 },
 "nbformat": 4,
 "nbformat_minor": 5
}
