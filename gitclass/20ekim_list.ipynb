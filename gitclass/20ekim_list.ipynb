{
 "cells": [
  {
   "cell_type": "code",
   "execution_count": 4,
   "id": "79e6537a",
   "metadata": {},
   "outputs": [
    {
     "name": "stdout",
     "output_type": "stream",
     "text": [
      "['a', 'd', 'a', 'n', 'a', ',', 's', 'i', 'v', 'a', 's', ',', 'o', 'r', 'd', 'u', ',', 'm', 'u', 'ş', ',', 'v', 'a', 'n']\n"
     ]
    }
   ],
   "source": [
    "color=(\"adana,sivas,ordu,muş,van\")\n",
    "listcolor=list(color)\n",
    "print(listcolor )"
   ]
  },
  {
   "cell_type": "code",
   "execution_count": 5,
   "id": "ac6bea1f",
   "metadata": {},
   "outputs": [
    {
     "name": "stdout",
     "output_type": "stream",
     "text": [
      "24\n"
     ]
    }
   ],
   "source": [
    "print(len(listcolor))"
   ]
  },
  {
   "cell_type": "code",
   "execution_count": 6,
   "id": "ed0130f6",
   "metadata": {},
   "outputs": [
    {
     "name": "stdout",
     "output_type": "stream",
     "text": [
      "['a', 'd', 'a', 'n', 'a', ',', 's', 'i', 'v', 'a', 's', ',', 'm', 'u', 'ş', ',', 'v', 'a', 'n', ',']\n"
     ]
    }
   ],
   "source": [
    "city=(\"adana,sivas,muş,van,\")\n",
    "listcity=list(city)\n",
    "print(listcity)"
   ]
  },
  {
   "cell_type": "code",
   "execution_count": 7,
   "id": "d2bef848",
   "metadata": {},
   "outputs": [
    {
     "data": {
      "text/plain": [
       "list"
      ]
     },
     "execution_count": 7,
     "metadata": {},
     "output_type": "execute_result"
    }
   ],
   "source": [
    "type(listcity)\n"
   ]
  },
  {
   "cell_type": "code",
   "execution_count": 12,
   "id": "d379627c",
   "metadata": {},
   "outputs": [
    {
     "name": "stdout",
     "output_type": "stream",
     "text": [
      "['d', 'n', ',', 's', 'i', 'v', 'a', 's', ',', 'm', 'u', 'ş', ',', 'v', 'a', 'n', ',']\n"
     ]
    }
   ],
   "source": [
    "listcity.remove('a')\n",
    "print(listcity)"
   ]
  },
  {
   "cell_type": "code",
   "execution_count": 19,
   "id": "300591ff",
   "metadata": {},
   "outputs": [
    {
     "data": {
      "text/plain": [
       "['bingöl', 'kars', 'ığdır', ['van', 'siirt', ['muş']]]"
      ]
     },
     "execution_count": 19,
     "metadata": {},
     "output_type": "execute_result"
    }
   ],
   "source": [
    "city=['adana','maraş',['bingöl','kars','ığdır',['van','siirt',['muş']]]]\n",
    "city[2]"
   ]
  },
  {
   "cell_type": "code",
   "execution_count": 23,
   "id": "851218e5",
   "metadata": {},
   "outputs": [
    {
     "name": "stdout",
     "output_type": "stream",
     "text": [
      "[1, 4, 7, 10, 13, 16, 19, 22, 25, 28, 31, 34, 37, 40, 43, 46, 49, 52, 55, 58, 61, 64, 67, 70, 73, 76, 79, 82, 85, 88, 91, 94, 97]\n",
      "[4, 10, 16, 22, 28, 34, 40, 46, 52, 58, 64, 70, 76, 82, 88, 94]\n"
     ]
    }
   ],
   "source": [
    "od=list(range(1,100,3))\n",
    "print(od)\n",
    "print(od[1::2])"
   ]
  },
  {
   "cell_type": "code",
   "execution_count": 33,
   "id": "d488d9ba",
   "metadata": {},
   "outputs": [
    {
     "data": {
      "text/plain": [
       "[1, 3, 5, 7, 9]"
      ]
     },
     "execution_count": 33,
     "metadata": {},
     "output_type": "execute_result"
    }
   ],
   "source": [
    "list(range(1,11,2))\n"
   ]
  },
  {
   "cell_type": "code",
   "execution_count": 26,
   "id": "6ed6b2a7",
   "metadata": {},
   "outputs": [
    {
     "data": {
      "text/plain": [
       "range"
      ]
     },
     "execution_count": 26,
     "metadata": {},
     "output_type": "execute_result"
    }
   ],
   "source": [
    "type(range(11))"
   ]
  },
  {
   "cell_type": "code",
   "execution_count": 34,
   "id": "f6be0d3c",
   "metadata": {},
   "outputs": [
    {
     "data": {
      "text/plain": [
       "[10, 9, 8, 7, 6, 5, 4, 3, 2, 1]"
      ]
     },
     "execution_count": 34,
     "metadata": {},
     "output_type": "execute_result"
    }
   ],
   "source": [
    "list(range(10,0,-1))"
   ]
  },
  {
   "cell_type": "code",
   "execution_count": 35,
   "id": "d627a86b",
   "metadata": {},
   "outputs": [
    {
     "name": "stdout",
     "output_type": "stream",
     "text": [
      "['elephant,bear,fox,wolf,rabbit,deer,girafe']\n"
     ]
    }
   ],
   "source": [
    "ani=\"elephant,bear,fox,wolf,rabbit,deer,girafe\",\n",
    "anix=list(ani)\n",
    "print(anix)\n"
   ]
  },
  {
   "cell_type": "code",
   "execution_count": 36,
   "id": "184fc169",
   "metadata": {},
   "outputs": [
    {
     "data": {
      "text/plain": [
       "list"
      ]
     },
     "execution_count": 36,
     "metadata": {},
     "output_type": "execute_result"
    }
   ],
   "source": [
    "type(anix)"
   ]
  },
  {
   "cell_type": "code",
   "execution_count": 39,
   "id": "da7ce2a1",
   "metadata": {},
   "outputs": [
    {
     "name": "stdout",
     "output_type": "stream",
     "text": [
      "['one', 'two', 'there']\n"
     ]
    }
   ],
   "source": [
    "mix=[1,[1,\"one\",2,\"two\",3,\"there\"],4]\n",
    "print(mix[1][1::2])"
   ]
  },
  {
   "cell_type": "code",
   "execution_count": 47,
   "id": "2e88fad4",
   "metadata": {},
   "outputs": [
    {
     "name": "stdout",
     "output_type": "stream",
     "text": [
      "['a', 'b', 'c', 'd', 'e', 'f', 'g', 'h', 'i', 'j']\n"
     ]
    }
   ],
   "source": [
    "aaa=(\"abcdefghij\")\n",
    "ask=list(aaa)\n",
    "print(ask)"
   ]
  },
  {
   "cell_type": "code",
   "execution_count": null,
   "id": "3301d2bd",
   "metadata": {},
   "outputs": [],
   "source": []
  }
 ],
 "metadata": {
  "kernelspec": {
   "display_name": "Python 3 (ipykernel)",
   "language": "python",
   "name": "python3"
  },
  "language_info": {
   "codemirror_mode": {
    "name": "ipython",
    "version": 3
   },
   "file_extension": ".py",
   "mimetype": "text/x-python",
   "name": "python",
   "nbconvert_exporter": "python",
   "pygments_lexer": "ipython3",
   "version": "3.9.12"
  }
 },
 "nbformat": 4,
 "nbformat_minor": 5
}
