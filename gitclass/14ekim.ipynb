{
 "cells": [
  {
   "cell_type": "code",
   "execution_count": 3,
   "id": "02e448f7",
   "metadata": {},
   "outputs": [
    {
     "name": "stdout",
     "output_type": "stream",
     "text": [
      "2001\n",
      "2001 - not a leap year\n"
     ]
    }
   ],
   "source": [
    "is_leap_year = False\n",
    "not_leap_year = True \n",
    "\n",
    "input_year = int(input())\n",
    "\n",
    "if (input_year % 4 == 0 or input_year % 400 == 0):\n",
    "    print(input_year, '- leap year')\n",
    "\n",
    "elif (input_year % 4 != 0 and input_year % 400 != 0):\n",
    "    print(input_year, '- not a leap year')"
   ]
  },
  {
   "cell_type": "code",
   "execution_count": 7,
   "id": "1acfec69",
   "metadata": {},
   "outputs": [
    {
     "data": {
      "text/plain": [
       "0"
      ]
     },
     "execution_count": 7,
     "metadata": {},
     "output_type": "execute_result"
    }
   ],
   "source": [
    "8 % 4 \n"
   ]
  },
  {
   "cell_type": "code",
   "execution_count": 18,
   "id": "0f6be562",
   "metadata": {},
   "outputs": [
    {
     "name": "stdout",
     "output_type": "stream",
     "text": [
      "yıl yazınız : 2004\n",
      "False\n"
     ]
    }
   ],
   "source": [
    "yil = int(input(\"yıl yazınız : \"))\n",
    "print((yil % 4 == 0 and yil % 100 == 0) or yil % 400 == 0)"
   ]
  },
  {
   "cell_type": "code",
   "execution_count": 17,
   "id": "36eb1726",
   "metadata": {},
   "outputs": [
    {
     "name": "stdout",
     "output_type": "stream",
     "text": [
      "word giriniztuna\n",
      "seppi giriniz/\n",
      "tekrar sayısını giriniz5\n",
      "tunatunatunatunatuna\n"
     ]
    }
   ],
   "source": [
    "word = input(\"word giriniz\")\n",
    "se_p= input(\"seppi giriniz\")\n",
    "tekrar= int(input(\"tekrar sayısını giriniz\"))\n",
    "\n",
    "print(word*tekrar,sep=se_p)"
   ]
  },
  {
   "cell_type": "code",
   "execution_count": 2,
   "id": "1531578a",
   "metadata": {},
   "outputs": [
    {
     "name": "stdout",
     "output_type": "stream",
     "text": [
      "1605.7814764784307\n"
     ]
    }
   ],
   "source": [
    "para=1000\n",
    "para=para*(1.07**7)\n",
    "print(para)"
   ]
  },
  {
   "cell_type": "code",
   "execution_count": 10,
   "id": "47f3d0da",
   "metadata": {},
   "outputs": [
    {
     "name": "stdout",
     "output_type": "stream",
     "text": [
      "T.C\n"
     ]
    }
   ],
   "source": [
    "print(\"T\", \"C\",sep=\".\")"
   ]
  },
  {
   "cell_type": "code",
   "execution_count": 19,
   "id": "3bf7eafa",
   "metadata": {},
   "outputs": [
    {
     "name": "stdout",
     "output_type": "stream",
     "text": [
      "What do you call a bear with no teeth? \n",
      "A gummy bear!\n"
     ]
    }
   ],
   "source": [
    "print(\"What do you call a bear with no teeth?\", \"\\n\" + \"A gummy bear!\")"
   ]
  },
  {
   "cell_type": "code",
   "execution_count": 22,
   "id": "2e491e86",
   "metadata": {},
   "outputs": [
    {
     "name": "stdout",
     "output_type": "stream",
     "text": [
      "WHAT DO YOU CALL A BEAR WITH NO TEETH?\n",
      "A GUMMY BEAR!\n"
     ]
    }
   ],
   "source": [
    "print(\"What do you call a bear with no teeth?\\nA gummy bear!\".upper())"
   ]
  },
  {
   "cell_type": "code",
   "execution_count": null,
   "id": "19d0a88e",
   "metadata": {},
   "outputs": [],
   "source": []
  }
 ],
 "metadata": {
  "kernelspec": {
   "display_name": "Python 3 (ipykernel)",
   "language": "python",
   "name": "python3"
  },
  "language_info": {
   "codemirror_mode": {
    "name": "ipython",
    "version": 3
   },
   "file_extension": ".py",
   "mimetype": "text/x-python",
   "name": "python",
   "nbconvert_exporter": "python",
   "pygments_lexer": "ipython3",
   "version": "3.9.12"
  }
 },
 "nbformat": 4,
 "nbformat_minor": 5
}
