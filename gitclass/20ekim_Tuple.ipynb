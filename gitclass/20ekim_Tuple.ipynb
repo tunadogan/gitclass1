{
 "cells": [
  {
   "cell_type": "markdown",
   "id": "4c4a1cee",
   "metadata": {},
   "source": [
    "######                            Tuple"
   ]
  },
  {
   "cell_type": "code",
   "execution_count": 3,
   "id": "2036107a",
   "metadata": {},
   "outputs": [],
   "source": [
    "import sys\n"
   ]
  },
  {
   "cell_type": "code",
   "execution_count": 4,
   "id": "3f7e4002",
   "metadata": {},
   "outputs": [
    {
     "name": "stdout",
     "output_type": "stream",
     "text": [
      "120\n",
      "64\n"
     ]
    }
   ],
   "source": [
    "x=[1,2,3]\n",
    "y=(1,2,3)\n",
    "print(sys.getsizeof(x))\n",
    "print(sys.getsizeof(y))"
   ]
  },
  {
   "cell_type": "code",
   "execution_count": null,
   "id": "bf2993af",
   "metadata": {},
   "outputs": [],
   "source": []
  }
 ],
 "metadata": {
  "kernelspec": {
   "display_name": "Python 3 (ipykernel)",
   "language": "python",
   "name": "python3"
  },
  "language_info": {
   "codemirror_mode": {
    "name": "ipython",
    "version": 3
   },
   "file_extension": ".py",
   "mimetype": "text/x-python",
   "name": "python",
   "nbconvert_exporter": "python",
   "pygments_lexer": "ipython3",
   "version": "3.9.12"
  }
 },
 "nbformat": 4,
 "nbformat_minor": 5
}
