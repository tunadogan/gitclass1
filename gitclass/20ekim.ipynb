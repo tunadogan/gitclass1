{
 "cells": [
  {
   "cell_type": "code",
   "execution_count": null,
   "id": "55c9e1b9",
   "metadata": {
    "scrolled": true
   },
   "outputs": [],
   "source": []
  },
  {
   "cell_type": "raw",
   "id": "9edef77c",
   "metadata": {},
   "source": [
    "# Bir cicekcide içiçe 3 büyük sepet vardır. En içteki en küçük sepette karanfil, papatya ve gül vardır.\n",
    "# En küçük sepetin içinde olduğu orta boylu sepette bir de lale vardır.\n",
    "# tüm bunların içinde olduğu en büyük sepette ise bunlara ilaveten menekşe, nergis ve sümbül vardır.\n",
    "# Çiçeklerden bir liste oluşturarak, string format metoduyla çiçekçiden 2 adet gül ve 3 adet lale istediğinizi belirten bir kod yazınız."
   ]
  },
  {
   "cell_type": "code",
   "execution_count": 12,
   "id": "53e77e9b",
   "metadata": {},
   "outputs": [
    {
     "name": "stdout",
     "output_type": "stream",
     "text": [
      "2 adet Gül ve 3 adet Lale Nergis verir misiniz?\n"
     ]
    }
   ],
   "source": [
    "vitrin = [[[\"Gül\", \"Karanfil\", \"Papatya\"],\"Lale\"],\\\n",
    "           \"Menekşe\", \"Nergis\", \"Sümbül\"]\n",
    "\n",
    "istek  = \"2 adet {} ve 3 adet {} {} verir misiniz?\"\n",
    "print(istek.format(vitrin[0][0][0], vitrin[0][1], vitrin [2]))"
   ]
  },
  {
   "cell_type": "raw",
   "id": "fe56c0f9",
   "metadata": {},
   "source": [
    "#Task: \"Her gün, her hafta, bilgime yeni bilgiler katıyorum, bu beni çok motive ediyor.\" textinde her virgülden sonra \"#\" #karakteri, her boşluktan sonra da \"_\" karakteri gelsin istiyoruz.\n"
   ]
  },
  {
   "cell_type": "code",
   "execution_count": 15,
   "id": "a06a0ff7",
   "metadata": {},
   "outputs": [
    {
     "data": {
      "text/plain": [
       "'Her _gün,# _her _hafta,# _bilgime _yeni _bilgiler _katıyorum,# _bu _beni _çok _motive _ediyor.'"
      ]
     },
     "execution_count": 15,
     "metadata": {},
     "output_type": "execute_result"
    }
   ],
   "source": [
    "\"Her gün, her hafta, bilgime yeni bilgiler katıyorum, bu beni çok motive ediyor.\\\n",
    "\".replace(',',',' + chr(35)).replace(' ', ' ' + chr(95))"
   ]
  },
  {
   "cell_type": "code",
   "execution_count": 17,
   "id": "adc5f66c",
   "metadata": {},
   "outputs": [
    {
     "data": {
      "text/plain": [
       "'_'"
      ]
     },
     "execution_count": 17,
     "metadata": {},
     "output_type": "execute_result"
    }
   ],
   "source": [
    "chr(35)\n",
    "chr(95)"
   ]
  },
  {
   "cell_type": "raw",
   "id": "e3a5f8a2",
   "metadata": {},
   "source": [
    "Task: Girilen sayının tek veya çift olma durumunu, ayrıca 3'e bölünüp bölünememe durumunu ekrana şu şekilde yazdıran bir program yazınız:\n",
    "\"5 is an odd number  and it can not be divided into 3\""
   ]
  },
  {
   "cell_type": "code",
   "execution_count": 40,
   "id": "8e504142",
   "metadata": {},
   "outputs": [
    {
     "name": "stdout",
     "output_type": "stream",
     "text": [
      "Sayı : 79\n",
      "79 Sayısı Tektir ve\n",
      "3' e bölünemez.\n"
     ]
    }
   ],
   "source": [
    "sayi = input('Sayı : ')\n",
    "if (int(sayi)%2==0):\n",
    "      print( sayi ,\"Sayısı Çiftir ve\")\n",
    "else:\n",
    "      print(sayi ,\"Sayısı Tektir ve\")\n",
    "    \n",
    "if (int(sayi)%3==0):\n",
    "      print(\" 3' e bölünebilir.\")\n",
    "else:\n",
    "      print(\"3' e bölünemez.\")   "
   ]
  },
  {
   "cell_type": "code",
   "execution_count": 210,
   "id": "51663161",
   "metadata": {},
   "outputs": [
    {
     "ename": "TypeError",
     "evalue": "'list' object is not callable",
     "output_type": "error",
     "traceback": [
      "\u001b[1;31m---------------------------------------------------------------------------\u001b[0m",
      "\u001b[1;31mTypeError\u001b[0m                                 Traceback (most recent call last)",
      "Input \u001b[1;32mIn [210]\u001b[0m, in \u001b[0;36m<cell line: 2>\u001b[1;34m()\u001b[0m\n\u001b[0;32m      1\u001b[0m numbers \u001b[38;5;241m=\u001b[39m\u001b[38;5;28mrange\u001b[39m(\u001b[38;5;241m1\u001b[39m,\u001b[38;5;241m11\u001b[39m)\n\u001b[1;32m----> 2\u001b[0m my_list\u001b[38;5;241m=\u001b[39m\u001b[38;5;28;43mlist\u001b[39;49m\u001b[43m(\u001b[49m\u001b[43mnumbers\u001b[49m\u001b[43m)\u001b[49m\n\u001b[0;32m      3\u001b[0m my_list[\u001b[38;5;241m0\u001b[39m::\u001b[38;5;241m2\u001b[39m]\n\u001b[0;32m      4\u001b[0m \u001b[38;5;28mprint\u001b[39m(my_list)\n",
      "\u001b[1;31mTypeError\u001b[0m: 'list' object is not callable"
     ]
    }
   ],
   "source": [
    "numbers =range(1,11)\n",
    "my_list=list(numbers)\n",
    "my_list[0::2]\n",
    "print(my_list)"
   ]
  },
  {
   "cell_type": "code",
   "execution_count": 84,
   "id": "a0a1fb9b",
   "metadata": {},
   "outputs": [
    {
     "name": "stdout",
     "output_type": "stream",
     "text": [
      "['eggplant', 'spinach', 'leek']\n"
     ]
    }
   ],
   "source": [
    "grocer = [\"banana\", [\"orange\", [\"apple\", \"eggplant\", \"melon\", \"spinach\", \"cheese\", \"leek\" ], \"water\"], \"mandarin\"]\n",
    "print(grocer[1][1][1::2])"
   ]
  },
  {
   "cell_type": "markdown",
   "id": "5a0ed5c1",
   "metadata": {},
   "source": []
  },
  {
   "cell_type": "code",
   "execution_count": 122,
   "id": "d18f902d",
   "metadata": {},
   "outputs": [
    {
     "name": "stdout",
     "output_type": "stream",
     "text": [
      "My two favorite flowers are tulip and rose , two favorite colors are blue and green .\n",
      "tulip\n",
      "rose\n",
      "blue\n",
      "green\n"
     ]
    }
   ],
   "source": [
    "flowers = [[\"jasmine\", [\"lavender\", \"rose\"], \"tulip\"]]\n",
    "colors = [\"red\", (\"blue\", [\"yellow\", \"green\"]), \"pink\"]\n",
    "text = flowers[0][2]\n",
    "text2= flowers[0][1][1]\n",
    "text3=colors[1][0]\n",
    "text4=colors[1][1][1]\n",
    "print(\"My two favorite flowers are {} and {} , two favorite colors are {} and {} .\".format(text,text2,text3,text4))\n"
   ]
  },
  {
   "cell_type": "code",
   "execution_count": null,
   "id": "a25641c7",
   "metadata": {},
   "outputs": [],
   "source": [
    "text = \"My two favorite flowers are tulip and rose, two favorite colors are blue and green.\""
   ]
  },
  {
   "cell_type": "code",
   "execution_count": null,
   "id": "ad7a85b8",
   "metadata": {},
   "outputs": [],
   "source": [
    "sentence = \"I am 40 years old. I have two children. Data Science is my IT domain.\"\n"
   ]
  },
  {
   "cell_type": "code",
   "execution_count": 150,
   "id": "0278ac20",
   "metadata": {},
   "outputs": [
    {
     "name": "stdout",
     "output_type": "stream",
     "text": [
      "I am 40 years old.\n",
      "\t I have two children.\n",
      "\t\t Data Science is my IT domain.\n"
     ]
    }
   ],
   "source": [
    "escapes = [\"\\n\\t\", (\"\\t\", \"\\t\\t\"), [\"\\n\", \"\\n\\t\\t\"]]\n",
    "\n",
    "sentence = \"I am 40 years old.{}I have two children.{}Data Science is my IT domain.\"\n",
    "\n",
    "print(\"I am 40 years old.{} I have two children.{} Data Science is my IT domain.\".format(\"\\n\\t\" , \"\\n\\t\\t\"))\n"
   ]
  },
  {
   "cell_type": "code",
   "execution_count": 155,
   "id": "4e725fb5",
   "metadata": {},
   "outputs": [
    {
     "name": "stdout",
     "output_type": "stream",
     "text": [
      "('love',)\n",
      "<class 'tuple'>\n"
     ]
    }
   ],
   "source": [
    "try_tuple = ('love',)\n",
    "\n",
    "print(try_tuple)\n",
    "\n",
    "print(type(try_tuple)) # it's a tuple type."
   ]
  },
  {
   "cell_type": "code",
   "execution_count": 157,
   "id": "d03c4f1e",
   "metadata": {},
   "outputs": [
    {
     "name": "stdout",
     "output_type": "stream",
     "text": [
      "['mercury', 'jupiter', 'saturn']\n",
      "<class 'list'>\n"
     ]
    }
   ],
   "source": [
    "planets = 'mercury', 'jupiter', 'saturn'\n",
    "\n",
    "print(planets)\n",
    "print(type(planets))"
   ]
  },
  {
   "cell_type": "code",
   "execution_count": 159,
   "id": "89548551",
   "metadata": {},
   "outputs": [
    {
     "name": "stdout",
     "output_type": "stream",
     "text": [
      "['Athens', 'Cairo', 'Moskow', 'Dublin']\n"
     ]
    },
    {
     "data": {
      "text/plain": [
       "2"
      ]
     },
     "execution_count": 159,
     "metadata": {},
     "output_type": "execute_result"
    }
   ],
   "source": [
    "city_list = ['Tokyo', 'Istanbul', 'Moskow', 'Dublin']\n",
    "\n",
    "city_list[0] = 'Athens'\n",
    "city_list[1] = 'Cairo'\n",
    "print(city_list)\n",
    "city_list.index('Moskow')"
   ]
  },
  {
   "cell_type": "code",
   "execution_count": 161,
   "id": "a685e09b",
   "metadata": {},
   "outputs": [
    {
     "name": "stdout",
     "output_type": "stream",
     "text": [
      "[45, 32, 17, 12, 9, 4]\n"
     ]
    }
   ],
   "source": [
    "sayilar = [12,17,4,9,32,45]\n",
    "buyukten_kucuge = sorted(sayilar)\n",
    "buyukten_kucuge.reverse()\n",
    "print (buyukten_kucuge)"
   ]
  },
  {
   "cell_type": "code",
   "execution_count": 184,
   "id": "88ba875b",
   "metadata": {},
   "outputs": [
    {
     "name": "stdout",
     "output_type": "stream",
     "text": [
      "[96, 82, 78, 43, 9, 8, 7, 6, 6, 5, 4, 4, 3, 2, 1]\n"
     ]
    }
   ],
   "source": [
    "sayilar = [1,2,3,4,6,82,5,4,8,7,6,78,9,96,43,]\n",
    "sayilar.sort(reverse=True)\n",
    "print(sayilar)\n",
    "\n"
   ]
  },
  {
   "cell_type": "code",
   "execution_count": 182,
   "id": "0d59dcd8",
   "metadata": {},
   "outputs": [
    {
     "name": "stdout",
     "output_type": "stream",
     "text": [
      "['gs', 'fb', 'eee', 'a', 'b', 'c', 'd']\n"
     ]
    }
   ],
   "source": [
    "# liste_adi.reverse()\n",
    "harfler = ['d', 'c','b','a','eee','fb','gs']\n",
    "harfler.reverse()\n",
    "print (harfler)\n",
    "# Sonuc"
   ]
  },
  {
   "cell_type": "code",
   "execution_count": 187,
   "id": "382a8519",
   "metadata": {},
   "outputs": [
    {
     "name": "stdout",
     "output_type": "stream",
     "text": [
      "[4, 9, 12, 17, 32, 45]\n"
     ]
    }
   ],
   "source": [
    "sayilar = [12,17,4,9,32,45]\n",
    "buyukten_kucuge = sorted(sayilar)\n",
    "#buyukten_kucuge.reverse()\n",
    "print (buyukten_kucuge)"
   ]
  },
  {
   "cell_type": "code",
   "execution_count": 188,
   "id": "29bb413a",
   "metadata": {},
   "outputs": [
    {
     "name": "stdout",
     "output_type": "stream",
     "text": [
      "['gs', 'fb', 'eee', 'a', 'b', 'c', 'd']\n"
     ]
    }
   ],
   "source": [
    "harfler = ['d', 'c','b','a','eee','fb','gs']\n",
    "harfler.reverse()\n",
    "print (harfler)"
   ]
  },
  {
   "cell_type": "code",
   "execution_count": 197,
   "id": "b6a72610",
   "metadata": {},
   "outputs": [
    {
     "ename": "NameError",
     "evalue": "name 'a' is not defined",
     "output_type": "error",
     "traceback": [
      "\u001b[1;31m---------------------------------------------------------------------------\u001b[0m",
      "\u001b[1;31mNameError\u001b[0m                                 Traceback (most recent call last)",
      "Input \u001b[1;32mIn [197]\u001b[0m, in \u001b[0;36m<cell line: 1>\u001b[1;34m()\u001b[0m\n\u001b[1;32m----> 1\u001b[0m list1 \u001b[38;5;241m=\u001b[39m [\u001b[43ma\u001b[49m,b,c,d,e]\n\u001b[0;32m      2\u001b[0m list1\u001b[38;5;241m.\u001b[39minsert(\u001b[38;5;241m0\u001b[39m,h)\n\u001b[0;32m      3\u001b[0m \u001b[38;5;28mprint\u001b[39m(list1)\n",
      "\u001b[1;31mNameError\u001b[0m: name 'a' is not defined"
     ]
    }
   ],
   "source": []
  },
  {
   "cell_type": "code",
   "execution_count": 201,
   "id": "d0fccb50",
   "metadata": {},
   "outputs": [
    {
     "ename": "TypeError",
     "evalue": "'list' object is not callable",
     "output_type": "error",
     "traceback": [
      "\u001b[1;31m---------------------------------------------------------------------------\u001b[0m",
      "\u001b[1;31mTypeError\u001b[0m                                 Traceback (most recent call last)",
      "Input \u001b[1;32mIn [201]\u001b[0m, in \u001b[0;36m<cell line: 1>\u001b[1;34m()\u001b[0m\n\u001b[1;32m----> 1\u001b[0m list2 \u001b[38;5;241m=\u001b[39m \u001b[38;5;28;43mlist\u001b[39;49m\u001b[43m(\u001b[49m\u001b[38;5;28;43mrange\u001b[39;49m\u001b[43m(\u001b[49m\u001b[38;5;241;43m0\u001b[39;49m\u001b[43m,\u001b[49m\u001b[38;5;241;43m11\u001b[39;49m\u001b[43m)\u001b[49m\u001b[43m)\u001b[49m\n\u001b[0;32m      2\u001b[0m \u001b[38;5;28mprint\u001b[39m(list2[\u001b[38;5;241m0\u001b[39m:\u001b[38;5;241m10\u001b[39m:\u001b[38;5;241m2\u001b[39m])\n",
      "\u001b[1;31mTypeError\u001b[0m: 'list' object is not callable"
     ]
    }
   ],
   "source": [
    "list2 = list(range(1,11))\n",
    "print(list2[0:10:2])"
   ]
  },
  {
   "cell_type": "code",
   "execution_count": 203,
   "id": "3c5b5145",
   "metadata": {},
   "outputs": [
    {
     "ename": "TypeError",
     "evalue": "'list' object is not callable",
     "output_type": "error",
     "traceback": [
      "\u001b[1;31m---------------------------------------------------------------------------\u001b[0m",
      "\u001b[1;31mTypeError\u001b[0m                                 Traceback (most recent call last)",
      "Input \u001b[1;32mIn [203]\u001b[0m, in \u001b[0;36m<cell line: 1>\u001b[1;34m()\u001b[0m\n\u001b[1;32m----> 1\u001b[0m list_name \u001b[38;5;241m=\u001b[39m \u001b[38;5;28;43mlist\u001b[39;49m\u001b[43m(\u001b[49m\u001b[38;5;28;43mrange\u001b[39;49m\u001b[43m(\u001b[49m\u001b[38;5;241;43m1\u001b[39;49m\u001b[43m,\u001b[49m\u001b[38;5;241;43m11\u001b[39;49m\u001b[43m)\u001b[49m\u001b[43m)\u001b[49m\n\u001b[0;32m      2\u001b[0m list_name[\u001b[38;5;241m1\u001b[39m:\u001b[38;5;241m11\u001b[39m:\u001b[38;5;241m2\u001b[39m]\n",
      "\u001b[1;31mTypeError\u001b[0m: 'list' object is not callable"
     ]
    }
   ],
   "source": [
    "list_name = list(range(1,11))\n",
    "list_name[1:11:2]"
   ]
  },
  {
   "cell_type": "code",
   "execution_count": 226,
   "id": "6984135a",
   "metadata": {},
   "outputs": [
    {
     "ename": "TypeError",
     "evalue": "'list' object is not callable",
     "output_type": "error",
     "traceback": [
      "\u001b[1;31m---------------------------------------------------------------------------\u001b[0m",
      "\u001b[1;31mTypeError\u001b[0m                                 Traceback (most recent call last)",
      "Input \u001b[1;32mIn [226]\u001b[0m, in \u001b[0;36m<cell line: 1>\u001b[1;34m()\u001b[0m\n\u001b[1;32m----> 1\u001b[0m \u001b[38;5;28;43mlist\u001b[39;49m\u001b[43m(\u001b[49m\u001b[38;5;28;43mrange\u001b[39;49m\u001b[43m(\u001b[49m\u001b[38;5;241;43m-\u001b[39;49m\u001b[38;5;241;43m10\u001b[39;49m\u001b[43m,\u001b[49m\u001b[43m \u001b[49m\u001b[38;5;241;43m0\u001b[39;49m\u001b[43m,\u001b[49m\u001b[38;5;241;43m-\u001b[39;49m\u001b[38;5;241;43m1\u001b[39;49m\u001b[43m)\u001b[49m\u001b[43m)\u001b[49m\n",
      "\u001b[1;31mTypeError\u001b[0m: 'list' object is not callable"
     ]
    }
   ],
   "source": [
    "list(range(-10, 0,-1))\n",
    "\n"
   ]
  },
  {
   "cell_type": "code",
   "execution_count": 223,
   "id": "0490f3e0",
   "metadata": {},
   "outputs": [
    {
     "name": "stdout",
     "output_type": "stream",
     "text": [
      "3\n"
     ]
    }
   ],
   "source": [
    "print(len([[1,2,3]][0]))"
   ]
  },
  {
   "cell_type": "code",
   "execution_count": 232,
   "id": "ea041259",
   "metadata": {},
   "outputs": [
    {
     "ename": "TypeError",
     "evalue": "'list' object is not callable",
     "output_type": "error",
     "traceback": [
      "\u001b[1;31m---------------------------------------------------------------------------\u001b[0m",
      "\u001b[1;31mTypeError\u001b[0m                                 Traceback (most recent call last)",
      "Input \u001b[1;32mIn [232]\u001b[0m, in \u001b[0;36m<cell line: 1>\u001b[1;34m()\u001b[0m\n\u001b[1;32m----> 1\u001b[0m \u001b[38;5;28;43mlist\u001b[39;49m\u001b[43m \u001b[49m\u001b[43m(\u001b[49m\u001b[38;5;28;43mrange\u001b[39;49m\u001b[43m(\u001b[49m\u001b[38;5;241;43m1\u001b[39;49m\u001b[43m,\u001b[49m\u001b[43m \u001b[49m\u001b[38;5;241;43m10\u001b[39;49m\u001b[43m,\u001b[49m\u001b[38;5;241;43m1\u001b[39;49m\u001b[43m)\u001b[49m\u001b[43m)\u001b[49m\n",
      "\u001b[1;31mTypeError\u001b[0m: 'list' object is not callable"
     ]
    }
   ],
   "source": [
    "list(range(1, 10,1))"
   ]
  },
  {
   "cell_type": "code",
   "execution_count": null,
   "id": "05b44245",
   "metadata": {},
   "outputs": [],
   "source": []
  }
 ],
 "metadata": {
  "kernelspec": {
   "display_name": "Python 3 (ipykernel)",
   "language": "python",
   "name": "python3"
  },
  "language_info": {
   "codemirror_mode": {
    "name": "ipython",
    "version": 3
   },
   "file_extension": ".py",
   "mimetype": "text/x-python",
   "name": "python",
   "nbconvert_exporter": "python",
   "pygments_lexer": "ipython3",
   "version": "3.9.12"
  }
 },
 "nbformat": 4,
 "nbformat_minor": 5
}
