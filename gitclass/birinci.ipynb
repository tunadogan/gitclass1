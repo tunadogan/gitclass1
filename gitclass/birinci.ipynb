{
 "cells": [
  {
   "cell_type": "code",
   "execution_count": 4,
   "id": "655e1bde",
   "metadata": {},
   "outputs": [
    {
     "name": "stdout",
     "output_type": "stream",
     "text": [
      "tunahan\n",
      "pınar\n",
      "100\n"
     ]
    }
   ],
   "source": [
    "print(\"tunahan\")\n",
    "print('pınar')\n",
    "print (100)"
   ]
  },
  {
   "cell_type": "code",
   "execution_count": 5,
   "id": "460b1b77",
   "metadata": {},
   "outputs": [
    {
     "name": "stdout",
     "output_type": "stream",
     "text": [
      "pınar\n",
      "tunahan\n"
     ]
    }
   ],
   "source": [
    "print('pınar')\n",
    "print('tunahan')"
   ]
  },
  {
   "cell_type": "code",
   "execution_count": 6,
   "id": "eb0ddc91",
   "metadata": {},
   "outputs": [
    {
     "name": "stdout",
     "output_type": "stream",
     "text": [
      "birinci sayıyı giriniz:12\n",
      "ikinci sayıyı giriniz:13\n",
      "üçüncü sayıyı giriniz:14\n",
      "2184\n"
     ]
    }
   ],
   "source": [
    "a=int(input('birinci sayıyı giriniz:'))\n",
    "b=int(input('ikinci sayıyı giriniz:'))\n",
    "c=int(input('üçüncü sayıyı giriniz:'))\n",
    "total=a*b*c\n",
    "print(total)"
   ]
  },
  {
   "cell_type": "code",
   "execution_count": 11,
   "id": "61ffd0b5",
   "metadata": {},
   "outputs": [
    {
     "name": "stdout",
     "output_type": "stream",
     "text": [
      "Boyunuzu metre cinsinden :175\n",
      "Ağırlığınızı kilo cinsinden giriniz:75\n",
      "Body mass index : 0.0024489795918367346\n"
     ]
    }
   ],
   "source": [
    "w=int(input('Ağırlığınızı kilo cinsinden giriniz:'))\n",
    "h=int(input('Boyunuzu metre cinsinden :'))\n",
    "b_m_i=w /(h*h)\n",
    "print('Body mass index :',b_m_i)"
   ]
  },
  {
   "cell_type": "code",
   "execution_count": 15,
   "id": "648e12c1",
   "metadata": {},
   "outputs": [
    {
     "name": "stdout",
     "output_type": "stream",
     "text": [
      "elimizdeki 200 ile 18 adet parça alabiliriz.\n",
      "Alışveriş sonrası elimizde kalan para 2\n"
     ]
    }
   ],
   "source": [
    "money=200\n",
    "m_price=11\n",
    "aft_mny=200%11\n",
    "each=200//11\n",
    "print('elimizdeki',money, 'ile', each, 'adet parça alabiliriz.')\n",
    "print('Alışveriş sonrası elimizde kalan para',aft_mny)\n",
    "\n"
   ]
  },
  {
   "cell_type": "code",
   "execution_count": 25,
   "id": "8015f0dc",
   "metadata": {},
   "outputs": [
    {
     "name": "stdout",
     "output_type": "stream",
     "text": [
      "birinci sayıyı giriniz:12\n",
      "ikinci sayıyı giriniz:13\n",
      "girdiğiniz sayılar 12 13\n",
      "işlem  sonrası 12 12\n"
     ]
    }
   ],
   "source": [
    "num1=int(input('birinci sayıyı giriniz:'))\n",
    "num2=int(input('ikinci sayıyı giriniz:'))\n",
    "print('girdiğiniz sayılar',num1,num2)\n",
    "num2=num1\n",
    "num1=num2\n",
    "print('işlem  sonrası',num1,num2)\n"
   ]
  },
  {
   "cell_type": "code",
   "execution_count": 26,
   "id": "de2d9daf",
   "metadata": {},
   "outputs": [
    {
     "name": "stdout",
     "output_type": "stream",
     "text": [
      "75\n"
     ]
    }
   ],
   "source": [
    "x=10\n",
    "y=5\n",
    "result=(x-y)*(x+y)\n",
    "print(result)"
   ]
  },
  {
   "cell_type": "code",
   "execution_count": 52,
   "id": "d0467acf",
   "metadata": {},
   "outputs": [
    {
     "name": "stdout",
     "output_type": "stream",
     "text": [
      "enter word plase:tuna\n",
      "choise sep crhacter:&\n",
      "repeat ?:5\n",
      "tunatunatunatunatuna\n"
     ]
    }
   ],
   "source": [
    "word=input('enter word plase:')\n",
    "s=input('choise sep crhacter:')\n",
    "rep=int(input('repeat ?:'))\n",
    "print (rep *word , sep = s )"
   ]
  },
  {
   "cell_type": "code",
   "execution_count": 48,
   "id": "64895bbe",
   "metadata": {},
   "outputs": [
    {
     "name": "stdout",
     "output_type": "stream",
     "text": [
      "False\n"
     ]
    }
   ],
   "source": [
    "print(True and False and (not True and False) and not (True or False))"
   ]
  },
  {
   "cell_type": "code",
   "execution_count": 49,
   "id": "94a52076",
   "metadata": {},
   "outputs": [
    {
     "name": "stdout",
     "output_type": "stream",
     "text": [
      "False\n"
     ]
    }
   ],
   "source": [
    "print(True and False and not \"False\" and None and (\"None\" or None))"
   ]
  },
  {
   "cell_type": "code",
   "execution_count": 50,
   "id": "7913bf7f",
   "metadata": {},
   "outputs": [
    {
     "name": "stdout",
     "output_type": "stream",
     "text": [
      "0\n"
     ]
    }
   ],
   "source": [
    "print(\"clarusway\" and 0 and not \"\" and False and (\" \" or None))"
   ]
  },
  {
   "cell_type": "code",
   "execution_count": 53,
   "id": "c34b4c0b",
   "metadata": {},
   "outputs": [
    {
     "name": "stdout",
     "output_type": "stream",
     "text": [
      "I have 4 children and 5.00 brothers\n"
     ]
    }
   ],
   "source": [
    "phrase = 'I have %d %s and %.2f brothers' % (4, \"children\", 5)  \n",
    "print (phrase)\n"
   ]
  },
  {
   "cell_type": "code",
   "execution_count": 56,
   "id": "89286bfa",
   "metadata": {},
   "outputs": [
    {
     "name": "stdout",
     "output_type": "stream",
     "text": [
      "apologizing is a virt\n"
     ]
    }
   ],
   "source": [
    "sentence = \"apologizing is a virtue\"\n",
    "\n",
    "print(\"%.21s\" % sentence)  # we get first 11 characters of the string\n"
   ]
  },
  {
   "cell_type": "code",
   "execution_count": 57,
   "id": "e265b0f6",
   "metadata": {},
   "outputs": [
    {
     "name": "stdout",
     "output_type": "stream",
     "text": [
      "I will have found a job in 6 months\n"
     ]
    }
   ],
   "source": [
    "print(\"{6} {0} {5} {3} {4} {1} {2}\".format('have', 6, 'months', 'a job', 'in', 'found', 'I will'))\n"
   ]
  },
  {
   "cell_type": "code",
   "execution_count": 58,
   "id": "ba89c596",
   "metadata": {},
   "outputs": [
    {
     "name": "stdout",
     "output_type": "stream",
     "text": [
      "The amount of Orange and Tomato we bought are totally 6 pounds\n"
     ]
    }
   ],
   "source": [
    "fruit = 'Orange'\n",
    "vegetable = 'Tomato'\n",
    "amount = 6\n",
    "output = f\"The amount of {fruit} and {vegetable} we bought are totally {amount} pounds\"\n",
    "\n",
    "print(output)"
   ]
  },
  {
   "cell_type": "code",
   "execution_count": 59,
   "id": "db5aa208",
   "metadata": {},
   "outputs": [
    {
     "name": "stdout",
     "output_type": "stream",
     "text": [
      "abc\n"
     ]
    }
   ],
   "source": [
    "print(\"a\"+\"bc\")\n"
   ]
  },
  {
   "cell_type": "code",
   "execution_count": 60,
   "id": "d36865ef",
   "metadata": {},
   "outputs": [
    {
     "data": {
      "text/plain": [
       "1"
      ]
     },
     "execution_count": 60,
     "metadata": {},
     "output_type": "execute_result"
    }
   ],
   "source": [
    " 22 % 3"
   ]
  },
  {
   "cell_type": "code",
   "execution_count": 61,
   "id": "2b95667c",
   "metadata": {},
   "outputs": [
    {
     "data": {
      "text/plain": [
       "3"
      ]
     },
     "execution_count": 61,
     "metadata": {},
     "output_type": "execute_result"
    }
   ],
   "source": [
    "3*1**3"
   ]
  },
  {
   "cell_type": "code",
   "execution_count": 63,
   "id": "e2dff953",
   "metadata": {},
   "outputs": [
    {
     "ename": "SyntaxError",
     "evalue": "invalid hexadecimal literal (3895823575.py, line 1)",
     "output_type": "error",
     "traceback": [
      "\u001b[1;36m  Input \u001b[1;32mIn [63]\u001b[1;36m\u001b[0m\n\u001b[1;33m    print(0xK + 0xL + 0xM)\u001b[0m\n\u001b[1;37m           ^\u001b[0m\n\u001b[1;31mSyntaxError\u001b[0m\u001b[1;31m:\u001b[0m invalid hexadecimal literal\n"
     ]
    }
   ],
   "source": [
    "print(0xK + 0xL + 0xM)"
   ]
  },
  {
   "cell_type": "code",
   "execution_count": 64,
   "id": "c7ca8d87",
   "metadata": {},
   "outputs": [
    {
     "name": "stdout",
     "output_type": "stream",
     "text": [
      "\\nhello\n"
     ]
    }
   ],
   "source": [
    "print(r\"\\nhello\")"
   ]
  },
  {
   "cell_type": "code",
   "execution_count": 66,
   "id": "9da83a43",
   "metadata": {},
   "outputs": [
    {
     "name": "stdout",
     "output_type": "stream",
     "text": [
      "Türkiye'de Özgür Yazılımın Geçmişi \n",
      " ----------------------------------\n"
     ]
    }
   ],
   "source": [
    "başlık = \"Türkiye'de Özgür Yazılımın Geçmişi\"\n",
    "print(başlık, \"\\n\", \"-\"*len(başlık))"
   ]
  },
  {
   "cell_type": "code",
   "execution_count": 68,
   "id": "0744a5e4",
   "metadata": {},
   "outputs": [
    {
     "name": "stdout",
     "output_type": "stream",
     "text": [
      "newlineend 3\n"
     ]
    }
   ],
   "source": [
    "print(\"new\" \"line\" \"end\" , 3)"
   ]
  },
  {
   "cell_type": "code",
   "execution_count": null,
   "id": "ee382ef4",
   "metadata": {},
   "outputs": [],
   "source": [
    "str1 = \"clarsuway\"\n",
    "print(str1[::-1])"
   ]
  },
  {
   "cell_type": "code",
   "execution_count": 69,
   "id": "e29e83f6",
   "metadata": {},
   "outputs": [
    {
     "ename": "SyntaxError",
     "evalue": "invalid syntax (504935335.py, line 1)",
     "output_type": "error",
     "traceback": [
      "\u001b[1;36m  Input \u001b[1;32mIn [69]\u001b[1;36m\u001b[0m\n\u001b[1;33m    a b c = 1000 2000 3000\u001b[0m\n\u001b[1;37m      ^\u001b[0m\n\u001b[1;31mSyntaxError\u001b[0m\u001b[1;31m:\u001b[0m invalid syntax\n"
     ]
    }
   ],
   "source": [
    "a b c = 1000 2000 3000 \n",
    "print (a b c)\n"
   ]
  },
  {
   "cell_type": "code",
   "execution_count": 70,
   "id": "63a5d91f",
   "metadata": {},
   "outputs": [
    {
     "name": "stdout",
     "output_type": "stream",
     "text": [
      "13\n"
     ]
    }
   ],
   "source": [
    "print(1+4*3)\n"
   ]
  },
  {
   "cell_type": "code",
   "execution_count": 71,
   "id": "a0dafaae",
   "metadata": {},
   "outputs": [
    {
     "data": {
      "text/plain": [
       "True"
      ]
     },
     "execution_count": 71,
     "metadata": {},
     "output_type": "execute_result"
    }
   ],
   "source": [
    "5!=6\n"
   ]
  },
  {
   "cell_type": "code",
   "execution_count": 72,
   "id": "8e499851",
   "metadata": {},
   "outputs": [
    {
     "ename": "SyntaxError",
     "evalue": "invalid character '‘' (U+2018) (1019923505.py, line 1)",
     "output_type": "error",
     "traceback": [
      "\u001b[1;36m  Input \u001b[1;32mIn [72]\u001b[1;36m\u001b[0m\n\u001b[1;33m    print(‘hello’, ‘-how’, ‘are’, ‘-you’)\u001b[0m\n\u001b[1;37m          ^\u001b[0m\n\u001b[1;31mSyntaxError\u001b[0m\u001b[1;31m:\u001b[0m invalid character '‘' (U+2018)\n"
     ]
    }
   ],
   "source": [
    "print(‘hello’, ‘-how’, ‘are’, ‘-you’) \n",
    "print(‘hello’, ‘how’, ‘are-’, ‘you’ + ‘-‘ * 4)  \n",
    "print(‘hello-‘ + ‘how-are-you’) \n",
    "print(‘hello’ + ‘-‘ + ‘how’ + ‘-‘ + ‘are’ + ‘you’)"
   ]
  },
  {
   "cell_type": "code",
   "execution_count": 80,
   "id": "87a4306d",
   "metadata": {},
   "outputs": [
    {
     "data": {
      "text/plain": [
       "1"
      ]
     },
     "execution_count": 80,
     "metadata": {},
     "output_type": "execute_result"
    }
   ],
   "source": [
    "1 or [] and not True"
   ]
  },
  {
   "cell_type": "code",
   "execution_count": 74,
   "id": "f5c6912b",
   "metadata": {},
   "outputs": [
    {
     "data": {
      "text/plain": [
       "12"
      ]
     },
     "execution_count": 74,
     "metadata": {},
     "output_type": "execute_result"
    }
   ],
   "source": [
    "12 or \"jk\" or 234"
   ]
  },
  {
   "cell_type": "code",
   "execution_count": 86,
   "id": "051fad9d",
   "metadata": {},
   "outputs": [
    {
     "name": "stdout",
     "output_type": "stream",
     "text": [
      "bir sözcük giriniztuna\n",
      "kaç tekrar5\n",
      "aradaki değeri giriniz/\n",
      "word\n"
     ]
    }
   ],
   "source": [
    "word=input(\"bir sözcük giriniz\")\n",
    "rep=int(input(\"kaç tekrar\"))\n",
    "sepp=str(input(\"aradaki değeri giriniz\"))\n",
    "print('word',sep=sepp *5)"
   ]
  },
  {
   "cell_type": "code",
   "execution_count": 90,
   "id": "bbb7b9d4",
   "metadata": {},
   "outputs": [
    {
     "ename": "SyntaxError",
     "evalue": "invalid syntax (2513553767.py, line 1)",
     "output_type": "error",
     "traceback": [
      "\u001b[1;36m  Input \u001b[1;32mIn [90]\u001b[1;36m\u001b[0m\n\u001b[1;33m    print(5* 'tuna' , sep=/)\u001b[0m\n\u001b[1;37m                          ^\u001b[0m\n\u001b[1;31mSyntaxError\u001b[0m\u001b[1;31m:\u001b[0m invalid syntax\n"
     ]
    }
   ],
   "source": [
    "print(5* 'tuna' , sep=/)\n"
   ]
  },
  {
   "cell_type": "code",
   "execution_count": 95,
   "id": "46259ebb",
   "metadata": {},
   "outputs": [
    {
     "name": "stdout",
     "output_type": "stream",
     "text": [
      "pythonpythonpythonpythonpython%%%%%poolpoolpoolpoolpool\n"
     ]
    }
   ],
   "source": [
    "st1='python'\n",
    "st2='pool'\n",
    "print(st1*5,st2*5,sep='%'*5)"
   ]
  },
  {
   "cell_type": "code",
   "execution_count": null,
   "id": "ef3cbc60",
   "metadata": {},
   "outputs": [],
   "source": [
    "\"metodlar\".format()"
   ]
  },
  {
   "cell_type": "code",
   "execution_count": 96,
   "id": "b74cf876",
   "metadata": {},
   "outputs": [],
   "source": [
    "saat=\"05:00\"\n",
    "yer=\"okul\"\n",
    "miktar=3\n"
   ]
  },
  {
   "cell_type": "code",
   "execution_count": 98,
   "id": "f67ffdc7",
   "metadata": {},
   "outputs": [
    {
     "data": {
      "text/plain": [
       "\"ben sabah 05:00 de uyandım. okul'a gittim. gelirken de 3 kg. elma aldım'\""
      ]
     },
     "execution_count": 98,
     "metadata": {},
     "output_type": "execute_result"
    }
   ],
   "source": [
    "\"ben sabah {} de uyandım. {}'a gittim. gelirken de {} kg. elma aldım'\".format(saat,yer,miktar)"
   ]
  },
  {
   "cell_type": "code",
   "execution_count": 100,
   "id": "b73e0be3",
   "metadata": {},
   "outputs": [
    {
     "data": {
      "text/plain": [
       "\"ben sabah 06:30 de uyandım. kütüphane'a gittim. gelirken de 2 kg. elma aldım'\""
      ]
     },
     "execution_count": 100,
     "metadata": {},
     "output_type": "execute_result"
    }
   ],
   "source": [
    "\"ben sabah {saat} de uyandım. {yer}'a gittim. gelirken de {miktar} kg. elma aldım'\".format(saat=\"06:30\",yer=\"kütüphane\",miktar=2)"
   ]
  },
  {
   "cell_type": "code",
   "execution_count": 101,
   "id": "e9852d14",
   "metadata": {},
   "outputs": [
    {
     "data": {
      "text/plain": [
       "'Benim adım tunahan . Sabahları uyandığım zaman ilk olarak bir bakarım etrafa, sonra dişlerimi fırçalarım.hayat bana çok güzel , kahvaltıda yımırta yedim , çay içtim.'"
      ]
     },
     "execution_count": 101,
     "metadata": {},
     "output_type": "execute_result"
    }
   ],
   "source": [
    "\"Benim adım {} . Sabahları uyandığım zaman ilk olarak bir bakarım etrafa, sonra dişlerimi fırçalarım.\\\n",
    "hayat bana çok {} , kahvaltıda {} yedim , {} içtim.\".format(\"tunahan\",\"güzel\",\"yımırta\",\"çay\")"
   ]
  },
  {
   "cell_type": "code",
   "execution_count": 103,
   "id": "342ac5bf",
   "metadata": {},
   "outputs": [
    {
     "data": {
      "text/plain": [
       "'benim güzel öğrencilerim maşallahı var mı acaba'"
      ]
     },
     "execution_count": 103,
     "metadata": {},
     "output_type": "execute_result"
    }
   ],
   "source": [
    "\"benim {} öğrencilerim maşallahı var {}\".format(\"güzel\", \"mı acaba\")"
   ]
  },
  {
   "cell_type": "code",
   "execution_count": 104,
   "id": "847e824d",
   "metadata": {},
   "outputs": [
    {
     "data": {
      "text/plain": [
       "'benim bıyıklı öğrencilerim maşallahı var gözlüklü'"
      ]
     },
     "execution_count": 104,
     "metadata": {},
     "output_type": "execute_result"
    }
   ],
   "source": [
    "x=\"bıyıklı\"\n",
    "y=\"gözlüklü\"\n",
    "stringim=\"benim {} öğrencilerim maşallahı var {}\"\n",
    "stringim.format(x,y)"
   ]
  },
  {
   "cell_type": "code",
   "execution_count": 105,
   "id": "f2d58533",
   "metadata": {},
   "outputs": [
    {
     "name": "stdout",
     "output_type": "stream",
     "text": [
      "generosity wins in all circumstances\n"
     ]
    }
   ],
   "source": [
    "phrase = \"{marality} {1} {0} {condition}\".format(\"in all\", \"wins\", marality = \"generosity\", condition = \"circumstances\")\n",
    "print(phrase)"
   ]
  },
  {
   "cell_type": "code",
   "execution_count": 106,
   "id": "979df81b",
   "metadata": {},
   "outputs": [
    {
     "name": "stdout",
     "output_type": "stream",
     "text": [
      "the sum of 3 + 4 is = 7\n"
     ]
    }
   ],
   "source": [
    "a=3\n",
    "b=4\n",
    "print(\"the sum of {} + {} is = {}\".format(a,b,a+b))"
   ]
  },
  {
   "cell_type": "code",
   "execution_count": 108,
   "id": "b9846a7d",
   "metadata": {},
   "outputs": [
    {
     "name": "stdout",
     "output_type": "stream",
     "text": [
      "(2**3)\n"
     ]
    }
   ],
   "source": [
    "sample=f\"(2**3)\"\n",
    "print(sample)"
   ]
  },
  {
   "cell_type": "code",
   "execution_count": 112,
   "id": "f36cd1f7",
   "metadata": {},
   "outputs": [
    {
     "name": "stdout",
     "output_type": "stream",
     "text": [
      "My name is {name.capitalize()}\n"
     ]
    }
   ],
   "source": [
    "name = 'MARIAM'\n",
    "output = f\"My name is {name.capitalize()}\"\n",
    "\n",
    "print(output)"
   ]
  },
  {
   "cell_type": "code",
   "execution_count": 117,
   "id": "252778b9",
   "metadata": {},
   "outputs": [
    {
     "data": {
      "text/plain": [
       "'my name is ahmet'"
      ]
     },
     "execution_count": 117,
     "metadata": {},
     "output_type": "execute_result"
    }
   ],
   "source": [
    "name=\"ahmet\"\n",
    "tas=(f\"my name is {name}\")\n",
    "tas"
   ]
  },
  {
   "cell_type": "code",
   "execution_count": 119,
   "id": "7787d6a3",
   "metadata": {},
   "outputs": [
    {
     "name": "stdout",
     "output_type": "stream",
     "text": [
      "tunahan\n"
     ]
    }
   ],
   "source": [
    "var=\"TunaHan\".lower()\n",
    "print(var)"
   ]
  },
  {
   "cell_type": "code",
   "execution_count": 121,
   "id": "b75e52dd",
   "metadata": {},
   "outputs": [
    {
     "name": "stdout",
     "output_type": "stream",
     "text": [
      "in god we trust\n"
     ]
    }
   ],
   "source": [
    "var_str='In God we Trust'\n",
    "var_str.lower()\n",
    "print(var_str.lower())"
   ]
  },
  {
   "cell_type": "code",
   "execution_count": 129,
   "id": "a51166ed",
   "metadata": {},
   "outputs": [
    {
     "name": "stdout",
     "output_type": "stream",
     "text": [
      "Good teachers know how to bring out the best in students.\n"
     ]
    }
   ],
   "source": [
    "print(\"{9} {7} {1} {10} {3} {2} {5} {8} {6} {0} {4}\".format('in','know','bring', 'to', 'students.', 'out', 'best', 'teachers', 'the', 'Good', 'how'))"
   ]
  },
  {
   "cell_type": "code",
   "execution_count": null,
   "id": "382bb68b",
   "metadata": {},
   "outputs": [],
   "source": []
  }
 ],
 "metadata": {
  "kernelspec": {
   "display_name": "Python 3 (ipykernel)",
   "language": "python",
   "name": "python3"
  },
  "language_info": {
   "codemirror_mode": {
    "name": "ipython",
    "version": 3
   },
   "file_extension": ".py",
   "mimetype": "text/x-python",
   "name": "python",
   "nbconvert_exporter": "python",
   "pygments_lexer": "ipython3",
   "version": "3.9.12"
  }
 },
 "nbformat": 4,
 "nbformat_minor": 5
}
