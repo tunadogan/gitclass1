{
 "cells": [
  {
   "cell_type": "code",
   "execution_count": 10,
   "id": "5d9ad3a0",
   "metadata": {},
   "outputs": [
    {
     "name": "stdout",
     "output_type": "stream",
     "text": [
      "enter a year please :2100\n",
      "False\n"
     ]
    }
   ],
   "source": [
    "year = int(input(\"enter a year please :\"))\n",
    "leap = (year % 4 == 0) and (year %100 != 0 or year % 400 == 0)\n",
    "print(leap)"
   ]
  },
  {
   "cell_type": "code",
   "execution_count": 14,
   "id": "e54ebf7b",
   "metadata": {},
   "outputs": [
    {
     "name": "stdout",
     "output_type": "stream",
     "text": [
      "yıl yazınız : 2100\n",
      "False\n"
     ]
    }
   ],
   "source": [
    "yil = int(input(\"yıl yazınız : \"))\n",
    "print((yil % 4 == 0) and (yil % 100 != 0 or yil % 400 == 0))"
   ]
  },
  {
   "cell_type": "code",
   "execution_count": null,
   "id": "767502cd",
   "metadata": {},
   "outputs": [],
   "source": [
    "#kullanıcıdan kelime ve tekrar ve aradaki seperatörü isteyeceğiz. \n",
    "#(ali%ali%ali) şeklinde çıktı alacağız. Nasıl yaparız.\n",
    "\n",
    "word = input(\"word giriniz\")\n",
    "se_p= input(\"seppi giriniz\")\n",
    "tekrar= int(input(\"tekrar sayısını giriniz\"))\n",
    "\n",
    "print(word*tekrar,sep=se_p)"
   ]
  },
  {
   "cell_type": "raw",
   "id": "9db5c65b",
   "metadata": {},
   "source": [
    "# task1\n",
    "liste=[1,2,3]\n",
    "output =[1,2,3,5,8,13 ]"
   ]
  },
  {
   "cell_type": "code",
   "execution_count": 24,
   "id": "e1670d34",
   "metadata": {},
   "outputs": [
    {
     "name": "stdout",
     "output_type": "stream",
     "text": [
      "[1, 2, 3, 5, 8, 13]\n"
     ]
    }
   ],
   "source": [
    "liste=[1,2,3]\n",
    "liste.append(liste[-2] + liste[-1])\n",
    "liste.append(liste[-2] + liste[-1])\n",
    "liste.append(liste[-2] + liste[-1])\n",
    "\n",
    "print(liste)"
   ]
  },
  {
   "cell_type": "raw",
   "id": "a833c0c7",
   "metadata": {},
   "source": [
    "karelerin toplamı:"
   ]
  },
  {
   "cell_type": "code",
   "execution_count": null,
   "id": "5aec4828",
   "metadata": {},
   "outputs": [],
   "source": [
    "n = int(input (\"give me a naturel number to calculete sum of squares of first number :\"))\n",
    "sum_of_squares = (n * (n +1) * (2 *n +1)) // 6 # floor division kullandık sonuc float çıkasın diye\n"
   ]
  },
  {
   "cell_type": "code",
   "execution_count": 26,
   "id": "57a54735",
   "metadata": {},
   "outputs": [
    {
     "data": {
      "text/plain": [
       "':)'"
      ]
     },
     "execution_count": 26,
     "metadata": {},
     "output_type": "execute_result"
    }
   ],
   "source": [
    "\"hayaller\" * 0 + \":)\""
   ]
  },
  {
   "cell_type": "code",
   "execution_count": 27,
   "id": "b4d52e53",
   "metadata": {},
   "outputs": [],
   "source": [
    "import math\n"
   ]
  },
  {
   "cell_type": "code",
   "execution_count": 30,
   "id": "e13726d3",
   "metadata": {},
   "outputs": [
    {
     "data": {
      "text/plain": [
       "3.141592653589793"
      ]
     },
     "execution_count": 30,
     "metadata": {},
     "output_type": "execute_result"
    }
   ],
   "source": [
    "math.pi"
   ]
  },
  {
   "cell_type": "code",
   "execution_count": null,
   "id": "a303936c",
   "metadata": {},
   "outputs": [],
   "source": []
  }
 ],
 "metadata": {
  "kernelspec": {
   "display_name": "Python 3 (ipykernel)",
   "language": "python",
   "name": "python3"
  },
  "language_info": {
   "codemirror_mode": {
    "name": "ipython",
    "version": 3
   },
   "file_extension": ".py",
   "mimetype": "text/x-python",
   "name": "python",
   "nbconvert_exporter": "python",
   "pygments_lexer": "ipython3",
   "version": "3.9.12"
  }
 },
 "nbformat": 4,
 "nbformat_minor": 5
}
