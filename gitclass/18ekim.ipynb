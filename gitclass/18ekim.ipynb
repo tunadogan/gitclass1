{
 "cells": [
  {
   "cell_type": "code",
   "execution_count": 5,
   "id": "6024de30",
   "metadata": {},
   "outputs": [
    {
     "data": {
      "text/plain": [
       "'3.15,5.367,7.4523'"
      ]
     },
     "execution_count": 5,
     "metadata": {},
     "output_type": "execute_result"
    }
   ],
   "source": [
    "text = \"{:.2f},{:.3f},{:.4f}\".format(3.1463, 5.367, 7.452345)\n",
    "text"
   ]
  },
  {
   "cell_type": "code",
   "execution_count": 15,
   "id": "1f9f4a54",
   "metadata": {},
   "outputs": [
    {
     "name": "stdout",
     "output_type": "stream",
     "text": [
      "tunah     \n",
      "              tunaha\n",
      "    tunahan ve phyto\n",
      "tunahan ve \n"
     ]
    }
   ],
   "source": [
    "text1=\"{:10.5}\".format(\"tunahan ve phyton\")\n",
    "print(text1)\n",
    "text=\"{:>20.6}\".format(\"tunahan ve phyton\")\n",
    "print(text)\n",
    "text2=\"{:>20.16}\".format(\"tunahan ve phyton\")\n",
    "print(text2)\n",
    "text3=\"{:10.11}\".format(\"tunahan ve phyton\")\n",
    "print(text3)\n"
   ]
  },
  {
   "cell_type": "code",
   "execution_count": 23,
   "id": "a703e5e7",
   "metadata": {},
   "outputs": [
    {
     "data": {
      "text/plain": [
       "['ali', 'veli', 'deli', '3.14', 'love']"
      ]
     },
     "execution_count": 23,
     "metadata": {},
     "output_type": "execute_result"
    }
   ],
   "source": [
    "liste=['ali','veli','deli']\n",
    "liste.append(\"3.14\")\n",
    "liste.append(\"yan\")\n",
    "liste"
   ]
  },
  {
   "cell_type": "code",
   "execution_count": 24,
   "id": "a82d838e",
   "metadata": {},
   "outputs": [
    {
     "ename": "AttributeError",
     "evalue": "'tuple' object has no attribute 'append'",
     "output_type": "error",
     "traceback": [
      "\u001b[1;31m---------------------------------------------------------------------------\u001b[0m",
      "\u001b[1;31mAttributeError\u001b[0m                            Traceback (most recent call last)",
      "Input \u001b[1;32mIn [24]\u001b[0m, in \u001b[0;36m<cell line: 2>\u001b[1;34m()\u001b[0m\n\u001b[0;32m      1\u001b[0m mix_value \u001b[38;5;241m=\u001b[39m (\u001b[38;5;241m10\u001b[39m, \u001b[38;5;28;01mFalse\u001b[39;00m, \u001b[38;5;124m'\u001b[39m\u001b[38;5;124mfruit\u001b[39m\u001b[38;5;124m'\u001b[39m, \u001b[38;5;241m1.618\u001b[39m)\n\u001b[1;32m----> 2\u001b[0m \u001b[43mmix_value\u001b[49m\u001b[38;5;241;43m.\u001b[39;49m\u001b[43mappend\u001b[49m([\u001b[38;5;124m'\u001b[39m\u001b[38;5;124mvegetable\u001b[39m\u001b[38;5;124m'\u001b[39m, \u001b[38;5;241m2\u001b[39m\u001b[38;5;241m+\u001b[39m\u001b[38;5;241m3\u001b[39mj])\n\u001b[0;32m      4\u001b[0m \u001b[38;5;28mprint\u001b[39m(\u001b[38;5;28mlen\u001b[39m(mix_value))\n",
      "\u001b[1;31mAttributeError\u001b[0m: 'tuple' object has no attribute 'append'"
     ]
    }
   ],
   "source": [
    "mix_value = (10, False, 'fruit', 1.618)\n",
    "mix_value.append(['vegetable', 2+3j])\n",
    "\n",
    "print(len(mix_value))"
   ]
  },
  {
   "cell_type": "code",
   "execution_count": 41,
   "id": "0660003e",
   "metadata": {},
   "outputs": [
    {
     "data": {
      "text/plain": [
       "[5, 1, 2, 3, 4]"
      ]
     },
     "execution_count": 41,
     "metadata": {},
     "output_type": "execute_result"
    }
   ],
   "source": [
    "kars=[1,2,3,4]\n",
    "kars.insert(0,5)\n",
    "kars"
   ]
  },
  {
   "cell_type": "code",
   "execution_count": 42,
   "id": "10979991",
   "metadata": {},
   "outputs": [
    {
     "name": "stdout",
     "output_type": "stream",
     "text": [
      "clarusway\n",
      "Clausway\n"
     ]
    }
   ],
   "source": [
    "full =\"Clarusway\"\n",
    "head =\"clarus\"\n",
    "bottom = \"way\"\n",
    "print(head + bottom)\n",
    "print(full[:3] + full[4:])"
   ]
  },
  {
   "cell_type": "code",
   "execution_count": 7,
   "id": "065f384b",
   "metadata": {},
   "outputs": [
    {
     "name": "stdout",
     "output_type": "stream",
     "text": [
      "['four', 'nine', 'one'] uzunluğu :  3\n",
      "['*-', '@', 'False'] uzunluğu :  3\n",
      "[False, True] uzunluğu :  2\n",
      "[[-12], [3], [44]] uzunluğu :  3\n",
      "[[1, 3], [44, -40], [-12, 1]] uzunluğu :  3\n"
     ]
    }
   ],
   "source": [
    "list_1=['one','four','nine']\n",
    "list_2=['@','*-','False']\n",
    "list_3=[True ,False]\n",
    "list_4=[[3],[44],[-12]]\n",
    "list_5=[[1,3],[44,-40],[-12,1]]\n",
    "list_1.sort()\n",
    "print(list_1,\"uzunluğu : \" ,len(list_1))\n",
    "list_2.sort()\n",
    "print(list_2,\"uzunluğu : \",len(list_2))\n",
    "list_3.sort()\n",
    "print(list_3,\"uzunluğu : \",len(list_3))\n",
    "list_4.sort()\n",
    "print(list_4,\"uzunluğu : \",len(list_4))\n",
    "list_4.sort()\n",
    "print(list_5,\"uzunluğu : \",len(list_5))"
   ]
  },
  {
   "cell_type": "code",
   "execution_count": null,
   "id": "55c9e1b9",
   "metadata": {},
   "outputs": [],
   "source": []
  },
  {
   "cell_type": "code",
   "execution_count": null,
   "id": "f6a086fa",
   "metadata": {},
   "outputs": [],
   "source": []
  },
  {
   "cell_type": "code",
   "execution_count": null,
   "id": "53e77e9b",
   "metadata": {},
   "outputs": [],
   "source": []
  },
  {
   "cell_type": "code",
   "execution_count": null,
   "id": "82f5f303",
   "metadata": {},
   "outputs": [],
   "source": []
  }
 ],
 "metadata": {
  "kernelspec": {
   "display_name": "Python 3 (ipykernel)",
   "language": "python",
   "name": "python3"
  },
  "language_info": {
   "codemirror_mode": {
    "name": "ipython",
    "version": 3
   },
   "file_extension": ".py",
   "mimetype": "text/x-python",
   "name": "python",
   "nbconvert_exporter": "python",
   "pygments_lexer": "ipython3",
   "version": "3.9.12"
  }
 },
 "nbformat": 4,
 "nbformat_minor": 5
}
