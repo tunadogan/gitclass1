{
 "cells": [
  {
   "cell_type": "code",
   "execution_count": 7,
   "id": "baf4754f",
   "metadata": {},
   "outputs": [
    {
     "name": "stdout",
     "output_type": "stream",
     "text": [
      "Santigrat dereceyi giriniz:38,5\n"
     ]
    },
    {
     "ename": "ValueError",
     "evalue": "could not convert string to float: '38,5'",
     "output_type": "error",
     "traceback": [
      "\u001b[1;31m---------------------------------------------------------------------------\u001b[0m",
      "\u001b[1;31mValueError\u001b[0m                                Traceback (most recent call last)",
      "Input \u001b[1;32mIn [7]\u001b[0m, in \u001b[0;36m<cell line: 1>\u001b[1;34m()\u001b[0m\n\u001b[1;32m----> 1\u001b[0m canti_deg \u001b[38;5;241m=\u001b[39m \u001b[38;5;28;43mfloat\u001b[39;49m\u001b[43m(\u001b[49m\u001b[38;5;28;43minput\u001b[39;49m\u001b[43m(\u001b[49m\u001b[38;5;124;43m\"\u001b[39;49m\u001b[38;5;124;43mSantigrat dereceyi giriniz:\u001b[39;49m\u001b[38;5;124;43m\"\u001b[39;49m\u001b[43m)\u001b[49m\u001b[43m)\u001b[49m\n\u001b[0;32m      3\u001b[0m fah_deg \u001b[38;5;241m=\u001b[39m canti_deg \u001b[38;5;241m*\u001b[39m \u001b[38;5;241m1.8\u001b[39m \u001b[38;5;241m+\u001b[39m \u001b[38;5;241m32\u001b[39m;\n\u001b[0;32m      5\u001b[0m \u001b[38;5;28mprint\u001b[39m(\u001b[38;5;124m'\u001b[39m\u001b[38;5;124mFahrenait değeri=\u001b[39m\u001b[38;5;132;01m{0}\u001b[39;00m\u001b[38;5;124m'\u001b[39m\u001b[38;5;241m.\u001b[39mformat(fah_deg))\n",
      "\u001b[1;31mValueError\u001b[0m: could not convert string to float: '38,5'"
     ]
    }
   ],
   "source": [
    "canti_deg = float(input(\"Santigrat dereceyi giriniz:\"))\n",
    " \n",
    "fah_deg = canti_deg * 1.8 + 32;\n",
    "\n",
    "print('Fahrenait değeri={0}'.format(fah_deg))\n",
    " "
   ]
  },
  {
   "cell_type": "code",
   "execution_count": 12,
   "id": "71108f1c",
   "metadata": {},
   "outputs": [
    {
     "name": "stdout",
     "output_type": "stream",
     "text": [
      "kilometre değeri giriniz:100\n",
      "Miles değeri= 62.13711922373339\n"
     ]
    }
   ],
   "source": [
    "#1,609344\n",
    "km_deg = float(input(\"kilometre değeri giriniz:\"))\n",
    " \n",
    "\n",
    "miles_deg = km_deg / 1.609344;\n",
    " \n",
    "\n",
    "print('Miles değeri=',miles_deg)\n"
   ]
  },
  {
   "cell_type": "code",
   "execution_count": 6,
   "id": "c926556b",
   "metadata": {},
   "outputs": [
    {
     "name": "stdout",
     "output_type": "stream",
     "text": [
      "Santigrat dereceyi giriniz:38,5\n"
     ]
    },
    {
     "ename": "ValueError",
     "evalue": "could not convert string to float: '38,5'",
     "output_type": "error",
     "traceback": [
      "\u001b[1;31m---------------------------------------------------------------------------\u001b[0m",
      "\u001b[1;31mValueError\u001b[0m                                Traceback (most recent call last)",
      "Input \u001b[1;32mIn [6]\u001b[0m, in \u001b[0;36m<cell line: 1>\u001b[1;34m()\u001b[0m\n\u001b[1;32m----> 1\u001b[0m canti_deg \u001b[38;5;241m=\u001b[39m \u001b[38;5;28;43mfloat\u001b[39;49m\u001b[43m(\u001b[49m\u001b[38;5;28;43minput\u001b[39;49m\u001b[43m(\u001b[49m\u001b[38;5;124;43m\"\u001b[39;49m\u001b[38;5;124;43mSantigrat dereceyi giriniz:\u001b[39;49m\u001b[38;5;124;43m\"\u001b[39;49m\u001b[43m)\u001b[49m\u001b[43m)\u001b[49m\n\u001b[0;32m      3\u001b[0m fah_deg \u001b[38;5;241m=\u001b[39m canti_deg \u001b[38;5;241m*\u001b[39m \u001b[38;5;241m1.8\u001b[39m \u001b[38;5;241m+\u001b[39m \u001b[38;5;241m32\u001b[39m;\n\u001b[0;32m      5\u001b[0m \u001b[38;5;28mprint\u001b[39m(\u001b[38;5;124m\"\u001b[39m\u001b[38;5;124mFahrenait değeri=\u001b[39m\u001b[38;5;124m\"\u001b[39m,fah_deg)\n",
      "\u001b[1;31mValueError\u001b[0m: could not convert string to float: '38,5'"
     ]
    }
   ],
   "source": [
    "canti_deg = float(input(\"Santigrat dereceyi giriniz:\"))\n",
    "\n",
    "fah_deg = canti_deg * 1.8 + 32;\n",
    "\n",
    "print(\"Fahrenait değeri=\",fah_deg)\n",
    "\n"
   ]
  },
  {
   "cell_type": "code",
   "execution_count": 11,
   "id": "eb0ef4c5",
   "metadata": {},
   "outputs": [
    {
     "name": "stdout",
     "output_type": "stream",
     "text": [
      "Santigrat dereceyi giriniz:38.5\n",
      "Fahrenait değeri= 101.3\n"
     ]
    }
   ],
   "source": [
    "canti_deg = float(input(\"Santigrat dereceyi giriniz:\"))\n",
    "\n",
    "fah_deg = canti_deg * 1.8 + 32;\n",
    "\n",
    "print('Fahrenait değeri=',fah_deg)"
   ]
  },
  {
   "cell_type": "code",
   "execution_count": 14,
   "id": "9a105106",
   "metadata": {},
   "outputs": [
    {
     "ename": "SyntaxError",
     "evalue": "unexpected character after line continuation character (940360020.py, line 1)",
     "output_type": "error",
     "traceback": [
      "\u001b[1;36m  Input \u001b[1;32mIn [14]\u001b[1;36m\u001b[0m\n\u001b[1;33m    print(value, '...'', sep=' ', end='\\n', file=sys.stdout, flush=False)\u001b[0m\n\u001b[1;37m                                        ^\u001b[0m\n\u001b[1;31mSyntaxError\u001b[0m\u001b[1;31m:\u001b[0m unexpected character after line continuation character\n"
     ]
    }
   ],
   "source": [
    "print(value, '...'', sep=' ', end='\\n', file=sys.stdout, flush=False)"
   ]
  },
  {
   "cell_type": "code",
   "execution_count": null,
   "id": "b08ed69a",
   "metadata": {},
   "outputs": [],
   "source": []
  }
 ],
 "metadata": {
  "kernelspec": {
   "display_name": "Python 3 (ipykernel)",
   "language": "python",
   "name": "python3"
  },
  "language_info": {
   "codemirror_mode": {
    "name": "ipython",
    "version": 3
   },
   "file_extension": ".py",
   "mimetype": "text/x-python",
   "name": "python",
   "nbconvert_exporter": "python",
   "pygments_lexer": "ipython3",
   "version": "3.9.12"
  }
 },
 "nbformat": 4,
 "nbformat_minor": 5
}
