{
 "cells": [
  {
   "cell_type": "code",
   "execution_count": 28,
   "id": "decc1fee",
   "metadata": {},
   "outputs": [],
   "source": [
    "from package import my_package1,my_package2"
   ]
  },
  {
   "cell_type": "code",
   "execution_count": 29,
   "id": "abedd8cf",
   "metadata": {},
   "outputs": [],
   "source": [
    "from package.my_package1 import factor,harfbul"
   ]
  },
  {
   "cell_type": "code",
   "execution_count": 30,
   "id": "1bdd97c7",
   "metadata": {},
   "outputs": [],
   "source": [
    "from package.my_package2 import my_modul3,my_modul4"
   ]
  },
  {
   "cell_type": "code",
   "execution_count": 31,
   "id": "29cddfa6",
   "metadata": {},
   "outputs": [],
   "source": [
    "from package.my_package2 import my_modul4"
   ]
  },
  {
   "cell_type": "code",
   "execution_count": 21,
   "id": "6b7bf690",
   "metadata": {},
   "outputs": [
    {
     "data": {
      "text/plain": [
       "['__builtins__',\n",
       " '__cached__',\n",
       " '__doc__',\n",
       " '__file__',\n",
       " '__loader__',\n",
       " '__name__',\n",
       " '__package__',\n",
       " '__path__',\n",
       " '__spec__',\n",
       " 'factor',\n",
       " 'harfbul']"
      ]
     },
     "execution_count": 21,
     "metadata": {},
     "output_type": "execute_result"
    }
   ],
   "source": [
    "dir(my_package1)"
   ]
  },
  {
   "cell_type": "code",
   "execution_count": 32,
   "id": "d3b7586d",
   "metadata": {},
   "outputs": [
    {
     "data": {
      "text/plain": [
       "['__builtins__',\n",
       " '__cached__',\n",
       " '__doc__',\n",
       " '__file__',\n",
       " '__loader__',\n",
       " '__name__',\n",
       " '__package__',\n",
       " '__path__',\n",
       " '__spec__',\n",
       " 'my_modul3',\n",
       " 'my_modul4']"
      ]
     },
     "execution_count": 32,
     "metadata": {},
     "output_type": "execute_result"
    }
   ],
   "source": [
    "dir(my_package2)"
   ]
  },
  {
   "cell_type": "code",
   "execution_count": 18,
   "id": "691da9e1",
   "metadata": {},
   "outputs": [
    {
     "name": "stdout",
     "output_type": "stream",
     "text": [
      "harfleri sayılcak metni giriniz : tunahan\n",
      "metin uzunluğu:7 rakam uzunluğu 0 özel char uzunluğu 0\n"
     ]
    }
   ],
   "source": [
    "harfbul.harf_bul()"
   ]
  },
  {
   "cell_type": "code",
   "execution_count": 19,
   "id": "e269dc04",
   "metadata": {},
   "outputs": [
    {
     "name": "stdout",
     "output_type": "stream",
     "text": [
      "120\n"
     ]
    }
   ],
   "source": [
    "factor.factor(5)"
   ]
  },
  {
   "cell_type": "code",
   "execution_count": 33,
   "id": "f04463f8",
   "metadata": {},
   "outputs": [],
   "source": [
    "from package.my_package2 import my_modul3,my_modul4"
   ]
  },
  {
   "cell_type": "code",
   "execution_count": 34,
   "id": "e4f1f8d6",
   "metadata": {},
   "outputs": [
    {
     "data": {
      "text/plain": [
       "['__builtins__',\n",
       " '__cached__',\n",
       " '__doc__',\n",
       " '__file__',\n",
       " '__loader__',\n",
       " '__name__',\n",
       " '__package__',\n",
       " '__path__',\n",
       " '__spec__',\n",
       " 'my_modul3',\n",
       " 'my_modul4']"
      ]
     },
     "execution_count": 34,
     "metadata": {},
     "output_type": "execute_result"
    }
   ],
   "source": [
    "dir(my_package2)"
   ]
  },
  {
   "cell_type": "code",
   "execution_count": 35,
   "id": "fea9f784",
   "metadata": {},
   "outputs": [
    {
     "data": {
      "text/plain": [
       "25"
      ]
     },
     "execution_count": 35,
     "metadata": {},
     "output_type": "execute_result"
    }
   ],
   "source": [
    "my_modul3.square(5)"
   ]
  },
  {
   "cell_type": "code",
   "execution_count": 36,
   "id": "49d5cdb5",
   "metadata": {},
   "outputs": [
    {
     "data": {
      "text/plain": [
       "True"
      ]
     },
     "execution_count": 36,
     "metadata": {},
     "output_type": "execute_result"
    }
   ],
   "source": [
    "my_modul4.asal_mı(19)\n"
   ]
  },
  {
   "cell_type": "code",
   "execution_count": 37,
   "id": "be4b8da8",
   "metadata": {},
   "outputs": [],
   "source": [
    "import package"
   ]
  },
  {
   "cell_type": "code",
   "execution_count": 38,
   "id": "44ad3696",
   "metadata": {},
   "outputs": [
    {
     "data": {
      "text/plain": [
       "['__builtins__',\n",
       " '__cached__',\n",
       " '__doc__',\n",
       " '__file__',\n",
       " '__loader__',\n",
       " '__name__',\n",
       " '__package__',\n",
       " '__path__',\n",
       " '__spec__',\n",
       " 'my_package1',\n",
       " 'my_package2']"
      ]
     },
     "execution_count": 38,
     "metadata": {},
     "output_type": "execute_result"
    }
   ],
   "source": [
    "dir(package)"
   ]
  },
  {
   "cell_type": "code",
   "execution_count": 39,
   "id": "ff99c5fd",
   "metadata": {},
   "outputs": [],
   "source": [
    "from package.my_package2.my_modul3 import square"
   ]
  },
  {
   "cell_type": "code",
   "execution_count": 42,
   "id": "158e4068",
   "metadata": {},
   "outputs": [],
   "source": [
    "from ertan import my_package13,my_package14"
   ]
  },
  {
   "cell_type": "code",
   "execution_count": 41,
   "id": "d709efae",
   "metadata": {},
   "outputs": [
    {
     "data": {
      "text/plain": [
       "['__builtins__',\n",
       " '__cached__',\n",
       " '__doc__',\n",
       " '__file__',\n",
       " '__loader__',\n",
       " '__name__',\n",
       " '__package__',\n",
       " '__path__',\n",
       " '__spec__']"
      ]
     },
     "execution_count": 41,
     "metadata": {},
     "output_type": "execute_result"
    }
   ],
   "source": [
    "dir(my_package13)"
   ]
  },
  {
   "cell_type": "code",
   "execution_count": 44,
   "id": "ef3de88e",
   "metadata": {},
   "outputs": [],
   "source": [
    "from ertan.my_package13 import my_modul"
   ]
  },
  {
   "cell_type": "code",
   "execution_count": 46,
   "id": "6e38a998",
   "metadata": {},
   "outputs": [
    {
     "data": {
      "text/plain": [
       "True"
      ]
     },
     "execution_count": 46,
     "metadata": {},
     "output_type": "execute_result"
    }
   ],
   "source": [
    "my_modul.asal_mı(19)"
   ]
  },
  {
   "cell_type": "code",
   "execution_count": 48,
   "id": "6a82aaf3",
   "metadata": {},
   "outputs": [
    {
     "name": "stdout",
     "output_type": "stream",
     "text": [
      "120\n"
     ]
    }
   ],
   "source": [
    "factor.factor(5)"
   ]
  },
  {
   "cell_type": "code",
   "execution_count": 49,
   "id": "47e5d4a0",
   "metadata": {},
   "outputs": [
    {
     "data": {
      "text/plain": [
       "['__builtins__',\n",
       " '__cached__',\n",
       " '__doc__',\n",
       " '__file__',\n",
       " '__loader__',\n",
       " '__name__',\n",
       " '__package__',\n",
       " '__spec__',\n",
       " 'factor']"
      ]
     },
     "execution_count": 49,
     "metadata": {},
     "output_type": "execute_result"
    }
   ],
   "source": [
    "dir (factor)"
   ]
  },
  {
   "cell_type": "code",
   "execution_count": 50,
   "id": "ba5a1543",
   "metadata": {},
   "outputs": [
    {
     "data": {
      "text/plain": [
       "'C:\\\\Users\\\\tuna\\\\Desktop\\\\CLARUSWAY\\\\class_use'"
      ]
     },
     "execution_count": 50,
     "metadata": {},
     "output_type": "execute_result"
    }
   ],
   "source": [
    "pwd\n"
   ]
  },
  {
   "cell_type": "code",
   "execution_count": 51,
   "id": "637dd403",
   "metadata": {},
   "outputs": [],
   "source": [
    "import math"
   ]
  },
  {
   "cell_type": "code",
   "execution_count": 52,
   "id": "31ba7190",
   "metadata": {},
   "outputs": [
    {
     "name": "stdout",
     "output_type": "stream",
     "text": [
      "['__doc__', '__loader__', '__name__', '__package__', '__spec__', 'acos', 'acosh', 'asin', 'asinh', 'atan', 'atan2', 'atanh', 'ceil', 'comb', 'copysign', 'cos', 'cosh', 'degrees', 'dist', 'e', 'erf', 'erfc', 'exp', 'expm1', 'fabs', 'factorial', 'floor', 'fmod', 'frexp', 'fsum', 'gamma', 'gcd', 'hypot', 'inf', 'isclose', 'isfinite', 'isinf', 'isnan', 'isqrt', 'lcm', 'ldexp', 'lgamma', 'log', 'log10', 'log1p', 'log2', 'modf', 'nan', 'nextafter', 'perm', 'pi', 'pow', 'prod', 'radians', 'remainder', 'sin', 'sinh', 'sqrt', 'tan', 'tanh', 'tau', 'trunc', 'ulp']\n"
     ]
    }
   ],
   "source": [
    "print(dir(math))"
   ]
  },
  {
   "cell_type": "code",
   "execution_count": 53,
   "id": "28e45f15",
   "metadata": {},
   "outputs": [
    {
     "name": "stdout",
     "output_type": "stream",
     "text": [
      "ModuleSpec(name='math', loader=<class '_frozen_importlib.BuiltinImporter'>, origin='built-in')\n"
     ]
    }
   ],
   "source": [
    "print(math.__spec__)"
   ]
  },
  {
   "cell_type": "code",
   "execution_count": 57,
   "id": "b143295e",
   "metadata": {},
   "outputs": [
    {
     "name": "stdout",
     "output_type": "stream",
     "text": [
      "3.0\n"
     ]
    }
   ],
   "source": [
    "print(math.log10(1000))"
   ]
  },
  {
   "cell_type": "code",
   "execution_count": 58,
   "id": "04d1f58c",
   "metadata": {},
   "outputs": [
    {
     "name": "stdout",
     "output_type": "stream",
     "text": [
      "3.141592653589793\n"
     ]
    }
   ],
   "source": [
    "print(math.pi)"
   ]
  },
  {
   "cell_type": "code",
   "execution_count": 59,
   "id": "38534557",
   "metadata": {},
   "outputs": [
    {
     "name": "stdout",
     "output_type": "stream",
     "text": [
      "24\n"
     ]
    }
   ],
   "source": [
    "print(math.factorial(4))"
   ]
  },
  {
   "cell_type": "code",
   "execution_count": 60,
   "id": "366a5f11",
   "metadata": {},
   "outputs": [],
   "source": [
    "from math import pi,factorial,log10"
   ]
  },
  {
   "cell_type": "code",
   "execution_count": 61,
   "id": "c5165eb6",
   "metadata": {},
   "outputs": [
    {
     "name": "stdout",
     "output_type": "stream",
     "text": [
      "3.141592653589793\n",
      "24\n",
      "3.0\n"
     ]
    }
   ],
   "source": [
    "print(pi)\n",
    "print(factorial(4))\n",
    "print(log10(1000))"
   ]
  },
  {
   "cell_type": "code",
   "execution_count": 63,
   "id": "a3472b22",
   "metadata": {},
   "outputs": [],
   "source": [
    "a= pi * factorial(4) *log10(100)"
   ]
  },
  {
   "cell_type": "code",
   "execution_count": 64,
   "id": "83acc480",
   "metadata": {},
   "outputs": [
    {
     "data": {
      "text/plain": [
       "150.79644737231007"
      ]
     },
     "execution_count": 64,
     "metadata": {},
     "output_type": "execute_result"
    }
   ],
   "source": [
    "a"
   ]
  },
  {
   "cell_type": "code",
   "execution_count": 65,
   "id": "2ab095f5",
   "metadata": {},
   "outputs": [
    {
     "data": {
      "text/plain": [
       "float"
      ]
     },
     "execution_count": 65,
     "metadata": {},
     "output_type": "execute_result"
    }
   ],
   "source": [
    "type(a)"
   ]
  },
  {
   "cell_type": "code",
   "execution_count": 66,
   "id": "33aab2cf",
   "metadata": {},
   "outputs": [],
   "source": [
    "import string"
   ]
  },
  {
   "cell_type": "code",
   "execution_count": 67,
   "id": "46bc8bd6",
   "metadata": {},
   "outputs": [
    {
     "name": "stdout",
     "output_type": "stream",
     "text": [
      "['Formatter', 'Template', '_ChainMap', '__all__', '__builtins__', '__cached__', '__doc__', '__file__', '__loader__', '__name__', '__package__', '__spec__', '_re', '_sentinel_dict', '_string', 'ascii_letters', 'ascii_lowercase', 'ascii_uppercase', 'capwords', 'digits', 'hexdigits', 'octdigits', 'printable', 'punctuation', 'whitespace']\n"
     ]
    }
   ],
   "source": [
    "print(dir(string))"
   ]
  },
  {
   "cell_type": "code",
   "execution_count": 75,
   "id": "131ede97",
   "metadata": {},
   "outputs": [],
   "source": [
    "from string import whitespace"
   ]
  },
  {
   "cell_type": "code",
   "execution_count": 76,
   "id": "2ab38bbb",
   "metadata": {},
   "outputs": [
    {
     "name": "stdout",
     "output_type": "stream",
     "text": [
      " \t\n",
      "\r",
      "\u000b",
      "\f",
      "\n"
     ]
    }
   ],
   "source": [
    "print(whitespace)"
   ]
  },
  {
   "cell_type": "code",
   "execution_count": 83,
   "id": "028eb436",
   "metadata": {},
   "outputs": [],
   "source": [
    "from datetime import date "
   ]
  },
  {
   "cell_type": "code",
   "execution_count": 96,
   "id": "4e5d298e",
   "metadata": {},
   "outputs": [
    {
     "ename": "NameError",
     "evalue": "name 'datetime' is not defined",
     "output_type": "error",
     "traceback": [
      "\u001b[1;31m---------------------------------------------------------------------------\u001b[0m",
      "\u001b[1;31mNameError\u001b[0m                                 Traceback (most recent call last)",
      "Input \u001b[1;32mIn [96]\u001b[0m, in \u001b[0;36m<cell line: 1>\u001b[1;34m()\u001b[0m\n\u001b[1;32m----> 1\u001b[0m \u001b[38;5;28mprint\u001b[39m(\u001b[38;5;28mdir\u001b[39m(\u001b[43mdatetime\u001b[49m))\n",
      "\u001b[1;31mNameError\u001b[0m: name 'datetime' is not defined"
     ]
    }
   ],
   "source": [
    "print(dir(datetime))"
   ]
  },
  {
   "cell_type": "code",
   "execution_count": 87,
   "id": "4456ba40",
   "metadata": {},
   "outputs": [
    {
     "name": "stdout",
     "output_type": "stream",
     "text": [
      "2022-11-10\n"
     ]
    }
   ],
   "source": [
    "print(date.today())"
   ]
  },
  {
   "cell_type": "code",
   "execution_count": 95,
   "id": "f78c46a8",
   "metadata": {},
   "outputs": [
    {
     "ename": "NameError",
     "evalue": "name 'datetime' is not defined",
     "output_type": "error",
     "traceback": [
      "\u001b[1;31m---------------------------------------------------------------------------\u001b[0m",
      "\u001b[1;31mNameError\u001b[0m                                 Traceback (most recent call last)",
      "Input \u001b[1;32mIn [95]\u001b[0m, in \u001b[0;36m<cell line: 1>\u001b[1;34m()\u001b[0m\n\u001b[1;32m----> 1\u001b[0m \u001b[38;5;28mprint\u001b[39m(\u001b[43mdatetime\u001b[49m\u001b[38;5;241m.\u001b[39mdate\u001b[38;5;241m.\u001b[39mnow())\n",
      "\u001b[1;31mNameError\u001b[0m: name 'datetime' is not defined"
     ]
    }
   ],
   "source": [
    "print(datetime.date.now())"
   ]
  },
  {
   "cell_type": "code",
   "execution_count": 97,
   "id": "2b8389c3",
   "metadata": {},
   "outputs": [],
   "source": [
    "import datetime\n"
   ]
  },
  {
   "cell_type": "code",
   "execution_count": 98,
   "id": "d7f56072",
   "metadata": {},
   "outputs": [
    {
     "name": "stdout",
     "output_type": "stream",
     "text": [
      "2022-11-10 21:22:27.743640\n"
     ]
    }
   ],
   "source": [
    "print(datetime.datetime.now())"
   ]
  },
  {
   "cell_type": "code",
   "execution_count": 99,
   "id": "d90f9aba",
   "metadata": {},
   "outputs": [
    {
     "data": {
      "text/plain": [
       "datetime.timedelta(days=11921)"
      ]
     },
     "execution_count": 99,
     "metadata": {},
     "output_type": "execute_result"
    }
   ],
   "source": [
    "datetime.timedelta(days=11921)"
   ]
  },
  {
   "cell_type": "code",
   "execution_count": 100,
   "id": "8cdab80b",
   "metadata": {},
   "outputs": [],
   "source": [
    "from datetime import date"
   ]
  },
  {
   "cell_type": "code",
   "execution_count": 119,
   "id": "5d28eca6",
   "metadata": {},
   "outputs": [],
   "source": [
    "birth=date(1980,7,21)"
   ]
  },
  {
   "cell_type": "code",
   "execution_count": 102,
   "id": "cdd2d2ca",
   "metadata": {},
   "outputs": [
    {
     "data": {
      "text/plain": [
       "datetime.date"
      ]
     },
     "execution_count": 102,
     "metadata": {},
     "output_type": "execute_result"
    }
   ],
   "source": [
    "type(date(571,4,22))"
   ]
  },
  {
   "cell_type": "code",
   "execution_count": 116,
   "id": "16414d3e",
   "metadata": {},
   "outputs": [],
   "source": [
    "death= date(2023,11,10)"
   ]
  },
  {
   "cell_type": "code",
   "execution_count": 109,
   "id": "0396a8c5",
   "metadata": {},
   "outputs": [
    {
     "data": {
      "text/plain": [
       "datetime.timedelta(days=22327)"
      ]
     },
     "execution_count": 109,
     "metadata": {},
     "output_type": "execute_result"
    }
   ],
   "source": [
    "death- birth"
   ]
  },
  {
   "cell_type": "code",
   "execution_count": null,
   "id": "efb351a5",
   "metadata": {},
   "outputs": [],
   "source": []
  },
  {
   "cell_type": "code",
   "execution_count": 121,
   "id": "19c92925",
   "metadata": {},
   "outputs": [],
   "source": [
    "lifeday=date.toordinal(death)- date.toordinal(birth)"
   ]
  },
  {
   "cell_type": "code",
   "execution_count": 122,
   "id": "6eb21fde",
   "metadata": {},
   "outputs": [
    {
     "data": {
      "text/plain": [
       "15817"
      ]
     },
     "execution_count": 122,
     "metadata": {},
     "output_type": "execute_result"
    }
   ],
   "source": [
    "lifeday"
   ]
  },
  {
   "cell_type": "code",
   "execution_count": 124,
   "id": "d41b9aa4",
   "metadata": {},
   "outputs": [
    {
     "data": {
      "text/plain": [
       "661.5"
      ]
     },
     "execution_count": 124,
     "metadata": {},
     "output_type": "execute_result"
    }
   ],
   "source": [
    "lifeday - lifeday/2 - (7*365) -(17*276)"
   ]
  },
  {
   "cell_type": "code",
   "execution_count": 129,
   "id": "e7c9eb1d",
   "metadata": {},
   "outputs": [],
   "source": [
    "city = [\"stockholm\", \"istanbul\", \"seul\", \"cape town\"]\n",
    "from random import choice"
   ]
  },
  {
   "cell_type": "code",
   "execution_count": 132,
   "id": "39e24d6f",
   "metadata": {},
   "outputs": [
    {
     "data": {
      "text/plain": [
       "'seul'"
      ]
     },
     "execution_count": 132,
     "metadata": {},
     "output_type": "execute_result"
    }
   ],
   "source": [
    "choice(city)"
   ]
  },
  {
   "cell_type": "code",
   "execution_count": 133,
   "id": "86a11b19",
   "metadata": {},
   "outputs": [
    {
     "name": "stdout",
     "output_type": "stream",
     "text": [
      "pip 21.2.4 from C:\\ProgramData\\Anaconda3\\lib\\site-packages\\pip (python 3.9)\n",
      "\n",
      "Note: you may need to restart the kernel to use updated packages.\n"
     ]
    }
   ],
   "source": [
    "pip --version"
   ]
  },
  {
   "cell_type": "code",
   "execution_count": null,
   "id": "88997cf8",
   "metadata": {},
   "outputs": [],
   "source": []
  },
  {
   "cell_type": "code",
   "execution_count": 139,
   "id": "da569467",
   "metadata": {},
   "outputs": [],
   "source": [
    "import numpy"
   ]
  },
  {
   "cell_type": "code",
   "execution_count": 141,
   "id": "049e5bd8",
   "metadata": {},
   "outputs": [
    {
     "name": "stdout",
     "output_type": "stream",
     "text": [
      "Note: you may need to restart the kernel to use updated packages.\n"
     ]
    },
    {
     "name": "stderr",
     "output_type": "stream",
     "text": [
      "WARNING: ERROR: Please provide a package name or names.\n"
     ]
    }
   ],
   "source": [
    "pip show\n"
   ]
  },
  {
   "cell_type": "code",
   "execution_count": 144,
   "id": "3c0a64f3",
   "metadata": {},
   "outputs": [
    {
     "name": "stdout",
     "output_type": "stream",
     "text": [
      "Name: numpy\n",
      "Version: 1.21.5\n",
      "Summary: NumPy is the fundamental package for array computing with Python.\n",
      "Home-page: https://www.numpy.org\n",
      "Author: Travis E. Oliphant et al.\n",
      "Author-email: \n",
      "License: BSD\n",
      "Location: c:\\programdata\\anaconda3\\lib\\site-packages\n",
      "Requires: \n",
      "Required-by: xarray, tifffile, tables, statsmodels, seaborn, scipy, scikit-learn, scikit-image, PyWavelets, pyerfa, patsy, pandas, numexpr, numba, mkl-random, mkl-fft, matplotlib, imageio, imagecodecs, hvplot, holoviews, h5py, gensim, datashape, datashader, daal4py, Bottleneck, bokeh, bkcharts, astropy\n",
      "Note: you may need to restart the kernel to use updated packages.\n"
     ]
    }
   ],
   "source": [
    "pip show numpy"
   ]
  },
  {
   "cell_type": "code",
   "execution_count": 146,
   "id": "c3c27cb0",
   "metadata": {},
   "outputs": [],
   "source": [
    "from timeit import timeit"
   ]
  },
  {
   "cell_type": "code",
   "execution_count": null,
   "id": "00c7ab84",
   "metadata": {},
   "outputs": [],
   "source": [
    "timeit()"
   ]
  },
  {
   "cell_type": "code",
   "execution_count": 152,
   "id": "54690666",
   "metadata": {},
   "outputs": [],
   "source": [
    "def forloop():\n",
    "    result=[]\n",
    "    \n",
    "    for i in range(10):\n",
    "        result.append(i)\n",
    "    return result"
   ]
  },
  {
   "cell_type": "code",
   "execution_count": 153,
   "id": "4d91cf6f",
   "metadata": {},
   "outputs": [],
   "source": [
    "def listcomp():\n",
    "    return[i for i in range(10)]"
   ]
  },
  {
   "cell_type": "code",
   "execution_count": 154,
   "id": "909e1d46",
   "metadata": {},
   "outputs": [],
   "source": [
    "\n",
    "timeforloop = timeit(forloop)\n",
    "timelistcomp= timeit(listcomp)"
   ]
  },
  {
   "cell_type": "code",
   "execution_count": 155,
   "id": "3a0b084c",
   "metadata": {},
   "outputs": [
    {
     "name": "stdout",
     "output_type": "stream",
     "text": [
      "1.3390669213915576\n"
     ]
    }
   ],
   "source": [
    "print(timeforloop / timelistcomp)"
   ]
  },
  {
   "cell_type": "code",
   "execution_count": 157,
   "id": "aa94659e",
   "metadata": {},
   "outputs": [
    {
     "ename": "NameError",
     "evalue": "name 'hello' is not defined",
     "output_type": "error",
     "traceback": [
      "\u001b[1;31m---------------------------------------------------------------------------\u001b[0m",
      "\u001b[1;31mNameError\u001b[0m                                 Traceback (most recent call last)",
      "Input \u001b[1;32mIn [157]\u001b[0m, in \u001b[0;36m<cell line: 2>\u001b[1;34m()\u001b[0m\n\u001b[0;32m      1\u001b[0m \u001b[38;5;28;01mimport\u001b[39;00m \u001b[38;5;21;01mdis\u001b[39;00m\n\u001b[1;32m----> 2\u001b[0m dis\u001b[38;5;241m.\u001b[39mdis(\u001b[43mhello\u001b[49m)\n",
      "\u001b[1;31mNameError\u001b[0m: name 'hello' is not defined"
     ]
    }
   ],
   "source": [
    "import dis\n",
    "dis.dis(hello)"
   ]
  },
  {
   "cell_type": "code",
   "execution_count": 159,
   "id": "8e236463",
   "metadata": {},
   "outputs": [],
   "source": [
    "import traceback"
   ]
  },
  {
   "cell_type": "code",
   "execution_count": 160,
   "id": "29597fff",
   "metadata": {},
   "outputs": [
    {
     "ename": "TypeError",
     "evalue": "'module' object is not callable",
     "output_type": "error",
     "traceback": [
      "\u001b[1;31m---------------------------------------------------------------------------\u001b[0m",
      "\u001b[1;31mTypeError\u001b[0m                                 Traceback (most recent call last)",
      "Input \u001b[1;32mIn [160]\u001b[0m, in \u001b[0;36m<cell line: 1>\u001b[1;34m()\u001b[0m\n\u001b[1;32m----> 1\u001b[0m \u001b[43mtraceback\u001b[49m\u001b[43m(\u001b[49m\u001b[43m)\u001b[49m\n",
      "\u001b[1;31mTypeError\u001b[0m: 'module' object is not callable"
     ]
    }
   ],
   "source": [
    "traceback."
   ]
  },
  {
   "cell_type": "code",
   "execution_count": null,
   "id": "da43382f",
   "metadata": {},
   "outputs": [],
   "source": []
  }
 ],
 "metadata": {
  "kernelspec": {
   "display_name": "Python 3 (ipykernel)",
   "language": "python",
   "name": "python3"
  },
  "language_info": {
   "codemirror_mode": {
    "name": "ipython",
    "version": 3
   },
   "file_extension": ".py",
   "mimetype": "text/x-python",
   "name": "python",
   "nbconvert_exporter": "python",
   "pygments_lexer": "ipython3",
   "version": "3.9.12"
  }
 },
 "nbformat": 4,
 "nbformat_minor": 5
}
