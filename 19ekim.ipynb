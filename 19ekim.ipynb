{
  "nbformat": 4,
  "nbformat_minor": 0,
  "metadata": {
    "colab": {
      "provenance": [],
      "authorship_tag": "ABX9TyO20K31rdXp1GMyjxLFMfAg",
      "include_colab_link": true
    },
    "kernelspec": {
      "name": "python3",
      "display_name": "Python 3"
    },
    "language_info": {
      "name": "python"
    }
  },
  "cells": [
    {
      "cell_type": "markdown",
      "metadata": {
        "id": "view-in-github",
        "colab_type": "text"
      },
      "source": [
        "<a href=\"https://colab.research.google.com/github/tunahanozdogan/class_exam/blob/main/19ekim.ipynb\" target=\"_parent\"><img src=\"https://colab.research.google.com/assets/colab-badge.svg\" alt=\"Open In Colab\"/></a>"
      ]
    },
    {
      "cell_type": "code",
      "execution_count": 1,
      "metadata": {
        "colab": {
          "base_uri": "https://localhost:8080/"
        },
        "id": "VXMjxSZ_Yp65",
        "outputId": "1aaf0277-c216-41a1-c935-382638b7300f"
      },
      "outputs": [
        {
          "output_type": "stream",
          "name": "stdout",
          "text": [
            "l\n"
          ]
        }
      ],
      "source": [
        "fruits = ['apple', 'banana', 'watermelon', 'orange', 'mango', 'avocado']\n",
        "\n",
        "fruit_list = []\n",
        "fruit_list.insert(0, fruits)\n",
        "print(fruit_list[0][2][7])"
      ]
    },
    {
      "cell_type": "code",
      "source": [
        "fruits = ['apple', 'banana', 'watermelon', 'orange', 'mango', 'avocado']\n",
        "\n",
        "fruit_list = []\n",
        "print(fruit_list.insert(0, fruits))\n"
      ],
      "metadata": {
        "colab": {
          "base_uri": "https://localhost:8080/"
        },
        "id": "eD0_J8YkY1LI",
        "outputId": "62925c0d-86f6-4758-9e21-9a9d2c7cd765"
      },
      "execution_count": 2,
      "outputs": [
        {
          "output_type": "stream",
          "name": "stdout",
          "text": [
            "None\n"
          ]
        }
      ]
    },
    {
      "cell_type": "code",
      "source": [
        "number = int(input(\"Please enter a number\"))\n",
        "text1=\"is an odd number\"\n",
        "text2=\"is an even number\"\n",
        "text3=\"and it can not be divided into 3\"\n",
        "text4=\"and it can  be divided into 3\"\n",
        "print(f\"{number}\", f\"{int(bool(number % 2))*text1}\", f\"{int(not bool(number % 2))*text2}\",\n",
        "      f\"{int(bool(number % 3))*text3}\", f\"{int(not bool(number % 3))*text4}\")\n"
      ],
      "metadata": {
        "colab": {
          "base_uri": "https://localhost:8080/"
        },
        "id": "qE2gscscaWEy",
        "outputId": "46f9208b-3d79-483e-823a-c3df7f465673"
      },
      "execution_count": 4,
      "outputs": [
        {
          "output_type": "stream",
          "name": "stdout",
          "text": [
            "Please enter a number3\n",
            "3 is an odd number   and it can  be divided into 3\n"
          ]
        }
      ]
    }
  ]
}