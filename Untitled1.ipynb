{
 "cells": [
  {
   "cell_type": "code",
   "execution_count": 26,
   "id": "c51dfcf0",
   "metadata": {},
   "outputs": [
    {
     "name": "stdout",
     "output_type": "stream",
     "text": [
      "18\n",
      "<class 'int'>\n"
     ]
    }
   ],
   "source": [
    "\n",
    "def my_function(a , b):\n",
    "    result= (a * b)\n",
    "    return result\n",
    "print(my_function(3, 6))\n"
   ]
  },
  {
   "cell_type": "code",
   "execution_count": null,
   "id": "c619e900",
   "metadata": {},
   "outputs": [],
   "source": []
  },
  {
   "cell_type": "code",
   "execution_count": 12,
   "id": "e33a4898",
   "metadata": {},
   "outputs": [
    {
     "ename": "SyntaxError",
     "evalue": "invalid syntax (1317488009.py, line 1)",
     "output_type": "error",
     "traceback": [
      "\u001b[1;36m  Input \u001b[1;32mIn [12]\u001b[1;36m\u001b[0m\n\u001b[1;33m    ef dikdortgenAlan(genislik, yukseklik):\u001b[0m\n\u001b[1;37m       ^\u001b[0m\n\u001b[1;31mSyntaxError\u001b[0m\u001b[1;31m:\u001b[0m invalid syntax\n"
     ]
    }
   ],
   "source": [
    "ef dikdortgenAlan(genislik, yukseklik):\n",
    "    alan = float(genislik) * float(yukseklik)\n",
    "    return alan"
   ]
  },
  {
   "cell_type": "code",
   "execution_count": 18,
   "id": "fbea64ba",
   "metadata": {},
   "outputs": [
    {
     "name": "stdout",
     "output_type": "stream",
     "text": [
      "It can't be assigned to any variable\n",
      "None\n"
     ]
    }
   ],
   "source": [
    "shadow_var = print(\"It can't be assigned to any variable\")\n",
    "print(shadow_var)  # NoneType value can't be used"
   ]
  },
  {
   "cell_type": "code",
   "execution_count": 27,
   "id": "3f177f82",
   "metadata": {},
   "outputs": [
    {
     "name": "stdout",
     "output_type": "stream",
     "text": [
      "5.0\n"
     ]
    }
   ],
   "source": [
    "def my_function(a, b):\n",
    "    hypotenuse = (a**2 + b**2)**0.5\n",
    "    return hypotenuse\n",
    "print(my_function (3,4))\n"
   ]
  },
  {
   "cell_type": "code",
   "execution_count": 30,
   "id": "dd150eb6",
   "metadata": {},
   "outputs": [
    {
     "name": "stdout",
     "output_type": "stream",
     "text": [
      "Richard\n"
     ]
    }
   ],
   "source": [
    "def longer(a, b):\n",
    "    if len(a) >= len(b):\n",
    "        return a\n",
    "    else:\n",
    "        return b\n",
    "\n",
    "print(longer('Richard', 'John'))"
   ]
  },
  {
   "cell_type": "code",
   "execution_count": 43,
   "id": "42b3048e",
   "metadata": {},
   "outputs": [
    {
     "ename": "TypeError",
     "evalue": "my_function() missing 1 required positional argument: 'b'",
     "output_type": "error",
     "traceback": [
      "\u001b[1;31m---------------------------------------------------------------------------\u001b[0m",
      "\u001b[1;31mTypeError\u001b[0m                                 Traceback (most recent call last)",
      "Input \u001b[1;32mIn [43]\u001b[0m, in \u001b[0;36m<cell line: 4>\u001b[1;34m()\u001b[0m\n\u001b[0;32m      2\u001b[0m     sonuc\u001b[38;5;241m=\u001b[39m(a \u001b[38;5;241m*\u001b[39m b)\n\u001b[0;32m      3\u001b[0m     \u001b[38;5;28;01mreturn\u001b[39;00m sonuc\n\u001b[1;32m----> 4\u001b[0m \u001b[38;5;28mprint\u001b[39m(\u001b[43mmy_function\u001b[49m\u001b[43m \u001b[49m\u001b[43m(\u001b[49m\u001b[38;5;241;43m10\u001b[39;49m\u001b[43m \u001b[49m\u001b[38;5;241;43m*\u001b[39;49m\u001b[43m \u001b[49m\u001b[38;5;241;43m20\u001b[39;49m\u001b[43m)\u001b[49m)\n",
      "\u001b[1;31mTypeError\u001b[0m: my_function() missing 1 required positional argument: 'b'"
     ]
    }
   ],
   "source": [
    "def my_function (a , b):\n",
    "    sonuc=(a * b)\n",
    "    return sonuc\n",
    "print(my_function (10 * 20))"
   ]
  },
  {
   "cell_type": "code",
   "execution_count": 44,
   "id": "6d9e0e65",
   "metadata": {},
   "outputs": [
    {
     "name": "stdout",
     "output_type": "stream",
     "text": [
      "Athens in Europe\n",
      "Ulaanbaatar in Asia\n",
      "Cape Town in Africa\n"
     ]
    }
   ],
   "source": [
    "def city(capital, continent='Europe'):\n",
    "    print(capital, 'in', continent)\n",
    "\n",
    "city('Athens')  # we don't have to pass any arguments into 'continent'\n",
    "city('Ulaanbaatar', continent='Asia')  # we can change the default value by kwargs\n",
    "city('Cape Town', 'Africa')  # we can change the default value by positional args."
   ]
  },
  {
   "cell_type": "markdown",
   "id": "1da88ede",
   "metadata": {},
   "source": [
    "Task : Print the Fizz Buzz numbers. Use ternary operator\n",
    "Fizz Buzz is a famous code challenge used in interviews to test basic programming skills. It's time to write your own implementation.\n",
    "Print numbers from 1 to 100 inclusively following these instructions:\n",
    "if a number is multiple of 3, print \"Fizz\" instead of this number,\n",
    "if a number is multiple of 5, print \"Buzz\" instead of this number,\n",
    "for numbers that are multiples of both 3 and 5, print \"FizzBuzz\",\n",
    "print the rest of the numbers unchanged."
   ]
  },
  {
   "cell_type": "code",
   "execution_count": null,
   "id": "64821b72",
   "metadata": {},
   "outputs": [],
   "source": [
    "[for i in range(1,100)] if [i//3==0 ] else [on_false]"
   ]
  },
  {
   "cell_type": "code",
   "execution_count": 55,
   "id": "5136fa86",
   "metadata": {},
   "outputs": [
    {
     "name": "stdout",
     "output_type": "stream",
     "text": [
      "1\n",
      "2\n",
      "Fizz\n",
      "4\n",
      "Buzz\n",
      "Fizz\n",
      "7\n",
      "8\n",
      "Fizz\n",
      "Buzz\n",
      "11\n",
      "Fizz\n",
      "13\n",
      "14\n",
      "FizzBuzz\n",
      "16\n",
      "17\n",
      "Fizz\n",
      "19\n",
      "Buzz\n",
      "Fizz\n",
      "22\n",
      "23\n",
      "Fizz\n",
      "Buzz\n",
      "26\n",
      "Fizz\n",
      "28\n",
      "29\n",
      "FizzBuzz\n",
      "31\n",
      "32\n",
      "Fizz\n",
      "34\n",
      "Buzz\n",
      "Fizz\n",
      "37\n",
      "38\n",
      "Fizz\n",
      "Buzz\n",
      "41\n",
      "Fizz\n",
      "43\n",
      "44\n",
      "FizzBuzz\n",
      "46\n",
      "47\n",
      "Fizz\n",
      "49\n",
      "Buzz\n",
      "Fizz\n",
      "52\n",
      "53\n",
      "Fizz\n",
      "Buzz\n",
      "56\n",
      "Fizz\n",
      "58\n",
      "59\n",
      "FizzBuzz\n",
      "61\n",
      "62\n",
      "Fizz\n",
      "64\n",
      "Buzz\n",
      "Fizz\n",
      "67\n",
      "68\n",
      "Fizz\n",
      "Buzz\n",
      "71\n",
      "Fizz\n",
      "73\n",
      "74\n",
      "FizzBuzz\n",
      "76\n",
      "77\n",
      "Fizz\n",
      "79\n",
      "Buzz\n",
      "Fizz\n",
      "82\n",
      "83\n",
      "Fizz\n",
      "Buzz\n",
      "86\n",
      "Fizz\n",
      "88\n",
      "89\n",
      "FizzBuzz\n",
      "91\n",
      "92\n",
      "Fizz\n",
      "94\n",
      "Buzz\n",
      "Fizz\n",
      "97\n",
      "98\n",
      "Fizz\n"
     ]
    }
   ],
   "source": [
    "# [statement_on_True] if [condition] else [statement_on_false]\n",
    "for i in range(1,100):\n",
    "    print(\"FizzBuzz\" if (not i % 3 and  not i % 5) else \"Fizz\" if ( not i % 3) else  \"Buzz\" if ( not i % 5) else i)"
   ]
  },
  {
   "cell_type": "code",
   "execution_count": null,
   "id": "57b98adc",
   "metadata": {},
   "outputs": [],
   "source": []
  },
  {
   "cell_type": "code",
   "execution_count": null,
   "id": "66288eb4",
   "metadata": {},
   "outputs": [],
   "source": [
    "if a != b:\n",
    "    if a > b:\n",
    "        print(\"a is greater than b\")\n",
    "    else:\n",
    "        print(\"b is greater than a\")\n",
    "else:\n",
    "    print(\"Both a and b are equal\")"
   ]
  },
  {
   "cell_type": "code",
   "execution_count": 57,
   "id": "56a53986",
   "metadata": {},
   "outputs": [
    {
     "name": "stdout",
     "output_type": "stream",
     "text": [
      "I love Clarusway!\n"
     ]
    }
   ],
   "source": [
    "def make_sentence(**kwargs):\n",
    "    result = \"\"\n",
    "    # Iterating over the Python kwargs dictionary\n",
    "    for i in kwargs.values():\n",
    "        result += i\n",
    "    return result\n",
    "\n",
    "print(make_sentence(a=\"I \", b=\"love \", c=\"Clarusway!\"))"
   ]
  },
  {
   "cell_type": "code",
   "execution_count": 58,
   "id": "5a91c107",
   "metadata": {},
   "outputs": [
    {
     "name": "stdout",
     "output_type": "stream",
     "text": [
      "Liverpool in Premier League\n"
     ]
    }
   ],
   "source": [
    "def team_league(team, league='Premier League'):\n",
    "    print(team, 'in', league)\n",
    "\n",
    "team_league('Liverpool')"
   ]
  },
  {
   "cell_type": "code",
   "execution_count": 59,
   "id": "f56a99fb",
   "metadata": {},
   "outputs": [
    {
     "name": "stdout",
     "output_type": "stream",
     "text": [
      "Your first name is : Richard\n",
      "Your last name is : Rice\n"
     ]
    }
   ],
   "source": [
    "def my_function(first, last) : \n",
    "    print('Your first name is :', first)\n",
    "    print('Your last name is :', last)\n",
    "\n",
    "my_function(first='Richard', last='Rice') "
   ]
  },
  {
   "cell_type": "code",
   "execution_count": 60,
   "id": "aac276f1",
   "metadata": {},
   "outputs": [
    {
     "name": "stdout",
     "output_type": "stream",
     "text": [
      "I will stop smoking\n",
      "I will stop smoking\n",
      "I will stop smoking\n",
      "I will stop smoking\n",
      "I will stop smoking\n"
     ]
    }
   ],
   "source": [
    "a = 3\n",
    "while a**2 < 299:\n",
    "    print('I will stop smoking')\n",
    "    a += 3"
   ]
  },
  {
   "cell_type": "code",
   "execution_count": 61,
   "id": "d4a49ac9",
   "metadata": {},
   "outputs": [
    {
     "name": "stdout",
     "output_type": "stream",
     "text": [
      "Shipping Costs €10\n"
     ]
    }
   ],
   "source": [
    "total = 149\n",
    "country = \"FR\"\n",
    "\n",
    "if country == \"FR\":\n",
    "    if total <= 50:\n",
    "        print(\"Shipping Cost is  €30\")\n",
    "    elif total <= 100:\n",
    "        print(\"Shipping Cost is €15\")\n",
    "    elif total <= 150:\n",
    "        print(\"Shipping Costs €10\")\n",
    "    else:\n",
    "        print(\"Free Shipping\")\n",
    "if country == \"DE\": \n",
    "    if total <= 50:\n",
    "        print(\"Shipping Cost is  €25\")\n",
    "    else:\n",
    "        print(\"Free Shipping\")"
   ]
  },
  {
   "cell_type": "code",
   "execution_count": 86,
   "id": "3d5c9905",
   "metadata": {},
   "outputs": [
    {
     "name": "stdout",
     "output_type": "stream",
     "text": [
      "Please enter your saved amount: 200\n",
      "You saved more than half, keep saving!\n"
     ]
    }
   ],
   "source": [
    "ps4_price = 300\n",
    "saved_amount = int(input('Please enter your saved amount: '))\n",
    "if saved_amount <= ps4_price / 2 :\n",
    "    print (\"You must save more, keep saving!\")\n",
    "if (saved_amount >= ps4_price / 2 ) and (saved_amount < ps4_price):\n",
    "        print (\"You saved more than half, keep saving!\")\n",
    "if saved_amount > ps4_price :\n",
    "        print (\"Yippee! You can buy your PS4\")\n",
    "\n"
   ]
  },
  {
   "cell_type": "markdown",
   "id": "f574379c",
   "metadata": {},
   "source": [
    "85-100 ➔ A (Excellent)\n",
    "70-84 ➔ B (Good)\n",
    "60-69 ➔ C (Medium)\n",
    "45-59 ➔ D (Not Bad)\n",
    "0-44 ➔ F (Failed)"
   ]
  },
  {
   "cell_type": "code",
   "execution_count": 96,
   "id": "cc1648dd",
   "metadata": {},
   "outputs": [
    {
     "name": "stdout",
     "output_type": "stream",
     "text": [
      "Please enter the mark: 59\n",
      "D (Not Bad)\n"
     ]
    }
   ],
   "source": [
    "math_mark = int(input('Please enter the mark: '))\n",
    "if(math_mark >=85):\n",
    "    print(\"A (Excellent)\")\n",
    "elif(70 <= math_mark<=84):\n",
    "    print(\"B (Good)\")\n",
    "elif(60 <= math_mark <=69):\n",
    "    print(\"C (Medium)\")\n",
    "elif( 45 <= math_mark <=59):\n",
    "    print(\"D (Not Bad)\")\n",
    "elif(math_mark <=44):\n",
    "    print(\"F (Failed)\")\n",
    "\n",
    "\n"
   ]
  },
  {
   "cell_type": "code",
   "execution_count": 100,
   "id": "48224764",
   "metadata": {},
   "outputs": [
    {
     "name": "stdout",
     "output_type": "stream",
     "text": [
      "1996\n"
     ]
    }
   ],
   "source": [
    "a=998\n",
    "if a >= 999 :\n",
    "    print(a ** 0)  \n",
    "\n",
    "else :\n",
    "    print(a * 2)"
   ]
  },
  {
   "cell_type": "code",
   "execution_count": 101,
   "id": "202ee3f8",
   "metadata": {},
   "outputs": [
    {
     "name": "stdout",
     "output_type": "stream",
     "text": [
      "Day 1 : Monday\n",
      "Day 2 : Tuesday\n",
      "Day 3 : Wednesday\n",
      "Day 4 : Thursday\n",
      "Day 5 : Friday\n"
     ]
    }
   ],
   "source": [
    "weekdays = ['Monday', 'Tuesday', 'Wednesday', 'Thursday', 'Friday']\n",
    "for day in range (len (weekdays)):\n",
    "    print('Day', day+1, ':', weekdays[day])"
   ]
  },
  {
   "cell_type": "code",
   "execution_count": 102,
   "id": "1dd718b0",
   "metadata": {},
   "outputs": [
    {
     "name": "stdout",
     "output_type": "stream",
     "text": [
      "49\n",
      "54\n",
      "59\n"
     ]
    }
   ],
   "source": [
    "a = 49\n",
    "while a <= 62:\n",
    "    print(a)\n",
    "    a += 5"
   ]
  },
  {
   "cell_type": "code",
   "execution_count": 103,
   "id": "769bef12",
   "metadata": {},
   "outputs": [
    {
     "name": "stdout",
     "output_type": "stream",
     "text": [
      "49\n"
     ]
    }
   ],
   "source": [
    "a = 49\n",
    "while a % 2 != 0:\n",
    "    print(a)\n",
    "    a += 5"
   ]
  },
  {
   "cell_type": "code",
   "execution_count": 107,
   "id": "d0d3b513",
   "metadata": {},
   "outputs": [
    {
     "name": "stdout",
     "output_type": "stream",
     "text": [
      "This is an autumn month\n"
     ]
    }
   ],
   "source": [
    "month = \"April\"\n",
    "spring = \"September, April, January\"\n",
    "autumn = \"March, October, July\"\n",
    "\n",
    "if (month in spring) or (month in autumn):\n",
    "    if month in autumn:\n",
    "        print(\"This is a spring month\")\n",
    "    else:\n",
    "        print(\"This is an autumn month\")\n",
    "else:\n",
    "    print(\"This month is not categorized\")"
   ]
  },
  {
   "cell_type": "code",
   "execution_count": 108,
   "id": "3bd50e0c",
   "metadata": {},
   "outputs": [
    {
     "name": "stdout",
     "output_type": "stream",
     "text": [
      "GİRİLEN SAYININ KARESİNİ HESAPLAYAN PROGRAM.\n",
      "\n",
      "Bir sayı girin: d\n"
     ]
    },
    {
     "ename": "ValueError",
     "evalue": "invalid literal for int() with base 10: 'd'",
     "output_type": "error",
     "traceback": [
      "\u001b[1;31m---------------------------------------------------------------------------\u001b[0m",
      "\u001b[1;31mValueError\u001b[0m                                Traceback (most recent call last)",
      "Input \u001b[1;32mIn [108]\u001b[0m, in \u001b[0;36m<cell line: 3>\u001b[1;34m()\u001b[0m\n\u001b[0;32m      1\u001b[0m \u001b[38;5;28mprint\u001b[39m(\u001b[38;5;124m\"\u001b[39m\u001b[38;5;124mGİRİLEN SAYININ KARESİNİ HESAPLAYAN PROGRAM.\u001b[39m\u001b[38;5;130;01m\\n\u001b[39;00m\u001b[38;5;124m\"\u001b[39m)\n\u001b[1;32m----> 3\u001b[0m sayi \u001b[38;5;241m=\u001b[39m \u001b[38;5;28;43mint\u001b[39;49m\u001b[43m(\u001b[49m\u001b[38;5;28;43minput\u001b[39;49m\u001b[43m(\u001b[49m\u001b[38;5;124;43m\"\u001b[39;49m\u001b[38;5;124;43mBir sayı girin: \u001b[39;49m\u001b[38;5;124;43m\"\u001b[39;49m\u001b[43m)\u001b[49m\u001b[43m)\u001b[49m\n\u001b[0;32m      5\u001b[0m sonuc \u001b[38;5;241m=\u001b[39m sayi\u001b[38;5;241m*\u001b[39msayi\n\u001b[0;32m      7\u001b[0m \u001b[38;5;28mprint\u001b[39m(\u001b[38;5;124m\"\u001b[39m\u001b[38;5;132;01m{}\u001b[39;00m\u001b[38;5;124m sayısının karesi \u001b[39m\u001b[38;5;132;01m{}\u001b[39;00m\u001b[38;5;124m sayısıdır.\u001b[39m\u001b[38;5;124m\"\u001b[39m\u001b[38;5;241m.\u001b[39mformat(sayi,sonuc))\n",
      "\u001b[1;31mValueError\u001b[0m: invalid literal for int() with base 10: 'd'"
     ]
    }
   ],
   "source": [
    "print(\"GİRİLEN SAYININ KARESİNİ HESAPLAYAN PROGRAM.\\n\")\n",
    " \n",
    "sayi = int(input(\"Bir sayı girin: \"))\n",
    " \n",
    "sonuc = sayi*sayi\n",
    " \n",
    "print(\"{} sayısının karesi {} sayısıdır.\".format(sayi,sonuc))\n",
    " "
   ]
  },
  {
   "cell_type": "code",
   "execution_count": 113,
   "id": "178680c9",
   "metadata": {},
   "outputs": [
    {
     "name": "stdout",
     "output_type": "stream",
     "text": [
      "Bir sayı girin: 3\n",
      "0\n",
      "1\n",
      "4\n"
     ]
    }
   ],
   "source": [
    "\n",
    "sayi = int(input(\"Bir sayı girin: \"))\n",
    "for i in range(0,sayi):\n",
    "    print(i*i)"
   ]
  },
  {
   "cell_type": "code",
   "execution_count": null,
   "id": "c10b14a1",
   "metadata": {},
   "outputs": [],
   "source": [
    "\n",
    "a=int(input(\"Bir sayı girin: \"))\n",
    "while :\n",
    "    if a%2==0:\n",
    "       print(a,end=\",\")\n",
    "       a=a+1"
   ]
  },
  {
   "cell_type": "code",
   "execution_count": 8,
   "id": "5b0fd2e3",
   "metadata": {},
   "outputs": [],
   "source": [
    "lambda x"
   ]
  },
  {
   "cell_type": "code",
   "execution_count": null,
   "id": "c793aae7",
   "metadata": {},
   "outputs": [],
   "source": []
  },
  {
   "cell_type": "code",
   "execution_count": null,
   "id": "cc961744",
   "metadata": {},
   "outputs": [],
   "source": []
  },
  {
   "cell_type": "code",
   "execution_count": null,
   "id": "d2bfc1e9",
   "metadata": {},
   "outputs": [],
   "source": []
  },
  {
   "cell_type": "code",
   "execution_count": null,
   "id": "5574b679",
   "metadata": {},
   "outputs": [],
   "source": []
  }
 ],
 "metadata": {
  "kernelspec": {
   "display_name": "Python 3 (ipykernel)",
   "language": "python",
   "name": "python3"
  },
  "language_info": {
   "codemirror_mode": {
    "name": "ipython",
    "version": 3
   },
   "file_extension": ".py",
   "mimetype": "text/x-python",
   "name": "python",
   "nbconvert_exporter": "python",
   "pygments_lexer": "ipython3",
   "version": "3.9.12"
  }
 },
 "nbformat": 4,
 "nbformat_minor": 5
}
