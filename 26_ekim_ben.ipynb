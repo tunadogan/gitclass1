{
 "cells": [
  {
   "cell_type": "code",
   "execution_count": null,
   "id": "f814629a",
   "metadata": {},
   "outputs": [],
   "source": [
    "colorset = {'purple', 'orange', 'red', 'darkblue', 'yellow', 'red'}\n",
    "\n",
    "print(colorset)\n",
    "print(colorset)"
   ]
  },
  {
   "cell_type": "code",
   "execution_count": null,
   "id": "88092275",
   "metadata": {},
   "outputs": [],
   "source": [
    "s = set('unselfishness')\n",
    "\n",
    "print(s) "
   ]
  },
  {
   "cell_type": "code",
   "execution_count": null,
   "id": "039e968f",
   "metadata": {},
   "outputs": [],
   "source": [
    "flower_list = ['rose', 'violet', 'carnation', 'rose', 'orchid', 'rose', 'orchid']\n",
    "flowerset = set(flower_list)\n",
    "flowerlist = list(flowerset)\n",
    "\n",
    "print(flowerset) \n",
    "print(flowerlist)"
   ]
  },
  {
   "cell_type": "code",
   "execution_count": null,
   "id": "59eb3953",
   "metadata": {},
   "outputs": [],
   "source": [
    "a = set('abracadabra')\n",
    "\n",
    "print(a)      "
   ]
  },
  {
   "cell_type": "code",
   "execution_count": null,
   "id": "a13f2e57",
   "metadata": {},
   "outputs": [],
   "source": [
    "a = set('abracadabra')\n",
    "b = set('alacazam')\n",
    "\n",
    "print(a - b)  # same as '.difference()' method\n",
    "print(a.difference(b)) # a difference from b"
   ]
  },
  {
   "cell_type": "code",
   "execution_count": null,
   "id": "726d53fb",
   "metadata": {},
   "outputs": [],
   "source": [
    "a = set('abracadabra')\n",
    "b = set('alacazam')\n",
    "\n",
    "print(a | b)  # same as '.union()' method\n",
    "print(a.union(b)) # unification of a with b"
   ]
  },
  {
   "cell_type": "code",
   "execution_count": null,
   "id": "ab446463",
   "metadata": {},
   "outputs": [],
   "source": [
    "a = set('abracadabra')\n",
    "b = set('alacazam')\n",
    "\n",
    "print(a & b)  # same as '.intersection()' method\n",
    "print(a.intersection(b)) # intersection of a and b"
   ]
  },
  {
   "cell_type": "code",
   "execution_count": null,
   "id": "b9dda048",
   "metadata": {},
   "outputs": [],
   "source": [
    "a = set('abracadabra')\n",
    "b = set('alacazam')\n",
    "\n",
    "print(a & b)  # same as '.intersection()' method\n",
    "print(a.intersection(b)) # intersection of a and b"
   ]
  },
  {
   "cell_type": "code",
   "execution_count": null,
   "id": "1a43c8f2",
   "metadata": {},
   "outputs": [],
   "source": [
    "a = set('abracadabra')\n",
    "\n",
    "a.add('c') # we add 'c' again into the set\n",
    "print(a)\n"
   ]
  },
  {
   "cell_type": "code",
   "execution_count": 1,
   "id": "4470df57",
   "metadata": {},
   "outputs": [
    {
     "name": "stdout",
     "output_type": "stream",
     "text": [
      "13\n"
     ]
    }
   ],
   "source": [
    "print(len(set('listen to the voice of enlisted')))"
   ]
  },
  {
   "cell_type": "code",
   "execution_count": 2,
   "id": "0d90491a",
   "metadata": {},
   "outputs": [],
   "source": [
    "colors = \"red\", \"blue\", \"pink\", \"red\", \"white\", \"blue\", \"purple\""
   ]
  },
  {
   "cell_type": "code",
   "execution_count": 3,
   "id": "7df7b9ce",
   "metadata": {},
   "outputs": [
    {
     "data": {
      "text/plain": [
       "{'blue', 'pink', 'purple', 'red', 'white'}"
      ]
     },
     "execution_count": 3,
     "metadata": {},
     "output_type": "execute_result"
    }
   ],
   "source": [
    "set(colors)"
   ]
  },
  {
   "cell_type": "code",
   "execution_count": 4,
   "id": "fc893cdf",
   "metadata": {},
   "outputs": [
    {
     "data": {
      "text/plain": [
       "{'blue', 'pink', 'purple', 'red', 'white'}"
      ]
     },
     "execution_count": 4,
     "metadata": {},
     "output_type": "execute_result"
    }
   ],
   "source": [
    "colors = \"red\", \"blue\", \"pink\", \"red\", \"white\", \"blue\", \"purple\"\n",
    "set(colors)"
   ]
  },
  {
   "cell_type": "code",
   "execution_count": 7,
   "id": "d517b44a",
   "metadata": {},
   "outputs": [
    {
     "data": {
      "text/plain": [
       "{0, 1, 2}"
      ]
     },
     "execution_count": 7,
     "metadata": {},
     "output_type": "execute_result"
    }
   ],
   "source": [
    "ilk_kümem ={1,1,2,0,1}\n",
    "ilk_kümem"
   ]
  },
  {
   "cell_type": "code",
   "execution_count": 10,
   "id": "94e31382",
   "metadata": {},
   "outputs": [
    {
     "name": "stdout",
     "output_type": "stream",
     "text": [
      "5\n"
     ]
    }
   ],
   "source": [
    "print(len([1,1,2,0,1]))      # [] list"
   ]
  },
  {
   "cell_type": "code",
   "execution_count": 11,
   "id": "16ea5306",
   "metadata": {},
   "outputs": [
    {
     "data": {
      "text/plain": [
       "3"
      ]
     },
     "execution_count": 11,
     "metadata": {},
     "output_type": "execute_result"
    }
   ],
   "source": [
    "len({1,1,2,0,1})            #{} set "
   ]
  },
  {
   "cell_type": "code",
   "execution_count": 78,
   "id": "4a010dd3",
   "metadata": {},
   "outputs": [
    {
     "name": "stdout",
     "output_type": "stream",
     "text": [
      "['a', 'b', 'c', 'd', 'e', 'f', 'g', 'h', 'i', 'j', 'k', 'l', 'm', 'n', 'o', 'p', 'q', 'r', 's', 't', 'u', 'v', 'x', 'w', 'y', 'z']\n",
      "26\n",
      "<class 'list'>\n"
     ]
    }
   ],
   "source": [
    "letters=\"a b c d e f g h i j k l m n o p q r s t u v x w y z\".split()\n",
    "print(letters)\n",
    "print(len((letters)))\n",
    "print(type(letters))\n"
   ]
  },
  {
   "cell_type": "code",
   "execution_count": 14,
   "id": "c1975066",
   "metadata": {},
   "outputs": [
    {
     "name": "stdout",
     "output_type": "stream",
     "text": [
      "{'r', 'q', 't', 'h', 'e', 'a', 'x', 'c', 'v', 'b', 'g', 'y', 'l', 's', 'z', 'p', 'j', 'k', 'd', 'm', 'n', 'f', 'u', 'i', 'w', 'o'}\n"
     ]
    }
   ],
   "source": [
    "print(set(letters))"
   ]
  },
  {
   "cell_type": "code",
   "execution_count": 15,
   "id": "846d5434",
   "metadata": {},
   "outputs": [
    {
     "name": "stdout",
     "output_type": "stream",
     "text": [
      "26\n"
     ]
    }
   ],
   "source": [
    "print(len((set(letters))))"
   ]
  },
  {
   "cell_type": "code",
   "execution_count": 17,
   "id": "2e72c63b",
   "metadata": {},
   "outputs": [
    {
     "data": {
      "text/plain": [
       "True"
      ]
     },
     "execution_count": 17,
     "metadata": {},
     "output_type": "execute_result"
    }
   ],
   "source": [
    "1==1.0"
   ]
  },
  {
   "cell_type": "code",
   "execution_count": 18,
   "id": "8c8f9f93",
   "metadata": {},
   "outputs": [
    {
     "data": {
      "text/plain": [
       "1"
      ]
     },
     "execution_count": 18,
     "metadata": {},
     "output_type": "execute_result"
    }
   ],
   "source": [
    "hash(1)"
   ]
  },
  {
   "cell_type": "code",
   "execution_count": 19,
   "id": "9854046f",
   "metadata": {},
   "outputs": [
    {
     "data": {
      "text/plain": [
       "1"
      ]
     },
     "execution_count": 19,
     "metadata": {},
     "output_type": "execute_result"
    }
   ],
   "source": [
    "hash(1.0)"
   ]
  },
  {
   "cell_type": "code",
   "execution_count": 50,
   "id": "3f5911cb",
   "metadata": {},
   "outputs": [
    {
     "name": "stdout",
     "output_type": "stream",
     "text": [
      "{1, 2, 3, 4, 5}\n"
     ]
    }
   ],
   "source": [
    "given_list=[1,2,3,3,3,3,4,4,5,5]\n",
    "uniq=set(given_list)\n",
    "print(uniq)"
   ]
  },
  {
   "cell_type": "code",
   "execution_count": 28,
   "id": "4694da60",
   "metadata": {},
   "outputs": [
    {
     "name": "stdout",
     "output_type": "stream",
     "text": [
      "{1, 2, 3, 4, 5}\n",
      "<class 'set'>\n"
     ]
    }
   ],
   "source": [
    "given_list=[1,2,3,4,5]\n",
    "set2= set(given_list)\n",
    "print(set2)\n",
    "print(type(set2))"
   ]
  },
  {
   "cell_type": "code",
   "execution_count": 25,
   "id": "9a636872",
   "metadata": {},
   "outputs": [
    {
     "data": {
      "text/plain": [
       "{1, 2, 3, 4, 5}"
      ]
     },
     "execution_count": 25,
     "metadata": {},
     "output_type": "execute_result"
    }
   ],
   "source": [
    "set((1,2,3,4,5,5,))"
   ]
  },
  {
   "cell_type": "code",
   "execution_count": 26,
   "id": "55b9aa60",
   "metadata": {},
   "outputs": [],
   "source": [
    "listem=[[1,2,3],\"a\",6,3.14] # çalışmaz çünkü unhashable"
   ]
  },
  {
   "cell_type": "code",
   "execution_count": null,
   "id": "7ce6c368",
   "metadata": {},
   "outputs": [],
   "source": [
    "setim=set(listem)"
   ]
  },
  {
   "cell_type": "code",
   "execution_count": null,
   "id": "616bec16",
   "metadata": {},
   "outputs": [],
   "source": [
    "# set içerisine tuple eklenebilir , list ve dict eklenmez."
   ]
  },
  {
   "cell_type": "code",
   "execution_count": 30,
   "id": "d1f0159d",
   "metadata": {},
   "outputs": [],
   "source": [
    "a = {'carnation', 'orchid', 'rose', 'violet'}\n",
    "b = {'rose', 'orchid', 'rose', 'violet', 'carnation'}\n"
   ]
  },
  {
   "cell_type": "code",
   "execution_count": 31,
   "id": "5ef55ff0",
   "metadata": {},
   "outputs": [
    {
     "data": {
      "text/plain": [
       "{'carnation', 'orchid', 'rose', 'violet'}"
      ]
     },
     "execution_count": 31,
     "metadata": {},
     "output_type": "execute_result"
    }
   ],
   "source": [
    "a"
   ]
  },
  {
   "cell_type": "code",
   "execution_count": 32,
   "id": "fdfd6281",
   "metadata": {},
   "outputs": [
    {
     "data": {
      "text/plain": [
       "{'carnation', 'orchid', 'rose', 'violet'}"
      ]
     },
     "execution_count": 32,
     "metadata": {},
     "output_type": "execute_result"
    }
   ],
   "source": [
    "b"
   ]
  },
  {
   "cell_type": "code",
   "execution_count": 33,
   "id": "5282c1d7",
   "metadata": {},
   "outputs": [],
   "source": [
    "a.add(\"lily\")"
   ]
  },
  {
   "cell_type": "code",
   "execution_count": 34,
   "id": "f2e06149",
   "metadata": {},
   "outputs": [
    {
     "data": {
      "text/plain": [
       "{'carnation', 'lily', 'orchid', 'rose', 'violet'}"
      ]
     },
     "execution_count": 34,
     "metadata": {},
     "output_type": "execute_result"
    }
   ],
   "source": [
    "a"
   ]
  },
  {
   "cell_type": "code",
   "execution_count": 35,
   "id": "bdb6a83f",
   "metadata": {},
   "outputs": [],
   "source": [
    "a.remove(\"rose\")"
   ]
  },
  {
   "cell_type": "code",
   "execution_count": 36,
   "id": "2e3e67ee",
   "metadata": {},
   "outputs": [
    {
     "data": {
      "text/plain": [
       "{'carnation', 'lily', 'orchid', 'violet'}"
      ]
     },
     "execution_count": 36,
     "metadata": {},
     "output_type": "execute_result"
    }
   ],
   "source": [
    "a"
   ]
  },
  {
   "cell_type": "code",
   "execution_count": 81,
   "id": "55946573",
   "metadata": {},
   "outputs": [
    {
     "name": "stdout",
     "output_type": "stream",
     "text": [
      "{'n', 't', 'W', 'e', 'g', 'i', 'l', 'o'}\n",
      "{'n', 't', 'h', 'W', 'a', 'g', 'i', 's', 'o'}\n",
      "{'e', 'l'}\n",
      "{'h', 's', 'a'}\n",
      "<class 'set'>\n",
      "{'n', 't', 'h', 'W', 'e', 'a', 'g', 'i', 'l', 's', 'o'}\n",
      "<class 'set'>\n",
      "{'n', 't', 'W', 'g', 'i', 'o'}\n"
     ]
    }
   ],
   "source": [
    "a=set('Wellington')\n",
    "b=set('Washington')\n",
    "print(a)\n",
    "print(b)\n",
    "print(a-b) #or print(a.difference(b))\n",
    "print(b-a)\n",
    "print(type(b-a))\n",
    "print(a.union(b))\n",
    "print(type(a.union(b)))                   #= print\n",
    "print(a.intersection(b)) #or print(a&b)"
   ]
  },
  {
   "cell_type": "code",
   "execution_count": 48,
   "id": "6c1c1557",
   "metadata": {},
   "outputs": [
    {
     "name": "stdout",
     "output_type": "stream",
     "text": [
      "{'/', '0', '6', '1', '2'}\n",
      "<class 'set'>\n",
      "{'10/26/2022'}\n",
      "<class 'set'>\n"
     ]
    }
   ],
   "source": [
    "a=set(\"10/26/2022\")\n",
    "print(a)\n",
    "print(type(a))\n",
    "b={\"10/26/2022\"}\n",
    "print(b)\n",
    "print(type(b))"
   ]
  },
  {
   "cell_type": "code",
   "execution_count": 53,
   "id": "dd1622f5",
   "metadata": {},
   "outputs": [
    {
     "name": "stdout",
     "output_type": "stream",
     "text": [
      "bir sayı gir la :19\n",
      "gir gadi\n"
     ]
    }
   ],
   "source": [
    "a= int(input(\"yaşını gir la :\"))\n",
    "\n",
    "if a>18 :\n",
    "    print(\"gir hadi\")\n",
    "else:\n",
    "    print(\"büyüde gel\")"
   ]
  },
  {
   "cell_type": "code",
   "execution_count": 91,
   "id": "3e842299",
   "metadata": {},
   "outputs": [
    {
     "name": "stdout",
     "output_type": "stream",
     "text": [
      "it is true\n"
     ]
    }
   ],
   "source": [
    "print('it is true') if 5>2  else print('it is false')\n",
    " "
   ]
  },
  {
   "cell_type": "code",
   "execution_count": null,
   "id": "0950d160",
   "metadata": {},
   "outputs": [],
   "source": [
    "# karşılatırma operatörleri herzaman boolean çıktı verir. (true,false gibi)"
   ]
  },
  {
   "cell_type": "code",
   "execution_count": 57,
   "id": "11924166",
   "metadata": {},
   "outputs": [
    {
     "data": {
      "text/plain": [
       "'0'"
      ]
     },
     "execution_count": 57,
     "metadata": {},
     "output_type": "execute_result"
    }
   ],
   "source": [
    "\"0\"\n"
   ]
  },
  {
   "cell_type": "code",
   "execution_count": 72,
   "id": "5acceedd",
   "metadata": {},
   "outputs": [
    {
     "name": "stdout",
     "output_type": "stream",
     "text": [
      "a\n",
      "b\n"
     ]
    }
   ],
   "source": [
    "if [{'a:11'}]:              #truty olur\n",
    "    print(\"a\")\n",
    "print(\"b\")"
   ]
  },
  {
   "cell_type": "code",
   "execution_count": 67,
   "id": "633cf5c2",
   "metadata": {},
   "outputs": [],
   "source": [
    "if 0 or \"False\" and None:    # false olur\n",
    "    print(\"a\")\n"
   ]
  },
  {
   "cell_type": "code",
   "execution_count": 73,
   "id": "4d2d7541",
   "metadata": {},
   "outputs": [],
   "source": [
    "minced=True\n",
    "bread =True\n",
    "lettuce=True\n",
    "onion= False\n",
    "grocer = True"
   ]
  },
  {
   "cell_type": "code",
   "execution_count": 74,
   "id": "458a30a7",
   "metadata": {},
   "outputs": [],
   "source": [
    "hamburger=minced and bread and grocer and bread and (lettuce or onion)"
   ]
  },
  {
   "cell_type": "code",
   "execution_count": 82,
   "id": "4cd3a16d",
   "metadata": {},
   "outputs": [
    {
     "name": "stdout",
     "output_type": "stream",
     "text": [
      "bon appetit\n"
     ]
    }
   ],
   "source": [
    "if hamburger:\n",
    "    print(\"bon appetit\")"
   ]
  },
  {
   "cell_type": "code",
   "execution_count": null,
   "id": "26b80a55",
   "metadata": {},
   "outputs": [],
   "source": []
  }
 ],
 "metadata": {
  "kernelspec": {
   "display_name": "Python 3 (ipykernel)",
   "language": "python",
   "name": "python3"
  },
  "language_info": {
   "codemirror_mode": {
    "name": "ipython",
    "version": 3
   },
   "file_extension": ".py",
   "mimetype": "text/x-python",
   "name": "python",
   "nbconvert_exporter": "python",
   "pygments_lexer": "ipython3",
   "version": "3.9.12"
  }
 },
 "nbformat": 4,
 "nbformat_minor": 5
}
