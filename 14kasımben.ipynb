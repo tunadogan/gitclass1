{
 "cells": [
  {
   "cell_type": "code",
   "execution_count": 1,
   "id": "9a37a58c",
   "metadata": {},
   "outputs": [],
   "source": [
    "def my_function():\n",
    "    print(f\"This text is printed in the function inside the module named; {__name__}\")\n",
    "\n"
   ]
  },
  {
   "cell_type": "code",
   "execution_count": 2,
   "id": "58f78685",
   "metadata": {},
   "outputs": [
    {
     "name": "stdout",
     "output_type": "stream",
     "text": [
      "This Script prints the module name\n",
      "This text is printed in the function inside the module named; __main__\n"
     ]
    }
   ],
   "source": [
    "if __name__ == \"__main__\" :       \n",
    "    print(\"This Script prints the module name\")\n",
    "    my_function()"
   ]
  },
  {
   "cell_type": "code",
   "execution_count": 3,
   "id": "20db5505",
   "metadata": {},
   "outputs": [
    {
     "name": "stdout",
     "output_type": "stream",
     "text": [
      "This text is printed in the function inside the module named; __main__\n"
     ]
    }
   ],
   "source": [
    "my_function()"
   ]
  },
  {
   "cell_type": "code",
   "execution_count": null,
   "id": "0c92937b",
   "metadata": {},
   "outputs": [],
   "source": []
  }
 ],
 "metadata": {
  "kernelspec": {
   "display_name": "Python 3 (ipykernel)",
   "language": "python",
   "name": "python3"
  },
  "language_info": {
   "codemirror_mode": {
    "name": "ipython",
    "version": 3
   },
   "file_extension": ".py",
   "mimetype": "text/x-python",
   "name": "python",
   "nbconvert_exporter": "python",
   "pygments_lexer": "ipython3",
   "version": "3.9.12"
  }
 },
 "nbformat": 4,
 "nbformat_minor": 5
}
