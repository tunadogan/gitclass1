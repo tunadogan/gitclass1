{
 "cells": [
  {
   "cell_type": "code",
   "execution_count": 1,
   "id": "638dc5a7",
   "metadata": {},
   "outputs": [],
   "source": [
    "mon,tue,wed,thu,fri,sat,sun = tuple(range(1,8))   # atamak"
   ]
  },
  {
   "cell_type": "code",
   "execution_count": null,
   "id": "66097d46",
   "metadata": {},
   "outputs": [],
   "source": []
  },
  {
   "cell_type": "code",
   "execution_count": 2,
   "id": "3d794b5b",
   "metadata": {},
   "outputs": [
    {
     "data": {
      "text/plain": [
       "1"
      ]
     },
     "execution_count": 2,
     "metadata": {},
     "output_type": "execute_result"
    }
   ],
   "source": [
    "mon"
   ]
  },
  {
   "cell_type": "code",
   "execution_count": 4,
   "id": "42327e15",
   "metadata": {},
   "outputs": [],
   "source": [
    "a,b,c= 1,2,3   # atama yapıldı   her iki tarafta eşit olmalı atama olması için."
   ]
  },
  {
   "cell_type": "code",
   "execution_count": 5,
   "id": "e32da344",
   "metadata": {},
   "outputs": [
    {
     "data": {
      "text/plain": [
       "1"
      ]
     },
     "execution_count": 5,
     "metadata": {},
     "output_type": "execute_result"
    }
   ],
   "source": [
    "a"
   ]
  },
  {
   "cell_type": "code",
   "execution_count": 6,
   "id": "76221ef5",
   "metadata": {},
   "outputs": [],
   "source": [
    "mytuple=(\"apple\",\"banana\",\"cherry\")   #tuplepackink"
   ]
  },
  {
   "cell_type": "code",
   "execution_count": 10,
   "id": "c7aee2b5",
   "metadata": {},
   "outputs": [
    {
     "ename": "ValueError",
     "evalue": "too many values to unpack (expected 2)",
     "output_type": "error",
     "traceback": [
      "\u001b[1;31m---------------------------------------------------------------------------\u001b[0m",
      "\u001b[1;31mValueError\u001b[0m                                Traceback (most recent call last)",
      "Input \u001b[1;32mIn [10]\u001b[0m, in \u001b[0;36m<cell line: 1>\u001b[1;34m()\u001b[0m\n\u001b[1;32m----> 1\u001b[0m yellow,red \u001b[38;5;241m=\u001b[39m mytuple\n",
      "\u001b[1;31mValueError\u001b[0m: too many values to unpack (expected 2)"
     ]
    }
   ],
   "source": [
    "green,yellow,red = mytuple          #tupleunpaciking"
   ]
  },
  {
   "cell_type": "code",
   "execution_count": 8,
   "id": "05274c23",
   "metadata": {},
   "outputs": [
    {
     "data": {
      "text/plain": [
       "'apple'"
      ]
     },
     "execution_count": 8,
     "metadata": {},
     "output_type": "execute_result"
    }
   ],
   "source": [
    "green"
   ]
  },
  {
   "cell_type": "code",
   "execution_count": 9,
   "id": "6f5c31c2",
   "metadata": {},
   "outputs": [
    {
     "data": {
      "text/plain": [
       "[1, 2, 3, 'ali', 'veli']"
      ]
     },
     "execution_count": 9,
     "metadata": {},
     "output_type": "execute_result"
    }
   ],
   "source": [
    "[1,2,3] + [\"ali\",\"veli\"] + [4.0]           # iki liste toplama "
   ]
  },
  {
   "cell_type": "code",
   "execution_count": 11,
   "id": "d14011fe",
   "metadata": {},
   "outputs": [],
   "source": [
    "like=(10,20,30,40)\n",
    "a=like[0]"
   ]
  },
  {
   "cell_type": "code",
   "execution_count": 12,
   "id": "8fca7921",
   "metadata": {},
   "outputs": [
    {
     "data": {
      "text/plain": [
       "10"
      ]
     },
     "execution_count": 12,
     "metadata": {},
     "output_type": "execute_result"
    }
   ],
   "source": [
    "a"
   ]
  },
  {
   "cell_type": "code",
   "execution_count": null,
   "id": "b3c99419",
   "metadata": {},
   "outputs": [],
   "source": [
    "a,b=(10,20,30,40)      # burada her iki taraf eleman sayısı eşit olmadığı için atama yapamayız\n"
   ]
  },
  {
   "cell_type": "code",
   "execution_count": 13,
   "id": "8449b8da",
   "metadata": {},
   "outputs": [],
   "source": [
    "(a,_,b,_)=(10,20,30,40)   # bu şekilde yaparız. alengir"
   ]
  },
  {
   "cell_type": "code",
   "execution_count": 14,
   "id": "e7483abd",
   "metadata": {},
   "outputs": [
    {
     "data": {
      "text/plain": [
       "10"
      ]
     },
     "execution_count": 14,
     "metadata": {},
     "output_type": "execute_result"
    }
   ],
   "source": [
    "a"
   ]
  },
  {
   "cell_type": "code",
   "execution_count": null,
   "id": "506bab2e",
   "metadata": {},
   "outputs": [],
   "source": [
    "x,y,z = (11,22,33,44,55)         #x 11 y 22 z iswe geri kalanlar olmasını istersek"
   ]
  },
  {
   "cell_type": "code",
   "execution_count": null,
   "id": "6a7bd07c",
   "metadata": {},
   "outputs": [],
   "source": [
    "x,y,*z = (11,22,33,44,55)    # yaparsak z ayrı bir liste olacak"
   ]
  },
  {
   "cell_type": "code",
   "execution_count": null,
   "id": "72739845",
   "metadata": {},
   "outputs": [],
   "source": [
    "x,y,*_ = (11,22,33,44,55)    # hem çalışır hemde hafızada yer kaplamaz."
   ]
  },
  {
   "cell_type": "code",
   "execution_count": null,
   "id": "b9b7bb25",
   "metadata": {},
   "outputs": [],
   "source": [
    "x,y,*z,t=(11,22,33,44,55,66,77) # x 11 y 22 t en sonu arada kalanları z alır."
   ]
  },
  {
   "cell_type": "code",
   "execution_count": null,
   "id": "3aa5ee6b",
   "metadata": {},
   "outputs": [],
   "source": [
    "iter()"
   ]
  },
  {
   "cell_type": "code",
   "execution_count": 24,
   "id": "f80fdbb3",
   "metadata": {},
   "outputs": [],
   "source": [
    "mytuple=(\"apple\",\"banana\",\"cherry\") \n",
    "myiterator= iter(mytuple)"
   ]
  },
  {
   "cell_type": "code",
   "execution_count": 17,
   "id": "ff1be1eb",
   "metadata": {},
   "outputs": [
    {
     "name": "stdout",
     "output_type": "stream",
     "text": [
      "apple banana cherry\n"
     ]
    }
   ],
   "source": [
    "print(*myiterator)"
   ]
  },
  {
   "cell_type": "code",
   "execution_count": 25,
   "id": "796abf3a",
   "metadata": {},
   "outputs": [
    {
     "data": {
      "text/plain": [
       "'apple'"
      ]
     },
     "execution_count": 25,
     "metadata": {},
     "output_type": "execute_result"
    }
   ],
   "source": [
    "next(myiterator)     # sırayla kullanıyor sonra içi boşalıyor."
   ]
  },
  {
   "cell_type": "code",
   "execution_count": 26,
   "id": "54cec484",
   "metadata": {},
   "outputs": [
    {
     "data": {
      "text/plain": [
       "'banana'"
      ]
     },
     "execution_count": 26,
     "metadata": {},
     "output_type": "execute_result"
    }
   ],
   "source": [
    "next(myiterator) "
   ]
  },
  {
   "cell_type": "code",
   "execution_count": 27,
   "id": "11d64953",
   "metadata": {},
   "outputs": [
    {
     "data": {
      "text/plain": [
       "'cherry'"
      ]
     },
     "execution_count": 27,
     "metadata": {},
     "output_type": "execute_result"
    }
   ],
   "source": [
    "next(myiterator) "
   ]
  },
  {
   "cell_type": "code",
   "execution_count": 28,
   "id": "c647fb70",
   "metadata": {},
   "outputs": [
    {
     "ename": "StopIteration",
     "evalue": "",
     "output_type": "error",
     "traceback": [
      "\u001b[1;31m---------------------------------------------------------------------------\u001b[0m",
      "\u001b[1;31mStopIteration\u001b[0m                             Traceback (most recent call last)",
      "Input \u001b[1;32mIn [28]\u001b[0m, in \u001b[0;36m<cell line: 1>\u001b[1;34m()\u001b[0m\n\u001b[1;32m----> 1\u001b[0m \u001b[38;5;28;43mnext\u001b[39;49m\u001b[43m(\u001b[49m\u001b[43mmyiterator\u001b[49m\u001b[43m)\u001b[49m\n",
      "\u001b[1;31mStopIteration\u001b[0m: "
     ]
    }
   ],
   "source": [
    "next(myiterator)               #içi boşalıyor. bak boş."
   ]
  },
  {
   "cell_type": "code",
   "execution_count": 30,
   "id": "8cb0dbc4",
   "metadata": {},
   "outputs": [],
   "source": [
    "myiter=iter(\"edwin\")"
   ]
  },
  {
   "cell_type": "code",
   "execution_count": 31,
   "id": "d3502d85",
   "metadata": {},
   "outputs": [
    {
     "data": {
      "text/plain": [
       "'e'"
      ]
     },
     "execution_count": 31,
     "metadata": {},
     "output_type": "execute_result"
    }
   ],
   "source": [
    "next(myiter)"
   ]
  },
  {
   "cell_type": "code",
   "execution_count": null,
   "id": "a12ddf65",
   "metadata": {},
   "outputs": [],
   "source": [
    "#list Comprehension"
   ]
  },
  {
   "cell_type": "code",
   "execution_count": null,
   "id": "79fe952d",
   "metadata": {},
   "outputs": [],
   "source": [
    "#kendi kendine generate etmesinden bahsediyoruz. for döngüsü gibi\n",
    "#her döngüde her iteresyonda bir eleman üretiyor . iterable nin elemanları bittiğinde \n",
    "#elimde oluşmuş bir liste kalıyor."
   ]
  },
  {
   "cell_type": "code",
   "execution_count": 32,
   "id": "9b9f8cb6",
   "metadata": {},
   "outputs": [
    {
     "data": {
      "text/plain": [
       "[0, 1, 2, 3, 4]"
      ]
     },
     "execution_count": 32,
     "metadata": {},
     "output_type": "execute_result"
    }
   ],
   "source": [
    "sayılar = []\n",
    "\n",
    "for n in range(5):\n",
    "    sayılar .append(n)\n",
    "sayılar"
   ]
  },
  {
   "cell_type": "code",
   "execution_count": 38,
   "id": "2af4d6b5",
   "metadata": {},
   "outputs": [
    {
     "name": "stdout",
     "output_type": "stream",
     "text": [
      "0\n",
      "1\n",
      "2\n",
      "3\n",
      "4\n",
      "-----------\n",
      "[0, 1, 2, 3, 4]\n"
     ]
    }
   ],
   "source": [
    "sayılar = []\n",
    "\n",
    "for n in range(5):\n",
    "    sayılar .append(n)\n",
    "    print(n)\n",
    "print(\"-----------\")\n",
    "print(sayılar)"
   ]
  },
  {
   "cell_type": "code",
   "execution_count": 40,
   "id": "2dc2c5bd",
   "metadata": {},
   "outputs": [
    {
     "data": {
      "text/plain": [
       "[0, 1, 2, 3, 4]"
      ]
     },
     "execution_count": 40,
     "metadata": {},
     "output_type": "execute_result"
    }
   ],
   "source": [
    "[i for i in range (5)]                 # her saydığında baştaki [i    ] ye ekliyor\n",
    " "
   ]
  },
  {
   "cell_type": "code",
   "execution_count": 49,
   "id": "2a443bc3",
   "metadata": {},
   "outputs": [
    {
     "data": {
      "text/plain": [
       "[0, 1, 4, 9, 16]"
      ]
     },
     "execution_count": 49,
     "metadata": {},
     "output_type": "execute_result"
    }
   ],
   "source": [
    "[i**2 for i in range (5)] \n",
    "\n",
    "                                   # listeyi kare olarak istersek "
   ]
  },
  {
   "cell_type": "code",
   "execution_count": null,
   "id": "cbd2d15b",
   "metadata": {},
   "outputs": [],
   "source": [
    "#yazarların isim ve soyisimleri baş harfleri büyük olsun isteniyor."
   ]
  },
  {
   "cell_type": "code",
   "execution_count": 50,
   "id": "095025ab",
   "metadata": {},
   "outputs": [
    {
     "data": {
      "text/plain": [
       "['Jane Austen', 'George Orwell', 'James Clear', 'Cal Newport']"
      ]
     },
     "execution_count": 50,
     "metadata": {},
     "output_type": "execute_result"
    }
   ],
   "source": [
    "yazarlar = [\"jane austen\",\"george orwell\",\"james clear\",\"cal newport\"]\n",
    "yazar_listesi=[i.title() for i in yazarlar]\n",
    "yazar_listesi"
   ]
  },
  {
   "cell_type": "code",
   "execution_count": 51,
   "id": "012b23bb",
   "metadata": {},
   "outputs": [],
   "source": [
    "a=[4,5,6,7]                # a ve b yi kullanarak dikdörtgenin alanı bulunsun\n",
    "b=[8,9,10,11]"
   ]
  },
  {
   "cell_type": "code",
   "execution_count": 52,
   "id": "859c1849",
   "metadata": {},
   "outputs": [
    {
     "data": {
      "text/plain": [
       "[(4, 8), (5, 9), (6, 10), (7, 11)]"
      ]
     },
     "execution_count": 52,
     "metadata": {},
     "output_type": "execute_result"
    }
   ],
   "source": [
    "list(zip(a,b))"
   ]
  },
  {
   "cell_type": "code",
   "execution_count": 53,
   "id": "f5399b14",
   "metadata": {},
   "outputs": [
    {
     "data": {
      "text/plain": [
       "[(4, 8), (5, 9), (6, 10), (7, 11)]"
      ]
     },
     "execution_count": 53,
     "metadata": {},
     "output_type": "execute_result"
    }
   ],
   "source": [
    "alan_liste=[]             # list ilşe değilkde for la yapmak istersek\n",
    "for i in zip (a,b):\n",
    "    alan_liste.append(i)\n",
    "alan_liste"
   ]
  },
  {
   "cell_type": "code",
   "execution_count": 54,
   "id": "8aaca10a",
   "metadata": {},
   "outputs": [
    {
     "data": {
      "text/plain": [
       "(4, 8)"
      ]
     },
     "execution_count": 54,
     "metadata": {},
     "output_type": "execute_result"
    }
   ],
   "source": [
    "alan_liste[0]"
   ]
  },
  {
   "cell_type": "code",
   "execution_count": 55,
   "id": "5191293c",
   "metadata": {},
   "outputs": [],
   "source": [
    "j,k =alan_liste[0]"
   ]
  },
  {
   "cell_type": "code",
   "execution_count": 56,
   "id": "4bbe024f",
   "metadata": {},
   "outputs": [
    {
     "name": "stdout",
     "output_type": "stream",
     "text": [
      "4\n",
      "8\n"
     ]
    }
   ],
   "source": [
    "print(j)\n",
    "print(k)"
   ]
  },
  {
   "cell_type": "code",
   "execution_count": 57,
   "id": "c908a09e",
   "metadata": {},
   "outputs": [],
   "source": [
    "liste=list(zip(a,b))"
   ]
  },
  {
   "cell_type": "code",
   "execution_count": 59,
   "id": "4dab1690",
   "metadata": {},
   "outputs": [
    {
     "data": {
      "text/plain": [
       "[32, 45, 60, 77]"
      ]
     },
     "execution_count": 59,
     "metadata": {},
     "output_type": "execute_result"
    }
   ],
   "source": [
    "alan=[]\n",
    "for i in range(len(liste)):\n",
    "    j,k=liste[i]\n",
    "    alan.append(j*k)\n",
    "alan"
   ]
  },
  {
   "cell_type": "code",
   "execution_count": 60,
   "id": "f6962921",
   "metadata": {},
   "outputs": [
    {
     "data": {
      "text/plain": [
       "[(4, 8), (5, 9), (6, 10), (7, 11)]"
      ]
     },
     "execution_count": 60,
     "metadata": {},
     "output_type": "execute_result"
    }
   ],
   "source": [
    "liste"
   ]
  },
  {
   "cell_type": "code",
   "execution_count": 63,
   "id": "638719bd",
   "metadata": {},
   "outputs": [
    {
     "data": {
      "text/plain": [
       "[32, 45, 60, 77]"
      ]
     },
     "execution_count": 63,
     "metadata": {},
     "output_type": "execute_result"
    }
   ],
   "source": [
    "alan= []\n",
    "for i,j in liste:\n",
    "    alan.append(i*j)\n",
    "alan"
   ]
  },
  {
   "cell_type": "code",
   "execution_count": 64,
   "id": "7b3b1bbd",
   "metadata": {},
   "outputs": [
    {
     "data": {
      "text/plain": [
       "[32, 45, 60, 77]"
      ]
     },
     "execution_count": 64,
     "metadata": {},
     "output_type": "execute_result"
    }
   ],
   "source": [
    "area= [i*j for i,j in liste]\n",
    "area"
   ]
  },
  {
   "cell_type": "code",
   "execution_count": null,
   "id": "06b45707",
   "metadata": {},
   "outputs": [],
   "source": [
    "\n",
    "#teranry boolean operatörs \n",
    "#if condition:\n",
    " #   execute1\n",
    "#else:\n",
    "  #  execute2\n",
    "    \n",
    "   # execute1 if condition else execute2\n"
   ]
  },
  {
   "cell_type": "code",
   "execution_count": 71,
   "id": "2021bb2c",
   "metadata": {},
   "outputs": [
    {
     "name": "stdout",
     "output_type": "stream",
     "text": [
      "[1, 9, 25]\n"
     ]
    }
   ],
   "source": [
    "mylist=[1,2,3,4,5,6]\n",
    "new_list=[]\n",
    "for i in mylist:\n",
    "    if i % 2 == 1:     # bu tek sayıdır  burada ==1 yazmadanda yapabiilriz\n",
    "        new_list.append(i**2)\n",
    "print(new_list)"
   ]
  },
  {
   "cell_type": "code",
   "execution_count": 2,
   "id": "b02caad2",
   "metadata": {},
   "outputs": [
    {
     "name": "stdout",
     "output_type": "stream",
     "text": [
      "[1, 9, 25]\n"
     ]
    }
   ],
   "source": [
    "mylist=[1,2,3,4,5,6]\n",
    "new_list=[]\n",
    "for i in mylist:\n",
    "    if i % 2 :                   #bak burada\n",
    "        new_list.append(i**2)\n",
    "print(new_list)"
   ]
  },
  {
   "cell_type": "code",
   "execution_count": 74,
   "id": "6add8c0f",
   "metadata": {},
   "outputs": [
    {
     "data": {
      "text/plain": [
       "[1, 4, 9, 16, 25, 36]"
      ]
     },
     "execution_count": 74,
     "metadata": {},
     "output_type": "execute_result"
    }
   ],
   "source": [
    "[i **2 for i in mylist]    # buda tek satır da "
   ]
  },
  {
   "cell_type": "code",
   "execution_count": 75,
   "id": "b2da4e00",
   "metadata": {},
   "outputs": [
    {
     "data": {
      "text/plain": [
       "[1, 9, 25]"
      ]
     },
     "execution_count": 75,
     "metadata": {},
     "output_type": "execute_result"
    }
   ],
   "source": [
    "[i **2 for i in mylist  if i % 2]  "
   ]
  },
  {
   "cell_type": "code",
   "execution_count": 3,
   "id": "9bb6a778",
   "metadata": {},
   "outputs": [
    {
     "data": {
      "text/plain": [
       "[1, 4, 9, 16, 25, 36]"
      ]
     },
     "execution_count": 3,
     "metadata": {},
     "output_type": "execute_result"
    }
   ],
   "source": [
    "[i **2 for i in mylist]  if [i % 2] else [i ** 3 for i in mylist ]  "
   ]
  },
  {
   "cell_type": "code",
   "execution_count": 82,
   "id": "f1e58106",
   "metadata": {},
   "outputs": [
    {
     "ename": "SyntaxError",
     "evalue": "invalid syntax (729194298.py, line 1)",
     "output_type": "error",
     "traceback": [
      "\u001b[1;36m  Input \u001b[1;32mIn [82]\u001b[1;36m\u001b[0m\n\u001b[1;33m    if i % 2: (i **2 for i in mylist) else: (i ** 3 for i in mylist)\u001b[0m\n\u001b[1;37m                                      ^\u001b[0m\n\u001b[1;31mSyntaxError\u001b[0m\u001b[1;31m:\u001b[0m invalid syntax\n"
     ]
    }
   ],
   "source": [
    "\n",
    "if i % 2: (i **2 for i in mylist) else: (i ** 3 for i in mylist)"
   ]
  },
  {
   "cell_type": "code",
   "execution_count": null,
   "id": "46ff819e",
   "metadata": {},
   "outputs": [],
   "source": [
    "if <condition>: <expression1> else: <expression2>"
   ]
  },
  {
   "cell_type": "code",
   "execution_count": 4,
   "id": "0fc74a9a",
   "metadata": {},
   "outputs": [
    {
     "ename": "SyntaxError",
     "evalue": "invalid syntax (2258132058.py, line 2)",
     "output_type": "error",
     "traceback": [
      "\u001b[1;36m  Input \u001b[1;32mIn [4]\u001b[1;36m\u001b[0m\n\u001b[1;33m    [i ** 2 for i in my_list  if i % 2 else i ** 3 for i in my_list]\u001b[0m\n\u001b[1;37m                                       ^\u001b[0m\n\u001b[1;31mSyntaxError\u001b[0m\u001b[1;31m:\u001b[0m invalid syntax\n"
     ]
    }
   ],
   "source": [
    "my_list = [1, 2, 3, 4, 5, 6]\n",
    "[i ** 2 for i in my_list  if i % 2 else i ** 3 for i in my_list]"
   ]
  },
  {
   "cell_type": "code",
   "execution_count": 5,
   "id": "cdc47d66",
   "metadata": {},
   "outputs": [
    {
     "name": "stdout",
     "output_type": "stream",
     "text": [
      "[1, 4, 9, 16, 25]\n"
     ]
    }
   ],
   "source": [
    "my_list = [1, 2, 3, 4, 5]\n",
    "\n",
    "new_list = [i ** 2 for i in my_list ] if[ i % 2] else [i ** 3 for i in my_list]\n",
    "\n",
    "print(new_list)"
   ]
  },
  {
   "cell_type": "code",
   "execution_count": 91,
   "id": "1206aadf",
   "metadata": {},
   "outputs": [
    {
     "name": "stdout",
     "output_type": "stream",
     "text": [
      "susan\n",
      "tom\n",
      "0\n"
     ]
    }
   ],
   "source": [
    "lista=[\"susan\",\"tom\",False, 0 ,\"0\"]\n",
    "filterlist=filter(None,lista)\n",
    "for i in filterlist:\n",
    "    print(i)"
   ]
  },
  {
   "cell_type": "code",
   "execution_count": 6,
   "id": "5dfc0825",
   "metadata": {},
   "outputs": [
    {
     "data": {
      "text/plain": [
       "'A'"
      ]
     },
     "execution_count": 6,
     "metadata": {},
     "output_type": "execute_result"
    }
   ],
   "source": [
    "x = 90\n",
    "grade = \"A+\" if x >= 95 else \"A\" if x >= 90 else \"B+\" if x >= 85 else \"B\" if x >= 80 else \"C\" if x >= 70 else \"D\"\n",
    "grade"
   ]
  },
  {
   "cell_type": "code",
   "execution_count": null,
   "id": "a4e6e75c",
   "metadata": {},
   "outputs": [],
   "source": []
  }
 ],
 "metadata": {
  "kernelspec": {
   "display_name": "Python 3 (ipykernel)",
   "language": "python",
   "name": "python3"
  },
  "language_info": {
   "codemirror_mode": {
    "name": "ipython",
    "version": 3
   },
   "file_extension": ".py",
   "mimetype": "text/x-python",
   "name": "python",
   "nbconvert_exporter": "python",
   "pygments_lexer": "ipython3",
   "version": "3.9.12"
  }
 },
 "nbformat": 4,
 "nbformat_minor": 5
}
