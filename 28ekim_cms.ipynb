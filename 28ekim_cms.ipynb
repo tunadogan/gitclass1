{
 "cells": [
  {
   "cell_type": "raw",
   "id": "859975a4",
   "metadata": {},
   "source": [
    " #linkedin üyeliği ( link arttırmak)\n",
    " #cv hazırlama\n",
    " #interwiev hazırlığı\n",
    "      # hocalar Tiger - Hector Hard - Sam  \n",
    "          pre class + in class + post class çok önemli \n",
    " #\n",
    " "
   ]
  }
 ],
 "metadata": {
  "kernelspec": {
   "display_name": "Python 3 (ipykernel)",
   "language": "python",
   "name": "python3"
  },
  "language_info": {
   "codemirror_mode": {
    "name": "ipython",
    "version": 3
   },
   "file_extension": ".py",
   "mimetype": "text/x-python",
   "name": "python",
   "nbconvert_exporter": "python",
   "pygments_lexer": "ipython3",
   "version": "3.9.12"
  }
 },
 "nbformat": 4,
 "nbformat_minor": 5
}
