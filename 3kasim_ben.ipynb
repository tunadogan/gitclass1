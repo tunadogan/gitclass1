{
 "cells": [
  {
   "cell_type": "code",
   "execution_count": 1,
   "id": "997ece85",
   "metadata": {},
   "outputs": [
    {
     "name": "stdout",
     "output_type": "stream",
     "text": [
      "Lions are Carnivores\n",
      "Bears are Omnivores\n",
      "Deers are Herbivores\n",
      "Human are Nomnivores\n"
     ]
    }
   ],
   "source": [
    "def animals(**kwargs):\n",
    "    for key, value in kwargs.items():\n",
    "        print(value, \"are\", key)\n",
    " \n",
    "animals(Carnivores=\"Lions\", Omnivores=\"Bears\", Herbivores=\"Deers\", Nomnivores=\"Human\")\n"
   ]
  },
  {
   "cell_type": "code",
   "execution_count": 3,
   "id": "830b9bf3",
   "metadata": {},
   "outputs": [
    {
     "name": "stdout",
     "output_type": "stream",
     "text": [
      "Carnivores are Lions\n",
      "Omnivores are Bears\n",
      "Herbivores are Deers\n",
      "Nomnivores are Human\n"
     ]
    }
   ],
   "source": [
    "def animals(**tuna):\n",
    "    for key, value in tuna.items():\n",
    "        print(key, \"are\", value)\n",
    " \n",
    "animals(Carnivores=\"Lions\", Omnivores=\"Bears\", Herbivores=\"Deers\", Nomnivores=\"Human\")"
   ]
  },
  {
   "cell_type": "code",
   "execution_count": 7,
   "id": "43ece4a9",
   "metadata": {},
   "outputs": [
    {
     "name": "stdout",
     "output_type": "stream",
     "text": [
      "Here are the names of brothers :\n",
      "tom\n",
      "sue\n",
      "tim\n",
      "tom sue tim\n"
     ]
    }
   ],
   "source": [
    "def brothers(bro1, bro2, bro3):\n",
    "    print('Here are the names of brothers :')\n",
    "    print(bro1, bro2, bro3, sep='\\n')\n",
    "\n",
    "family = ['tom', 'sue', 'tim']\n",
    "brothers(*family)"
   ]
  },
  {
   "cell_type": "code",
   "execution_count": 8,
   "id": "5494179f",
   "metadata": {},
   "outputs": [
    {
     "name": "stdout",
     "output_type": "stream",
     "text": [
      "1 Oğuzhan\n",
      "2 Enes\n",
      "3 Selim\n"
     ]
    }
   ],
   "source": [
    "isimler = ['Oğuzhan', 'Enes', 'Selim']\n",
    "for index, isim in enumerate(isimler, start=1):\n",
    "  print(index, isim)"
   ]
  },
  {
   "cell_type": "markdown",
   "id": "c4d0b9a4",
   "metadata": {},
   "source": [
    "#generatör comprehension\n",
    "iteratör itere edilen her değere denir. itere edilebilecek bir nesneyi döndüren fonksiyon. en bilindik genetarör range(). kullandıkça görüyoruz. generatörler o değerleri kullanıldıkça üretiyorlar. aslında üretme kapasiteeri var. ihtiyacımız olduğunda çağırıp kulklanıyıruz. next() fonk kullanılabilir hale getiiyor. hafızada yer kaplamamak içn bu özellik harika."
   ]
  },
  {
   "cell_type": "code",
   "execution_count": 9,
   "id": "2d7a712f",
   "metadata": {},
   "outputs": [
    {
     "data": {
      "text/plain": [
       "[0, 1, 4, 9, 16, 25]"
      ]
     },
     "execution_count": 9,
     "metadata": {},
     "output_type": "execute_result"
    }
   ],
   "source": [
    "[i **2 for i in range(6)]    #list"
   ]
  },
  {
   "cell_type": "code",
   "execution_count": 11,
   "id": "e466d50d",
   "metadata": {},
   "outputs": [
    {
     "data": {
      "text/plain": [
       "<generator object <genexpr> at 0x000002179A9F8120>"
      ]
     },
     "execution_count": 11,
     "metadata": {},
     "output_type": "execute_result"
    }
   ],
   "source": [
    "(i** 2 for i in range(6))      #tuple   bir adres oluşturdu. #görünür değil"
   ]
  },
  {
   "cell_type": "code",
   "execution_count": 12,
   "id": "8ffe43e4",
   "metadata": {},
   "outputs": [
    {
     "data": {
      "text/plain": [
       "<generator object <genexpr> at 0x000002179A9F85F0>"
      ]
     },
     "execution_count": 12,
     "metadata": {},
     "output_type": "execute_result"
    }
   ],
   "source": [
    "generator=(i** 2 for i in range(6)) \n",
    "generator"
   ]
  },
  {
   "cell_type": "code",
   "execution_count": 13,
   "id": "61be81da",
   "metadata": {},
   "outputs": [
    {
     "data": {
      "text/plain": [
       "[0, 1, 4, 9, 16, 25]"
      ]
     },
     "execution_count": 13,
     "metadata": {},
     "output_type": "execute_result"
    }
   ],
   "source": [
    "list(generator)"
   ]
  },
  {
   "cell_type": "code",
   "execution_count": 14,
   "id": "f62778a7",
   "metadata": {},
   "outputs": [
    {
     "name": "stdout",
     "output_type": "stream",
     "text": [
      "\n"
     ]
    }
   ],
   "source": [
    "print(*generator)      # bir kere kullandık ondan içi boşaldı."
   ]
  },
  {
   "cell_type": "code",
   "execution_count": 37,
   "id": "67d79669",
   "metadata": {},
   "outputs": [
    {
     "name": "stdout",
     "output_type": "stream",
     "text": [
      "0 1 4 9 16 25\n"
     ]
    }
   ],
   "source": [
    "generator=(i** 2 for i in range(6)) \n",
    "generator\n",
    "print(*generator) "
   ]
  },
  {
   "cell_type": "code",
   "execution_count": 16,
   "id": "a8041b7e",
   "metadata": {},
   "outputs": [
    {
     "name": "stdout",
     "output_type": "stream",
     "text": [
      "\n"
     ]
    }
   ],
   "source": [
    "print(*generator)    # bak çalışmadı."
   ]
  },
  {
   "cell_type": "code",
   "execution_count": 47,
   "id": "e3f85afe",
   "metadata": {},
   "outputs": [
    {
     "ename": "IndentationError",
     "evalue": "unexpected indent (1205327437.py, line 3)",
     "output_type": "error",
     "traceback": [
      "\u001b[1;36m  Input \u001b[1;32mIn [47]\u001b[1;36m\u001b[0m\n\u001b[1;33m    i ** 2 for i in gener:\u001b[0m\n\u001b[1;37m    ^\u001b[0m\n\u001b[1;31mIndentationError\u001b[0m\u001b[1;31m:\u001b[0m unexpected indent\n"
     ]
    }
   ],
   "source": [
    "gener=(i** 2 for i in range(6)) \n",
    "print(gener)\n",
    "    i ** 2 for i in gener:\n",
    "        print(i)"
   ]
  },
  {
   "cell_type": "code",
   "execution_count": 22,
   "id": "0f55c2c8",
   "metadata": {},
   "outputs": [],
   "source": [
    "generator=(i** 2 for i in range(6)) "
   ]
  },
  {
   "cell_type": "code",
   "execution_count": 23,
   "id": "e16290f8",
   "metadata": {},
   "outputs": [
    {
     "data": {
      "text/plain": [
       "<generator object <genexpr> at 0x000002179AA0E040>"
      ]
     },
     "execution_count": 23,
     "metadata": {},
     "output_type": "execute_result"
    }
   ],
   "source": [
    "generator"
   ]
  },
  {
   "cell_type": "code",
   "execution_count": 24,
   "id": "38fa46fe",
   "metadata": {},
   "outputs": [
    {
     "name": "stdout",
     "output_type": "stream",
     "text": [
      "0\n"
     ]
    }
   ],
   "source": [
    "print(next(generator))"
   ]
  },
  {
   "cell_type": "code",
   "execution_count": 25,
   "id": "9022ed2f",
   "metadata": {},
   "outputs": [
    {
     "name": "stdout",
     "output_type": "stream",
     "text": [
      "1\n"
     ]
    }
   ],
   "source": [
    "print(next(generator))"
   ]
  },
  {
   "cell_type": "code",
   "execution_count": 26,
   "id": "fa889ec8",
   "metadata": {},
   "outputs": [
    {
     "name": "stdout",
     "output_type": "stream",
     "text": [
      "4\n"
     ]
    }
   ],
   "source": [
    "print(next(generator))    # next ile teker teker boşalttık."
   ]
  },
  {
   "cell_type": "code",
   "execution_count": 28,
   "id": "ca8511a7",
   "metadata": {},
   "outputs": [
    {
     "data": {
      "text/plain": [
       "<generator object <genexpr> at 0x000002179AA0E4A0>"
      ]
     },
     "execution_count": 28,
     "metadata": {},
     "output_type": "execute_result"
    }
   ],
   "source": [
    "generate= (i/2 for i in [0,9,21,32])\n",
    "generate"
   ]
  },
  {
   "cell_type": "code",
   "execution_count": 32,
   "id": "9aebd55b",
   "metadata": {},
   "outputs": [
    {
     "name": "stdout",
     "output_type": "stream",
     "text": [
      "0.0\n",
      "4.5\n",
      "10.5\n",
      "16.0\n"
     ]
    }
   ],
   "source": [
    "for item in generate:\n",
    "    print(item)"
   ]
  },
  {
   "cell_type": "code",
   "execution_count": 39,
   "id": "e083af4f",
   "metadata": {},
   "outputs": [
    {
     "name": "stdout",
     "output_type": "stream",
     "text": [
      "apple apple apple pie pie pie\n"
     ]
    }
   ],
   "source": [
    "generate= ((\"apple\" if i <3 else \"pie\") for i in range(6))\n",
    "print(*generate)"
   ]
  },
  {
   "cell_type": "code",
   "execution_count": 48,
   "id": "9774042a",
   "metadata": {},
   "outputs": [
    {
     "name": "stdout",
     "output_type": "stream",
     "text": [
      "171\n",
      "-222\n"
     ]
    }
   ],
   "source": [
    "number =[-222,10,171]\n",
    "a=max(number)\n",
    "b=min(number)\n",
    "print(a)\n",
    "print(b)"
   ]
  },
  {
   "cell_type": "code",
   "execution_count": 51,
   "id": "3a65460d",
   "metadata": {},
   "outputs": [
    {
     "data": {
      "text/plain": [
       "'a'"
      ]
     },
     "execution_count": 51,
     "metadata": {},
     "output_type": "execute_result"
    }
   ],
   "source": [
    "min(\"karagozlu\")\n"
   ]
  },
  {
   "cell_type": "code",
   "execution_count": 52,
   "id": "d10ea93e",
   "metadata": {},
   "outputs": [
    {
     "data": {
      "text/plain": [
       "'z'"
      ]
     },
     "execution_count": 52,
     "metadata": {},
     "output_type": "execute_result"
    }
   ],
   "source": [
    "max(\"karagozlu\")"
   ]
  },
  {
   "cell_type": "code",
   "execution_count": null,
   "id": "87aef1bc",
   "metadata": {},
   "outputs": [],
   "source": [
    "#enumarete, sum ,round"
   ]
  },
  {
   "cell_type": "code",
   "execution_count": 53,
   "id": "12c314e1",
   "metadata": {},
   "outputs": [
    {
     "ename": "TypeError",
     "evalue": "sum() takes at most 2 arguments (5 given)",
     "output_type": "error",
     "traceback": [
      "\u001b[1;31m---------------------------------------------------------------------------\u001b[0m",
      "\u001b[1;31mTypeError\u001b[0m                                 Traceback (most recent call last)",
      "Input \u001b[1;32mIn [53]\u001b[0m, in \u001b[0;36m<cell line: 1>\u001b[1;34m()\u001b[0m\n\u001b[1;32m----> 1\u001b[0m \u001b[38;5;28;43msum\u001b[39;49m\u001b[43m(\u001b[49m\u001b[38;5;241;43m1\u001b[39;49m\u001b[43m,\u001b[49m\u001b[38;5;241;43m2\u001b[39;49m\u001b[43m,\u001b[49m\u001b[38;5;241;43m3\u001b[39;49m\u001b[43m,\u001b[49m\u001b[38;5;241;43m4\u001b[39;49m\u001b[43m,\u001b[49m\u001b[38;5;241;43m5\u001b[39;49m\u001b[43m)\u001b[49m\n",
      "\u001b[1;31mTypeError\u001b[0m: sum() takes at most 2 arguments (5 given)"
     ]
    }
   ],
   "source": [
    "sum(1,2,3,4,5)     # toplamaz sadece iterable olması lazım"
   ]
  },
  {
   "cell_type": "code",
   "execution_count": 55,
   "id": "b446c367",
   "metadata": {},
   "outputs": [
    {
     "data": {
      "text/plain": [
       "3"
      ]
     },
     "execution_count": 55,
     "metadata": {},
     "output_type": "execute_result"
    }
   ],
   "source": [
    "sum([1,2])"
   ]
  },
  {
   "cell_type": "code",
   "execution_count": 58,
   "id": "8dbcd7aa",
   "metadata": {},
   "outputs": [
    {
     "data": {
      "text/plain": [
       "12.98"
      ]
     },
     "execution_count": 58,
     "metadata": {},
     "output_type": "execute_result"
    }
   ],
   "source": [
    "round (12.9797978 ,3) "
   ]
  },
  {
   "cell_type": "code",
   "execution_count": 59,
   "id": "390acb5a",
   "metadata": {},
   "outputs": [
    {
     "data": {
      "text/plain": [
       "3.146"
      ]
     },
     "execution_count": 59,
     "metadata": {},
     "output_type": "execute_result"
    }
   ],
   "source": [
    "round (3.1456456747 ,3) "
   ]
  },
  {
   "cell_type": "code",
   "execution_count": 60,
   "id": "debba81c",
   "metadata": {},
   "outputs": [
    {
     "data": {
      "text/plain": [
       "3.67"
      ]
     },
     "execution_count": 60,
     "metadata": {},
     "output_type": "execute_result"
    }
   ],
   "source": [
    "round(3.665,2)"
   ]
  },
  {
   "cell_type": "code",
   "execution_count": 63,
   "id": "d25dd0f2",
   "metadata": {},
   "outputs": [],
   "source": [
    "def f_fonk(p1,p2):\n",
    "    print(p1 + p2)\n",
    "    "
   ]
  },
  {
   "cell_type": "code",
   "execution_count": 64,
   "id": "56a73d8f",
   "metadata": {},
   "outputs": [
    {
     "name": "stdout",
     "output_type": "stream",
     "text": [
      "13\n"
     ]
    }
   ],
   "source": [
    "f_fonk(2,3)"
   ]
  },
  {
   "cell_type": "code",
   "execution_count": 82,
   "id": "4f965ca6",
   "metadata": {},
   "outputs": [
    {
     "ename": "SyntaxError",
     "evalue": "invalid syntax (2141183129.py, line 1)",
     "output_type": "error",
     "traceback": [
      "\u001b[1;36m  Input \u001b[1;32mIn [82]\u001b[1;36m\u001b[0m\n\u001b[1;33m    def m(a,b, \"+\"):\u001b[0m\n\u001b[1;37m               ^\u001b[0m\n\u001b[1;31mSyntaxError\u001b[0m\u001b[1;31m:\u001b[0m invalid syntax\n"
     ]
    }
   ],
   "source": [
    "def m(a,b,opr):\n",
    "    print(a , \"+\" , b ,\"=\" , a + b)\n",
    "\n"
   ]
  },
  {
   "cell_type": "code",
   "execution_count": 113,
   "id": "bc94e881",
   "metadata": {},
   "outputs": [
    {
     "name": "stdout",
     "output_type": "stream",
     "text": [
      "kenar 1:3\n",
      "kenar 2:4\n",
      "5.0\n"
     ]
    }
   ],
   "source": [
    "\n",
    "def abc(a,b):\n",
    "    j=(a**2 + b**2)**0.5\n",
    "    \n",
    "    return j\n",
    "    \n",
    "\n",
    "x=int(input(\"kenar 1:\"))\n",
    "y=int(input(\"kenar 2:\"))\n",
    "\n",
    "k = abc(x,y)\n",
    "print(k)"
   ]
  },
  {
   "cell_type": "code",
   "execution_count": 104,
   "id": "5b92cc97",
   "metadata": {},
   "outputs": [
    {
     "name": "stdout",
     "output_type": "stream",
     "text": [
      "9\n"
     ]
    }
   ],
   "source": [
    "a=print(4+5)"
   ]
  },
  {
   "cell_type": "code",
   "execution_count": 105,
   "id": "bc516b26",
   "metadata": {},
   "outputs": [
    {
     "data": {
      "text/plain": [
       "NoneType"
      ]
     },
     "execution_count": 105,
     "metadata": {},
     "output_type": "execute_result"
    }
   ],
   "source": [
    "type(a)"
   ]
  },
  {
   "cell_type": "code",
   "execution_count": null,
   "id": "44982d4e",
   "metadata": {},
   "outputs": [],
   "source": [
    "def calc(x,y,opr)\n",
    "    if opr ==\"+\":\n"
   ]
  },
  {
   "cell_type": "code",
   "execution_count": 83,
   "id": "12c017c9",
   "metadata": {},
   "outputs": [
    {
     "name": "stdout",
     "output_type": "stream",
     "text": [
      "Yapılacak İşlemi Seçin.\n",
      "=======================\n",
      "1.Toplama\n",
      "2.Çıkarma\n",
      "3.Çarpma\n",
      "4.Bölme\n",
      "Seçiminiz (1/2/3/4):1\n",
      "1. Sayı: 34\n",
      "2. Sayı: 45\n",
      "34 + 45 = 79\n"
     ]
    }
   ],
   "source": [
    "\n",
    "def Topla(x, y):\n",
    "   return x + y\n",
    " \n",
    "def Cikar(x, y):\n",
    "   return x - y\n",
    " \n",
    "def Carp(x, y):\n",
    "   return x * y\n",
    " \n",
    "def Bol(x, y):\n",
    "   return x / y\n",
    " \n",
    "print(\"Yapılacak İşlemi Seçin.\")\n",
    "print(\"=======================\")\n",
    "print(\"1.Toplama\")\n",
    "print(\"2.Çıkarma\")\n",
    "print(\"3.Çarpma\")\n",
    "print(\"4.Bölme\")\n",
    " \n",
    "\n",
    "secim = input(\"Seçiminiz (1/2/3/4):\")\n",
    " \n",
    "sayi1 = int(input(\"1. Sayı: \"))\n",
    "sayi2 = int(input(\"2. Sayı: \"))\n",
    " \n",
    "if secim == '1':\n",
    "   print(sayi1,\"+\",sayi2,\"=\", Topla(sayi1,sayi2))\n",
    " \n",
    "elif secim == '2':\n",
    "   print(sayi1,\"-\",sayi2,\"=\", Cikar(sayi1,sayi2))\n",
    " \n",
    "elif secim == '3':\n",
    "   print(sayi1,\"*\",sayi2,\"=\", Carp(sayi1,sayi2))\n",
    " \n",
    "elif secim == '4':\n",
    "   print(sayi1,\"/\",sayi2,\"=\", Bol(sayi1,sayi2))\n",
    "else:\n",
    "   print(\"Geçersiz Giriş\")"
   ]
  },
  {
   "cell_type": "code",
   "execution_count": 106,
   "id": "2e4b2a8f",
   "metadata": {},
   "outputs": [
    {
     "ename": "TypeError",
     "evalue": "unsupported operand type(s) for *: 'NoneType' and 'int'",
     "output_type": "error",
     "traceback": [
      "\u001b[1;31m---------------------------------------------------------------------------\u001b[0m",
      "\u001b[1;31mTypeError\u001b[0m                                 Traceback (most recent call last)",
      "Input \u001b[1;32mIn [106]\u001b[0m, in \u001b[0;36m<cell line: 1>\u001b[1;34m()\u001b[0m\n\u001b[1;32m----> 1\u001b[0m \u001b[43ma\u001b[49m\u001b[38;5;241;43m*\u001b[39;49m\u001b[38;5;241;43m3\u001b[39;49m\n",
      "\u001b[1;31mTypeError\u001b[0m: unsupported operand type(s) for *: 'NoneType' and 'int'"
     ]
    }
   ],
   "source": [
    "a*3\n"
   ]
  },
  {
   "cell_type": "code",
   "execution_count": 114,
   "id": "cfb77c3e",
   "metadata": {},
   "outputs": [],
   "source": [
    "from timeit import timeit"
   ]
  },
  {
   "cell_type": "code",
   "execution_count": 120,
   "id": "816b3cf7",
   "metadata": {},
   "outputs": [
    {
     "name": "stdout",
     "output_type": "stream",
     "text": [
      "list comp is   1.59)times faster\n"
     ]
    }
   ],
   "source": [
    "def foor_loop():\n",
    "    result=[]\n",
    "    for i in range(1000):\n",
    "        result.append(i)\n",
    "    return result\n",
    "\n",
    "def list_comp():\n",
    "    return [i for i in range(1000)]\n",
    "\n",
    "expSize =10\n",
    "time1=timeit(foor_loop,number=expSize)\n",
    "time2=timeit(list_comp,number=expSize)\n",
    "print(f\"list comp is   {round(time1/time2,2)})times faster\")"
   ]
  },
  {
   "cell_type": "code",
   "execution_count": 140,
   "id": "8038e498",
   "metadata": {},
   "outputs": [
    {
     "ename": "IndentationError",
     "evalue": "unexpected indent (1071476707.py, line 5)",
     "output_type": "error",
     "traceback": [
      "\u001b[1;36m  Input \u001b[1;32mIn [140]\u001b[1;36m\u001b[0m\n\u001b[1;33m    c = b\u001b[0m\n\u001b[1;37m    ^\u001b[0m\n\u001b[1;31mIndentationError\u001b[0m\u001b[1;31m:\u001b[0m unexpected indent\n"
     ]
    }
   ],
   "source": [
    "a = 1  \n",
    "b = 0  \n",
    "for i in range(1,55):\n",
    "    print(list(i))\n",
    "     c = b  \n",
    "     b = a  \n",
    "     a = c + b  \n",
    "         print(a)"
   ]
  },
  {
   "cell_type": "code",
   "execution_count": 216,
   "id": "46e9255c",
   "metadata": {},
   "outputs": [],
   "source": [
    "a = 1  \n",
    "b = 0 \n",
    "\n",
    "for i in range(1,k+1):  \n",
    " c = b  \n",
    " b = a  \n",
    " a = c + b\n",
    " k+=1\n",
    "if (a>55):\n",
    "    print(a)\n",
    "    "
   ]
  },
  {
   "cell_type": "code",
   "execution_count": 9,
   "id": "555e0456",
   "metadata": {},
   "outputs": [
    {
     "name": "stdout",
     "output_type": "stream",
     "text": [
      "1\n"
     ]
    }
   ],
   "source": [
    "a = 1  \n",
    "b = 0 \n",
    "k=1\n",
    "for i in range(1,k+1):  \n",
    " c = b \n",
    " b = a  \n",
    " a = c + b\n",
    " k=k+1  \n",
    " print(a)\n",
    " if a==55:\n",
    "    #print(\"bu kadar\")\n",
    "    break\n",
    "    "
   ]
  },
  {
   "cell_type": "code",
   "execution_count": 13,
   "id": "34d923d0",
   "metadata": {},
   "outputs": [
    {
     "ename": "AttributeError",
     "evalue": "'int' object has no attribute 'append'",
     "output_type": "error",
     "traceback": [
      "\u001b[1;31m---------------------------------------------------------------------------\u001b[0m",
      "\u001b[1;31mAttributeError\u001b[0m                            Traceback (most recent call last)",
      "Input \u001b[1;32mIn [13]\u001b[0m, in \u001b[0;36m<cell line: 2>\u001b[1;34m()\u001b[0m\n\u001b[0;32m      2\u001b[0m \u001b[38;5;28;01mfor\u001b[39;00m i \u001b[38;5;129;01min\u001b[39;00m \u001b[38;5;28mrange\u001b[39m(\u001b[38;5;241m10\u001b[39m):\n\u001b[0;32m      3\u001b[0m     \u001b[38;5;66;03m#k=i+1\u001b[39;00m\n\u001b[0;32m      4\u001b[0m     fibonacci\u001b[38;5;241m=\u001b[39m (fibonacci[i\u001b[38;5;241m+\u001b[39m\u001b[38;5;241m1\u001b[39m]\u001b[38;5;241m+\u001b[39m fibonacci[i])\n\u001b[1;32m----> 5\u001b[0m     \u001b[43mfibonacci\u001b[49m\u001b[38;5;241;43m.\u001b[39;49m\u001b[43mappend\u001b[49m(fibonacci)\n\u001b[0;32m      6\u001b[0m     \u001b[38;5;28;01mif\u001b[39;00m \u001b[38;5;28mmax\u001b[39m(fibonacci) \u001b[38;5;241m==\u001b[39m \u001b[38;5;241m55\u001b[39m:\n\u001b[0;32m      7\u001b[0m         \u001b[38;5;28;01mbreak\u001b[39;00m\n",
      "\u001b[1;31mAttributeError\u001b[0m: 'int' object has no attribute 'append'"
     ]
    }
   ],
   "source": [
    "\n",
    "fibonacci = [1,1]\n",
    "for i in range(10):\n",
    "    #k=i+1\n",
    "    fibonacci= (fibonacci[i+1]+ fibonacci[i])\n",
    "    fibonacci.append(fibonacci)\n",
    "    if max(fibonacci) == 55:\n",
    "        break\n",
    "for i in fibonacci:\n",
    "  print(i)"
   ]
  },
  {
   "cell_type": "code",
   "execution_count": 71,
   "id": "999e1ffe",
   "metadata": {},
   "outputs": [],
   "source": [
    "k=1\n",
    "a=i+k\n",
    "[i for i in range (k)]\n",
    "k+=1\n",
    "if (i>=55):\n",
    "    print(a)"
   ]
  },
  {
   "cell_type": "code",
   "execution_count": 9,
   "id": "a9ef6c8b",
   "metadata": {},
   "outputs": [
    {
     "ename": "NameError",
     "evalue": "name 'k' is not defined",
     "output_type": "error",
     "traceback": [
      "\u001b[1;31m---------------------------------------------------------------------------\u001b[0m",
      "\u001b[1;31mNameError\u001b[0m                                 Traceback (most recent call last)",
      "Input \u001b[1;32mIn [9]\u001b[0m, in \u001b[0;36m<cell line: 1>\u001b[1;34m()\u001b[0m\n\u001b[1;32m----> 1\u001b[0m mylist\u001b[38;5;241m=\u001b[39m[i \u001b[38;5;28;01mfor\u001b[39;00m i \u001b[38;5;129;01min\u001b[39;00m \u001b[38;5;28mrange\u001b[39m (\u001b[38;5;241m1\u001b[39m,\u001b[43mk\u001b[49m)]\n\u001b[0;32m      2\u001b[0m new_list\u001b[38;5;241m=\u001b[39m[]\n\u001b[0;32m      3\u001b[0m k\u001b[38;5;241m+\u001b[39m\u001b[38;5;241m=\u001b[39m\u001b[38;5;241m1\u001b[39m\n",
      "\u001b[1;31mNameError\u001b[0m: name 'k' is not defined"
     ]
    }
   ],
   "source": [
    "mylist=[i for i in range (1,k)]\n",
    "new_list=[]\n",
    "k+=1\n",
    "for i in mylist:\n",
    "    if new_list[-1] >= 55:     # bu tek sayıdır  burada ==1 yazmadanda yapabiilriz\n",
    "        new_list.append(i+new_list[k])\n",
    "print(new_list)"
   ]
  },
  {
   "cell_type": "code",
   "execution_count": 284,
   "id": "2ef9dcbe",
   "metadata": {},
   "outputs": [],
   "source": [
    "k=0\n",
    "mylist=list(range (k))\n",
    "new_list=[]\n",
    "\n",
    "for i in mylist:\n",
    "    k=k+1\n",
    "    new_list.append(i + new_list[k])\n",
    "    if max(new_list) ==55:\n",
    "        \n",
    "        print(new_list)\n",
    "    break"
   ]
  },
  {
   "cell_type": "code",
   "execution_count": 14,
   "id": "3d684605",
   "metadata": {},
   "outputs": [
    {
     "name": "stdout",
     "output_type": "stream",
     "text": [
      "[1, 1, 2, 3, 5, 8, 13, 21, 34, 55]\n"
     ]
    }
   ],
   "source": [
    "fib_num = []\n",
    "a, b = 1, 1\n",
    "while a <= 55:\n",
    "    fib_num.append(a)\n",
    "    a, b = b, a+b\n",
    "print(fib_num) "
   ]
  },
  {
   "cell_type": "code",
   "execution_count": 8,
   "id": "cfec1b30",
   "metadata": {},
   "outputs": [
    {
     "ename": "NameError",
     "evalue": "name 'k' is not defined",
     "output_type": "error",
     "traceback": [
      "\u001b[1;31m---------------------------------------------------------------------------\u001b[0m",
      "\u001b[1;31mNameError\u001b[0m                                 Traceback (most recent call last)",
      "Input \u001b[1;32mIn [8]\u001b[0m, in \u001b[0;36m<cell line: 4>\u001b[1;34m()\u001b[0m\n\u001b[0;32m      1\u001b[0m \u001b[38;5;66;03m#mylist=list(range (1,k))\u001b[39;00m\n\u001b[0;32m      2\u001b[0m new_list\u001b[38;5;241m=\u001b[39m[\u001b[38;5;241m1\u001b[39m,\u001b[38;5;241m1\u001b[39m]\n\u001b[1;32m----> 4\u001b[0m \u001b[38;5;28;01mfor\u001b[39;00m i \u001b[38;5;129;01min\u001b[39;00m (\u001b[38;5;28mrange\u001b[39m (\u001b[38;5;241m1\u001b[39m,\u001b[43mk\u001b[49m)):\n\u001b[0;32m      5\u001b[0m     k\u001b[38;5;241m=\u001b[39mk\u001b[38;5;241m+\u001b[39m\u001b[38;5;241m1\u001b[39m\n\u001b[0;32m      6\u001b[0m     new_list\u001b[38;5;241m.\u001b[39mappend(i \u001b[38;5;241m+\u001b[39m new_list[k\u001b[38;5;241m+\u001b[39m\u001b[38;5;241m1\u001b[39m])\n",
      "\u001b[1;31mNameError\u001b[0m: name 'k' is not defined"
     ]
    }
   ],
   "source": [
    "#mylist=list(range (1,k))\n",
    "new_list=[1,1]\n",
    "\n",
    "for i in (range (1,k)):\n",
    "    k=k+1\n",
    "    new_list.append(i + new_list[k+1])\n",
    "    if max(new_list) ==55:\n",
    "        \n",
    "        print(new_list)\n",
    "    break"
   ]
  },
  {
   "cell_type": "code",
   "execution_count": 202,
   "id": "927168ff",
   "metadata": {},
   "outputs": [],
   "source": [
    "k=5\n",
    "myliste=list(range (1,k))\n"
   ]
  },
  {
   "cell_type": "code",
   "execution_count": 203,
   "id": "65c9738f",
   "metadata": {},
   "outputs": [
    {
     "data": {
      "text/plain": [
       "[1, 2, 3, 4]"
      ]
     },
     "execution_count": 203,
     "metadata": {},
     "output_type": "execute_result"
    }
   ],
   "source": [
    "myliste"
   ]
  },
  {
   "cell_type": "code",
   "execution_count": 191,
   "id": "4b297445",
   "metadata": {},
   "outputs": [
    {
     "data": {
      "text/plain": [
       "9"
      ]
     },
     "execution_count": 191,
     "metadata": {},
     "output_type": "execute_result"
    }
   ],
   "source": [
    "max(myliste)"
   ]
  },
  {
   "cell_type": "code",
   "execution_count": 285,
   "id": "280d2895",
   "metadata": {},
   "outputs": [
    {
     "ename": "NameError",
     "evalue": "name 'isPrime' is not defined",
     "output_type": "error",
     "traceback": [
      "\u001b[1;31m---------------------------------------------------------------------------\u001b[0m",
      "\u001b[1;31mNameError\u001b[0m                                 Traceback (most recent call last)",
      "Input \u001b[1;32mIn [285]\u001b[0m, in \u001b[0;36m<cell line: 3>\u001b[1;34m()\u001b[0m\n\u001b[0;32m      2\u001b[0m \u001b[38;5;66;03m#check for every number from 1 to N\u001b[39;00m\n\u001b[0;32m      3\u001b[0m \u001b[38;5;28;01mfor\u001b[39;00m i \u001b[38;5;129;01min\u001b[39;00m \u001b[38;5;28mrange\u001b[39m(\u001b[38;5;241m1\u001b[39m,N\u001b[38;5;241m+\u001b[39m\u001b[38;5;241m1\u001b[39m):\n\u001b[0;32m      4\u001b[0m   \u001b[38;5;66;03m#check if current number is prime\u001b[39;00m\n\u001b[1;32m----> 5\u001b[0m   \u001b[38;5;28;01mif\u001b[39;00m(\u001b[43misPrime\u001b[49m(i)):\n\u001b[0;32m      6\u001b[0m     \u001b[38;5;28mprint\u001b[39m(i,end\u001b[38;5;241m=\u001b[39m\u001b[38;5;124m\"\u001b[39m\u001b[38;5;124m \u001b[39m\u001b[38;5;124m\"\u001b[39m)\n",
      "\u001b[1;31mNameError\u001b[0m: name 'isPrime' is not defined"
     ]
    }
   ],
   "source": [
    "N = 100;\n",
    "#check for every number from 1 to N\n",
    "for i in range(1,N+1):\n",
    "  #check if current number is prime\n",
    "  if(isPrime(i)):\n",
    "    print(i,end=\" \")"
   ]
  },
  {
   "cell_type": "code",
   "execution_count": 293,
   "id": "442195a4",
   "metadata": {},
   "outputs": [
    {
     "name": "stdout",
     "output_type": "stream",
     "text": [
      "2\n",
      "3\n",
      "5\n",
      "7\n",
      "11\n",
      "13\n",
      "17\n",
      "19\n",
      "23\n",
      "29\n",
      "31\n",
      "37\n",
      "41\n",
      "43\n",
      "47\n",
      "53\n",
      "59\n",
      "61\n",
      "67\n",
      "71\n",
      "73\n",
      "79\n",
      "83\n",
      "89\n",
      "97\n"
     ]
    }
   ],
   "source": [
    "\n",
    "\n",
    "for asd in range(1, 100):\n",
    " \n",
    "   if asd > 1:\n",
    "       for i in range(2, asd):\n",
    "           if (asd % i) == 0:\n",
    "               break\n",
    "       else:\n",
    "           print(asd)"
   ]
  },
  {
   "cell_type": "code",
   "execution_count": 297,
   "id": "e9649b0d",
   "metadata": {},
   "outputs": [
    {
     "name": "stdout",
     "output_type": "stream",
     "text": [
      "1\n",
      "2\n",
      "Fizz\n",
      "4\n",
      "Buzz\n",
      "Fizz\n",
      "7\n",
      "8\n",
      "Fizz\n",
      "Buzz\n",
      "11\n",
      "Fizz\n",
      "13\n",
      "14\n",
      "FizzBuzz\n",
      "16\n",
      "17\n",
      "Fizz\n",
      "19\n",
      "Buzz\n",
      "Fizz\n",
      "22\n",
      "23\n",
      "Fizz\n",
      "Buzz\n",
      "26\n",
      "Fizz\n",
      "28\n",
      "29\n",
      "FizzBuzz\n",
      "31\n",
      "32\n",
      "Fizz\n",
      "34\n",
      "Buzz\n",
      "Fizz\n",
      "37\n",
      "38\n",
      "Fizz\n",
      "Buzz\n",
      "41\n",
      "Fizz\n",
      "43\n",
      "44\n",
      "FizzBuzz\n",
      "46\n",
      "47\n",
      "Fizz\n",
      "49\n"
     ]
    }
   ],
   "source": [
    "for i in range(1,50):\n",
    "    if  i%3==0 and  i%5==0 :\n",
    "        print(\"FizzBuzz\")\n",
    "    elif   i%3==0 :\n",
    "        print(\"Fizz\")\n",
    "    elif  i%5==0 :\n",
    "        print(\"Buzz\")\n",
    "    else:\n",
    "        print(i)"
   ]
  },
  {
   "cell_type": "code",
   "execution_count": 331,
   "id": "4ac70288",
   "metadata": {},
   "outputs": [],
   "source": [
    "for num in range(1,100):\n",
    "    for k in range(num):\n",
    "\n",
    "        if k >1 :\n",
    "           \n",
    "        \n",
    "          while i < k:\n",
    "            i += 1\n",
    "            if k % i == 0:\n",
    "              print(f\"{k} is a prime number\")\n",
    "            else:\n",
    "                break"
   ]
  },
  {
   "cell_type": "code",
   "execution_count": 3,
   "id": "dfa05b5e",
   "metadata": {},
   "outputs": [],
   "source": [
    "def integer():\n",
    "    return 22"
   ]
  },
  {
   "cell_type": "code",
   "execution_count": 4,
   "id": "bf218221",
   "metadata": {},
   "outputs": [
    {
     "data": {
      "text/plain": [
       "22"
      ]
     },
     "execution_count": 4,
     "metadata": {},
     "output_type": "execute_result"
    }
   ],
   "source": [
    "integer()"
   ]
  },
  {
   "cell_type": "code",
   "execution_count": 9,
   "id": "df664031",
   "metadata": {},
   "outputs": [],
   "source": [
    "def boolean():\n",
    "    return True\n",
    "if boolean():\n",
    "    print(\"yaşasın\")"
   ]
  },
  {
   "cell_type": "code",
   "execution_count": 13,
   "id": "67056d8c",
   "metadata": {},
   "outputs": [
    {
     "data": {
      "text/plain": [
       "<function __main__.listem()>"
      ]
     },
     "execution_count": 13,
     "metadata": {},
     "output_type": "execute_result"
    }
   ],
   "source": [
    "def listem():\n",
    "     return [1,2,3,4]\n",
    "listem\n"
   ]
  },
  {
   "cell_type": "code",
   "execution_count": null,
   "id": "a6edb190",
   "metadata": {},
   "outputs": [],
   "source": [
    "def listem():\n",
    "     return [1,2,3,4]\n",
    "listem()                   # -----------> parantez çağırma için çok önemli\n"
   ]
  },
  {
   "cell_type": "code",
   "execution_count": 14,
   "id": "bd25ee74",
   "metadata": {},
   "outputs": [
    {
     "data": {
      "text/plain": [
       "3"
      ]
     },
     "execution_count": 14,
     "metadata": {},
     "output_type": "execute_result"
    }
   ],
   "source": [
    "listem()[2]    # listeyi return edecek. ve indexler"
   ]
  },
  {
   "cell_type": "code",
   "execution_count": 15,
   "id": "ea2808c3",
   "metadata": {},
   "outputs": [],
   "source": [
    "a=integer()\n",
    "y=listem()\n",
    "x=boolean()          # atadım şimdi."
   ]
  },
  {
   "cell_type": "code",
   "execution_count": 16,
   "id": "3ee4e5f3",
   "metadata": {},
   "outputs": [
    {
     "data": {
      "text/plain": [
       "22"
      ]
     },
     "execution_count": 16,
     "metadata": {},
     "output_type": "execute_result"
    }
   ],
   "source": [
    "a"
   ]
  },
  {
   "cell_type": "code",
   "execution_count": 17,
   "id": "7826f3f4",
   "metadata": {},
   "outputs": [
    {
     "data": {
      "text/plain": [
       "False"
      ]
     },
     "execution_count": 17,
     "metadata": {},
     "output_type": "execute_result"
    }
   ],
   "source": [
    "x"
   ]
  },
  {
   "cell_type": "code",
   "execution_count": 18,
   "id": "95bb4b0d",
   "metadata": {},
   "outputs": [
    {
     "data": {
      "text/plain": [
       "[1, 2, 3, 4]"
      ]
     },
     "execution_count": 18,
     "metadata": {},
     "output_type": "execute_result"
    }
   ],
   "source": [
    "y"
   ]
  },
  {
   "cell_type": "code",
   "execution_count": 19,
   "id": "2594bc00",
   "metadata": {},
   "outputs": [
    {
     "ename": "NameError",
     "evalue": "name 'abss' is not defined",
     "output_type": "error",
     "traceback": [
      "\u001b[1;31m---------------------------------------------------------------------------\u001b[0m",
      "\u001b[1;31mNameError\u001b[0m                                 Traceback (most recent call last)",
      "Input \u001b[1;32mIn [19]\u001b[0m, in \u001b[0;36m<cell line: 1>\u001b[1;34m()\u001b[0m\n\u001b[1;32m----> 1\u001b[0m \u001b[38;5;28mprint\u001b[39m(\u001b[43mabss\u001b[49m(\u001b[38;5;241m3.3\u001b[39m))\n\u001b[0;32m      2\u001b[0m \u001b[38;5;28mprint\u001b[39m(abss(\u001b[38;5;241m-\u001b[39m\u001b[38;5;241m4\u001b[39m))\n",
      "\u001b[1;31mNameError\u001b[0m: name 'abss' is not defined"
     ]
    }
   ],
   "source": [
    "print(abss(3.3))\n",
    "print(abss(-4))"
   ]
  },
  {
   "cell_type": "code",
   "execution_count": 20,
   "id": "eae85c0c",
   "metadata": {},
   "outputs": [
    {
     "name": "stdout",
     "output_type": "stream",
     "text": [
      "Bir sayı girin: -3\n",
      "Sayının mutlak değeri 3\n"
     ]
    }
   ],
   "source": [
    "sayi=input(\"sayı girin: \")\n",
    "sayi=int(sayi)\n",
    " \n",
    "print(\" mutlak değeri\", abs(sayi))"
   ]
  },
  {
   "cell_type": "code",
   "execution_count": null,
   "id": "341545d6",
   "metadata": {},
   "outputs": [],
   "source": []
  }
 ],
 "metadata": {
  "kernelspec": {
   "display_name": "Python 3 (ipykernel)",
   "language": "python",
   "name": "python3"
  },
  "language_info": {
   "codemirror_mode": {
    "name": "ipython",
    "version": 3
   },
   "file_extension": ".py",
   "mimetype": "text/x-python",
   "name": "python",
   "nbconvert_exporter": "python",
   "pygments_lexer": "ipython3",
   "version": "3.9.12"
  }
 },
 "nbformat": 4,
 "nbformat_minor": 5
}
