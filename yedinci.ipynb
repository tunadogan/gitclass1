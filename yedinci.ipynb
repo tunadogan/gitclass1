{
  "nbformat": 4,
  "nbformat_minor": 0,
  "metadata": {
    "colab": {
      "provenance": [],
      "collapsed_sections": [],
      "authorship_tag": "ABX9TyNPQM/oRmADoDNOnOV7C7vP",
      "include_colab_link": true
    },
    "kernelspec": {
      "name": "python3",
      "display_name": "Python 3"
    },
    "language_info": {
      "name": "python"
    }
  },
  "cells": [
    {
      "cell_type": "markdown",
      "metadata": {
        "id": "view-in-github",
        "colab_type": "text"
      },
      "source": [
        "<a href=\"https://colab.research.google.com/github/tunahanozdogan/gitclass1/blob/main/yedinci.ipynb\" target=\"_parent\"><img src=\"https://colab.research.google.com/assets/colab-badge.svg\" alt=\"Open In Colab\"/></a>"
      ]
    },
    {
      "cell_type": "code",
      "execution_count": null,
      "metadata": {
        "colab": {
          "base_uri": "https://localhost:8080/"
        },
        "id": "T-r7S8n_jgK4",
        "outputId": "a17336d2-e729-4a2d-cb03-d09b4f3e2c0f"
      },
      "outputs": [
        {
          "output_type": "stream",
          "name": "stdout",
          "text": [
            "105.05112462942999\n",
            "1605.78147647843\n"
          ]
        }
      ],
      "source": [
        "anapara=1000\n",
        "kar=(anapara * 7)/100\n",
        "anapara += kar\n",
        "kar=(anapara * 7)/100\n",
        "anapara += kar\n",
        "kar=(anapara * 7)/100\n",
        "anapara += kar\n",
        "kar=(anapara * 7)/100\n",
        "anapara += kar\n",
        "kar=(anapara * 7)/100\n",
        "anapara += kar\n",
        "kar=(anapara * 7)/100\n",
        "anapara += kar\n",
        "kar=(anapara * 7)/100\n",
        "anapara += kar\n",
        "print(kar)\n",
        "print(anapara)\n"
      ]
    },
    {
      "cell_type": "code",
      "source": [
        "anapara=1000\n",
        "kar=(anapara * 7)/100\n",
        "anapara += kar\n",
        "print(kar)\n",
        "print(anapara)"
      ],
      "metadata": {
        "colab": {
          "base_uri": "https://localhost:8080/"
        },
        "id": "oIAqbx7vqRWv",
        "outputId": "a7025e55-a8ba-473e-d8fb-7e6bc318ce65"
      },
      "execution_count": null,
      "outputs": [
        {
          "output_type": "stream",
          "name": "stdout",
          "text": [
            "70.0\n",
            "1070.0\n"
          ]
        }
      ]
    },
    {
      "cell_type": "code",
      "source": [
        "age =  # can be assigned only True/False\n",
        "chronic =  # can be assigned only True/False\n",
        "immune =  # can be assigned only True/False\n",
        "risk = ? (True or False)"
      ],
      "metadata": {
        "id": "SBJ0chvdrTj_"
      },
      "execution_count": null,
      "outputs": []
    },
    {
      "cell_type": "code",
      "source": [
        "age =75   # can be assigned only True/False\n",
        "chronic ='evet'   # can be assigned only True/False\n",
        "immune ='evet'   # can be assigned only True/False\n",
        "print(bool(age))\n"
      ],
      "metadata": {
        "id": "j8etSVJGtfMI"
      },
      "execution_count": null,
      "outputs": []
    },
    {
      "cell_type": "code",
      "source": [
        "age = 75\n",
        "chronic = 1\n",
        "immune = 1\n",
        "print(bool(age))\n",
        "print(bool(chronic))\n",
        "print(bool(immune ))\n",
        "if "
      ],
      "metadata": {
        "colab": {
          "base_uri": "https://localhost:8080/"
        },
        "id": "yd202WuKufbG",
        "outputId": "51d5fc0d-7a50-4a38-99d8-befc699f652d"
      },
      "execution_count": null,
      "outputs": [
        {
          "output_type": "stream",
          "name": "stdout",
          "text": [
            "True\n",
            "True\n",
            "True\n"
          ]
        }
      ]
    },
    {
      "cell_type": "code",
      "source": [
        "a = int(input('75 yaşından büyük bir sigara bağımlısı mısınız? 1 yada 0 : '))\n",
        "b = int(input('Kronik hastalığınız var mı 1 yada 0 : '))\n",
        "c = int(input('Bağışıklık siteminiz düşük mü? 1 yada 0: '))\n",
        "\n",
        "if  (a ==1) and (b==1) and (c==1):\n",
        "  print('ölüm riskiniz çok yüksek ')\n",
        "\n",
        "else:\n",
        "  print('ölüm riskiniz yüksek değil ')\n",
        "\n",
        "\n",
        "\n"
      ],
      "metadata": {
        "colab": {
          "base_uri": "https://localhost:8080/"
        },
        "id": "tnofj-VFwBdw",
        "outputId": "2e3b6134-e920-4562-fe91-c143f2a14895"
      },
      "execution_count": null,
      "outputs": [
        {
          "output_type": "stream",
          "name": "stdout",
          "text": [
            "75 yaşından büyük bir sigara bağımlısı mısınız? 1 yada 0 : 1\n",
            "Kronik hastalığınız var mı 1 yada 0 : 0\n",
            "Bağışıklık siteminiz düşük mü? 1 yada 0: 0\n",
            "ölüm riskiniz yüksek değil \n"
          ]
        }
      ]
    },
    {
      "cell_type": "code",
      "source": [
        "celsius = float(input('Ceslius derece girin:'))\n",
        "fahrenheit = (celsius * 1.8) + 32\n",
        "print('%0.1f Celsius derece ,%0.1f Fahrenheit derecesine eşittir' %(celsius,fahrenheit))"
      ],
      "metadata": {
        "colab": {
          "base_uri": "https://localhost:8080/"
        },
        "id": "-kWLnUUqyvJW",
        "outputId": "0332649f-17c3-44e8-de38-2c3ffc455483"
      },
      "execution_count": null,
      "outputs": [
        {
          "output_type": "stream",
          "name": "stdout",
          "text": [
            "Ceslius derece girin:28\n",
            "28.0 Celsius derece ,82.4 Fahrenheit derecesine eşittir\n"
          ]
        }
      ]
    },
    {
      "cell_type": "code",
      "source": [
        "cel = float(input(\"Santigrat derece girin:\"))\n",
        "fah = float (cel * 1.8 + 32)\n",
        "print ('Fahrenait değeri=',fah)"
      ],
      "metadata": {
        "colab": {
          "base_uri": "https://localhost:8080/",
          "height": 345
        },
        "id": "3KojZWmbzQqx",
        "outputId": "abe2c690-c305-4057-d3f7-82a31f326196"
      },
      "execution_count": null,
      "outputs": [
        {
          "output_type": "error",
          "ename": "KeyboardInterrupt",
          "evalue": "ignored",
          "traceback": [
            "\u001b[0;31m---------------------------------------------------------------------------\u001b[0m",
            "\u001b[0;31mKeyboardInterrupt\u001b[0m                         Traceback (most recent call last)",
            "\u001b[0;32m<ipython-input-52-165d007426aa>\u001b[0m in \u001b[0;36m<module>\u001b[0;34m\u001b[0m\n\u001b[0;32m----> 1\u001b[0;31m \u001b[0mcel\u001b[0m \u001b[0;34m=\u001b[0m \u001b[0mfloat\u001b[0m\u001b[0;34m(\u001b[0m\u001b[0minput\u001b[0m\u001b[0;34m(\u001b[0m\u001b[0;34m\"Santigrat derece girin:\"\u001b[0m\u001b[0;34m)\u001b[0m\u001b[0;34m)\u001b[0m\u001b[0;34m\u001b[0m\u001b[0;34m\u001b[0m\u001b[0m\n\u001b[0m\u001b[1;32m      2\u001b[0m \u001b[0mfah\u001b[0m \u001b[0;34m=\u001b[0m \u001b[0mfloat\u001b[0m \u001b[0;34m(\u001b[0m\u001b[0mcel\u001b[0m \u001b[0;34m*\u001b[0m \u001b[0;36m1.8\u001b[0m \u001b[0;34m+\u001b[0m \u001b[0;36m32\u001b[0m\u001b[0;34m)\u001b[0m\u001b[0;34m\u001b[0m\u001b[0;34m\u001b[0m\u001b[0m\n\u001b[1;32m      3\u001b[0m \u001b[0mprint\u001b[0m \u001b[0;34m(\u001b[0m\u001b[0;34m'Fahrenait değeri='\u001b[0m\u001b[0;34m,\u001b[0m\u001b[0mfah\u001b[0m\u001b[0;34m)\u001b[0m\u001b[0;34m\u001b[0m\u001b[0;34m\u001b[0m\u001b[0m\n",
            "\u001b[0;32m/usr/local/lib/python3.7/dist-packages/ipykernel/kernelbase.py\u001b[0m in \u001b[0;36mraw_input\u001b[0;34m(self, prompt)\u001b[0m\n\u001b[1;32m    861\u001b[0m             \u001b[0mself\u001b[0m\u001b[0;34m.\u001b[0m\u001b[0m_parent_ident\u001b[0m\u001b[0;34m,\u001b[0m\u001b[0;34m\u001b[0m\u001b[0;34m\u001b[0m\u001b[0m\n\u001b[1;32m    862\u001b[0m             \u001b[0mself\u001b[0m\u001b[0;34m.\u001b[0m\u001b[0m_parent_header\u001b[0m\u001b[0;34m,\u001b[0m\u001b[0;34m\u001b[0m\u001b[0;34m\u001b[0m\u001b[0m\n\u001b[0;32m--> 863\u001b[0;31m             \u001b[0mpassword\u001b[0m\u001b[0;34m=\u001b[0m\u001b[0;32mFalse\u001b[0m\u001b[0;34m,\u001b[0m\u001b[0;34m\u001b[0m\u001b[0;34m\u001b[0m\u001b[0m\n\u001b[0m\u001b[1;32m    864\u001b[0m         )\n\u001b[1;32m    865\u001b[0m \u001b[0;34m\u001b[0m\u001b[0m\n",
            "\u001b[0;32m/usr/local/lib/python3.7/dist-packages/ipykernel/kernelbase.py\u001b[0m in \u001b[0;36m_input_request\u001b[0;34m(self, prompt, ident, parent, password)\u001b[0m\n\u001b[1;32m    902\u001b[0m             \u001b[0;32mexcept\u001b[0m \u001b[0mKeyboardInterrupt\u001b[0m\u001b[0;34m:\u001b[0m\u001b[0;34m\u001b[0m\u001b[0;34m\u001b[0m\u001b[0m\n\u001b[1;32m    903\u001b[0m                 \u001b[0;31m# re-raise KeyboardInterrupt, to truncate traceback\u001b[0m\u001b[0;34m\u001b[0m\u001b[0;34m\u001b[0m\u001b[0;34m\u001b[0m\u001b[0m\n\u001b[0;32m--> 904\u001b[0;31m                 \u001b[0;32mraise\u001b[0m \u001b[0mKeyboardInterrupt\u001b[0m\u001b[0;34m(\u001b[0m\u001b[0;34m\"Interrupted by user\"\u001b[0m\u001b[0;34m)\u001b[0m \u001b[0;32mfrom\u001b[0m \u001b[0;32mNone\u001b[0m\u001b[0;34m\u001b[0m\u001b[0;34m\u001b[0m\u001b[0m\n\u001b[0m\u001b[1;32m    905\u001b[0m             \u001b[0;32mexcept\u001b[0m \u001b[0mException\u001b[0m \u001b[0;32mas\u001b[0m \u001b[0me\u001b[0m\u001b[0;34m:\u001b[0m\u001b[0;34m\u001b[0m\u001b[0;34m\u001b[0m\u001b[0m\n\u001b[1;32m    906\u001b[0m                 \u001b[0mself\u001b[0m\u001b[0;34m.\u001b[0m\u001b[0mlog\u001b[0m\u001b[0;34m.\u001b[0m\u001b[0mwarning\u001b[0m\u001b[0;34m(\u001b[0m\u001b[0;34m\"Invalid Message:\"\u001b[0m\u001b[0;34m,\u001b[0m \u001b[0mexc_info\u001b[0m\u001b[0;34m=\u001b[0m\u001b[0;32mTrue\u001b[0m\u001b[0;34m)\u001b[0m\u001b[0;34m\u001b[0m\u001b[0;34m\u001b[0m\u001b[0m\n",
            "\u001b[0;31mKeyboardInterrupt\u001b[0m: Interrupted by user"
          ]
        }
      ]
    },
    {
      "cell_type": "code",
      "source": [
        "text = \"Clarusway, Clarusway, Clarusway,\\n\\tClarusway,Clarusway,Clarusway,\\n\\t\\tClarusway,Clarusway,Clarusway\"\n",
        "\n",
        "print(text)"
      ],
      "metadata": {
        "colab": {
          "base_uri": "https://localhost:8080/"
        },
        "id": "xEOF7Dtj0-Yu",
        "outputId": "6b737e6a-6be8-4730-c159-7df94c4363c3"
      },
      "execution_count": null,
      "outputs": [
        {
          "output_type": "stream",
          "name": "stdout",
          "text": [
            "Clarusway, Clarusway, Clarusway,\n",
            "\tClarusway,Clarusway,Clarusway,\n",
            "\t\tClarusway,Clarusway,Clarusway\n"
          ]
        }
      ]
    },
    {
      "cell_type": "code",
      "source": [
        "print (not \"write me\" and 0 or {})"
      ],
      "metadata": {
        "colab": {
          "base_uri": "https://localhost:8080/"
        },
        "id": "oEtFVM5oEKML",
        "outputId": "21d4996b-daae-43cd-dd93-db18a317526a"
      },
      "execution_count": null,
      "outputs": [
        {
          "output_type": "stream",
          "name": "stdout",
          "text": [
            "{}\n"
          ]
        }
      ]
    },
    {
      "cell_type": "code",
      "source": [
        "age = True\n",
        "chronic =True\n",
        "immune =True \n",
        "risk = ? (True or False)"
      ],
      "metadata": {
        "id": "znHbMYDtrjHh"
      },
      "execution_count": null,
      "outputs": []
    },
    {
      "cell_type": "code",
      "source": [
        "age = True\n",
        "chronic =False\n",
        "immune =True \n",
        "risk = age and (chronic or immune)\n",
        "print(risk)"
      ],
      "metadata": {
        "colab": {
          "base_uri": "https://localhost:8080/"
        },
        "id": "1T6pBOQjHVBa",
        "outputId": "ee152297-72d4-45b6-e16e-ead0d7c4c11f"
      },
      "execution_count": null,
      "outputs": [
        {
          "output_type": "stream",
          "name": "stdout",
          "text": [
            "True\n"
          ]
        }
      ]
    },
    {
      "cell_type": "code",
      "source": [
        "ss=\"phoenix\"\n",
        "print(ss[-2:-6:-1])   \n",
        "print(* ss)\n"
      ],
      "metadata": {
        "id": "5bgxn1wRNr9R"
      },
      "execution_count": null,
      "outputs": []
    },
    {
      "cell_type": "code",
      "source": [
        "abc=\"123456\"\n",
        "print(* abc)"
      ],
      "metadata": {
        "id": "-P2EuGJSRf-U"
      },
      "execution_count": null,
      "outputs": []
    },
    {
      "cell_type": "code",
      "source": [
        "1*'1'"
      ],
      "metadata": {
        "id": "m8Iry87rnIA_"
      },
      "execution_count": null,
      "outputs": []
    },
    {
      "cell_type": "code",
      "source": [
        "a=\"i      am angry...\"\n",
        "print(* a)"
      ],
      "metadata": {
        "id": "j3hMsg73nYQa"
      },
      "execution_count": null,
      "outputs": []
    },
    {
      "cell_type": "code",
      "source": [
        "len('11111111111')\n"
      ],
      "metadata": {
        "id": "E2J8Qv80bXe5"
      },
      "execution_count": null,
      "outputs": []
    },
    {
      "cell_type": "code",
      "source": [
        "print(\"kali {} feli {} zeli\" .format('usa' , 'musa'))\n"
      ],
      "metadata": {
        "id": "GnqVVFK6YB9X"
      },
      "execution_count": null,
      "outputs": []
    },
    {
      "cell_type": "code",
      "source": [
        "print('kızım  {} bu sene inşallah {} de {usa} yapacak.'.format( 'miray', 'yks',usa='derece'))"
      ],
      "metadata": {
        "colab": {
          "base_uri": "https://localhost:8080/"
        },
        "id": "qs4sISLi52ie",
        "outputId": "a442192d-2815-48de-ec3b-f1aa8918cfc5"
      },
      "execution_count": null,
      "outputs": [
        {
          "output_type": "stream",
          "name": "stdout",
          "text": [
            "kızım  miray bu sene inşallah yks de derece yapacak.\n"
          ]
        }
      ]
    }
  ]
}